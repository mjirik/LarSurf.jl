{
 "cells": [
  {
   "cell_type": "code",
   "execution_count": 1,
   "metadata": {},
   "outputs": [
    {
     "name": "stderr",
     "output_type": "stream",
     "text": [
      "┌ Info: Recompiling stale cache file C:\\Users\\Jirik\\.julia\\compiled\\v1.1\\LarSurf\\WDzsQ.ji for LarSurf [39bcc72a-2642-51fe-8404-ebe33c8ec443]\n",
      "└ @ Base loading.jl:1184\n",
      "[ Info: Loaded M on 1\n"
     ]
    }
   ],
   "source": [
    "using Distributed\n",
    "if nprocs() < 2\n",
    "    addprocs(3)\n",
    "end\n",
    "using JLD2\n",
    "using LarSurf\n",
    "using SparseArrays"
   ]
  },
  {
   "cell_type": "code",
   "execution_count": 2,
   "metadata": {},
   "outputs": [
    {
     "data": {
      "text/plain": [
       "10-element SharedArray{Float64,1}:\n",
       "  1.0\n",
       "  2.0\n",
       "  3.0\n",
       "  4.0\n",
       "  5.0\n",
       "  6.0\n",
       "  7.0\n",
       "  8.0\n",
       "  9.0\n",
       " 10.0"
      ]
     },
     "execution_count": 2,
     "metadata": {},
     "output_type": "execute_result"
    }
   ],
   "source": [
    "using SharedArrays\n",
    "\n",
    "a = SharedArray{Float64}(10)\n",
    "@sync @distributed for i = 1:10\n",
    "    a[i] = i\n",
    "end\n",
    "a"
   ]
  },
  {
   "cell_type": "code",
   "execution_count": 3,
   "metadata": {},
   "outputs": [
    {
     "data": {
      "text/plain": [
       "get_EV_quads (generic function with 1 method)"
      ]
     },
     "execution_count": 3,
     "metadata": {},
     "output_type": "execute_result"
    }
   ],
   "source": [
    "function get_EV_quads(FV::Array{Array{Int64,1},1}; return_unfiltered=false, data=nothing)\n",
    "\t@debug \"getFV \" FV\n",
    "\t# EV = []\n",
    "\t# for f in FV\n",
    "\t# \tpush!(EV, [[f[1],f[2]],[f[3],f[4]],  [f[1],f[3]],[f[2],f[4]]])\n",
    "\t# \t# push!(EV, [[f[1],f[2]],[f[3],f[4]],  [f[1],f[3]],[f[2],f[4]]])\n",
    "\t# end\n",
    "\tif size(FV[1],1) == 4\n",
    "\n",
    "\t\t# couples = [[1,2], [3,4], [1,3], [2,4]]\n",
    "\t\tcouples = [[1,2], [2,3], [3,4], [4,1]]\n",
    "\telse\n",
    "\t\tcouples = [[1,2], [2,3], [3,1]]\n",
    "\tend\n",
    "\tszc = size(couples,1)\n",
    "\n",
    "\tev_time = @elapsed EV = reshape([sort([f[couples[c][1]], f[couples[c][2]]]) for f in FV, c=1:szc],:)\n",
    "\t# doubleedges = Base.sort(mycat(EV))\n",
    "\tif return_unfiltered\n",
    "\t\tif data != nothing\n",
    "\t\t\tdata[\"smoothing EV construction time [s]\"] = ev_time\n",
    "\t\tend\n",
    "\t\treturn EV\n",
    "\tend\n",
    "    ev_unique_time = @elapsed EVnew = collect(Set(EV))\n",
    "\tif data != nothing\n",
    "\t\tdata[\"smoothing EV construction time [s]\"] = ev_time\n",
    "\t\tdata[\"smoothing make EV unique time [s]\"] = ev_unique_time\n",
    "\tend\n",
    "\treturn EVnew\n",
    "\t# doubleedges = Base.sort(EV)\n",
    "\t# doubleedges = convert(LarSurf.Lar.Cells, doubleedges)\n",
    "\t# newEV = [doubleedges[k] for k=1:2:length(doubleedges)]\n",
    "\t# return newEV\n",
    "end\n"
   ]
  },
  {
   "cell_type": "code",
   "execution_count": 4,
   "metadata": {},
   "outputs": [
    {
     "data": {
      "text/plain": [
       "getDiag_p (generic function with 1 method)"
      ]
     },
     "execution_count": 4,
     "metadata": {},
     "output_type": "execute_result"
    }
   ],
   "source": [
    "function setIzero!(arr)\n",
    "    for i=1:size(arr)[1]\n",
    "        arr[i,i] = 0\n",
    "    end\n",
    "    return arr\n",
    "end\n",
    "\n",
    "function setIzero_p!(arr)\n",
    "    @distributed for i=1:size(arr)[1]\n",
    "        arr[i,i] = 0\n",
    "    end\n",
    "    return arr\n",
    "end\n",
    "\n",
    "function getDiag(arr)\n",
    "    sz = size(arr)[1]\n",
    "    arro = zeros(eltype(arr), sz)\n",
    "    for i=1:sz\n",
    "        arro[i] = arr[i,i]\n",
    "    end\n",
    "    return arro\n",
    "end\n",
    "\n",
    "function getDiag_p(arr)\n",
    "    sz = size(arr)[1]\n",
    "    arro = zeros(eltype(arr), sz)\n",
    "    for i=1:sz\n",
    "        arro[i] = arr[i,i]\n",
    "    end\n",
    "    return arro\n",
    "end\n",
    "\n"
   ]
  },
  {
   "cell_type": "code",
   "execution_count": 5,
   "metadata": {},
   "outputs": [],
   "source": [
    "a = SharedArray{Float64}(1000,1000)\n",
    "a = a .+ 1.0;"
   ]
  },
  {
   "cell_type": "code",
   "execution_count": 6,
   "metadata": {},
   "outputs": [
    {
     "data": {
      "text/plain": [
       "0.010817"
      ]
     },
     "execution_count": 6,
     "metadata": {},
     "output_type": "execute_result"
    }
   ],
   "source": [
    "@elapsed setIzero!(a)"
   ]
  },
  {
   "cell_type": "code",
   "execution_count": 7,
   "metadata": {},
   "outputs": [
    {
     "data": {
      "text/plain": [
       "0.017626799"
      ]
     },
     "execution_count": 7,
     "metadata": {},
     "output_type": "execute_result"
    }
   ],
   "source": [
    "@elapsed setIzero_p!(a)"
   ]
  },
  {
   "cell_type": "markdown",
   "metadata": {},
   "source": [
    "# Smoothing"
   ]
  },
  {
   "cell_type": "markdown",
   "metadata": {},
   "source": [
    "Data used in next experiment are produced by:\n",
    "```\n",
    "cd LarSurf\n",
    "julia experiments\\surface_extraction_parallel.jl -d medical/orig/3Dircadb1.1/MASKS_DICOM/LIVER --show --taubin_n 40 --taubin_lambda 0.5 --taubin_mu -0.2 --n_procs 4 --threshold 0 --color 1. 0. 0. 0.\n",
    "```"
   ]
  },
  {
   "cell_type": "code",
   "execution_count": 72,
   "metadata": {},
   "outputs": [
    {
     "data": {
      "text/plain": [
       "2-element Array{Symbol,1}:\n",
       " :V \n",
       " :FV"
      ]
     },
     "execution_count": 72,
     "metadata": {},
     "output_type": "execute_result"
    }
   ],
   "source": [
    "# produced by experiment\n",
    "#julia experiments\\surface_extraction_parallel.jl -d medical/orig/3Dircadb1.1/MASKS_DICOM/LIVER --show --taubin_n 40 --taubin_lambda 0.5 --taubin_mu -0.2 --n_procs 4 --threshold 0 --color 1. 0. 0. 0.\n",
    "@JLD2.load \"../data_V_FV.jld2\""
   ]
  },
  {
   "cell_type": "code",
   "execution_count": 9,
   "metadata": {},
   "outputs": [
    {
     "data": {
      "text/plain": [
       "1"
      ]
     },
     "execution_count": 9,
     "metadata": {},
     "output_type": "execute_result"
    }
   ],
   "source": [
    "k1=0.35; k2=-0.1; n=1"
   ]
  },
  {
   "cell_type": "code",
   "execution_count": 10,
   "metadata": {},
   "outputs": [
    {
     "data": {
      "text/plain": [
       "smoothing_EV (generic function with 2 methods)"
      ]
     },
     "execution_count": 10,
     "metadata": {},
     "output_type": "execute_result"
    }
   ],
   "source": [
    "function smoothing_EV(V, EVch::SparseMatrixCSC, k=0.35)\n",
    "#     Matrix(setIzero!(EVch' * EVch))\n",
    "\n",
    "\tEVchPow = EVch' * EVch\n",
    "    neighboorNumber = getDiag(EVchPow)\n",
    "    neighboors = setIzero!(EVchPow)\n",
    "\tdropzeros!(neighboors)\n",
    "\n",
    "#     targetV =  neighboors * V' ./ neighboorNumber\n",
    "#     diff = targetV - V'\n",
    "#     newV = (V' + k * diff)'\n",
    "\n",
    "    targetV = (V * neighboors) ./ neighboorNumber'\n",
    "    # println(\"targetV shape: \", size(targetV))\n",
    "    diff = targetV - V\n",
    "\t# @info \"sm V orig   $(V[:,1:5])\"\n",
    "\t# @info \"sm V target $(targetV[:,1:5])\"\n",
    "\t# @info \"sm V diff   $(diff[:,1:5])\"\n",
    "    # println(\"diff shape: \", size(diff))\n",
    "    newV = V + k * diff\n",
    "\n",
    "    return make_full(newV)\n",
    "end\n"
   ]
  },
  {
   "cell_type": "code",
   "execution_count": 11,
   "metadata": {},
   "outputs": [
    {
     "data": {
      "text/html": [
       "1 method for generic function <b>ll2array</b>:<ul><li> ll2array(CVill::<b>Array</b>) in LarSurf at <a href=\"https://github.com/mjirik/LarSurf.jl/tree/d74a7dbf76db0fee66422161850d637482688d84//src/arr_fcn.jl#L274\" target=\"_blank\">C:\\Users\\Jirik\\.julia\\dev\\LarSurf\\src\\arr_fcn.jl:274</a></li> </ul>"
      ],
      "text/plain": [
       "# 1 method for generic function \"ll2array\":\n",
       "[1] ll2array(CVill::Array) in LarSurf at C:\\Users\\Jirik\\.julia\\dev\\LarSurf\\src\\arr_fcn.jl:274"
      ]
     },
     "execution_count": 11,
     "metadata": {},
     "output_type": "execute_result"
    }
   ],
   "source": [
    "methods(LarSurf.ll2array)"
   ]
  },
  {
   "cell_type": "code",
   "execution_count": 12,
   "metadata": {},
   "outputs": [
    {
     "name": "stdout",
     "output_type": "stream",
     "text": [
      "t_ev 2.402672201\n",
      "t ll2arr 0.3394426\n",
      "t charmat 145.9485287\n"
     ]
    },
    {
     "data": {
      "text/plain": [
       "3×272726 Array{Float64,2}:\n",
       " 0.11705   0.088958  0.266874  0.056184  …  0.440108  0.032774  0.309012\n",
       " 0.14046   0.449472  0.04682   0.341786     0.346468  0.07023   0.379242\n",
       " 0.337104  0.28092   0.379242  0.2341       0.238782  0.290284  0.060866"
      ]
     },
     "execution_count": 12,
     "metadata": {},
     "output_type": "execute_result"
    }
   ],
   "source": [
    "t_ev = @elapsed EV = get_EV_quads(FV, data=nothing)\n",
    "println(\"t_ev $t_ev\")\n",
    "\n",
    "# LarSurf\n",
    "t_ll2arr = @elapsed aEV = LarSurf.ll2array(EV)\n",
    "println(\"t ll2arr $t_ll2arr\")\n",
    "\n",
    "# kEV = LarSurf.characteristicMatrix(aEV, size(bigV)[2])\n",
    "# t_chm = @elapsed kEV = LarSurf.characteristicMatrix(aEV, size(V)[2])\n",
    "t_chm = @elapsed kEV = LarSurf.characteristicMatrix_for_loop(aEV, size(V)[2])\n",
    "println(\"t charmat $t_chm\")\n",
    "# kEV = Lar.characteristicMatrix(EV)\n",
    "# @info \"computing new V\"\n",
    "newV = V\n",
    "# taubin_time = @elapsed for i=1:n\n",
    "# @info \"taubin iteration $(i)\"\n",
    "# newV = smoothing_EV(newV, kEV, k1)\n",
    "# newV = smoothing_EV(newV, kEV, k2)\n",
    "# end"
   ]
  },
  {
   "cell_type": "markdown",
   "metadata": {},
   "source": [
    "# Slowest is characteristicMatrix"
   ]
  },
  {
   "cell_type": "code",
   "execution_count": 13,
   "metadata": {},
   "outputs": [
    {
     "data": {
      "text/html": [
       "5 methods for generic function <b>characteristicMatrix</b>:<ul><li> characteristicMatrix(FV::<b>Array{Array{Int64,1},1}</b>) in LarSurf at <a href=\"https://github.com/mjirik/LarSurf.jl/tree/d74a7dbf76db0fee66422161850d637482688d84//src/arr_fcn.jl#L185\" target=\"_blank\">C:\\Users\\Jirik\\.julia\\dev\\LarSurf\\src\\arr_fcn.jl:185</a></li> <li> characteristicMatrix(FV::<b>Array{Int64,2}</b>) in LarSurf at <a href=\"https://github.com/mjirik/LarSurf.jl/tree/d74a7dbf76db0fee66422161850d637482688d84//src/arr_fcn.jl#L184\" target=\"_blank\">C:\\Users\\Jirik\\.julia\\dev\\LarSurf\\src\\arr_fcn.jl:184</a></li> <li> characteristicMatrix(FV::<b>Array{Int64,2}</b>, nvertices) in LarSurf at <a href=\"https://github.com/mjirik/LarSurf.jl/tree/d74a7dbf76db0fee66422161850d637482688d84//src/arr_fcn.jl#L188\" target=\"_blank\">C:\\Users\\Jirik\\.julia\\dev\\LarSurf\\src\\arr_fcn.jl:188</a></li> <li> characteristicMatrix(CVi, nvertices) in LarSurf at <a href=\"https://github.com/mjirik/LarSurf.jl/tree/d74a7dbf76db0fee66422161850d637482688d84//src/arr_fcn.jl#L243\" target=\"_blank\">C:\\Users\\Jirik\\.julia\\dev\\LarSurf\\src\\arr_fcn.jl:243</a></li> <li> characteristicMatrix(CVi, nvertices, axis) in LarSurf at <a href=\"https://github.com/mjirik/LarSurf.jl/tree/d74a7dbf76db0fee66422161850d637482688d84//src/arr_fcn.jl#L243\" target=\"_blank\">C:\\Users\\Jirik\\.julia\\dev\\LarSurf\\src\\arr_fcn.jl:243</a></li> </ul>"
      ],
      "text/plain": [
       "# 5 methods for generic function \"characteristicMatrix\":\n",
       "[1] characteristicMatrix(FV::Array{Array{Int64,1},1}) in LarSurf at C:\\Users\\Jirik\\.julia\\dev\\LarSurf\\src\\arr_fcn.jl:185\n",
       "[2] characteristicMatrix(FV::Array{Int64,2}) in LarSurf at C:\\Users\\Jirik\\.julia\\dev\\LarSurf\\src\\arr_fcn.jl:184\n",
       "[3] characteristicMatrix(FV::Array{Int64,2}, nvertices) in LarSurf at C:\\Users\\Jirik\\.julia\\dev\\LarSurf\\src\\arr_fcn.jl:188\n",
       "[4] characteristicMatrix(CVi, nvertices) in LarSurf at C:\\Users\\Jirik\\.julia\\dev\\LarSurf\\src\\arr_fcn.jl:243\n",
       "[5] characteristicMatrix(CVi, nvertices, axis) in LarSurf at C:\\Users\\Jirik\\.julia\\dev\\LarSurf\\src\\arr_fcn.jl:243"
      ]
     },
     "execution_count": 13,
     "metadata": {},
     "output_type": "execute_result"
    }
   ],
   "source": [
    "methods(LarSurf.characteristicMatrix)"
   ]
  },
  {
   "cell_type": "code",
   "execution_count": 14,
   "metadata": {},
   "outputs": [
    {
     "data": {
      "text/plain": [
       "characteristicMatrix (generic function with 1 method)"
      ]
     },
     "execution_count": 14,
     "metadata": {},
     "output_type": "execute_result"
    }
   ],
   "source": [
    "function characteristicMatrix( FV::LarSurf.Lar.Cells )::LarSurf.Lar.ChainOp\n",
    "    I,J,V = Int64[],Int64[],Int8[]\n",
    "    for f=1:length(FV)\n",
    "        for k in FV[f]\n",
    "        push!(I,f)\n",
    "        push!(J,k)\n",
    "        push!(V,1)\n",
    "        end\n",
    "    end\n",
    "    M_2 = sparse(I,J,V)\n",
    "    return M_2\n",
    "end\n"
   ]
  },
  {
   "cell_type": "code",
   "execution_count": null,
   "metadata": {},
   "outputs": [],
   "source": []
  },
  {
   "cell_type": "code",
   "execution_count": 15,
   "metadata": {},
   "outputs": [
    {
     "data": {
      "text/plain": [
       "unsafe_resize (generic function with 1 method)"
      ]
     },
     "execution_count": 15,
     "metadata": {},
     "output_type": "execute_result"
    }
   ],
   "source": [
    "function unsafe_resize(sp::SparseMatrixCSC,m,n)\n",
    "  newcolptr = sp.colptr\n",
    "  resize!(newcolptr,n+1)\n",
    "  for i=sp.n+2:n+1\n",
    "    newcolptr[i] = sp.colptr[sp.n+1] \n",
    "  end\n",
    "  return SparseMatrixCSC(m,n,newcolptr,sp.rowval,sp.nzval)\n",
    "end"
   ]
  },
  {
   "cell_type": "code",
   "execution_count": 63,
   "metadata": {},
   "outputs": [
    {
     "ename": "LoadError",
     "evalue": "syntax: invalid interpolation syntax: \"${\"",
     "output_type": "error",
     "traceback": [
      "syntax: invalid interpolation syntax: \"${\"",
      ""
     ]
    }
   ],
   "source": [
    "using SparseArrays\n",
    "\n",
    "\"\"\"\n",
    "Original implementation\n",
    "\"\"\"\n",
    "function characteristicMatrix_push( FV::LarSurf.Lar.Cells)::LarSurf.Lar.ChainOp\n",
    "\tI,J,V = Int64[],Int64[],Int8[]\n",
    "#     println(\"sz \", size(FV))\n",
    "#     println(\"len \", length(FV))\n",
    "\tfor f=1:length(FV)\n",
    "\t\tfor k in FV[f]\n",
    "\t\tpush!(I,f)\n",
    "\t\tpush!(J,k)\n",
    "\t\tpush!(V,1)\n",
    "\t\tend\n",
    "\tend\n",
    "\tM_2 = sparse(I,J,V)\n",
    "\treturn M_2\n",
    "end\n",
    "\n",
    "function characteristicMatrix_set( FV::LarSurf.Lar.Cells)::LarSurf.Lar.ChainOp\n",
    "#     println(\"list of lists  set\")\n",
    "    sz = length(FV) * length(FV[1])\n",
    "#     print(\"size $sz\")\n",
    "    I = Array{Int64,1}(undef, sz) \n",
    "    J = Array{Int64,1}(undef, sz) \n",
    "    V = Array{Int8,1}(undef, sz) \n",
    "# \tI,J,V = Int64[],Int64[],Int8[]\n",
    "#     println(\"sz \", size(FV))\n",
    "#     println(\"len \", length(FV))\n",
    "    i = 1\n",
    "\tfor f=1:length(FV)\n",
    "\t\tfor k in FV[f]\n",
    "            I[i] = f\n",
    "            J[i] = k\n",
    "            V[i] = 1\n",
    "            i = i + 1\n",
    "            \n",
    "# \t\tpush!(I,f)\n",
    "# \t\tpush!(J,k)\n",
    "# \t\tpush!(V,1)\n",
    "\t\tend\n",
    "\tend\n",
    "\tM_2 = sparse(I,J,V)\n",
    "\treturn M_2\n",
    "end\n",
    "\n",
    "function characteristicMatrix_push( FV::Array{Int64,2})\n",
    "    I,J,V = Int64[],Int64[],Int8[]\n",
    "#     println(size(FV))\n",
    "#     println(length(FV))\n",
    "    for f=1:size(FV, 1)\n",
    "        for k in FV[f, :]\n",
    "        push!(I,f)\n",
    "        push!(J,k)\n",
    "        push!(V,1)\n",
    "        end\n",
    "    end\n",
    "    M_2 = sparse(I,J,V)\n",
    "    return M_2\n",
    "end\n",
    "\n",
    "\n",
    "function characteristicMatrix_set( FV::Array{Int64,2})\n",
    "#     println(\"chM set\")\n",
    "#     sz = size(FV, 1)\n",
    "    sz = length(FV)\n",
    "    I = Array{Int64,1}(undef, sz) \n",
    "    J = Array{Int64,1}(undef, sz) \n",
    "    V = Array{Int8,1}(undef, sz) \n",
    "#     I,J,V = Int64[],Int64[],Int8[]\n",
    "#     println(size(FV))\n",
    "#     println(length(FV))\n",
    "    i = 1\n",
    "    for f=1:size(FV, 1)\n",
    "        for k in FV[f, :]\n",
    "            I[i] = f\n",
    "            J[i] = k\n",
    "            V[i] = 1\n",
    "            i = i + 1\n",
    "        \n",
    "#         push!(I,f)\n",
    "#         push!(J,k)\n",
    "#         push!(V,1)\n",
    "        end\n",
    "    end\n",
    "#     println(\"i=$i\")\n",
    "    M_2 = sparse(I,J,V)\n",
    "    return M_2\n",
    "end\n",
    "\n",
    "function characteristicMatrix_parallel( FV::Array{Int64,2})\n",
    "#     sz = size(FV, 1)\n",
    "    sz = length(FV)\n",
    "    I = SharedArray{Int64,1}(sz) \n",
    "    J = SharedArray{Int64,1}(sz) \n",
    "    V = SharedArray{Int8,1}(sz) \n",
    "    ii = SharedArray{Int64,1}(1) \n",
    "#     I,J,V = Int64[],Int64[],Int8[]\n",
    "    println(\"sz $sz\")\n",
    "    println(size(FV))\n",
    "    println(length(FV))\n",
    "    ii[1] = 1\n",
    "    @sync @distributed for f=1:size(FV, 1)\n",
    "#     for f=1:size(FV, 1)\n",
    "        for k in FV[f, :]\n",
    "            I[ii[1]] = f\n",
    "            J[ii[1]] = k\n",
    "            V[ii[1]] = 1\n",
    "            ii[1] = ii[1] + 1\n",
    "        \n",
    "#         push!(I,f)\n",
    "#         push!(J,k)\n",
    "#         push!(V,1)\n",
    "        end\n",
    "    end\n",
    "    println(\"i=${ii[1]}\")\n",
    "    M_2 = sparse(I,J,V)\n",
    "    return M_2\n",
    "end\n",
    "\n",
    "function characteristicMatrix_push(FV::Array{Int64,2}, nvertices)\n",
    "    mat = characteristicMatrix_push(FV)\n",
    "    return unsafe_resize(mat, size(mat, 1), nvertices)\n",
    "end\n",
    "\n",
    "function characteristicMatrix_set(FV::Array{Int64,2}, nvertices)\n",
    "    mat = characteristicMatrix_set(FV)\n",
    "    return unsafe_resize(mat, size(mat, 1), nvertices)\n",
    "end"
   ]
  },
  {
   "cell_type": "code",
   "execution_count": 17,
   "metadata": {},
   "outputs": [
    {
     "name": "stdout",
     "output_type": "stream",
     "text": [
      "(3, 272726)(543517, 2)(543517,)"
     ]
    }
   ],
   "source": [
    "print(size(V))\n",
    "print(size(aEV))\n",
    "print(size(EV))"
   ]
  },
  {
   "cell_type": "code",
   "execution_count": 18,
   "metadata": {},
   "outputs": [
    {
     "data": {
      "text/plain": [
       "2-element Array{Int64,1}:\n",
       "  66752\n",
       " 218961"
      ]
     },
     "execution_count": 18,
     "metadata": {},
     "output_type": "execute_result"
    }
   ],
   "source": [
    "aEV[1,:]"
   ]
  },
  {
   "cell_type": "code",
   "execution_count": 71,
   "metadata": {},
   "outputs": [
    {
     "name": "stdout",
     "output_type": "stream",
     "text": [
      "0.258880599\n",
      "0.088527201\n",
      "0.1423089\n",
      "0.086991901\n"
     ]
    }
   ],
   "source": [
    "println( @elapsed mat = characteristicMatrix_push(aEV))\n",
    "println( @elapsed mat = characteristicMatrix_set(aEV))\n",
    "println( @elapsed mat = characteristicMatrix_push(EV))\n",
    "println( @elapsed mat = characteristicMatrix_set(EV))\n",
    "# println( @elapsed mat = characteristicMatrix_set(EV))\n",
    "# println( @elapsed mat = characteristicMatrix_parallel(aEV))\n",
    "# print(size(mat))"
   ]
  },
  {
   "cell_type": "code",
   "execution_count": 20,
   "metadata": {},
   "outputs": [
    {
     "data": {
      "text/plain": [
       "characteristicMatrix (generic function with 2 methods)"
      ]
     },
     "execution_count": 20,
     "metadata": {},
     "output_type": "execute_result"
    }
   ],
   "source": [
    "characteristicMatrix(FV::Array{Int64,2}) = characteristicMatrix_push(FV::Array{Int64,2})"
   ]
  },
  {
   "cell_type": "code",
   "execution_count": 21,
   "metadata": {},
   "outputs": [
    {
     "data": {
      "text/html": [
       "2 methods for generic function <b>characteristicMatrix</b>:<ul><li> characteristicMatrix(FV::<b>Array{Int64,2}</b>) in Main at In[20]:1</li> <li> characteristicMatrix(FV::<b>Array{Array{Int64,1},1}</b>) in Main at In[14]:2</li> </ul>"
      ],
      "text/plain": [
       "# 2 methods for generic function \"characteristicMatrix\":\n",
       "[1] characteristicMatrix(FV::Array{Int64,2}) in Main at In[20]:1\n",
       "[2] characteristicMatrix(FV::Array{Array{Int64,1},1}) in Main at In[14]:2"
      ]
     },
     "execution_count": 21,
     "metadata": {},
     "output_type": "execute_result"
    }
   ],
   "source": [
    "methods(characteristicMatrix)"
   ]
  },
  {
   "cell_type": "markdown",
   "metadata": {},
   "source": [
    "### Detailed parallel"
   ]
  },
  {
   "cell_type": "code",
   "execution_count": 22,
   "metadata": {},
   "outputs": [
    {
     "data": {
      "text/plain": [
       "5"
      ]
     },
     "execution_count": 22,
     "metadata": {},
     "output_type": "execute_result"
    }
   ],
   "source": [
    "FV = aEV\n",
    "sz = length(FV)\n",
    "\n",
    "I = SharedArray{Int64,1}(sz) \n",
    "J = SharedArray{Int64,1}(sz) \n",
    "V = SharedArray{Int8,1}(sz) \n",
    "ii = SharedArray{Int64,1}(1) \n",
    "# @everywhere a = 1\n",
    "ii[1] = 1\n",
    "@sync @distributed for f=1:size(FV, 1)\n",
    "# for f=1:size(FV, 1)\n",
    "    for k in FV[f, :]\n",
    "        I[ii[1]] = f\n",
    "        J[ii[1]] = k\n",
    "        V[ii[1]] = 1\n",
    "        ii[1] = ii[1] + 1\n",
    "#         a = a + 1\n",
    "\n",
    "    end\n",
    "#     println(\"ooi \", ii[1], \" \", a)\n",
    "end\n",
    "I[10]"
   ]
  },
  {
   "cell_type": "code",
   "execution_count": 23,
   "metadata": {},
   "outputs": [],
   "source": [
    "# sparse(I, J, V)"
   ]
  },
  {
   "cell_type": "markdown",
   "metadata": {},
   "source": [
    "## Verify outputs"
   ]
  },
  {
   "cell_type": "code",
   "execution_count": 24,
   "metadata": {},
   "outputs": [
    {
     "data": {
      "text/plain": [
       "([0.0 0.0; 2.0 0.0; … ; 3.0 -2.0; 1.0 -2.0], [1 2 3; 2 4 3; … ; 2 7 6; 2 1 7])"
      ]
     },
     "execution_count": 24,
     "metadata": {},
     "output_type": "execute_result"
    }
   ],
   "source": [
    "hexV, hexFVarr = LarSurf.hexagon()\n",
    "# hexFVll = LarSurf.arrayofarray2arrayd2d(hexFVarr)\n",
    "# hexFVll"
   ]
  },
  {
   "cell_type": "code",
   "execution_count": 42,
   "metadata": {},
   "outputs": [
    {
     "data": {
      "text/plain": [
       "6-element Array{Array{Int64,1},1}:\n",
       " [1, 2, 3]\n",
       " [2, 4, 3]\n",
       " [4, 2, 5]\n",
       " [5, 2, 6]\n",
       " [2, 7, 6]\n",
       " [2, 1, 7]"
      ]
     },
     "execution_count": 42,
     "metadata": {},
     "output_type": "execute_result"
    }
   ],
   "source": [
    "function array2ll(CVarr::Union{Array{Int64,2}, Array{Int8,2}})\n",
    "    na, nb = size(CVarr)\n",
    "    arr = Array{Array{eltype(CVarr),1},1}(undef, na)\n",
    "    for i=1:na\n",
    "        arr[i] = CVarr[i, :]\n",
    "    end\n",
    "    return arr\n",
    "end\n",
    "hexFVll = array2ll(hexFVarr)"
   ]
  },
  {
   "cell_type": "code",
   "execution_count": 67,
   "metadata": {},
   "outputs": [
    {
     "name": "stdout",
     "output_type": "stream",
     "text": [
      "2.11e-5\n",
      "1.4e-5\n",
      "7.3e-6\n",
      "8.3e-6\n",
      "6.7e-6\n"
     ]
    }
   ],
   "source": [
    "println( @elapsed mat0 = LarSurf.characteristicMatrix_for_loop(hexFVarr, size(hexV, 1)))\n",
    "println( @elapsed mat1 = characteristicMatrix_push(hexFVll ))\n",
    "println( @elapsed mat2 = characteristicMatrix_set( hexFVll ))\n",
    "println( @elapsed mat3 = characteristicMatrix_push(hexFVarr))\n",
    "println( @elapsed mat4 = characteristicMatrix_set( hexFVarr))"
   ]
  },
  {
   "cell_type": "code",
   "execution_count": 60,
   "metadata": {},
   "outputs": [
    {
     "data": {
      "text/plain": [
       "match_arr (generic function with 1 method)"
      ]
     },
     "execution_count": 60,
     "metadata": {},
     "output_type": "execute_result"
    }
   ],
   "source": [
    "function match_arr(arr1, arr2)\n",
    "    for i =1:length(arr1)\n",
    "        if arr1[i] != arr2[i]\n",
    "            println(\"Element i=$i is not in match. $(arr1[i]) != $(arr2[i])\")\n",
    "            return false\n",
    "        end\n",
    "    end\n",
    "    return true\n",
    "end"
   ]
  },
  {
   "cell_type": "code",
   "execution_count": 66,
   "metadata": {},
   "outputs": [
    {
     "name": "stdout",
     "output_type": "stream",
     "text": [
      "true\n",
      "true\n",
      "true\n",
      "true\n"
     ]
    }
   ],
   "source": [
    "println(match_arr(mat0, mat1))\n",
    "println(match_arr(mat0, mat2))\n",
    "println(match_arr(mat0, mat3))\n",
    "println(match_arr(mat0, mat4))"
   ]
  },
  {
   "cell_type": "code",
   "execution_count": 62,
   "metadata": {},
   "outputs": [
    {
     "data": {
      "text/plain": [
       "6×5 SparseMatrixCSC{Int8,Int64} with 6 stored entries:\n",
       "  [1, 1]  =  1\n",
       "  [2, 2]  =  1\n",
       "  [5, 2]  =  1\n",
       "  [6, 2]  =  1\n",
       "  [3, 4]  =  1\n",
       "  [4, 5]  =  1"
      ]
     },
     "execution_count": 62,
     "metadata": {},
     "output_type": "execute_result"
    }
   ],
   "source": [
    "mat3"
   ]
  },
  {
   "cell_type": "code",
   "execution_count": 27,
   "metadata": {},
   "outputs": [
    {
     "data": {
      "text/plain": [
       "6×3 Array{Int64,2}:\n",
       " 1  2  3\n",
       " 2  4  3\n",
       " 4  2  5\n",
       " 5  2  6\n",
       " 2  7  6\n",
       " 2  1  7"
      ]
     },
     "execution_count": 27,
     "metadata": {},
     "output_type": "execute_result"
    }
   ],
   "source": [
    "hexFVarr"
   ]
  },
  {
   "cell_type": "code",
   "execution_count": 40,
   "metadata": {},
   "outputs": [
    {
     "ename": "TypeError",
     "evalue": "TypeError: in <:, expected Type, got Array{Array,1}",
     "output_type": "error",
     "traceback": [
      "TypeError: in <:, expected Type, got Array{Array,1}",
      "",
      "Stacktrace:",
      " [1] top-level scope at In[40]:1"
     ]
    }
   ],
   "source": [
    "if hexFVll<:Array\n",
    "end"
   ]
  },
  {
   "cell_type": "code",
   "execution_count": 28,
   "metadata": {},
   "outputs": [
    {
     "data": {
      "text/html": [
       "1 method for generic function <b>array2ll</b>:<ul><li> array2ll(CVarr::<b>Union{Array{Int64,2}, Array{Int8,2}}</b>) in Main at In[25]:2</li> </ul>"
      ],
      "text/plain": [
       "# 1 method for generic function \"array2ll\":\n",
       "[1] array2ll(CVarr::Union{Array{Int64,2}, Array{Int8,2}}) in Main at In[25]:2"
      ]
     },
     "execution_count": 28,
     "metadata": {},
     "output_type": "execute_result"
    }
   ],
   "source": [
    "methods(array2ll)\n",
    "# using Base\n",
    "# Base.delete_method(array2ll)\n",
    "# Base.delete_method(array2ll)"
   ]
  },
  {
   "cell_type": "code",
   "execution_count": 29,
   "metadata": {},
   "outputs": [
    {
     "ename": "MethodError",
     "evalue": "MethodError: no method matching characteristicMatrix_push(::Array{Int64,2}, ::Int64)\nClosest candidates are:\n  characteristicMatrix_push(::Array{Int64,2}) at In[16]:49",
     "output_type": "error",
     "traceback": [
      "MethodError: no method matching characteristicMatrix_push(::Array{Int64,2}, ::Int64)\nClosest candidates are:\n  characteristicMatrix_push(::Array{Int64,2}) at In[16]:49",
      "",
      "Stacktrace:",
      " [1] top-level scope at util.jl:213",
      " [2] top-level scope at In[29]:1"
     ]
    }
   ],
   "source": [
    "\n",
    "println( @elapsed mat = characteristicMatrix_push(aEV, size(V, 2)))"
   ]
  },
  {
   "cell_type": "code",
   "execution_count": 30,
   "metadata": {},
   "outputs": [
    {
     "data": {
      "text/plain": [
       "543517×272726 SparseMatrixCSC{Int8,Int64} with 1087034 stored entries:\n",
       "  [38568 ,      1]  =  1\n",
       "  [285154,      1]  =  1\n",
       "  [498301,      1]  =  1\n",
       "  [65258 ,      2]  =  1\n",
       "  [164256,      2]  =  1\n",
       "  [193766,      2]  =  1\n",
       "  [279027,      2]  =  1\n",
       "  [321165,      3]  =  1\n",
       "  [347600,      3]  =  1\n",
       "  [447416,      3]  =  1\n",
       "  [474415,      3]  =  1\n",
       "  [525184,      3]  =  1\n",
       "  ⋮\n",
       "  [405767, 272724]  =  1\n",
       "  [441944, 272724]  =  1\n",
       "  [536136, 272724]  =  1\n",
       "  [310627, 272725]  =  1\n",
       "  [333904, 272725]  =  1\n",
       "  [445369, 272725]  =  1\n",
       "  [539950, 272725]  =  1\n",
       "  [49221 , 272726]  =  1\n",
       "  [80538 , 272726]  =  1\n",
       "  [176950, 272726]  =  1\n",
       "  [187932, 272726]  =  1\n",
       "  [402659, 272726]  =  1"
      ]
     },
     "execution_count": 30,
     "metadata": {},
     "output_type": "execute_result"
    }
   ],
   "source": [
    "mat"
   ]
  },
  {
   "cell_type": "code",
   "execution_count": 31,
   "metadata": {},
   "outputs": [
    {
     "data": {
      "text/plain": [
       "543517×272726 SparseMatrixCSC{Int8,Int64} with 1087034 stored entries:\n",
       "  [38568 ,      1]  =  1\n",
       "  [285154,      1]  =  1\n",
       "  [498301,      1]  =  1\n",
       "  [65258 ,      2]  =  1\n",
       "  [164256,      2]  =  1\n",
       "  [193766,      2]  =  1\n",
       "  [279027,      2]  =  1\n",
       "  [321165,      3]  =  1\n",
       "  [347600,      3]  =  1\n",
       "  [447416,      3]  =  1\n",
       "  [474415,      3]  =  1\n",
       "  [525184,      3]  =  1\n",
       "  ⋮\n",
       "  [405767, 272724]  =  1\n",
       "  [441944, 272724]  =  1\n",
       "  [536136, 272724]  =  1\n",
       "  [310627, 272725]  =  1\n",
       "  [333904, 272725]  =  1\n",
       "  [445369, 272725]  =  1\n",
       "  [539950, 272725]  =  1\n",
       "  [49221 , 272726]  =  1\n",
       "  [80538 , 272726]  =  1\n",
       "  [176950, 272726]  =  1\n",
       "  [187932, 272726]  =  1\n",
       "  [402659, 272726]  =  1"
      ]
     },
     "execution_count": 31,
     "metadata": {},
     "output_type": "execute_result"
    }
   ],
   "source": [
    "kEV"
   ]
  },
  {
   "cell_type": "code",
   "execution_count": 32,
   "metadata": {},
   "outputs": [
    {
     "data": {
      "text/plain": [
       "Array{Int64,1}"
      ]
     },
     "execution_count": 32,
     "metadata": {},
     "output_type": "execute_result"
    }
   ],
   "source": [
    "typeof(Int64[])"
   ]
  },
  {
   "cell_type": "code",
   "execution_count": 33,
   "metadata": {},
   "outputs": [
    {
     "data": {
      "text/plain": [
       "5-element Array{Int64,1}:\n",
       " 135140976\n",
       " 135141008\n",
       " 135141040\n",
       " 135206800\n",
       " 135206928"
      ]
     },
     "execution_count": 33,
     "metadata": {},
     "output_type": "execute_result"
    }
   ],
   "source": [
    "Array{Int64,1}(undef, 5)"
   ]
  },
  {
   "cell_type": "code",
   "execution_count": 34,
   "metadata": {},
   "outputs": [
    {
     "data": {
      "text/plain": [
       "Array{Int64,2}"
      ]
     },
     "execution_count": 34,
     "metadata": {},
     "output_type": "execute_result"
    }
   ],
   "source": [
    "typeof(aEV)"
   ]
  },
  {
   "cell_type": "code",
   "execution_count": 35,
   "metadata": {},
   "outputs": [
    {
     "data": {
      "text/plain": [
       "1087034"
      ]
     },
     "execution_count": 35,
     "metadata": {},
     "output_type": "execute_result"
    }
   ],
   "source": [
    "# LarSurf.Lar.Cells\n",
    "length(aEV)"
   ]
  },
  {
   "cell_type": "code",
   "execution_count": 36,
   "metadata": {},
   "outputs": [
    {
     "data": {
      "text/plain": [
       "(543517, 2)"
      ]
     },
     "execution_count": 36,
     "metadata": {},
     "output_type": "execute_result"
    }
   ],
   "source": [
    "size(aEV)"
   ]
  },
  {
   "cell_type": "code",
   "execution_count": 37,
   "metadata": {},
   "outputs": [
    {
     "ename": "UndefVarError",
     "evalue": "UndefVarError: make_full not defined",
     "output_type": "error",
     "traceback": [
      "UndefVarError: make_full not defined",
      "",
      "Stacktrace:",
      " [1] smoothing_EV(::Array{Float64,2}, ::SparseMatrixCSC{Int8,Int64}, ::Float64) at .\\In[10]:22",
      " [2] top-level scope at In[37]:1"
     ]
    }
   ],
   "source": [
    "newV = smoothing_EV(newV, kEV, k1)"
   ]
  }
 ],
 "metadata": {
  "@webio": {
   "lastCommId": null,
   "lastKernelId": null
  },
  "kernelspec": {
   "display_name": "Julia 1.1.0",
   "language": "julia",
   "name": "julia-1.1"
  },
  "language_info": {
   "file_extension": ".jl",
   "mimetype": "application/julia",
   "name": "julia",
   "version": "1.1.0"
  },
  "toc": {
   "base_numbering": 1,
   "nav_menu": {},
   "number_sections": true,
   "sideBar": true,
   "skip_h1_title": false,
   "title_cell": "Table of Contents",
   "title_sidebar": "Contents",
   "toc_cell": false,
   "toc_position": {},
   "toc_section_display": true,
   "toc_window_display": true
  }
 },
 "nbformat": 4,
 "nbformat_minor": 2
}
