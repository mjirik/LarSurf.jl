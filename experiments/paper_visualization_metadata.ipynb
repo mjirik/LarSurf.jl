{
 "cells": [
  {
   "cell_type": "code",
   "execution_count": 45,
   "metadata": {},
   "outputs": [
    {
     "data": {
      "text/plain": [
       "Index(['block size', 'cumulative computation time 1', 'cumulative put time 1',\n",
       "       'cumulative take time 1', 'data generated', 'data size 1',\n",
       "       'data size 2', 'data size 3', 'datetime', 'finished',\n",
       "       'first block sent', 'first face recived', 'hostname', 'input_path',\n",
       "       'jlfile', 'last face recived', 'ncores', 'nprocs',\n",
       "       'number of processed blocks 1', 'nvoxels', 'nworkers', 'operation',\n",
       "       'setup done', 'smoothing time [s]', 'using done', 'voxelsize_mm 1',\n",
       "       'voxelsize_mm 2', 'voxelsize_mm 3', 'cumulative computation time 4',\n",
       "       'cumulative take time 2', 'cumulative take time 4',\n",
       "       'number of processed blocks 4', 'cumulative put time 4',\n",
       "       'cumulative take time 3', 'cumulative computation time 3',\n",
       "       'number of processed blocks 3', 'cumulative computation time 2',\n",
       "       'cumulative put time 2', 'cumulative put time 3', 'first take time 4',\n",
       "       'number of processed blocks 2', 'first take time 3', 'vertex #',\n",
       "       'cumulative take time 5', 'cumulative put time 5', 'triangles #',\n",
       "       'cumulative computation time 5', 'number of processed blocks 5',\n",
       "       'surface extraction time [s]', 'first take time 2', 'quads #',\n",
       "       'LAR to .obj time [s]', 'reciving and decoding time [s]',\n",
       "       'cumulative double face filtration time [s]',\n",
       "       'V and FV reduction time [s]'],\n",
       "      dtype='object')"
      ]
     },
     "execution_count": 45,
     "metadata": {},
     "output_type": "execute_result"
    }
   ],
   "source": [
    "import pandas as pd\n",
    "\n",
    "df = pd.read_csv(\"../exp_surface_extraction_times.csv\")\n",
    "\n",
    "# df.datetime > \n",
    "df.keys()"
   ]
  },
  {
   "cell_type": "code",
   "execution_count": 56,
   "metadata": {},
   "outputs": [
    {
     "name": "stderr",
     "output_type": "stream",
     "text": [
      "C:\\Users\\Jirik\\Miniconda3\\envs\\julia\\lib\\site-packages\\ipykernel_launcher.py:15: FutureWarning: \n",
      "The current behaviour of 'Series.argmin' is deprecated, use 'idxmin'\n",
      "instead.\n",
      "The behavior of 'argmin' will be corrected to return the positional\n",
      "minimum in the future. For now, use 'series.values.argmin' or\n",
      "'np.argmin(np.array(values))' to get the position of the minimum\n",
      "row.\n",
      "  from ipykernel import kernelapp as app\n"
     ]
    }
   ],
   "source": [
    "tms = pd.to_datetime([\n",
    "    \"2019-12-22 13:20\", # liver red\n",
    "    \"2019-12-22 12:30\", # porta # yellow\n",
    "    \"2019-12-19 9:39\", # nrn100\n",
    "    \"2019-12-20 11:30\", # nrn100 green\n",
    "#     \"2019-12-15 11:55\",\n",
    "#     \"2019-12-30 11:55\",\n",
    "])\n",
    "cols = [\"datetime\", 'nvoxels', \n",
    "        \"vertex #\", 'quads #',\n",
    "        'triangles #', \"surface extraction time [s]\", \n",
    "        'data size 1', 'data size 2', 'data size 3',\n",
    "        'voxelsize_mm 1',  'voxelsize_mm 2',  'voxelsize_mm 3', \n",
    "       ]\n",
    "closest_datetime_ids = [(pd.to_datetime(df.datetime) - tm).abs().argmin() for tm in tms]"
   ]
  },
  {
   "cell_type": "code",
   "execution_count": 57,
   "metadata": {},
   "outputs": [
    {
     "data": {
      "text/html": [
       "<div>\n",
       "<style scoped>\n",
       "    .dataframe tbody tr th:only-of-type {\n",
       "        vertical-align: middle;\n",
       "    }\n",
       "\n",
       "    .dataframe tbody tr th {\n",
       "        vertical-align: top;\n",
       "    }\n",
       "\n",
       "    .dataframe thead th {\n",
       "        text-align: right;\n",
       "    }\n",
       "</style>\n",
       "<table border=\"1\" class=\"dataframe\">\n",
       "  <thead>\n",
       "    <tr style=\"text-align: right;\">\n",
       "      <th></th>\n",
       "      <th>datetime</th>\n",
       "      <th>nvoxels</th>\n",
       "      <th>vertex #</th>\n",
       "      <th>quads #</th>\n",
       "      <th>triangles #</th>\n",
       "      <th>surface extraction time [s]</th>\n",
       "      <th>data size 1</th>\n",
       "      <th>data size 2</th>\n",
       "      <th>data size 3</th>\n",
       "      <th>voxelsize_mm 1</th>\n",
       "      <th>voxelsize_mm 2</th>\n",
       "      <th>voxelsize_mm 3</th>\n",
       "    </tr>\n",
       "  </thead>\n",
       "  <tbody>\n",
       "    <tr>\n",
       "      <th>113</th>\n",
       "      <td>22.12.2019 13:20</td>\n",
       "      <td>2865131</td>\n",
       "      <td>221393.0</td>\n",
       "      <td>221402.0</td>\n",
       "      <td>442804.0</td>\n",
       "      <td>25.193140</td>\n",
       "      <td>129</td>\n",
       "      <td>512</td>\n",
       "      <td>512</td>\n",
       "      <td>1.600000</td>\n",
       "      <td>0.570000</td>\n",
       "      <td>0.570000</td>\n",
       "    </tr>\n",
       "    <tr>\n",
       "      <th>105</th>\n",
       "      <td>22.12.2019 12:42</td>\n",
       "      <td>103533</td>\n",
       "      <td>90822.0</td>\n",
       "      <td>91062.0</td>\n",
       "      <td>182124.0</td>\n",
       "      <td>9.394015</td>\n",
       "      <td>129</td>\n",
       "      <td>512</td>\n",
       "      <td>512</td>\n",
       "      <td>1.600000</td>\n",
       "      <td>0.570000</td>\n",
       "      <td>0.570000</td>\n",
       "    </tr>\n",
       "    <tr>\n",
       "      <th>27</th>\n",
       "      <td>19.12.2019 9:39</td>\n",
       "      <td>276390</td>\n",
       "      <td>272726.0</td>\n",
       "      <td>272392.0</td>\n",
       "      <td>544784.0</td>\n",
       "      <td>11.192834</td>\n",
       "      <td>100</td>\n",
       "      <td>100</td>\n",
       "      <td>100</td>\n",
       "      <td>0.004682</td>\n",
       "      <td>0.004682</td>\n",
       "      <td>0.004682</td>\n",
       "    </tr>\n",
       "    <tr>\n",
       "      <th>61</th>\n",
       "      <td>20.12.2019 11:37</td>\n",
       "      <td>2865131</td>\n",
       "      <td>221393.0</td>\n",
       "      <td>221402.0</td>\n",
       "      <td>442804.0</td>\n",
       "      <td>21.710399</td>\n",
       "      <td>129</td>\n",
       "      <td>512</td>\n",
       "      <td>512</td>\n",
       "      <td>1.600000</td>\n",
       "      <td>0.570000</td>\n",
       "      <td>0.570000</td>\n",
       "    </tr>\n",
       "  </tbody>\n",
       "</table>\n",
       "</div>"
      ],
      "text/plain": [
       "             datetime  nvoxels  vertex #   quads #  triangles #  \\\n",
       "113  22.12.2019 13:20  2865131  221393.0  221402.0     442804.0   \n",
       "105  22.12.2019 12:42   103533   90822.0   91062.0     182124.0   \n",
       "27    19.12.2019 9:39   276390  272726.0  272392.0     544784.0   \n",
       "61   20.12.2019 11:37  2865131  221393.0  221402.0     442804.0   \n",
       "\n",
       "     surface extraction time [s]  data size 1  data size 2  data size 3  \\\n",
       "113                    25.193140          129          512          512   \n",
       "105                     9.394015          129          512          512   \n",
       "27                     11.192834          100          100          100   \n",
       "61                     21.710399          129          512          512   \n",
       "\n",
       "     voxelsize_mm 1  voxelsize_mm 2  voxelsize_mm 3  \n",
       "113        1.600000        0.570000        0.570000  \n",
       "105        1.600000        0.570000        0.570000  \n",
       "27         0.004682        0.004682        0.004682  \n",
       "61         1.600000        0.570000        0.570000  "
      ]
     },
     "execution_count": 57,
     "metadata": {},
     "output_type": "execute_result"
    }
   ],
   "source": [
    "df.iloc[closest_datetime_ids][cols]"
   ]
  },
  {
   "cell_type": "code",
   "execution_count": 3,
   "metadata": {},
   "outputs": [
    {
     "data": {
      "text/plain": [
       "'C:\\\\Users\\\\Jirik\\\\.julia\\\\dev\\\\LarSurf\\\\experiments'"
      ]
     },
     "execution_count": 3,
     "metadata": {},
     "output_type": "execute_result"
    }
   ],
   "source": [
    "%pwd"
   ]
  }
 ],
 "metadata": {
  "kernelspec": {
   "display_name": "Python 3",
   "language": "python",
   "name": "python3"
  },
  "language_info": {
   "codemirror_mode": {
    "name": "ipython",
    "version": 3
   },
   "file_extension": ".py",
   "mimetype": "text/x-python",
   "name": "python",
   "nbconvert_exporter": "python",
   "pygments_lexer": "ipython3",
   "version": "3.6.6"
  },
  "toc": {
   "base_numbering": 1,
   "nav_menu": {},
   "number_sections": true,
   "sideBar": true,
   "skip_h1_title": false,
   "title_cell": "Table of Contents",
   "title_sidebar": "Contents",
   "toc_cell": false,
   "toc_position": {},
   "toc_section_display": true,
   "toc_window_display": true
  }
 },
 "nbformat": 4,
 "nbformat_minor": 2
}
