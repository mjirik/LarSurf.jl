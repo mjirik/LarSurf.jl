{
 "cells": [
  {
   "cell_type": "code",
   "execution_count": 30,
   "metadata": {},
   "outputs": [
    {
     "name": "stdout",
     "output_type": "stream",
     "text": [
      "Populating the interactive namespace from numpy and matplotlib\n"
     ]
    }
   ],
   "source": [
    "%pylab inline\n",
    "import io3d\n",
    "import pandas as pd\n",
    "import numpy as np\n",
    "import data2tex as dtt\n",
    "dtt.use_pure_latex = True\n",
    "dtt.set_output(\"C:/Users/Jirik/projects/papers/lar-surf/src/input/\")"
   ]
  },
  {
   "cell_type": "code",
   "execution_count": 31,
   "metadata": {},
   "outputs": [],
   "source": [
    "\n",
    "def prepare_data(id=2):\n",
    "    fn = io3d.datasets.join_path(\"medical\", \"orig\", \"3Dircadb1.{}\".format(id), \"MASKS_DICOM\", \"liver\", get_root=True)\n",
    "    print(fn)\n",
    "    datap = io3d.read(fn)\n",
    "    data3d = datap[\"data3d\"]\n",
    "    voxelsize_mm = datap[\"voxelsize_mm\"]\n",
    "#     plt.imshow(data3d[40,:,:])\n",
    "    seg = data3d > 0\n",
    "    return seg, voxelsize_mm\n"
   ]
  },
  {
   "cell_type": "code",
   "execution_count": null,
   "metadata": {},
   "outputs": [],
   "source": []
  },
  {
   "cell_type": "code",
   "execution_count": 32,
   "metadata": {
    "scrolled": true
   },
   "outputs": [
    {
     "name": "stderr",
     "output_type": "stream",
     "text": [
      "Unable to read dicom file dicomdir.pkl\n",
      "File is missing DICOM File Meta Information header or the 'DICM' prefix is missing from the header. Use force=True to force reading.\n"
     ]
    },
    {
     "name": "stdout",
     "output_type": "stream",
     "text": [
      "C:\\Users\\Jirik/data/medical\\orig\\3Dircadb1.1\\MASKS_DICOM\\liver\n"
     ]
    },
    {
     "name": "stderr",
     "output_type": "stream",
     "text": [
      "Unable to read dicom file dicomdir.pkl\n",
      "File is missing DICOM File Meta Information header or the 'DICM' prefix is missing from the header. Use force=True to force reading.\n"
     ]
    },
    {
     "name": "stdout",
     "output_type": "stream",
     "text": [
      "C:\\Users\\Jirik/data/medical\\orig\\3Dircadb1.2\\MASKS_DICOM\\liver\n"
     ]
    },
    {
     "name": "stderr",
     "output_type": "stream",
     "text": [
      "Unable to read dicom file dicomdir.pkl\n",
      "File is missing DICOM File Meta Information header or the 'DICM' prefix is missing from the header. Use force=True to force reading.\n"
     ]
    },
    {
     "name": "stdout",
     "output_type": "stream",
     "text": [
      "C:\\Users\\Jirik/data/medical\\orig\\3Dircadb1.3\\MASKS_DICOM\\liver\n"
     ]
    },
    {
     "name": "stderr",
     "output_type": "stream",
     "text": [
      "Unable to read dicom file dicomdir.pkl\n",
      "File is missing DICOM File Meta Information header or the 'DICM' prefix is missing from the header. Use force=True to force reading.\n"
     ]
    },
    {
     "name": "stdout",
     "output_type": "stream",
     "text": [
      "C:\\Users\\Jirik/data/medical\\orig\\3Dircadb1.4\\MASKS_DICOM\\liver\n"
     ]
    },
    {
     "name": "stderr",
     "output_type": "stream",
     "text": [
      "Unable to read dicom file dicomdir.pkl\n",
      "File is missing DICOM File Meta Information header or the 'DICM' prefix is missing from the header. Use force=True to force reading.\n"
     ]
    },
    {
     "name": "stdout",
     "output_type": "stream",
     "text": [
      "C:\\Users\\Jirik/data/medical\\orig\\3Dircadb1.5\\MASKS_DICOM\\liver\n"
     ]
    },
    {
     "name": "stderr",
     "output_type": "stream",
     "text": [
      "Unable to read dicom file dicomdir.pkl\n",
      "File is missing DICOM File Meta Information header or the 'DICM' prefix is missing from the header. Use force=True to force reading.\n"
     ]
    },
    {
     "name": "stdout",
     "output_type": "stream",
     "text": [
      "C:\\Users\\Jirik/data/medical\\orig\\3Dircadb1.6\\MASKS_DICOM\\liver\n"
     ]
    },
    {
     "name": "stderr",
     "output_type": "stream",
     "text": [
      "Unable to read dicom file dicomdir.pkl\n",
      "File is missing DICOM File Meta Information header or the 'DICM' prefix is missing from the header. Use force=True to force reading.\n"
     ]
    },
    {
     "name": "stdout",
     "output_type": "stream",
     "text": [
      "C:\\Users\\Jirik/data/medical\\orig\\3Dircadb1.7\\MASKS_DICOM\\liver\n"
     ]
    },
    {
     "name": "stderr",
     "output_type": "stream",
     "text": [
      "Unable to read dicom file dicomdir.pkl\n",
      "File is missing DICOM File Meta Information header or the 'DICM' prefix is missing from the header. Use force=True to force reading.\n"
     ]
    },
    {
     "name": "stdout",
     "output_type": "stream",
     "text": [
      "C:\\Users\\Jirik/data/medical\\orig\\3Dircadb1.8\\MASKS_DICOM\\liver\n"
     ]
    },
    {
     "name": "stderr",
     "output_type": "stream",
     "text": [
      "Unable to read dicom file dicomdir.pkl\n",
      "File is missing DICOM File Meta Information header or the 'DICM' prefix is missing from the header. Use force=True to force reading.\n"
     ]
    },
    {
     "name": "stdout",
     "output_type": "stream",
     "text": [
      "C:\\Users\\Jirik/data/medical\\orig\\3Dircadb1.9\\MASKS_DICOM\\liver\n"
     ]
    },
    {
     "name": "stderr",
     "output_type": "stream",
     "text": [
      "Unable to read dicom file dicomdir.pkl\n",
      "File is missing DICOM File Meta Information header or the 'DICM' prefix is missing from the header. Use force=True to force reading.\n"
     ]
    },
    {
     "name": "stdout",
     "output_type": "stream",
     "text": [
      "C:\\Users\\Jirik/data/medical\\orig\\3Dircadb1.10\\MASKS_DICOM\\liver\n"
     ]
    },
    {
     "name": "stderr",
     "output_type": "stream",
     "text": [
      "Unable to read dicom file dicomdir.pkl\n",
      "File is missing DICOM File Meta Information header or the 'DICM' prefix is missing from the header. Use force=True to force reading.\n"
     ]
    },
    {
     "name": "stdout",
     "output_type": "stream",
     "text": [
      "C:\\Users\\Jirik/data/medical\\orig\\3Dircadb1.11\\MASKS_DICOM\\liver\n"
     ]
    },
    {
     "name": "stderr",
     "output_type": "stream",
     "text": [
      "Unable to read dicom file dicomdir.pkl\n",
      "File is missing DICOM File Meta Information header or the 'DICM' prefix is missing from the header. Use force=True to force reading.\n"
     ]
    },
    {
     "name": "stdout",
     "output_type": "stream",
     "text": [
      "C:\\Users\\Jirik/data/medical\\orig\\3Dircadb1.12\\MASKS_DICOM\\liver\n"
     ]
    },
    {
     "name": "stderr",
     "output_type": "stream",
     "text": [
      "Unable to read dicom file dicomdir.pkl\n",
      "File is missing DICOM File Meta Information header or the 'DICM' prefix is missing from the header. Use force=True to force reading.\n"
     ]
    },
    {
     "name": "stdout",
     "output_type": "stream",
     "text": [
      "C:\\Users\\Jirik/data/medical\\orig\\3Dircadb1.13\\MASKS_DICOM\\liver\n"
     ]
    },
    {
     "name": "stderr",
     "output_type": "stream",
     "text": [
      "Unable to read dicom file dicomdir.pkl\n",
      "File is missing DICOM File Meta Information header or the 'DICM' prefix is missing from the header. Use force=True to force reading.\n"
     ]
    },
    {
     "name": "stdout",
     "output_type": "stream",
     "text": [
      "C:\\Users\\Jirik/data/medical\\orig\\3Dircadb1.14\\MASKS_DICOM\\liver\n"
     ]
    },
    {
     "name": "stderr",
     "output_type": "stream",
     "text": [
      "Unable to read dicom file dicomdir.pkl\n",
      "File is missing DICOM File Meta Information header or the 'DICM' prefix is missing from the header. Use force=True to force reading.\n"
     ]
    },
    {
     "name": "stdout",
     "output_type": "stream",
     "text": [
      "C:\\Users\\Jirik/data/medical\\orig\\3Dircadb1.15\\MASKS_DICOM\\liver\n"
     ]
    },
    {
     "name": "stderr",
     "output_type": "stream",
     "text": [
      "Unable to read dicom file dicomdir.pkl\n",
      "File is missing DICOM File Meta Information header or the 'DICM' prefix is missing from the header. Use force=True to force reading.\n"
     ]
    },
    {
     "name": "stdout",
     "output_type": "stream",
     "text": [
      "C:\\Users\\Jirik/data/medical\\orig\\3Dircadb1.16\\MASKS_DICOM\\liver\n"
     ]
    },
    {
     "name": "stderr",
     "output_type": "stream",
     "text": [
      "Unable to read dicom file dicomdir.pkl\n",
      "File is missing DICOM File Meta Information header or the 'DICM' prefix is missing from the header. Use force=True to force reading.\n"
     ]
    },
    {
     "name": "stdout",
     "output_type": "stream",
     "text": [
      "C:\\Users\\Jirik/data/medical\\orig\\3Dircadb1.17\\MASKS_DICOM\\liver\n"
     ]
    },
    {
     "name": "stderr",
     "output_type": "stream",
     "text": [
      "Unable to read dicom file dicomdir.pkl\n",
      "File is missing DICOM File Meta Information header or the 'DICM' prefix is missing from the header. Use force=True to force reading.\n"
     ]
    },
    {
     "name": "stdout",
     "output_type": "stream",
     "text": [
      "C:\\Users\\Jirik/data/medical\\orig\\3Dircadb1.18\\MASKS_DICOM\\liver\n"
     ]
    },
    {
     "name": "stderr",
     "output_type": "stream",
     "text": [
      "Unable to read dicom file dicomdir.pkl\n",
      "File is missing DICOM File Meta Information header or the 'DICM' prefix is missing from the header. Use force=True to force reading.\n"
     ]
    },
    {
     "name": "stdout",
     "output_type": "stream",
     "text": [
      "C:\\Users\\Jirik/data/medical\\orig\\3Dircadb1.19\\MASKS_DICOM\\liver\n"
     ]
    },
    {
     "name": "stderr",
     "output_type": "stream",
     "text": [
      "Unable to read dicom file dicomdir.pkl\n",
      "File is missing DICOM File Meta Information header or the 'DICM' prefix is missing from the header. Use force=True to force reading.\n"
     ]
    },
    {
     "name": "stdout",
     "output_type": "stream",
     "text": [
      "C:\\Users\\Jirik/data/medical\\orig\\3Dircadb1.20\\MASKS_DICOM\\liver\n"
     ]
    }
   ],
   "source": [
    "dfd={\n",
    "    \"ID\":[],\"z-resolution [mm]\":[], \"xy-resolution [mm]\":[], \"obj. voxels\":[], \"size xy\":[], \"size z\":[]}\n",
    "for i in range(1,21):\n",
    "    dfd[\"ID\"].append(i)\n",
    "    seg, voxelsize_mm = prepare_data(i)\n",
    "    dfd[\"z-resolution [mm]\"].append(voxelsize_mm[0])\n",
    "    dfd[\"xy-resolution [mm]\"].append(voxelsize_mm[1])\n",
    "    dfd[\"size z\"].append(seg.shape[0] )\n",
    "    dfd[\"size xy\"].append(seg.shape[1] )\n",
    "    dfd[\"obj. voxels\"].append(np.sum(seg > 0) )\n",
    "    \n",
    "    \n",
    "\n",
    "dt = pd.DataFrame(dfd)"
   ]
  },
  {
   "cell_type": "code",
   "execution_count": 33,
   "metadata": {},
   "outputs": [
    {
     "data": {
      "text/html": [
       "<div>\n",
       "<style scoped>\n",
       "    .dataframe tbody tr th:only-of-type {\n",
       "        vertical-align: middle;\n",
       "    }\n",
       "\n",
       "    .dataframe tbody tr th {\n",
       "        vertical-align: top;\n",
       "    }\n",
       "\n",
       "    .dataframe thead th {\n",
       "        text-align: right;\n",
       "    }\n",
       "</style>\n",
       "<table border=\"1\" class=\"dataframe\">\n",
       "  <thead>\n",
       "    <tr style=\"text-align: right;\">\n",
       "      <th></th>\n",
       "      <th>ID</th>\n",
       "      <th>z-resolution [mm]</th>\n",
       "      <th>xy-resolution [mm]</th>\n",
       "      <th>obj. voxels</th>\n",
       "      <th>size xy</th>\n",
       "      <th>size z</th>\n",
       "    </tr>\n",
       "  </thead>\n",
       "  <tbody>\n",
       "    <tr>\n",
       "      <th>0</th>\n",
       "      <td>1</td>\n",
       "      <td>1.60</td>\n",
       "      <td>0.570000</td>\n",
       "      <td>2865131</td>\n",
       "      <td>512</td>\n",
       "      <td>129</td>\n",
       "    </tr>\n",
       "    <tr>\n",
       "      <th>1</th>\n",
       "      <td>2</td>\n",
       "      <td>1.60</td>\n",
       "      <td>0.782000</td>\n",
       "      <td>1648024</td>\n",
       "      <td>512</td>\n",
       "      <td>172</td>\n",
       "    </tr>\n",
       "    <tr>\n",
       "      <th>2</th>\n",
       "      <td>3</td>\n",
       "      <td>1.25</td>\n",
       "      <td>0.625000</td>\n",
       "      <td>2375079</td>\n",
       "      <td>512</td>\n",
       "      <td>200</td>\n",
       "    </tr>\n",
       "    <tr>\n",
       "      <th>3</th>\n",
       "      <td>4</td>\n",
       "      <td>2.00</td>\n",
       "      <td>0.742188</td>\n",
       "      <td>1132427</td>\n",
       "      <td>512</td>\n",
       "      <td>91</td>\n",
       "    </tr>\n",
       "    <tr>\n",
       "      <th>4</th>\n",
       "      <td>5</td>\n",
       "      <td>1.60</td>\n",
       "      <td>0.782000</td>\n",
       "      <td>2124505</td>\n",
       "      <td>512</td>\n",
       "      <td>139</td>\n",
       "    </tr>\n",
       "    <tr>\n",
       "      <th>5</th>\n",
       "      <td>6</td>\n",
       "      <td>1.60</td>\n",
       "      <td>0.782000</td>\n",
       "      <td>1828493</td>\n",
       "      <td>512</td>\n",
       "      <td>135</td>\n",
       "    </tr>\n",
       "    <tr>\n",
       "      <th>6</th>\n",
       "      <td>7</td>\n",
       "      <td>1.60</td>\n",
       "      <td>0.782000</td>\n",
       "      <td>1461944</td>\n",
       "      <td>512</td>\n",
       "      <td>151</td>\n",
       "    </tr>\n",
       "    <tr>\n",
       "      <th>7</th>\n",
       "      <td>8</td>\n",
       "      <td>1.60</td>\n",
       "      <td>0.561000</td>\n",
       "      <td>3215090</td>\n",
       "      <td>512</td>\n",
       "      <td>124</td>\n",
       "    </tr>\n",
       "    <tr>\n",
       "      <th>8</th>\n",
       "      <td>9</td>\n",
       "      <td>2.00</td>\n",
       "      <td>0.873047</td>\n",
       "      <td>1265420</td>\n",
       "      <td>512</td>\n",
       "      <td>111</td>\n",
       "    </tr>\n",
       "    <tr>\n",
       "      <th>9</th>\n",
       "      <td>10</td>\n",
       "      <td>1.60</td>\n",
       "      <td>0.736000</td>\n",
       "      <td>1871804</td>\n",
       "      <td>512</td>\n",
       "      <td>122</td>\n",
       "    </tr>\n",
       "    <tr>\n",
       "      <th>10</th>\n",
       "      <td>11</td>\n",
       "      <td>1.60</td>\n",
       "      <td>0.720000</td>\n",
       "      <td>1692716</td>\n",
       "      <td>512</td>\n",
       "      <td>132</td>\n",
       "    </tr>\n",
       "    <tr>\n",
       "      <th>11</th>\n",
       "      <td>12</td>\n",
       "      <td>1.00</td>\n",
       "      <td>0.679688</td>\n",
       "      <td>3341433</td>\n",
       "      <td>512</td>\n",
       "      <td>260</td>\n",
       "    </tr>\n",
       "    <tr>\n",
       "      <th>12</th>\n",
       "      <td>13</td>\n",
       "      <td>1.60</td>\n",
       "      <td>0.671000</td>\n",
       "      <td>2063109</td>\n",
       "      <td>512</td>\n",
       "      <td>122</td>\n",
       "    </tr>\n",
       "    <tr>\n",
       "      <th>13</th>\n",
       "      <td>14</td>\n",
       "      <td>1.60</td>\n",
       "      <td>0.720000</td>\n",
       "      <td>1633641</td>\n",
       "      <td>512</td>\n",
       "      <td>113</td>\n",
       "    </tr>\n",
       "    <tr>\n",
       "      <th>14</th>\n",
       "      <td>15</td>\n",
       "      <td>1.60</td>\n",
       "      <td>0.782000</td>\n",
       "      <td>1389572</td>\n",
       "      <td>512</td>\n",
       "      <td>125</td>\n",
       "    </tr>\n",
       "    <tr>\n",
       "      <th>15</th>\n",
       "      <td>16</td>\n",
       "      <td>1.60</td>\n",
       "      <td>0.698000</td>\n",
       "      <td>2717185</td>\n",
       "      <td>512</td>\n",
       "      <td>155</td>\n",
       "    </tr>\n",
       "    <tr>\n",
       "      <th>16</th>\n",
       "      <td>17</td>\n",
       "      <td>1.60</td>\n",
       "      <td>0.743000</td>\n",
       "      <td>2106497</td>\n",
       "      <td>512</td>\n",
       "      <td>119</td>\n",
       "    </tr>\n",
       "    <tr>\n",
       "      <th>17</th>\n",
       "      <td>18</td>\n",
       "      <td>2.50</td>\n",
       "      <td>0.742188</td>\n",
       "      <td>1220564</td>\n",
       "      <td>512</td>\n",
       "      <td>74</td>\n",
       "    </tr>\n",
       "    <tr>\n",
       "      <th>18</th>\n",
       "      <td>19</td>\n",
       "      <td>4.00</td>\n",
       "      <td>0.703125</td>\n",
       "      <td>583208</td>\n",
       "      <td>512</td>\n",
       "      <td>124</td>\n",
       "    </tr>\n",
       "    <tr>\n",
       "      <th>19</th>\n",
       "      <td>20</td>\n",
       "      <td>2.00</td>\n",
       "      <td>0.808594</td>\n",
       "      <td>1359697</td>\n",
       "      <td>512</td>\n",
       "      <td>225</td>\n",
       "    </tr>\n",
       "  </tbody>\n",
       "</table>\n",
       "</div>"
      ],
      "text/plain": [
       "    ID  z-resolution [mm]  xy-resolution [mm]  obj. voxels  size xy  size z\n",
       "0    1               1.60            0.570000      2865131      512     129\n",
       "1    2               1.60            0.782000      1648024      512     172\n",
       "2    3               1.25            0.625000      2375079      512     200\n",
       "3    4               2.00            0.742188      1132427      512      91\n",
       "4    5               1.60            0.782000      2124505      512     139\n",
       "5    6               1.60            0.782000      1828493      512     135\n",
       "6    7               1.60            0.782000      1461944      512     151\n",
       "7    8               1.60            0.561000      3215090      512     124\n",
       "8    9               2.00            0.873047      1265420      512     111\n",
       "9   10               1.60            0.736000      1871804      512     122\n",
       "10  11               1.60            0.720000      1692716      512     132\n",
       "11  12               1.00            0.679688      3341433      512     260\n",
       "12  13               1.60            0.671000      2063109      512     122\n",
       "13  14               1.60            0.720000      1633641      512     113\n",
       "14  15               1.60            0.782000      1389572      512     125\n",
       "15  16               1.60            0.698000      2717185      512     155\n",
       "16  17               1.60            0.743000      2106497      512     119\n",
       "17  18               2.50            0.742188      1220564      512      74\n",
       "18  19               4.00            0.703125       583208      512     124\n",
       "19  20               2.00            0.808594      1359697      512     225"
      ]
     },
     "execution_count": 33,
     "metadata": {},
     "output_type": "execute_result"
    }
   ],
   "source": [
    "dtt.save(dt, \"dataset_ircad\")\n",
    "dt"
   ]
  },
  {
   "cell_type": "code",
   "execution_count": 34,
   "metadata": {},
   "outputs": [
    {
     "data": {
      "text/html": [
       "<div>\n",
       "<style scoped>\n",
       "    .dataframe tbody tr th:only-of-type {\n",
       "        vertical-align: middle;\n",
       "    }\n",
       "\n",
       "    .dataframe tbody tr th {\n",
       "        vertical-align: top;\n",
       "    }\n",
       "\n",
       "    .dataframe thead th {\n",
       "        text-align: right;\n",
       "    }\n",
       "</style>\n",
       "<table border=\"1\" class=\"dataframe\">\n",
       "  <thead>\n",
       "    <tr style=\"text-align: right;\">\n",
       "      <th></th>\n",
       "      <th>z-resolution [mm]</th>\n",
       "      <th>xy-resolution [mm]</th>\n",
       "      <th>obj. voxels</th>\n",
       "      <th>size xy</th>\n",
       "      <th>size z</th>\n",
       "    </tr>\n",
       "  </thead>\n",
       "  <tbody>\n",
       "    <tr>\n",
       "      <th>count</th>\n",
       "      <td>20.00000</td>\n",
       "      <td>20.000000</td>\n",
       "      <td>2.000000e+01</td>\n",
       "      <td>20.0</td>\n",
       "      <td>20.000000</td>\n",
       "    </tr>\n",
       "    <tr>\n",
       "      <th>mean</th>\n",
       "      <td>1.77750</td>\n",
       "      <td>0.725141</td>\n",
       "      <td>1.894777e+06</td>\n",
       "      <td>512.0</td>\n",
       "      <td>141.150000</td>\n",
       "    </tr>\n",
       "    <tr>\n",
       "      <th>std</th>\n",
       "      <td>0.60273</td>\n",
       "      <td>0.077233</td>\n",
       "      <td>7.206126e+05</td>\n",
       "      <td>0.0</td>\n",
       "      <td>44.088756</td>\n",
       "    </tr>\n",
       "    <tr>\n",
       "      <th>min</th>\n",
       "      <td>1.00000</td>\n",
       "      <td>0.561000</td>\n",
       "      <td>5.832080e+05</td>\n",
       "      <td>512.0</td>\n",
       "      <td>74.000000</td>\n",
       "    </tr>\n",
       "    <tr>\n",
       "      <th>25%</th>\n",
       "      <td>1.60000</td>\n",
       "      <td>0.693422</td>\n",
       "      <td>1.382103e+06</td>\n",
       "      <td>512.0</td>\n",
       "      <td>121.250000</td>\n",
       "    </tr>\n",
       "    <tr>\n",
       "      <th>50%</th>\n",
       "      <td>1.60000</td>\n",
       "      <td>0.739094</td>\n",
       "      <td>1.760604e+06</td>\n",
       "      <td>512.0</td>\n",
       "      <td>127.000000</td>\n",
       "    </tr>\n",
       "    <tr>\n",
       "      <th>75%</th>\n",
       "      <td>1.70000</td>\n",
       "      <td>0.782000</td>\n",
       "      <td>2.187148e+06</td>\n",
       "      <td>512.0</td>\n",
       "      <td>152.000000</td>\n",
       "    </tr>\n",
       "    <tr>\n",
       "      <th>max</th>\n",
       "      <td>4.00000</td>\n",
       "      <td>0.873047</td>\n",
       "      <td>3.341433e+06</td>\n",
       "      <td>512.0</td>\n",
       "      <td>260.000000</td>\n",
       "    </tr>\n",
       "  </tbody>\n",
       "</table>\n",
       "</div>"
      ],
      "text/plain": [
       "       z-resolution [mm]  xy-resolution [mm]   obj. voxels  size xy  \\\n",
       "count           20.00000           20.000000  2.000000e+01     20.0   \n",
       "mean             1.77750            0.725141  1.894777e+06    512.0   \n",
       "std              0.60273            0.077233  7.206126e+05      0.0   \n",
       "min              1.00000            0.561000  5.832080e+05    512.0   \n",
       "25%              1.60000            0.693422  1.382103e+06    512.0   \n",
       "50%              1.60000            0.739094  1.760604e+06    512.0   \n",
       "75%              1.70000            0.782000  2.187148e+06    512.0   \n",
       "max              4.00000            0.873047  3.341433e+06    512.0   \n",
       "\n",
       "           size z  \n",
       "count   20.000000  \n",
       "mean   141.150000  \n",
       "std     44.088756  \n",
       "min     74.000000  \n",
       "25%    121.250000  \n",
       "50%    127.000000  \n",
       "75%    152.000000  \n",
       "max    260.000000  "
      ]
     },
     "execution_count": 34,
     "metadata": {},
     "output_type": "execute_result"
    }
   ],
   "source": [
    "dtdesc = dt[[\"z-resolution [mm]\", \"xy-resolution [mm]\", \"obj. voxels\",\"size xy\", \"size z\"]].describe()\n",
    "dtt.save(dtdesc, \"dataset_ircad_desc\", index=True)\n",
    "dtdesc\n"
   ]
  }
 ],
 "metadata": {
  "@webio": {
   "lastCommId": null,
   "lastKernelId": null
  },
  "kernelspec": {
   "display_name": "Python 3",
   "language": "python",
   "name": "python3"
  },
  "language_info": {
   "codemirror_mode": {
    "name": "ipython",
    "version": 3
   },
   "file_extension": ".py",
   "mimetype": "text/x-python",
   "name": "python",
   "nbconvert_exporter": "python",
   "pygments_lexer": "ipython3",
   "version": "3.6.6"
  },
  "toc": {
   "base_numbering": 1,
   "nav_menu": {},
   "number_sections": true,
   "sideBar": true,
   "skip_h1_title": false,
   "title_cell": "Table of Contents",
   "title_sidebar": "Contents",
   "toc_cell": false,
   "toc_position": {
    "height": "calc(100% - 180px)",
    "left": "10px",
    "top": "150px",
    "width": "384px"
   },
   "toc_section_display": true,
   "toc_window_display": true
  }
 },
 "nbformat": 4,
 "nbformat_minor": 2
}
