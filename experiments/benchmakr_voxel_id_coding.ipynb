{
 "cells": [
  {
   "cell_type": "code",
   "execution_count": 1,
   "metadata": {},
   "outputs": [
    {
     "name": "stderr",
     "output_type": "stream",
     "text": [
      "┌ Info: Recompiling stale cache file C:\\Users\\Jirik\\.julia\\compiled\\v1.1\\LarSurf\\WDzsQ.ji for LarSurf [39bcc72a-2642-51fe-8404-ebe33c8ec443]\n",
      "└ @ Base loading.jl:1184\n",
      "┌ Warning: Package LarSurf does not have Logging in its dependencies:\n",
      "│ - If you have LarSurf checked out for development and have\n",
      "│   added Logging as a dependency but haven't updated your primary\n",
      "│   environment's manifest file, try `Pkg.resolve()`.\n",
      "│ - Otherwise you may need to report an issue with LarSurf\n",
      "└ Loading Logging into LarSurf from project dependency, future warnings for LarSurf are suppressed.\n",
      "[ Info: Loaded M on 1\n"
     ]
    },
    {
     "data": {
      "text/plain": [
       "grid_voxel_id_to_cart_extern (generic function with 1 method)"
      ]
     },
     "execution_count": 1,
     "metadata": {},
     "output_type": "execute_result"
    }
   ],
   "source": [
    "using BenchmarkTools\n",
    "using LarSurf\n",
    "\n",
    "# function grid_voxel_id_to_cart(grid_size::Array{Int, 1}, ind::Int64)\n",
    "function grid_voxel_id_to_cart_calcul(grid_size, ind)\n",
    "#     ind = (sz2 * sz3) * (i - 1)  + (j - 1) * sz3 + k\n",
    "    sz1,sz2,sz3 = grid_size\n",
    "    layer = sz2*sz3\n",
    "    ir = div(ind - 1, layer) + 1\n",
    "    rest1 = mod(ind - 1 , layer) + 1\n",
    "#     println(\"rest1 \", rest1)\n",
    "    row = sz3\n",
    "    jr = div(rest1 -1, row) + 1\n",
    "    rest2 = mod(rest1 - 1, row) + 1\n",
    "    kr = rest2\n",
    "#     println(\"rests: \", rest1, \" \", rest2)\n",
    "    return [kr, jr, ir]\n",
    "end\n",
    "\n",
    "\n",
    "\n",
    "function grid_voxel_id_to_cart_cartind(blocks_number_axis, block_i)\n",
    "    a = Array{Int}(\n",
    "        undef,\n",
    "        blocks_number_axis[1],\n",
    "        blocks_number_axis[2],\n",
    "        blocks_number_axis[3]\n",
    "    )\n",
    "    bsub = CartesianIndices(a)[block_i]\n",
    "    return bsub\n",
    "end\n",
    "\n",
    "\n",
    "\n",
    "blocks_number_axis = [10,10,10]\n",
    "_cart = Array{Int}(\n",
    "    undef,\n",
    "    blocks_number_axis[1],\n",
    "    blocks_number_axis[2],\n",
    "    blocks_number_axis[3]\n",
    ")\n",
    "\n",
    "function grid_voxel_id_to_cart_extern(blocks_number_axis, block_i)\n",
    "    bsub = CartesianIndices(_cart)[block_i]\n",
    "    return bsub\n",
    "end\n",
    "\n",
    "\n"
   ]
  },
  {
   "cell_type": "code",
   "execution_count": 2,
   "metadata": {},
   "outputs": [
    {
     "name": "stdout",
     "output_type": "stream",
     "text": [
      "[5, 3, 2]\n",
      "CartesianIndex(5, 3, 2)\n",
      "CartesianIndex(5, 3, 2)\n"
     ]
    }
   ],
   "source": [
    "\n",
    "bl1 = grid_voxel_id_to_cart_calcul([10,10,10], 125)\n",
    "println(bl1)\n",
    "bl2 = grid_voxel_id_to_cart_cartind([10,10,10], 125)\n",
    "println(bl2)\n",
    "# bl3 = LarSurf.grid_voxel_id_to_cart([10,10,10], 125)\n",
    "bl3 = grid_voxel_id_to_cart_extern([10,10,10], 125)\n",
    "println(bl3)"
   ]
  },
  {
   "cell_type": "markdown",
   "metadata": {},
   "source": [
    "# Experiments\n",
    "\n",
    "The user implementation is the fastest. The CartesianIndices function is slow."
   ]
  },
  {
   "cell_type": "code",
   "execution_count": null,
   "metadata": {},
   "outputs": [],
   "source": []
  },
  {
   "cell_type": "code",
   "execution_count": 3,
   "metadata": {},
   "outputs": [
    {
     "data": {
      "text/plain": [
       "BenchmarkTools.Trial: \n",
       "  memory estimate:  224 bytes\n",
       "  allocs estimate:  2\n",
       "  --------------\n",
       "  minimum time:     55.341 ns (0.00% GC)\n",
       "  median time:      63.178 ns (0.00% GC)\n",
       "  mean time:        82.353 ns (13.55% GC)\n",
       "  maximum time:     36.663 μs (99.68% GC)\n",
       "  --------------\n",
       "  samples:          10000\n",
       "  evals/sample:     990"
      ]
     },
     "metadata": {},
     "output_type": "display_data"
    },
    {
     "data": {
      "text/plain": [
       "BenchmarkTools.Trial: \n",
       "  memory estimate:  8.05 KiB\n",
       "  allocs estimate:  2\n",
       "  --------------\n",
       "  minimum time:     153.928 ns (0.00% GC)\n",
       "  median time:      861.897 ns (0.00% GC)\n",
       "  mean time:        1.011 μs (33.33% GC)\n",
       "  maximum time:     41.169 μs (97.15% GC)\n",
       "  --------------\n",
       "  samples:          5099\n",
       "  evals/sample:     967"
      ]
     },
     "metadata": {},
     "output_type": "display_data"
    },
    {
     "data": {
      "text/plain": [
       "BenchmarkTools.Trial: \n",
       "  memory estimate:  176 bytes\n",
       "  allocs estimate:  3\n",
       "  --------------\n",
       "  minimum time:     95.265 ns (0.00% GC)\n",
       "  median time:      104.290 ns (0.00% GC)\n",
       "  mean time:        132.487 ns (14.72% GC)\n",
       "  maximum time:     39.797 μs (99.65% GC)\n",
       "  --------------\n",
       "  samples:          10000\n",
       "  evals/sample:     967"
      ]
     },
     "metadata": {},
     "output_type": "display_data"
    }
   ],
   "source": [
    "\n",
    "bm = @benchmark grid_voxel_id_to_cart_calcul([10,10,10], 472)\n",
    "display(bm)\n",
    "\n",
    "bm = @benchmark grid_voxel_id_to_cart_cartind([10,10,10], 472)\n",
    "display(bm)\n",
    "\n",
    "bm = @benchmark grid_voxel_id_to_cart_extern([10,10,10], 472)\n",
    "display(bm)\n",
    "\n",
    "\n",
    "# bm = @benchmark LarSurf.grid_voxel_id_to_cart([10,10,10], 472)\n",
    "# display(bm)"
   ]
  }
 ],
 "metadata": {
  "kernelspec": {
   "display_name": "Julia 1.1.0",
   "language": "julia",
   "name": "julia-1.1"
  },
  "language_info": {
   "file_extension": ".jl",
   "mimetype": "application/julia",
   "name": "julia",
   "version": "1.1.0"
  },
  "toc": {
   "base_numbering": 1,
   "nav_menu": {},
   "number_sections": true,
   "sideBar": true,
   "skip_h1_title": false,
   "title_cell": "Table of Contents",
   "title_sidebar": "Contents",
   "toc_cell": false,
   "toc_position": {},
   "toc_section_display": true,
   "toc_window_display": true
  }
 },
 "nbformat": 4,
 "nbformat_minor": 2
}
