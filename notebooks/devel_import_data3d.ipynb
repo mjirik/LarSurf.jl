{
 "cells": [
  {
   "cell_type": "code",
   "execution_count": 1,
   "metadata": {},
   "outputs": [
    {
     "data": {
      "text/plain": [
       "thresholding (generic function with 1 method)"
      ]
     },
     "execution_count": 1,
     "metadata": {},
     "output_type": "execute_result"
    }
   ],
   "source": [
    "\n",
    "include(\"../src/plasm.jl\")\n",
    "include(\"../src/read.jl\")\n",
    "include(\"../src/surface.jl\")\n",
    "include(\"../src/representation.jl\")\n",
    "include(\"../src/import3d.jl\")\n"
   ]
  },
  {
   "cell_type": "code",
   "execution_count": 2,
   "metadata": {},
   "outputs": [
    {
     "data": {
      "text/plain": [
       "0"
      ]
     },
     "execution_count": 2,
     "metadata": {},
     "output_type": "execute_result"
    }
   ],
   "source": [
    "## Artifical data\n",
    "data3d = zeros(Int16,5,4,3)\n",
    "data3d[2:4,2:3,2] = 10\n",
    "# data3d\n",
    "\n",
    "voxelsize_mm = [0.5, 0.9, 0.8]\n",
    "threshold=0"
   ]
  },
  {
   "cell_type": "markdown",
   "metadata": {},
   "source": [
    "## Get vertices and count the voxels (* 4 = face number)"
   ]
  },
  {
   "cell_type": "code",
   "execution_count": 3,
   "metadata": {},
   "outputs": [
    {
     "data": {
      "text/plain": [
       "(\n",
       "[0.0 0.0 0.0; 0.5 0.0 0.0; … ; 2.0 3.6 2.4; 2.5 3.6 2.4],\n",
       "\n",
       "6)"
      ]
     },
     "execution_count": 3,
     "metadata": {},
     "output_type": "execute_result"
    }
   ],
   "source": [
    "verts, nvoxels = vertices_and_count_voxels_as_the_square_face_preprocessing(data3d, voxelsize_mm)\n",
    "# get_index(sz, 0, 0, 1)"
   ]
  },
  {
   "cell_type": "code",
   "execution_count": 4,
   "metadata": {},
   "outputs": [
    {
     "data": {
      "text/plain": [
       "120×3 Array{Float64,2}:\n",
       " 0.0  0.0  0.0\n",
       " 0.5  0.0  0.0\n",
       " 1.0  0.0  0.0\n",
       " 1.5  0.0  0.0\n",
       " 2.0  0.0  0.0\n",
       " 2.5  0.0  0.0\n",
       " 0.0  0.9  0.0\n",
       " 0.5  0.9  0.0\n",
       " 1.0  0.9  0.0\n",
       " 1.5  0.9  0.0\n",
       " 2.0  0.9  0.0\n",
       " 2.5  0.9  0.0\n",
       " 0.0  1.8  0.0\n",
       " ⋮            \n",
       " 0.0  2.7  2.4\n",
       " 0.5  2.7  2.4\n",
       " 1.0  2.7  2.4\n",
       " 1.5  2.7  2.4\n",
       " 2.0  2.7  2.4\n",
       " 2.5  2.7  2.4\n",
       " 0.0  3.6  2.4\n",
       " 0.5  3.6  2.4\n",
       " 1.0  3.6  2.4\n",
       " 1.5  3.6  2.4\n",
       " 2.0  3.6  2.4\n",
       " 2.5  3.6  2.4"
      ]
     },
     "execution_count": 4,
     "metadata": {},
     "output_type": "execute_result"
    }
   ],
   "source": [
    "verts"
   ]
  },
  {
   "cell_type": "markdown",
   "metadata": {},
   "source": [
    "## Create square face"
   ]
  },
  {
   "cell_type": "code",
   "execution_count": 5,
   "metadata": {},
   "outputs": [
    {
     "data": {
      "text/plain": [
       "36×4 Array{Int64,2}:\n",
       " 75  45  39  69\n",
       " 44  38  39  45\n",
       " 74  44  45  75\n",
       " 69  39  38  68\n",
       " 75  69  68  74\n",
       " 74  68  38  44\n",
       " 76  46  40  70\n",
       " 45  39  40  46\n",
       " 75  45  46  76\n",
       " 70  40  39  69\n",
       " 76  70  69  75\n",
       " 75  69  39  45\n",
       " 77  47  41  71\n",
       "  ⋮            \n",
       " 82  52  46  76\n",
       " 51  45  46  52\n",
       " 81  51  52  82\n",
       " 76  46  45  75\n",
       " 82  76  75  81\n",
       " 81  75  45  51\n",
       " 83  53  47  77\n",
       " 52  46  47  53\n",
       " 82  52  53  83\n",
       " 77  47  46  76\n",
       " 83  77  76  82\n",
       " 82  76  46  52"
      ]
     },
     "execution_count": 5,
     "metadata": {},
     "output_type": "execute_result"
    }
   ],
   "source": [
    "faces = create_square_faces(data3d, nvoxels, threshold)\n",
    "# get_index(sz, 0,0,0)\n",
    "faces"
   ]
  },
  {
   "cell_type": "markdown",
   "metadata": {},
   "source": [
    "## Double face removal\n"
   ]
  },
  {
   "cell_type": "code",
   "execution_count": 6,
   "metadata": {},
   "outputs": [
    {
     "data": {
      "text/plain": [
       "(\n",
       "[0.0 0.0 0.0; 0.0 0.0 0.8; … ; 2.5 3.6 1.6; 2.5 3.6 2.4],\n",
       "\n",
       "[30 26 46 50; 50 46 66 70; … ; 31 27 26 30; 47 46 26 27])"
      ]
     },
     "execution_count": 6,
     "metadata": {},
     "output_type": "execute_result"
    }
   ],
   "source": [
    "new_verts, new_faces = keep_surface_faces(verts, faces)"
   ]
  },
  {
   "cell_type": "code",
   "execution_count": 7,
   "metadata": {},
   "outputs": [
    {
     "data": {
      "text/plain": [
       "120×3 Array{Float64,2}:\n",
       " 0.0  0.0  0.0\n",
       " 0.0  0.0  0.8\n",
       " 0.0  0.0  1.6\n",
       " 0.0  0.0  2.4\n",
       " 0.0  0.9  0.0\n",
       " 0.0  0.9  0.8\n",
       " 0.0  0.9  1.6\n",
       " 0.0  0.9  2.4\n",
       " 0.0  1.8  0.0\n",
       " 0.0  1.8  0.8\n",
       " 0.0  1.8  1.6\n",
       " 0.0  1.8  2.4\n",
       " 0.0  2.7  0.0\n",
       " ⋮            \n",
       " 2.5  1.8  0.0\n",
       " 2.5  1.8  0.8\n",
       " 2.5  1.8  1.6\n",
       " 2.5  1.8  2.4\n",
       " 2.5  2.7  0.0\n",
       " 2.5  2.7  0.8\n",
       " 2.5  2.7  1.6\n",
       " 2.5  2.7  2.4\n",
       " 2.5  3.6  0.0\n",
       " 2.5  3.6  0.8\n",
       " 2.5  3.6  1.6\n",
       " 2.5  3.6  2.4"
      ]
     },
     "execution_count": 7,
     "metadata": {},
     "output_type": "execute_result"
    }
   ],
   "source": [
    "new_verts"
   ]
  },
  {
   "cell_type": "code",
   "execution_count": 8,
   "metadata": {},
   "outputs": [
    {
     "data": {
      "text/plain": [
       "22×4 Array{Int64,2}:\n",
       " 30  26  46  50\n",
       " 50  46  66  70\n",
       " 87  86  66  67\n",
       " 70  66  86  90\n",
       " 35  31  30  34\n",
       " 75  74  94  95\n",
       " 91  87  67  71\n",
       " 71  67  47  51\n",
       " 95  94  90  91\n",
       " 54  50  70  74\n",
       " 67  66  46  47\n",
       " 51  47  27  31\n",
       " 91  90  86  87\n",
       " 55  54  74  75\n",
       " 74  70  90  94\n",
       " 95  91  71  75\n",
       " 34  30  50  54\n",
       " 55  51  31  35\n",
       " 75  71  51  55\n",
       " 35  34  54  55\n",
       " 31  27  26  30\n",
       " 47  46  26  27"
      ]
     },
     "execution_count": 8,
     "metadata": {},
     "output_type": "execute_result"
    }
   ],
   "source": [
    "verts = new_verts\n",
    "faces = new_faces"
   ]
  },
  {
   "cell_type": "markdown",
   "metadata": {},
   "source": [
    "## Triangulation"
   ]
  },
  {
   "cell_type": "code",
   "execution_count": null,
   "metadata": {
    "collapsed": true
   },
   "outputs": [],
   "source": []
  },
  {
   "cell_type": "code",
   "execution_count": 9,
   "metadata": {},
   "outputs": [
    {
     "data": {
      "text/plain": [
       "44×3 Array{Int64,2}:\n",
       " 30  46  50\n",
       " 30  26  46\n",
       " 50  66  70\n",
       " 50  46  66\n",
       " 87  66  67\n",
       " 87  86  66\n",
       " 70  86  90\n",
       " 70  66  86\n",
       " 35  30  34\n",
       " 35  31  30\n",
       " 75  94  95\n",
       " 75  74  94\n",
       " 91  67  71\n",
       "  ⋮        \n",
       " 34  50  54\n",
       " 34  30  50\n",
       " 55  31  35\n",
       " 55  51  31\n",
       " 75  51  55\n",
       " 75  71  51\n",
       " 35  54  55\n",
       " 35  34  54\n",
       " 31  26  30\n",
       " 31  27  26\n",
       " 47  26  27\n",
       " 47  46  26"
      ]
     },
     "execution_count": 9,
     "metadata": {},
     "output_type": "execute_result"
    }
   ],
   "source": [
    "trifaces = triangulation(faces)"
   ]
  },
  {
   "cell_type": "markdown",
   "metadata": {},
   "source": [
    "## Visualization"
   ]
  },
  {
   "cell_type": "code",
   "execution_count": null,
   "metadata": {},
   "outputs": [],
   "source": []
  },
  {
   "cell_type": "code",
   "execution_count": 10,
   "metadata": {},
   "outputs": [
    {
     "name": "stdout",
     "output_type": "stream",
     "text": [
      "vertex index index higher than voxel number\n",
      "faces min 26, faces max 95, vertex number 120\n",
      "XgeModule::init_started\n",
      "Creating shared GLCanvas...\n",
      "shared GLCanvas created\n",
      "XgeModule::init_finished\n",
      "Evaluating fenvs.py..\n",
      "('...fenvs.py imported in', 0.004686000000000079, 'seconds')\n",
      "centre\n",
      "centre\n",
      "centre\n",
      "Building batches from Hpc....\n",
      "...done in 27 msec\n",
      "Optimizing the octree....\n",
      "   Number of input batches 3487\n",
      "   total number vertices    912\n",
      "   Number of output batches 456\n",
      "   Batch vertex media       2\n",
      "...done in 5 msec\n",
      "Building octree from 456 batches....\n",
      "Scene number of nodes of the octree 644\n",
      "Scene max depth                     4\n",
      "Scene number of batches             456\n",
      "...done in 0 msec\n"
     ]
    }
   ],
   "source": [
    "check_vf(verts, trifaces)\n",
    "visualize_numbers(to_lar(verts, trifaces), 0.5)"
   ]
  },
  {
   "cell_type": "markdown",
   "metadata": {},
   "source": [
    "![hexagon](https://raw.githubusercontent.com/mjirik/lario3d.jl/master/graphics/import3d_no_inner_faces.png)"
   ]
  },
  {
   "cell_type": "code",
   "execution_count": 11,
   "metadata": {},
   "outputs": [
    {
     "data": {
      "text/plain": [
       "2"
      ]
     },
     "execution_count": 11,
     "metadata": {},
     "output_type": "execute_result"
    }
   ],
   "source": []
  }
 ],
 "metadata": {
  "kernelspec": {
   "display_name": "Julia 0.5.2",
   "language": "julia",
   "name": "julia-0.5"
  },
  "language_info": {
   "file_extension": ".jl",
   "mimetype": "application/julia",
   "name": "julia",
   "version": "0.5.2"
  }
 },
 "nbformat": 4,
 "nbformat_minor": 2
}
