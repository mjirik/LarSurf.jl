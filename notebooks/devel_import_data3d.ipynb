{
 "cells": [
  {
   "cell_type": "code",
   "execution_count": 27,
   "metadata": {},
   "outputs": [
    {
     "name": "stderr",
     "output_type": "stream",
     "text": [
      "WARNING: Method definition lar2plasm(Any, Any) in module Main at /home/mjirik/projects/lario3d.jl/src/plasm.jl:2 overwritten at /home/mjirik/projects/lario3d.jl/src/plasm.jl:2.\n",
      "WARNING: Method definition lar2py(Any, Any) in module Main at /home/mjirik/projects/lario3d.jl/src/plasm.jl:39 overwritten at /home/mjirik/projects/lario3d.jl/src/plasm.jl:39.\n",
      "WARNING: Method definition visualize_numbers(Any, Any) in module Main at /home/mjirik/projects/lario3d.jl/src/plasm.jl:57 overwritten at /home/mjirik/projects/lario3d.jl/src/plasm.jl:57.\n",
      "WARNING: Method definition visualize_boundary(Any, Any, Any) in module Main at /home/mjirik/projects/lario3d.jl/src/plasm.jl:71 overwritten at /home/mjirik/projects/lario3d.jl/src/plasm.jl:71.\n",
      "WARNING: Method definition get_obj_metainfo(Any) in module Main at /home/mjirik/projects/lario3d.jl/src/read.jl:4 overwritten at /home/mjirik/projects/lario3d.jl/src/read.jl:4.\n",
      "WARNING: Method definition get_obj_vertices_and_faces(Any, Any, Any) in module Main at /home/mjirik/projects/lario3d.jl/src/read.jl:24 overwritten at /home/mjirik/projects/lario3d.jl/src/read.jl:24.\n",
      "WARNING: Method definition read_obj(Any) in module Main at /home/mjirik/projects/lario3d.jl/src/read.jl:57 overwritten at /home/mjirik/projects/lario3d.jl/src/read.jl:57.\n",
      "WARNING: Method definition remove_double_vertexes_alternative(Any) in module Main at /home/mjirik/projects/lario3d.jl/src/surface.jl:2 overwritten at /home/mjirik/projects/lario3d.jl/src/surface.jl:2.\n",
      "WARNING: Method definition reindexVertexesInFaces(Any, Any) in module Main at /home/mjirik/projects/lario3d.jl/src/surface.jl:46 overwritten at /home/mjirik/projects/lario3d.jl/src/surface.jl:46.\n",
      "WARNING: Method definition reindexVertexesInFaces(Any, Any, Any) in module Main at /home/mjirik/projects/lario3d.jl/src/surface.jl:46 overwritten at /home/mjirik/projects/lario3d.jl/src/surface.jl:46.\n",
      "WARNING: Method definition removeOneOfDoubleFacesByDictAlgoritm(Any) in module Main at /home/mjirik/projects/lario3d.jl/src/surface.jl:62 overwritten at /home/mjirik/projects/lario3d.jl/src/surface.jl:62.\n",
      "WARNING: Method definition removeOneOfDoubleFacesByDictAlgoritm(Any, Any) in module Main at /home/mjirik/projects/lario3d.jl/src/surface.jl:62 overwritten at /home/mjirik/projects/lario3d.jl/src/surface.jl:62.\n",
      "WARNING: Method definition removeDoubleFacesByAlberto(Any) in module Main at /home/mjirik/projects/lario3d.jl/src/surface.jl:83 overwritten at /home/mjirik/projects/lario3d.jl/src/surface.jl:83.\n",
      "WARNING: Method definition removeDoubleFacesByAlberto(Any, Any) in module Main at /home/mjirik/projects/lario3d.jl/src/surface.jl:83 overwritten at /home/mjirik/projects/lario3d.jl/src/surface.jl:83.\n",
      "WARNING: Method definition check_vf(Any, Any) in module Main at /home/mjirik/projects/lario3d.jl/src/representation.jl:4 overwritten at /home/mjirik/projects/lario3d.jl/src/representation.jl:4.\n",
      "WARNING: Method definition check_vf(Any, Any, Any) in module Main at /home/mjirik/projects/lario3d.jl/src/representation.jl:4 overwritten at /home/mjirik/projects/lario3d.jl/src/representation.jl:4.\n",
      "WARNING: Method definition check_vevfe(Any, Any, Any) in module Main at /home/mjirik/projects/lario3d.jl/src/representation.jl:25 overwritten at /home/mjirik/projects/lario3d.jl/src/representation.jl:25.\n",
      "WARNING: Method definition iter_edge(Any, Any, Any) in module Main at /home/mjirik/projects/lario3d.jl/src/representation.jl:74 overwritten at /home/mjirik/projects/lario3d.jl/src/representation.jl:74.\n",
      "WARNING: Method definition EVinv_to_EVinds(Any, Any) in module Main at /home/mjirik/projects/lario3d.jl/src/representation.jl:92 overwritten at /home/mjirik/projects/lario3d.jl/src/representation.jl:92.\n",
      "WARNING: Method definition get_FEinds_and_EVinv(Any) in module Main at /home/mjirik/projects/lario3d.jl/src/representation.jl:105 overwritten at /home/mjirik/projects/lario3d.jl/src/representation.jl:105.\n",
      "WARNING: Method definition get_FEinds_and_EVinv(Any, Any) in module Main at /home/mjirik/projects/lario3d.jl/src/representation.jl:105 overwritten at /home/mjirik/projects/lario3d.jl/src/representation.jl:105.\n",
      "WARNING: Method definition convert_to_FElar(Any, Any, Any, Any) in module Main at /home/mjirik/projects/lario3d.jl/src/representation.jl:142 overwritten at /home/mjirik/projects/lario3d.jl/src/representation.jl:142.\n",
      "WARNING: Method definition get_FEinds_and_EVinds(Any) in module Main at /home/mjirik/projects/lario3d.jl/src/representation.jl:162 overwritten at /home/mjirik/projects/lario3d.jl/src/representation.jl:162.\n",
      "WARNING: Method definition get_FEinds_and_EVinds(Any, Any) in module Main at /home/mjirik/projects/lario3d.jl/src/representation.jl:162 overwritten at /home/mjirik/projects/lario3d.jl/src/representation.jl:162.\n",
      "WARNING: Method definition convert_to_EVlar(Any, Any, Any) in module Main at /home/mjirik/projects/lario3d.jl/src/representation.jl:171 overwritten at /home/mjirik/projects/lario3d.jl/src/representation.jl:171.\n",
      "WARNING: Method definition get_EVlar_FElar(Any, Any) in module Main at /home/mjirik/projects/lario3d.jl/src/representation.jl:183 overwritten at /home/mjirik/projects/lario3d.jl/src/representation.jl:183.\n",
      "WARNING: Method definition to_lar(Any, Any) in module Main at /home/mjirik/projects/lario3d.jl/src/representation.jl:195 overwritten at /home/mjirik/projects/lario3d.jl/src/representation.jl:195.\n",
      "WARNING: Method definition bool2sgn(Any) in module Main at /home/mjirik/projects/lario3d.jl/src/representation.jl:204 overwritten at /home/mjirik/projects/lario3d.jl/src/representation.jl:204.\n",
      "WARNING: Method definition face_orientation(Any) in module Main at /home/mjirik/projects/lario3d.jl/src/representation.jl:214 overwritten at /home/mjirik/projects/lario3d.jl/src/representation.jl:214.\n",
      "WARNING: Method definition import_data3d(Any, Any) in module Main at /home/mjirik/projects/lario3d.jl/src/import3d.jl:2 overwritten at /home/mjirik/projects/lario3d.jl/src/import3d.jl:2.\n",
      "WARNING: Method definition import_data3d(Any, Any, Any) in module Main at /home/mjirik/projects/lario3d.jl/src/import3d.jl:2 overwritten at /home/mjirik/projects/lario3d.jl/src/import3d.jl:2.\n",
      "WARNING: Method definition get_index(Any, Any, Any, Any) in module Main at /home/mjirik/projects/lario3d.jl/src/import3d.jl:15 overwritten at /home/mjirik/projects/lario3d.jl/src/import3d.jl:15.\n",
      "WARNING: Method definition vertices_and_count_voxels_as_the_square_face_preprocessing(Any, Any) in module Main at /home/mjirik/projects/lario3d.jl/src/import3d.jl:20 overwritten at /home/mjirik/projects/lario3d.jl/src/import3d.jl:20.\n",
      "WARNING: Method definition vertices_and_count_voxels_as_the_square_face_preprocessing(Any, Any, Any) in module Main at /home/mjirik/projects/lario3d.jl/src/import3d.jl:20 overwritten at /home/mjirik/projects/lario3d.jl/src/import3d.jl:20.\n",
      "WARNING: Method definition create_square_faces(Any, Any) in module Main at /home/mjirik/projects/lario3d.jl/src/import3d.jl:66 overwritten at /home/mjirik/projects/lario3d.jl/src/import3d.jl:66.\n",
      "WARNING: Method definition create_square_faces(Any, Any, Any) in module Main at /home/mjirik/projects/lario3d.jl/src/import3d.jl:66 overwritten at /home/mjirik/projects/lario3d.jl/src/import3d.jl:66.\n",
      "WARNING: Method definition arrayofarray2arrayd2d(Any) in module Main at /home/mjirik/projects/lario3d.jl/src/import3d.jl:108 overwritten at /home/mjirik/projects/lario3d.jl/src/import3d.jl:108.\n",
      "WARNING: Method definition keep_surface_faces(Any, Any) in module Main at /home/mjirik/projects/lario3d.jl/src/import3d.jl:118 overwritten at /home/mjirik/projects/lario3d.jl/src/import3d.jl:118.\n",
      "WARNING: Method definition keep_surface_faces(Any, Any, Any) in module Main at /home/mjirik/projects/lario3d.jl/src/import3d.jl:118 overwritten at /home/mjirik/projects/lario3d.jl/src/import3d.jl:118.\n",
      "WARNING: Method definition triangulation(Any) in module Main at /home/mjirik/projects/lario3d.jl/src/import3d.jl:134 overwritten at /home/mjirik/projects/lario3d.jl/src/import3d.jl:134.\n"
     ]
    },
    {
     "data": {
      "text/plain": [
       "triangulation (generic function with 1 method)"
      ]
     },
     "execution_count": 27,
     "metadata": {},
     "output_type": "execute_result"
    }
   ],
   "source": [
    "\n",
    "include(\"../src/plasm.jl\")\n",
    "include(\"../src/read.jl\")\n",
    "include(\"../src/surface.jl\")\n",
    "include(\"../src/representation.jl\")\n",
    "include(\"../src/import3d.jl\")\n"
   ]
  },
  {
   "cell_type": "code",
   "execution_count": 28,
   "metadata": {},
   "outputs": [
    {
     "data": {
      "text/plain": [
       "3-element Array{Float64,1}:\n",
       " 0.5\n",
       " 0.9\n",
       " 0.8"
      ]
     },
     "execution_count": 28,
     "metadata": {},
     "output_type": "execute_result"
    }
   ],
   "source": [
    "## Artifical data\n",
    "data3d = zeros(Int16,5,4,3)\n",
    "data3d[2:4,2:3,2] = 10\n",
    "data3d\n",
    "\n",
    "voxelsize_mm = [0.5, 0.9, 0.8]"
   ]
  },
  {
   "cell_type": "code",
   "execution_count": 29,
   "metadata": {},
   "outputs": [
    {
     "name": "stderr",
     "output_type": "stream",
     "text": [
      "WARNING: Method definition thresholding(Any, Any) in module Main at In[16]:4 overwritten at In[29]:4.\n"
     ]
    },
    {
     "data": {
      "text/plain": [
       "thresholding (generic function with 1 method)"
      ]
     },
     "execution_count": 29,
     "metadata": {},
     "output_type": "execute_result"
    }
   ],
   "source": [
    "# useless\n",
    "\n",
    "function thresholding(data3d, threshold)\n",
    "    sz = size(data3d)\n",
    "    segmentation = Array(Int8, size(data3d, 1), size(data3d, 2), size(data3d, 3))\n",
    "    # produce vertexes\n",
    "    for k in 1:sz[3]\n",
    "        for j in 1:sz[2]\n",
    "            for i in 1:sz[1]\n",
    "                if data3d[i, j, k] > 0\n",
    "\n",
    "                    segmentation[i, j, k] = data3d[i, j, k] > threshold\n",
    "    #             if i == 0\n",
    "    #             index = 1 + i + sz[1] * j + sz[1] * sz[2] * k\n",
    "                end\n",
    "\n",
    "            end\n",
    "        end\n",
    "    end\n",
    "    return segmentation\n",
    "end"
   ]
  },
  {
   "cell_type": "code",
   "execution_count": 30,
   "metadata": {},
   "outputs": [
    {
     "data": {
      "text/plain": [
       "0"
      ]
     },
     "execution_count": 30,
     "metadata": {},
     "output_type": "execute_result"
    }
   ],
   "source": [
    "threshold = 0"
   ]
  },
  {
   "cell_type": "markdown",
   "metadata": {},
   "source": [
    "## Get vertices and count the voxels (* 4 = face number)"
   ]
  },
  {
   "cell_type": "code",
   "execution_count": null,
   "metadata": {},
   "outputs": [],
   "source": [
    "\n"
   ]
  },
  {
   "cell_type": "code",
   "execution_count": 31,
   "metadata": {},
   "outputs": [
    {
     "data": {
      "text/plain": [
       "(\n",
       "[0.0 0.0 0.0; 0.5 0.0 0.0; … ; 2.0 3.6 2.4; 2.5 3.6 2.4],\n",
       "\n",
       "6)"
      ]
     },
     "execution_count": 31,
     "metadata": {},
     "output_type": "execute_result"
    }
   ],
   "source": [
    "verts, nvoxels = vertices_and_count_voxels_as_the_square_face_preprocessing(data3d, voxelsize_mm, threshold)\n",
    "# get_index(sz, 0, 0, 1)"
   ]
  },
  {
   "cell_type": "code",
   "execution_count": 32,
   "metadata": {},
   "outputs": [
    {
     "data": {
      "text/plain": [
       "120×3 Array{Float64,2}:\n",
       " 0.0  0.0  0.0\n",
       " 0.5  0.0  0.0\n",
       " 1.0  0.0  0.0\n",
       " 1.5  0.0  0.0\n",
       " 2.0  0.0  0.0\n",
       " 2.5  0.0  0.0\n",
       " 0.0  0.9  0.0\n",
       " 0.5  0.9  0.0\n",
       " 1.0  0.9  0.0\n",
       " 1.5  0.9  0.0\n",
       " 2.0  0.9  0.0\n",
       " 2.5  0.9  0.0\n",
       " 0.0  1.8  0.0\n",
       " ⋮            \n",
       " 0.0  2.7  2.4\n",
       " 0.5  2.7  2.4\n",
       " 1.0  2.7  2.4\n",
       " 1.5  2.7  2.4\n",
       " 2.0  2.7  2.4\n",
       " 2.5  2.7  2.4\n",
       " 0.0  3.6  2.4\n",
       " 0.5  3.6  2.4\n",
       " 1.0  3.6  2.4\n",
       " 1.5  3.6  2.4\n",
       " 2.0  3.6  2.4\n",
       " 2.5  3.6  2.4"
      ]
     },
     "execution_count": 32,
     "metadata": {},
     "output_type": "execute_result"
    }
   ],
   "source": [
    "verts"
   ]
  },
  {
   "cell_type": "markdown",
   "metadata": {},
   "source": [
    "## Create face"
   ]
  },
  {
   "cell_type": "code",
   "execution_count": null,
   "metadata": {
    "collapsed": true
   },
   "outputs": [],
   "source": []
  },
  {
   "cell_type": "code",
   "execution_count": 33,
   "metadata": {},
   "outputs": [
    {
     "data": {
      "text/plain": [
       "36×4 Array{Int64,2}:\n",
       " 75  45  39  69\n",
       " 44  38  39  45\n",
       " 74  44  45  75\n",
       " 69  39  38  68\n",
       " 75  69  68  74\n",
       " 74  68  38  44\n",
       " 76  46  40  70\n",
       " 45  39  40  46\n",
       " 75  45  46  76\n",
       " 70  40  39  69\n",
       " 76  70  69  75\n",
       " 75  69  39  45\n",
       " 77  47  41  71\n",
       "  ⋮            \n",
       " 82  52  46  76\n",
       " 51  45  46  52\n",
       " 81  51  52  82\n",
       " 76  46  45  75\n",
       " 82  76  75  81\n",
       " 81  75  45  51\n",
       " 83  53  47  77\n",
       " 52  46  47  53\n",
       " 82  52  53  83\n",
       " 77  47  46  76\n",
       " 83  77  76  82\n",
       " 82  76  46  52"
      ]
     },
     "execution_count": 33,
     "metadata": {},
     "output_type": "execute_result"
    }
   ],
   "source": [
    "faces = create_square_faces(data3d, nvoxels, threshold)\n",
    "# get_index(sz, 0,0,0)\n",
    "faces"
   ]
  },
  {
   "cell_type": "markdown",
   "metadata": {},
   "source": [
    "## Double face removal\n",
    "\n",
    "TODO"
   ]
  },
  {
   "cell_type": "code",
   "execution_count": 34,
   "metadata": {},
   "outputs": [
    {
     "name": "stdout",
     "output_type": "stream",
     "text": [
      "step1\n",
      "step2\n",
      "step3\n",
      "Removed face [9,28][51 50 46 47; 30 26 46 50; 31 30 50 51; 47 46 26 27; 51 47 27 31; 31 27 26 30; 71 70 66 67; 50 46 66 70; 51 50 70 71; 67 66 46 47; 71 67 47 51; 51 47 46 50; 91 90 86 87; 70 66 86 90; 71 70 90 91; 87 86 66 67; 91 87 67 71; 71 67 66 70; 55 54 50 51; 34 30 50 54; 35 34 54 55; 51 50 30 31; 55 51 31 35; 35 31 30 34; 75 74 70 71; 54 50 70 74; 55 54 74 75; 71 70 50 51; 75 71 51 55; 55 51 50 54; 95 94 90 91; 74 70 90 94; 75 74 94 95; 91 90 70 71; 95 91 71 75; 75 71 70 74]9\n",
      "Removed face [1,12][51 50 46 47; 30 26 46 50; 31 30 50 51; 47 46 26 27; 51 47 27 31; 31 27 26 30; 71 70 66 67; 50 46 66 70; 51 50 70 71; 67 66 46 47; 71 67 47 51; 51 47 46 50; 91 90 86 87; 70 66 86 90; 71 70 90 91; 87 86 66 67; 91 87 67 71; 71 67 66 70; 55 54 50 51; 34 30 50 54; 35 34 54 55; 51 50 30 31; 55 51 31 35; 35 31 30 34; 75 74 70 71; 54 50 70 74; 55 54 74 75; 71 70 50 51; 75 71 51 55; 55 51 50 54; 95 94 90 91; 74 70 90 94; 75 74 94 95; 91 90 70 71; 95 91 71 75; 75 71 70 74]1\n",
      "Removed face [25,36][51 50 46 47; 30 26 46 50; 31 30 50 51; 47 46 26 27; 51 47 27 31; 31 27 26 30; 71 70 66 67; 50 46 66 70; 51 50 70 71; 67 66 46 47; 71 67 47 51; 51 47 46 50; 91 90 86 87; 70 66 86 90; 71 70 90 91; 87 86 66 67; 91 87 67 71; 71 67 66 70; 55 54 50 51; 34 30 50 54; 35 34 54 55; 51 50 30 31; 55 51 31 35; 35 31 30 34; 75 74 70 71; 54 50 70 74; 55 54 74 75; 71 70 50 51; 75 71 51 55; 55 51 50 54; 95 94 90 91; 74 70 90 94; 75 74 94 95; 91 90 70 71; 95 91 71 75; 75 71 70 74]25\n",
      "Removed face [3,22][51 50 46 47; 30 26 46 50; 31 30 50 51; 47 46 26 27; 51 47 27 31; 31 27 26 30; 71 70 66 67; 50 46 66 70; 51 50 70 71; 67 66 46 47; 71 67 47 51; 51 47 46 50; 91 90 86 87; 70 66 86 90; 71 70 90 91; 87 86 66 67; 91 87 67 71; 71 67 66 70; 55 54 50 51; 34 30 50 54; 35 34 54 55; 51 50 30 31; 55 51 31 35; 35 31 30 34; 75 74 70 71; 54 50 70 74; 55 54 74 75; 71 70 50 51; 75 71 51 55; 55 51 50 54; 95 94 90 91; 74 70 90 94; 75 74 94 95; 91 90 70 71; 95 91 71 75; 75 71 70 74]3\n",
      "Removed face [19,30][51 50 46 47; 30 26 46 50; 31 30 50 51; 47 46 26 27; 51 47 27 31; 31 27 26 30; 71 70 66 67; 50 46 66 70; 51 50 70 71; 67 66 46 47; 71 67 47 51; 51 47 46 50; 91 90 86 87; 70 66 86 90; 71 70 90 91; 87 86 66 67; 91 87 67 71; 71 67 66 70; 55 54 50 51; 34 30 50 54; 35 34 54 55; 51 50 30 31; 55 51 31 35; 35 31 30 34; 75 74 70 71; 54 50 70 74; 55 54 74 75; 71 70 50 51; 75 71 51 55; 55 51 50 54; 95 94 90 91; 74 70 90 94; 75 74 94 95; 91 90 70 71; 95 91 71 75; 75 71 70 74]19\n",
      "Removed face [7,18][51 50 46 47; 30 26 46 50; 31 30 50 51; 47 46 26 27; 51 47 27 31; 31 27 26 30; 71 70 66 67; 50 46 66 70; 51 50 70 71; 67 66 46 47; 71 67 47 51; 51 47 46 50; 91 90 86 87; 70 66 86 90; 71 70 90 91; 87 86 66 67; 91 87 67 71; 71 67 66 70; 55 54 50 51; 34 30 50 54; 35 34 54 55; 51 50 30 31; 55 51 31 35; 35 31 30 34; 75 74 70 71; 54 50 70 74; 55 54 74 75; 71 70 50 51; 75 71 51 55; 55 51 50 54; 95 94 90 91; 74 70 90 94; 75 74 94 95; 91 90 70 71; 95 91 71 75; 75 71 70 74]7\n",
      "Removed face [15,34][51 50 46 47; 30 26 46 50; 31 30 50 51; 47 46 26 27; 51 47 27 31; 31 27 26 30; 71 70 66 67; 50 46 66 70; 51 50 70 71; 67 66 46 47; 71 67 47 51; 51 47 46 50; 91 90 86 87; 70 66 86 90; 71 70 90 91; 87 86 66 67; 91 87 67 71; 71 67 66 70; 55 54 50 51; 34 30 50 54; 35 34 54 55; 51 50 30 31; 55 51 31 35; 35 31 30 34; 75 74 70 71; 54 50 70 74; 55 54 74 75; 71 70 50 51; 75 71 51 55; 55 51 50 54; 95 94 90 91; 74 70 90 94; 75 74 94 95; 91 90 70 71; 95 91 71 75; 75 71 70 74]15\n",
      "step1\n",
      "step2\n"
     ]
    },
    {
     "data": {
      "text/plain": [
       "(\n",
       "[0.0 0.0 0.0; 0.0 0.0 0.8; … ; 2.5 3.6 1.6; 2.5 3.6 2.4],\n",
       "\n",
       "[30 26 46 50; 50 46 66 70; … ; 31 27 26 30; 47 46 26 27])"
      ]
     },
     "execution_count": 34,
     "metadata": {},
     "output_type": "execute_result"
    }
   ],
   "source": [
    "new_verts, new_faces = keep_surface_faces(verts, faces)"
   ]
  },
  {
   "cell_type": "code",
   "execution_count": 35,
   "metadata": {},
   "outputs": [
    {
     "data": {
      "text/plain": [
       "120×3 Array{Float64,2}:\n",
       " 0.0  0.0  0.0\n",
       " 0.0  0.0  0.8\n",
       " 0.0  0.0  1.6\n",
       " 0.0  0.0  2.4\n",
       " 0.0  0.9  0.0\n",
       " 0.0  0.9  0.8\n",
       " 0.0  0.9  1.6\n",
       " 0.0  0.9  2.4\n",
       " 0.0  1.8  0.0\n",
       " 0.0  1.8  0.8\n",
       " 0.0  1.8  1.6\n",
       " 0.0  1.8  2.4\n",
       " 0.0  2.7  0.0\n",
       " ⋮            \n",
       " 2.5  1.8  0.0\n",
       " 2.5  1.8  0.8\n",
       " 2.5  1.8  1.6\n",
       " 2.5  1.8  2.4\n",
       " 2.5  2.7  0.0\n",
       " 2.5  2.7  0.8\n",
       " 2.5  2.7  1.6\n",
       " 2.5  2.7  2.4\n",
       " 2.5  3.6  0.0\n",
       " 2.5  3.6  0.8\n",
       " 2.5  3.6  1.6\n",
       " 2.5  3.6  2.4"
      ]
     },
     "execution_count": 35,
     "metadata": {},
     "output_type": "execute_result"
    }
   ],
   "source": [
    "new_verts"
   ]
  },
  {
   "cell_type": "code",
   "execution_count": 36,
   "metadata": {},
   "outputs": [
    {
     "data": {
      "text/plain": [
       "22×4 Array{Int64,2}:\n",
       " 30  26  46  50\n",
       " 50  46  66  70\n",
       " 87  86  66  67\n",
       " 70  66  86  90\n",
       " 35  31  30  34\n",
       " 75  74  94  95\n",
       " 91  87  67  71\n",
       " 71  67  47  51\n",
       " 95  94  90  91\n",
       " 54  50  70  74\n",
       " 67  66  46  47\n",
       " 51  47  27  31\n",
       " 91  90  86  87\n",
       " 55  54  74  75\n",
       " 74  70  90  94\n",
       " 95  91  71  75\n",
       " 34  30  50  54\n",
       " 55  51  31  35\n",
       " 75  71  51  55\n",
       " 35  34  54  55\n",
       " 31  27  26  30\n",
       " 47  46  26  27"
      ]
     },
     "execution_count": 36,
     "metadata": {},
     "output_type": "execute_result"
    }
   ],
   "source": [
    "verts = new_verts\n",
    "faces = new_faces"
   ]
  },
  {
   "cell_type": "markdown",
   "metadata": {},
   "source": [
    "## Triangulation"
   ]
  },
  {
   "cell_type": "code",
   "execution_count": null,
   "metadata": {
    "collapsed": true
   },
   "outputs": [],
   "source": []
  },
  {
   "cell_type": "code",
   "execution_count": 37,
   "metadata": {},
   "outputs": [
    {
     "data": {
      "text/plain": [
       "44×3 Array{Int64,2}:\n",
       " 30  46  50\n",
       " 30  26  46\n",
       " 50  66  70\n",
       " 50  46  66\n",
       " 87  66  67\n",
       " 87  86  66\n",
       " 70  86  90\n",
       " 70  66  86\n",
       " 35  30  34\n",
       " 35  31  30\n",
       " 75  94  95\n",
       " 75  74  94\n",
       " 91  67  71\n",
       "  ⋮        \n",
       " 34  50  54\n",
       " 34  30  50\n",
       " 55  31  35\n",
       " 55  51  31\n",
       " 75  51  55\n",
       " 75  71  51\n",
       " 35  54  55\n",
       " 35  34  54\n",
       " 31  26  30\n",
       " 31  27  26\n",
       " 47  26  27\n",
       " 47  46  26"
      ]
     },
     "execution_count": 37,
     "metadata": {},
     "output_type": "execute_result"
    }
   ],
   "source": [
    "trifaces = triangulation(faces)"
   ]
  },
  {
   "cell_type": "markdown",
   "metadata": {},
   "source": [
    "## Visualization"
   ]
  },
  {
   "cell_type": "code",
   "execution_count": null,
   "metadata": {
    "collapsed": true
   },
   "outputs": [],
   "source": []
  },
  {
   "cell_type": "code",
   "execution_count": 40,
   "metadata": {},
   "outputs": [
    {
     "name": "stdout",
     "output_type": "stream",
     "text": [
      "vertex index index higher than voxel number\n",
      "faces min 26, faces max 95, vertex number 120\n",
      "30\n",
      "46\n",
      "50\n",
      "50\n",
      "66\n",
      "66\n",
      "70\n",
      "70\n",
      "30\n",
      "30\n",
      "75\n",
      "94\n",
      "67\n",
      "87\n",
      "47\n",
      "71\n",
      "90\n",
      "95\n",
      "54\n",
      "50\n",
      "47\n",
      "66\n",
      "27\n",
      "51\n",
      "86\n",
      "90\n",
      "74\n",
      "54\n",
      "94\n",
      "70\n",
      "75\n",
      "91\n",
      "50\n",
      "30\n",
      "31\n",
      "51\n",
      "55\n",
      "71\n",
      "54\n",
      "35\n",
      "26\n",
      "31\n",
      "27\n",
      "46\n",
      "XgeModule::init_started\n",
      "Creating shared GLCanvas...\n",
      "shared GLCanvas created\n",
      "XgeModule::init_finished\n",
      "Evaluating fenvs.py..\n",
      "('...fenvs.py imported in', 0.00541999999999998, 'seconds')\n",
      "centre\n",
      "centre\n",
      "centre\n",
      "Building batches from Hpc....\n",
      "...done in 30 msec\n",
      "Optimizing the octree....\n",
      "   Number of input batches 3487\n",
      "   total number vertices    912\n",
      "   Number of output batches 456\n",
      "   Batch vertex media       2\n",
      "...done in 6 msec\n",
      "Building octree from 456 batches....\n",
      "Scene number of nodes of the octree 644\n",
      "Scene max depth                     4\n",
      "Scene number of batches             456\n",
      "...done in 0 msec\n"
     ]
    }
   ],
   "source": [
    "check_vf(verts, trifaces)\n",
    "visualize_numbers(to_lar(verts, trifaces), 0.5)"
   ]
  },
  {
   "cell_type": "markdown",
   "metadata": {},
   "source": [
    "![hexagon](https://raw.githubusercontent.com/mjirik/lario3d.jl/master/graphics/hexagon_lario3djl.png)"
   ]
  },
  {
   "cell_type": "code",
   "execution_count": 39,
   "metadata": {},
   "outputs": [
    {
     "data": {
      "text/plain": [
       "2"
      ]
     },
     "execution_count": 39,
     "metadata": {},
     "output_type": "execute_result"
    }
   ],
   "source": [
    "uuu = [1,2]\n",
    "size(uuu,1)"
   ]
  }
 ],
 "metadata": {
  "kernelspec": {
   "display_name": "Julia 0.5.2",
   "language": "julia",
   "name": "julia-0.5"
  },
  "language_info": {
   "file_extension": ".jl",
   "mimetype": "application/julia",
   "name": "julia",
   "version": "0.5.2"
  }
 },
 "nbformat": 4,
 "nbformat_minor": 2
}
