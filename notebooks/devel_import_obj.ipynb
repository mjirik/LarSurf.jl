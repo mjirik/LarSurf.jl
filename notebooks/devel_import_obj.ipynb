{
 "cells": [
  {
   "cell_type": "markdown",
   "metadata": {},
   "source": [
    "Goal of this script is to obtain \n",
    "vertex, edge, face \n",
    "\n",
    "\n",
    "V, EV"
   ]
  },
  {
   "cell_type": "code",
   "execution_count": 1,
   "metadata": {},
   "outputs": [
    {
     "data": {
      "text/plain": [
       "\"/home/mjirik/projects/lario3d.jl/notebooks\""
      ]
     },
     "execution_count": 1,
     "metadata": {},
     "output_type": "execute_result"
    }
   ],
   "source": [
    "pwd()\n"
   ]
  },
  {
   "cell_type": "markdown",
   "metadata": {},
   "source": [
    "# Read obj file"
   ]
  },
  {
   "cell_type": "code",
   "execution_count": 2,
   "metadata": {
    "collapsed": true
   },
   "outputs": [],
   "source": [
    "\n",
    "f = open(\"../test/smallbb2.obj\");\n",
    "lines = readlines(f)\n",
    "\n",
    "nvertices = 0\n",
    "nfaces = 0\n",
    "for line in lines\n",
    "    if line[1] == 'v'\n",
    "        nvertices = nvertices + 1\n",
    "    elseif line[1] == 'f'\n",
    "        nfaces = nfaces + 1\n",
    "    end\n",
    "end\n",
    "    \n"
   ]
  },
  {
   "cell_type": "code",
   "execution_count": 3,
   "metadata": {},
   "outputs": [
    {
     "name": "stdout",
     "output_type": "stream",
     "text": [
      "i = CartesianIndex{2}((1,1))\n",
      "i = CartesianIndex{2}((2,1))\n",
      "i = CartesianIndex{2}((3,1))\n",
      "i = CartesianIndex{2}((1,2))\n",
      "i = CartesianIndex{2}((2,2))\n",
      "i = CartesianIndex{2}((3,2))\n"
     ]
    }
   ],
   "source": [
    "A = rand(4,3);\n",
    "\n",
    "B = view(A, 1:3, 1:2);\n",
    "\n",
    "for i in eachindex(B)\n",
    "   @show i\n",
    "end\n"
   ]
  },
  {
   "cell_type": "code",
   "execution_count": 4,
   "metadata": {},
   "outputs": [
    {
     "data": {
      "text/plain": [
       "0.6509027158104062"
      ]
     },
     "execution_count": 4,
     "metadata": {},
     "output_type": "execute_result"
    }
   ],
   "source": [
    "B[1,2]"
   ]
  },
  {
   "cell_type": "code",
   "execution_count": 5,
   "metadata": {},
   "outputs": [
    {
     "name": "stdout",
     "output_type": "stream",
     "text": [
      "(1193,3)"
     ]
    }
   ],
   "source": [
    "\n",
    "vertices = Array(Float64, nvertices + 1, 3)\n",
    "faces = Array(Int64, nfaces + 1 , 3)\n",
    "print(size(vertices))\n",
    "ivertices = 1\n",
    "ifaces = 1\n",
    "\n",
    "for line in lines\n",
    "    lsplit = split(line)\n",
    "    if line[1] == 'v'\n",
    "        for i=2:4\n",
    "            vertices[ivertices, i - 1] = parse(Float64, lsplit[i])\n",
    "        end\n",
    "        ivertices = nvertices + 1\n",
    "    elseif line[1] == 'f'\n",
    "        for i=2:4\n",
    "            faces[ifaces, i - 1] = parse(Int64, lsplit[i])\n",
    "        end\n",
    "        ifaces = ifaces + 1\n",
    "    end\n",
    "end\n"
   ]
  },
  {
   "cell_type": "markdown",
   "metadata": {},
   "source": [
    "# Check Julia"
   ]
  },
  {
   "cell_type": "code",
   "execution_count": 6,
   "metadata": {},
   "outputs": [
    {
     "data": {
      "text/plain": [
       "Dict{String,Int64} with 4 entries:\n",
       "  \"f\" => 13\n",
       "  \"c\" => 3\n",
       "  \"b\" => 2\n",
       "  \"a\" => 1"
      ]
     },
     "execution_count": 6,
     "metadata": {},
     "output_type": "execute_result"
    }
   ],
   "source": [
    "dcta = Dict(\"a\" => 1, \"b\" => 2, \"c\" => 3)\n",
    "dcta[\"f\"] = 13\n",
    "dcta"
   ]
  },
  {
   "cell_type": "code",
   "execution_count": 7,
   "metadata": {},
   "outputs": [
    {
     "data": {
      "text/plain": [
       "4-element Array{Tuple{Int64,Int64,Vararg{Any,N}},1}:\n",
       " (1,5)        \n",
       " (15,18)      \n",
       " (17,16,\"asd\")\n",
       " (18,1,1)     "
      ]
     },
     "execution_count": 7,
     "metadata": {},
     "output_type": "execute_result"
    }
   ],
   "source": [
    "(1 , 5)\n",
    "\n",
    "\n",
    "A = [(1,5), (15,18), (17,16,\"asd\"), (18,1,1)]"
   ]
  },
  {
   "cell_type": "code",
   "execution_count": 8,
   "metadata": {},
   "outputs": [
    {
     "data": {
      "text/plain": [
       "2-element Array{Int64,1}:\n",
       "  9\n",
       " 10"
      ]
     },
     "execution_count": 8,
     "metadata": {},
     "output_type": "execute_result"
    }
   ],
   "source": [
    "i = 3\n",
    "sort([faces[i, 1],  faces[i, 2]])"
   ]
  },
  {
   "cell_type": "markdown",
   "metadata": {},
   "source": [
    "## Edges"
   ]
  },
  {
   "cell_type": "code",
   "execution_count": 9,
   "metadata": {},
   "outputs": [
    {
     "data": {
      "text/plain": [
       "Set(Any[[1158,1160],[394,396],[97,98],[329,332],[1050,1052],[922,924],[553,556],[1,4],[341,342],[349,350]  …  [830,832],[1041,1044],[153,154],[21,24],[361,362],[577,580],[305,308],[1005,1008],[61,64],[478,480]])"
      ]
     },
     "execution_count": 9,
     "metadata": {},
     "output_type": "execute_result"
    }
   ],
   "source": [
    "Eset = Set()\n",
    "\n",
    "for i = 1:nfaces\n",
    "    \n",
    "    push!(Eset, sort([faces[i, 1], faces[i, 2]]))\n",
    "    push!(Eset, sort([faces[i, 2], faces[i, 3]]))\n",
    "    push!(Eset, sort([faces[i, 3], faces[i, 1]]))\n",
    "    \n",
    "end\n",
    "\n",
    "Eset\n"
   ]
  },
  {
   "cell_type": "code",
   "execution_count": 10,
   "metadata": {},
   "outputs": [
    {
     "data": {
      "text/plain": [
       "894-element Array{Any,1}:\n",
       " [1158,1160]\n",
       " [394,396]  \n",
       " [97,98]    \n",
       " [329,332]  \n",
       " [1050,1052]\n",
       " [922,924]  \n",
       " [553,556]  \n",
       " [1,4]      \n",
       " [341,342]  \n",
       " [349,350]  \n",
       " [509,510]  \n",
       " [334,336]  \n",
       " [977,980]  \n",
       " ⋮          \n",
       " [369,370]  \n",
       " [870,872]  \n",
       " [830,832]  \n",
       " [1041,1044]\n",
       " [153,154]  \n",
       " [21,24]    \n",
       " [361,362]  \n",
       " [577,580]  \n",
       " [305,308]  \n",
       " [1005,1008]\n",
       " [61,64]    \n",
       " [478,480]  "
      ]
     },
     "execution_count": 10,
     "metadata": {},
     "output_type": "execute_result"
    }
   ],
   "source": [
    "E = collect(Eset)"
   ]
  },
  {
   "cell_type": "markdown",
   "metadata": {},
   "source": [
    "## Construct EV"
   ]
  },
  {
   "cell_type": "code",
   "execution_count": 11,
   "metadata": {},
   "outputs": [
    {
     "data": {
      "text/plain": [
       "894"
      ]
     },
     "execution_count": 11,
     "metadata": {},
     "output_type": "execute_result"
    }
   ],
   "source": [
    "nedges = size(E, 1)"
   ]
  },
  {
   "cell_type": "code",
   "execution_count": 12,
   "metadata": {},
   "outputs": [
    {
     "data": {
      "text/plain": [
       "895×1193 sparse matrix with 1788 Int8 nonzero entries:\n",
       "\t[8   ,    1]  =  1\n",
       "\t[144 ,    1]  =  1\n",
       "\t[144 ,    2]  =  1\n",
       "\t[163 ,    2]  =  1\n",
       "\t[8   ,    4]  =  1\n",
       "\t[163 ,    4]  =  1\n",
       "\t[383 ,    5]  =  1\n",
       "\t[857 ,    5]  =  1\n",
       "\t[452 ,    6]  =  1\n",
       "\t[857 ,    6]  =  1\n",
       "\t⋮\n",
       "\t[860 , 1185]  =  1\n",
       "\t[37  , 1186]  =  1\n",
       "\t[677 , 1186]  =  1\n",
       "\t[677 , 1188]  =  1\n",
       "\t[860 , 1188]  =  1\n",
       "\t[429 , 1189]  =  1\n",
       "\t[532 , 1189]  =  1\n",
       "\t[532 , 1190]  =  1\n",
       "\t[726 , 1190]  =  1\n",
       "\t[429 , 1192]  =  1\n",
       "\t[726 , 1192]  =  1"
      ]
     },
     "execution_count": 12,
     "metadata": {},
     "output_type": "execute_result"
    }
   ],
   "source": [
    "FV = spzeros(Int8, nfaces, nvertices)\n",
    "\n",
    "EV = spzeros(Int8, nedges + 1 , nvertices + 1)\n",
    "\n",
    "for i = 1:nedges\n",
    "    EV[i, E[i][1]] = 1\n",
    "    EV[i, E[i][2]] = 1\n",
    "end\n",
    "\n",
    "EV\n"
   ]
  },
  {
   "cell_type": "markdown",
   "metadata": {},
   "source": [
    "# Visualization using LAR and Plasm"
   ]
  },
  {
   "cell_type": "code",
   "execution_count": 13,
   "metadata": {},
   "outputs": [
    {
     "data": {
      "text/plain": [
       "4×3 Array{Int64,2}:\n",
       " 0  0  0\n",
       " 1  0  0\n",
       " 0  1  0\n",
       " 0  0  1"
      ]
     },
     "execution_count": 13,
     "metadata": {},
     "output_type": "execute_result"
    }
   ],
   "source": [
    "V = [\n",
    "    0 0 0\n",
    "    1 0 0\n",
    "    0 1 0\n",
    "    0 0 1\n",
    "    ]"
   ]
  },
  {
   "cell_type": "code",
   "execution_count": 14,
   "metadata": {},
   "outputs": [
    {
     "data": {
      "text/plain": [
       "3×4 Array{Int64,2}:\n",
       "  1  -1   0  0\n",
       "  0   1  -1  0\n",
       " -1   0   1  0"
      ]
     },
     "execution_count": 14,
     "metadata": {},
     "output_type": "execute_result"
    }
   ],
   "source": [
    "EV = [\n",
    "    1 -1 0 0\n",
    "    0 1 -1 0\n",
    "    -1 0 1 0\n",
    "]"
   ]
  },
  {
   "cell_type": "code",
   "execution_count": 15,
   "metadata": {},
   "outputs": [
    {
     "data": {
      "text/plain": [
       "3-element Array{Int64,1}:\n",
       " 1\n",
       " 1\n",
       " 1"
      ]
     },
     "execution_count": 15,
     "metadata": {},
     "output_type": "execute_result"
    }
   ],
   "source": [
    "FE = [\n",
    "    1\n",
    "    1 \n",
    "    1\n",
    "]"
   ]
  },
  {
   "cell_type": "code",
   "execution_count": 16,
   "metadata": {},
   "outputs": [
    {
     "ename": "LoadError",
     "evalue": "type Array has no field nzind",
     "output_type": "error",
     "traceback": [
      "type Array has no field nzind",
      "",
      " in lar2py(::Array{Int64,2}, ::Array{Int64,2}) at /home/mjirik/projects/lario3d.jl/src/plasm.jl:48",
      " in visualize_numbers(::Array{AbstractArray{T,2},1}, ::Int64) at /home/mjirik/projects/lario3d.jl/src/plasm.jl:59",
      " in include_string(::String, ::String) at ./loading.jl:441"
     ]
    },
    {
     "name": "stderr",
     "output_type": "stream",
     "text": [
      "warning: parsing line table prologue at 0x0000e1c8 should have ended at 0x0000e52f but it ended at 0x0000e284\n",
      "warning: parsing line table prologue at 0x00003c27 should have ended at 0x00003ffc but it ended at 0x00003ce3\n",
      "warning: parsing line table prologue at 0x000086e2 should have ended at 0x00008ae4 but it ended at 0x000087ef\n",
      "warning: parsing line table prologue at 0x0001357a should have ended at 0x0001390c but it ended at 0x00013636\n",
      "warning: parsing line table prologue at 0x0000a9c0 should have ended at 0x0000ace8 but it ended at 0x0000aa7c\n",
      "warning: parsing line table prologue at 0x0001cd5c should have ended at 0x0001d0f0 but it ended at 0x0001ce25\n",
      "warning: parsing line table prologue at 0x0000b3cc should have ended at 0x0000b734 but it ended at 0x0000b488\n",
      "warning: parsing line table prologue at 0x00007565 should have ended at 0x00007914 but it ended at 0x00007621\n"
     ]
    }
   ],
   "source": [
    "include(\"../src/plasm.jl\")"
   ]
  },
  {
   "cell_type": "code",
   "execution_count": 17,
   "metadata": {},
   "outputs": [
    {
     "ename": "LoadError",
     "evalue": "UndefVarError: set not defined",
     "output_type": "error",
     "traceback": [
      "UndefVarError: set not defined",
      "",
      " in include_string(::String, ::String) at ./loading.jl:441"
     ]
    }
   ],
   "source": [
    "set(\"asdf\",\"sdf\")"
   ]
  }
 ],
 "metadata": {
  "kernelspec": {
   "display_name": "Julia 0.5.2",
   "language": "julia",
   "name": "julia-0.5"
  },
  "language_info": {
   "file_extension": ".jl",
   "mimetype": "application/julia",
   "name": "julia",
   "version": "0.5.2"
  }
 },
 "nbformat": 4,
 "nbformat_minor": 2
}
