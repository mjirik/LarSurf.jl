{
 "cells": [
  {
   "cell_type": "markdown",
   "metadata": {},
   "source": [
    "Goal of this script is to obtain \n",
    "vertex, edge, face \n",
    "\n",
    "\n",
    "V, EV"
   ]
  },
  {
   "cell_type": "code",
   "execution_count": 1,
   "metadata": {},
   "outputs": [
    {
     "data": {
      "text/plain": [
       "\"/home/mjirik/projects/lario3d.jl/notebooks\""
      ]
     },
     "execution_count": 1,
     "metadata": {},
     "output_type": "execute_result"
    }
   ],
   "source": [
    "pwd()\n"
   ]
  },
  {
   "cell_type": "markdown",
   "metadata": {},
   "source": [
    "# Read obj file"
   ]
  },
  {
   "cell_type": "code",
   "execution_count": 2,
   "metadata": {
    "collapsed": true
   },
   "outputs": [],
   "source": [
    "\n",
    "f = open(\"../test/smallbb2.obj\");\n",
    "lines = readlines(f)\n",
    "\n",
    "nvertices = 0\n",
    "nfaces = 0\n",
    "for line in lines\n",
    "    if line[1] == 'v'\n",
    "        nvertices = nvertices + 1\n",
    "    elseif line[1] == 'f'\n",
    "        nfaces = nfaces + 1\n",
    "    end\n",
    "end\n",
    "    \n"
   ]
  },
  {
   "cell_type": "code",
   "execution_count": 3,
   "metadata": {},
   "outputs": [
    {
     "name": "stdout",
     "output_type": "stream",
     "text": [
      "(1192,3)"
     ]
    }
   ],
   "source": [
    "\n",
    "vertices = Array(Float64, nvertices , 3)\n",
    "faces = Array(Int64, nfaces, 3)\n",
    "print(size(vertices))\n",
    "ivertices = 1\n",
    "ifaces = 1\n",
    "\n",
    "for line in lines\n",
    "    lsplit = split(line)\n",
    "    if line[1] == 'v'\n",
    "        for i=2:4\n",
    "            vertices[ivertices, i - 1] = parse(Float64, lsplit[i])\n",
    "        end\n",
    "#         print(vertices[ivertices,:])\n",
    "#         println(line)\n",
    "#         println(vertices[1:10,:])\n",
    "        \n",
    "        ivertices = ivertices + 1\n",
    "    elseif line[1] == 'f'\n",
    "        for i=2:4\n",
    "            faces[ifaces, i - 1] = parse(Int64, lsplit[i])\n",
    "        end\n",
    "        ifaces = ifaces + 1\n",
    "    else\n",
    "        println(\"Cannot parse: \", line)\n",
    "    end\n",
    "end\n"
   ]
  },
  {
   "cell_type": "markdown",
   "metadata": {},
   "source": [
    "# Check Julia"
   ]
  },
  {
   "cell_type": "code",
   "execution_count": 4,
   "metadata": {},
   "outputs": [
    {
     "name": "stdout",
     "output_type": "stream",
     "text": [
      "i = CartesianIndex{2}((1,1))\n",
      "i = CartesianIndex{2}((2,1))\n",
      "i = CartesianIndex{2}((3,1))\n",
      "i = CartesianIndex{2}((1,2))\n",
      "i = CartesianIndex{2}((2,2))\n",
      "i = CartesianIndex{2}((3,2))\n"
     ]
    }
   ],
   "source": [
    "A = rand(4,3);\n",
    "\n",
    "B = view(A, 1:3, 1:2);\n",
    "\n",
    "for i in eachindex(B)\n",
    "   @show i\n",
    "end\n"
   ]
  },
  {
   "cell_type": "code",
   "execution_count": 5,
   "metadata": {},
   "outputs": [
    {
     "data": {
      "text/plain": [
       "Dict{String,Int64} with 4 entries:\n",
       "  \"f\" => 13\n",
       "  \"c\" => 3\n",
       "  \"b\" => 2\n",
       "  \"a\" => 1"
      ]
     },
     "execution_count": 5,
     "metadata": {},
     "output_type": "execute_result"
    }
   ],
   "source": [
    "dcta = Dict(\"a\" => 1, \"b\" => 2, \"c\" => 3)\n",
    "dcta[\"f\"] = 13\n",
    "dcta"
   ]
  },
  {
   "cell_type": "code",
   "execution_count": 6,
   "metadata": {},
   "outputs": [
    {
     "data": {
      "text/plain": [
       "4-element Array{Tuple{Int64,Int64,Vararg{Any,N}},1}:\n",
       " (1,5)        \n",
       " (15,18)      \n",
       " (17,16,\"asd\")\n",
       " (18,1,1)     "
      ]
     },
     "execution_count": 6,
     "metadata": {},
     "output_type": "execute_result"
    }
   ],
   "source": [
    "(1 , 5)\n",
    "\n",
    "\n",
    "A = [(1,5), (15,18), (17,16,\"asd\"), (18,1,1)]"
   ]
  },
  {
   "cell_type": "code",
   "execution_count": 7,
   "metadata": {},
   "outputs": [
    {
     "data": {
      "text/plain": [
       "2-element Array{Int64,1}:\n",
       "  9\n",
       " 10"
      ]
     },
     "execution_count": 7,
     "metadata": {},
     "output_type": "execute_result"
    }
   ],
   "source": [
    "i = 3\n",
    "sort([faces[i, 1],  faces[i, 2]])"
   ]
  },
  {
   "cell_type": "markdown",
   "metadata": {},
   "source": [
    "## Vertices"
   ]
  },
  {
   "cell_type": "code",
   "execution_count": 8,
   "metadata": {},
   "outputs": [
    {
     "data": {
      "text/plain": [
       "1192×3 Array{Float64,2}:\n",
       " 1.0  2.0  1.0\n",
       " 2.0  2.0  1.0\n",
       " 1.0  3.0  1.0\n",
       " 2.0  3.0  1.0\n",
       " 1.0  2.0  1.0\n",
       " 2.0  2.0  1.0\n",
       " 1.0  2.0  2.0\n",
       " 2.0  2.0  2.0\n",
       " 1.0  2.0  1.0\n",
       " 1.0  3.0  1.0\n",
       " 1.0  2.0  2.0\n",
       " 1.0  3.0  2.0\n",
       " 2.0  2.0  1.0\n",
       " ⋮            \n",
       " 4.0  6.0  5.0\n",
       " 5.0  6.0  5.0\n",
       " 4.0  6.0  6.0\n",
       " 5.0  6.0  6.0\n",
       " 4.0  4.0  6.0\n",
       " 5.0  4.0  6.0\n",
       " 4.0  5.0  6.0\n",
       " 5.0  5.0  6.0\n",
       " 4.0  5.0  6.0\n",
       " 5.0  5.0  6.0\n",
       " 4.0  6.0  6.0\n",
       " 5.0  6.0  6.0"
      ]
     },
     "execution_count": 8,
     "metadata": {},
     "output_type": "execute_result"
    }
   ],
   "source": [
    "V = vertices"
   ]
  },
  {
   "cell_type": "markdown",
   "metadata": {},
   "source": [
    "## Edges"
   ]
  },
  {
   "cell_type": "code",
   "execution_count": 9,
   "metadata": {},
   "outputs": [
    {
     "data": {
      "text/plain": [
       "894-element Array{Any,1}:\n",
       " [1,2]      \n",
       " [2,4]      \n",
       " [1,4]      \n",
       " [5,6]      \n",
       " [6,8]      \n",
       " [5,8]      \n",
       " [9,10]     \n",
       " [10,12]    \n",
       " [9,12]     \n",
       " [13,14]    \n",
       " [14,16]    \n",
       " [13,16]    \n",
       " [17,18]    \n",
       " ⋮          \n",
       " [1177,1178]\n",
       " [1178,1180]\n",
       " [1177,1180]\n",
       " [1181,1182]\n",
       " [1182,1184]\n",
       " [1181,1184]\n",
       " [1185,1186]\n",
       " [1186,1188]\n",
       " [1185,1188]\n",
       " [1189,1190]\n",
       " [1190,1192]\n",
       " [1189,1192]"
      ]
     },
     "execution_count": 9,
     "metadata": {},
     "output_type": "execute_result"
    }
   ],
   "source": [
    "# Eset = Set()\n",
    "Epl = []\n",
    "EVpl = []\n",
    "FEpl = Array(Int64, nfaces, 3)\n",
    "\n",
    "for i = 1:nfaces\n",
    "    \n",
    "    push!(EVpl, sort([faces[i, 1], faces[i, 2]]))\n",
    "    push!(EVpl, sort([faces[i, 2], faces[i, 3]]))\n",
    "    push!(EVpl, sort([faces[i, 3], faces[i, 1]]))\n",
    "    \n",
    "    FEpl[i, :] = [(i-1)*3 + 1, (i-1)*3 + 2,(i-1)*3 + 3]\n",
    "    \n",
    "end\n",
    "\n",
    "EVpl\n",
    "# Epl = EVpl\n"
   ]
  },
  {
   "cell_type": "markdown",
   "metadata": {},
   "source": [
    "## FElar"
   ]
  },
  {
   "cell_type": "code",
   "execution_count": 10,
   "metadata": {
    "collapsed": true
   },
   "outputs": [],
   "source": [
    "# nzind2sparse(nzind)\n",
    "\n",
    "FElar = spzeros(nfaces, (3*(nfaces)))\n",
    "for i = 1:nfaces\n",
    "    FElar[i, (i-1)*3 + 1] = 1\n",
    "    FElar[i, (i-1)*3 + 2] = 1\n",
    "    FElar[i, (i-1)*3 + 3] = 1\n",
    "end\n"
   ]
  },
  {
   "cell_type": "code",
   "execution_count": 11,
   "metadata": {},
   "outputs": [
    {
     "data": {
      "text/plain": [
       "298×3 Array{Int64,2}:\n",
       "   1    2    3\n",
       "   4    5    6\n",
       "   7    8    9\n",
       "  10   11   12\n",
       "  13   14   15\n",
       "  16   17   18\n",
       "  19   20   21\n",
       "  22   23   24\n",
       "  25   26   27\n",
       "  28   29   30\n",
       "  31   32   33\n",
       "  34   35   36\n",
       "  37   38   39\n",
       "   ⋮          \n",
       " 859  860  861\n",
       " 862  863  864\n",
       " 865  866  867\n",
       " 868  869  870\n",
       " 871  872  873\n",
       " 874  875  876\n",
       " 877  878  879\n",
       " 880  881  882\n",
       " 883  884  885\n",
       " 886  887  888\n",
       " 889  890  891\n",
       " 892  893  894"
      ]
     },
     "execution_count": 11,
     "metadata": {},
     "output_type": "execute_result"
    }
   ],
   "source": [
    "FEpl"
   ]
  },
  {
   "cell_type": "code",
   "execution_count": 12,
   "metadata": {
    "collapsed": true
   },
   "outputs": [],
   "source": [
    "# EVpl = collect(Eset)"
   ]
  },
  {
   "cell_type": "code",
   "execution_count": 13,
   "metadata": {},
   "outputs": [
    {
     "data": {
      "text/plain": [
       "arrayofarray2arrayd2d (generic function with 1 method)"
      ]
     },
     "execution_count": 13,
     "metadata": {},
     "output_type": "execute_result"
    }
   ],
   "source": [
    "function arrayofarray2arrayd2d(d)\n",
    "    data = Array(Float64,length(d),length(d[1]))\n",
    "    for i in 1:length(d)\n",
    "        for j in 1:length(d[1])\n",
    "            data[i,j] = d[i][j]\n",
    "        end\n",
    "    end\n",
    "    return data\n",
    "end"
   ]
  },
  {
   "cell_type": "markdown",
   "metadata": {},
   "source": [
    "## Clean vertexes"
   ]
  },
  {
   "cell_type": "code",
   "execution_count": 14,
   "metadata": {},
   "outputs": [
    {
     "data": {
      "text/plain": [
       "3-element Array{Tuple{Int64,Int64},1}:\n",
       " (1,4)\n",
       " (2,5)\n",
       " (3,6)"
      ]
     },
     "execution_count": 14,
     "metadata": {},
     "output_type": "execute_result"
    }
   ],
   "source": [
    "oo = collect(zip([1,2,3],[4,5,6]))"
   ]
  },
  {
   "cell_type": "code",
   "execution_count": 15,
   "metadata": {},
   "outputs": [
    {
     "data": {
      "text/plain": [
       "3-element Array{Tuple{Int64,Int64},1}:\n",
       " (10,1)\n",
       " (2,2) \n",
       " (3,3) "
      ]
     },
     "execution_count": 15,
     "metadata": {},
     "output_type": "execute_result"
    }
   ],
   "source": [
    "collect(zip([10,2,3], range(1,3)))"
   ]
  },
  {
   "cell_type": "code",
   "execution_count": 16,
   "metadata": {},
   "outputs": [
    {
     "data": {
      "text/plain": [
       "3-element Array{Tuple{Int64,Int64},1}:\n",
       " (2,2) \n",
       " (3,3) \n",
       " (10,1)"
      ]
     },
     "execution_count": 16,
     "metadata": {},
     "output_type": "execute_result"
    }
   ],
   "source": [
    "sort(collect(zip([10,2,3], range(1,3))))"
   ]
  },
  {
   "cell_type": "code",
   "execution_count": 17,
   "metadata": {},
   "outputs": [
    {
     "data": {
      "text/plain": [
       "conv2array_of_float_arrays (generic function with 1 method)"
      ]
     },
     "execution_count": 17,
     "metadata": {},
     "output_type": "execute_result"
    }
   ],
   "source": [
    "\n",
    "function conv2array_of_float_arrays(array2d)\n",
    "\n",
    "    test_vertex_float = float(array2d)\n",
    "\n",
    "    list_of_vertexes = Array[]\n",
    "    for i in 1:size(test_vertex_float, 1)\n",
    "        push!(list_of_vertexes, test_vertex_float[i,:])\n",
    "    end\n",
    "    return list_of_vertexes\n",
    "end\n",
    "    "
   ]
  },
  {
   "cell_type": "code",
   "execution_count": 18,
   "metadata": {},
   "outputs": [
    {
     "data": {
      "text/plain": [
       "remove_double_vertexes_alternative (generic function with 1 method)"
      ]
     },
     "execution_count": 18,
     "metadata": {},
     "output_type": "execute_result"
    }
   ],
   "source": [
    "function remove_double_vertexes_alternative(V)\n",
    "    \"\"\" Return reduced vertex list wiht search table.\n",
    "    \n",
    "    Alternativte removing of doublefaces. Hopefully more memory efficient\n",
    "    \"\"\"\n",
    "    X = range(1, size(V,1))\n",
    "    # Vs = [v for (v, x) in VIsorted]\n",
    "    # Is = [x for (v, x) in VIsorted]\n",
    "    Vs = []\n",
    "#     Is = [0]*size(V, 1)\n",
    "#     Is = zeros( Int64, size(test_vertex, 1))\n",
    "    \n",
    "    Is = Dict()\n",
    "\n",
    "    prevv = nothing\n",
    "    i = 1\n",
    "    sorted_vertex_id_x = sortperm(collect(zip(test_vertex[:,1], test_vertex[:,2])))\n",
    "               sortperm(collect(zip(test_vertex[:,1], test_vertex[:,2])))\n",
    "#     for couple in sort(collect(zip(X, conv2array_of_float_arrays(V))))\n",
    "    for x in sorted_vertex_id_x\n",
    "        v = V[x,:]\n",
    "#         x = \n",
    "#         x, v = couple\n",
    "        println(v, prevv, v.==prevv)\n",
    "        if v == prevv\n",
    "            # prev index was increased\n",
    "            Is[x] = i - 1\n",
    "        else\n",
    "            push!(Vs, v)\n",
    "            Is[x] = i\n",
    "            i = i + 1\n",
    "            prevv = v\n",
    "        end\n",
    "    end\n",
    "    \n",
    "    vertex_reduced_list = Vs\n",
    "    vertex_search_table = Is\n",
    "    return vertex_reduced_list, vertex_search_table\n",
    "end"
   ]
  },
  {
   "cell_type": "code",
   "execution_count": 19,
   "metadata": {},
   "outputs": [],
   "source": [
    "\n",
    "# sortperm(collect(zip(test_vertex[:,1], test_vertex[:,2])))"
   ]
  },
  {
   "cell_type": "code",
   "execution_count": null,
   "metadata": {
    "collapsed": true
   },
   "outputs": [],
   "source": []
  },
  {
   "cell_type": "code",
   "execution_count": 20,
   "metadata": {},
   "outputs": [
    {
     "ename": "LoadError",
     "evalue": "UndefVarError: test_vertex not defined",
     "output_type": "error",
     "traceback": [
      "UndefVarError: test_vertex not defined",
      "",
      " in include_string(::String, ::String) at ./loading.jl:441"
     ]
    }
   ],
   "source": [
    "vtfl = conv2array_of_float_arrays(test_vertex)\n",
    "vtfl"
   ]
  },
  {
   "cell_type": "code",
   "execution_count": 21,
   "metadata": {},
   "outputs": [
    {
     "name": "stderr",
     "output_type": "stream",
     "text": [
      "warning: parsing line table prologue at 0x0000e1c8 should have ended at 0x0000e52f but it ended at 0x0000e284\n",
      "warning: parsing line table prologue at 0x00003c27 should have ended at 0x00003ffc but it ended at 0x00003ce3\n",
      "warning: parsing line table prologue at 0x000086e2 should have ended at 0x00008ae4 but it ended at 0x000087ef\n",
      "warning: parsing line table prologue at 0x0001357a should have ended at 0x0001390c but it ended at 0x00013636\n",
      "warning: parsing line table prologue at 0x0000a9c0 should have ended at 0x0000ace8 but it ended at 0x0000aa7c\n",
      "warning: parsing line table prologue at 0x0001cd5c should have ended at 0x0001d0f0 but it ended at 0x0001ce25\n",
      "warning: parsing line table prologue at 0x00007565 should have ended at 0x00007914 but it ended at 0x00007621\n"
     ]
    },
    {
     "data": {
      "text/plain": [
       "true"
      ]
     },
     "execution_count": 21,
     "metadata": {},
     "output_type": "execute_result"
    }
   ],
   "source": [
    "[1 2 3 4] == [1 2 3 4]"
   ]
  },
  {
   "cell_type": "code",
   "execution_count": 22,
   "metadata": {},
   "outputs": [
    {
     "name": "stdout",
     "output_type": "stream",
     "text": [
      "Dict{Any,Any}(Pair{Any,Any}(\"aho\",5),Pair{Any,Any}(\"ahoi\",7))"
     ]
    }
   ],
   "source": [
    "dctd = Dict()\n",
    "dctd[\"aho\"] = 5\n",
    "dctd[\"ahoi\"] = 7\n",
    "\n",
    "print(dctd)\n"
   ]
  },
  {
   "cell_type": "code",
   "execution_count": 23,
   "metadata": {},
   "outputs": [
    {
     "data": {
      "text/plain": [
       "3-element Array{Int64,1}:\n",
       " 3\n",
       " 2\n",
       " 1"
      ]
     },
     "execution_count": 23,
     "metadata": {},
     "output_type": "execute_result"
    }
   ],
   "source": [
    "sortperm([(6, 2), (2, 6), (1, 3)])"
   ]
  },
  {
   "cell_type": "markdown",
   "metadata": {},
   "source": [
    "## Construct EVlar\n"
   ]
  },
  {
   "cell_type": "code",
   "execution_count": 24,
   "metadata": {},
   "outputs": [
    {
     "data": {
      "text/plain": [
       "894"
      ]
     },
     "execution_count": 24,
     "metadata": {},
     "output_type": "execute_result"
    }
   ],
   "source": [
    "nedges = size(EVpl, 1)"
   ]
  },
  {
   "cell_type": "code",
   "execution_count": 25,
   "metadata": {},
   "outputs": [
    {
     "data": {
      "text/plain": [
       "894×1192 sparse matrix with 1788 Int8 nonzero entries:\n",
       "\t[1   ,    1]  =  1\n",
       "\t[3   ,    1]  =  1\n",
       "\t[1   ,    2]  =  -1\n",
       "\t[2   ,    2]  =  1\n",
       "\t[2   ,    4]  =  -1\n",
       "\t[3   ,    4]  =  -1\n",
       "\t[4   ,    5]  =  1\n",
       "\t[6   ,    5]  =  1\n",
       "\t[4   ,    6]  =  -1\n",
       "\t[5   ,    6]  =  1\n",
       "\t⋮\n",
       "\t[891 , 1185]  =  1\n",
       "\t[889 , 1186]  =  -1\n",
       "\t[890 , 1186]  =  1\n",
       "\t[890 , 1188]  =  -1\n",
       "\t[891 , 1188]  =  -1\n",
       "\t[892 , 1189]  =  1\n",
       "\t[894 , 1189]  =  1\n",
       "\t[892 , 1190]  =  -1\n",
       "\t[893 , 1190]  =  1\n",
       "\t[893 , 1192]  =  -1\n",
       "\t[894 , 1192]  =  -1"
      ]
     },
     "execution_count": 25,
     "metadata": {},
     "output_type": "execute_result"
    }
   ],
   "source": [
    "\n",
    "EVlar = spzeros(Int8, nedges , nvertices )\n",
    "\n",
    "for i = 1:nedges\n",
    "    EVlar[i, EVpl[i][1]] = 1\n",
    "    EVlar[i, EVpl[i][2]] = -1\n",
    "end\n",
    "\n",
    "EVlar\n"
   ]
  },
  {
   "cell_type": "code",
   "execution_count": 26,
   "metadata": {},
   "outputs": [
    {
     "data": {
      "text/plain": [
       "2×2 Array{Int64,2}:\n",
       " 1  1\n",
       " 2  2"
      ]
     },
     "execution_count": 26,
     "metadata": {},
     "output_type": "execute_result"
    }
   ],
   "source": [
    "u = [1 1; 2 2]"
   ]
  },
  {
   "cell_type": "markdown",
   "metadata": {},
   "source": [
    "# FE"
   ]
  },
  {
   "cell_type": "code",
   "execution_count": 27,
   "metadata": {},
   "outputs": [
    {
     "data": {
      "text/plain": [
       "2"
      ]
     },
     "execution_count": 27,
     "metadata": {},
     "output_type": "execute_result"
    }
   ],
   "source": [
    "faces[1,2]"
   ]
  },
  {
   "cell_type": "code",
   "execution_count": 28,
   "metadata": {},
   "outputs": [],
   "source": [
    "\n",
    "FE = spzeros(Int8, nfaces, nvertices)\n",
    "for i = 1:nfaces\n",
    "    FE[i, faces[i, 1]] = 1\n",
    "    FE[i, faces[i, 2]] = 1\n",
    "    FE[i, faces[i, 3]] = 1\n",
    "end"
   ]
  },
  {
   "cell_type": "code",
   "execution_count": 29,
   "metadata": {},
   "outputs": [
    {
     "data": {
      "text/plain": [
       "0.0"
      ]
     },
     "execution_count": 29,
     "metadata": {},
     "output_type": "execute_result"
    }
   ],
   "source": [
    "vertices[7,:]\n",
    "minimum(vertices)"
   ]
  },
  {
   "cell_type": "code",
   "execution_count": 30,
   "metadata": {},
   "outputs": [
    {
     "data": {
      "text/plain": [
       "visualize_boundary (generic function with 1 method)"
      ]
     },
     "execution_count": 30,
     "metadata": {},
     "output_type": "execute_result"
    }
   ],
   "source": [
    "\n",
    "include(\"../src/plasm.jl\")"
   ]
  },
  {
   "cell_type": "code",
   "execution_count": 47,
   "metadata": {},
   "outputs": [
    {
     "name": "stdout",
     "output_type": "stream",
     "text": [
      "1\n",
      "ve while[1,2][1]2\n",
      "\t[1   ,    1]  =  1\n",
      "\t[3   ,    1]  =  1\n",
      "\t[1   ,    2]  =  -1\n",
      "\t[2   ,    2]  =  1\n",
      "\t[2   ,    4]  =  -1\n",
      "\t[3   ,    4]  =  -1\n",
      "wh 1\n",
      "wh 2[2]\n",
      "wh 3\n",
      "wh 5\n",
      "ve while[2,3][1,2]4\n",
      "\t[1   ,    1]  =  1\n",
      "\t[3   ,    1]  =  1\n",
      "\t[1   ,    2]  =  -1\n",
      "\t[2   ,    2]  =  1\n",
      "\t[2   ,    4]  =  -1\n",
      "\t[3   ,    4]  =  -1\n",
      "wh 1\n",
      "wh 2[3]\n",
      "wh 3\n",
      "wh 5\n",
      "ve while[2,3][1,2,3]4\n",
      "\t[1   ,    1]  =  1\n",
      "\t[3   ,    1]  =  1\n",
      "\t[1   ,    2]  =  -1\n",
      "\t[2   ,    2]  =  1\n",
      "\t[2   ,    4]  =  -1\n",
      "\t[3   ,    4]  =  -1\n",
      "wh 1\n",
      "wh 2Int64[]\n"
     ]
    },
    {
     "ename": "LoadError",
     "evalue": "BoundsError: attempt to access 0-element Array{Int64,1} at index [1]",
     "output_type": "error",
     "traceback": [
      "BoundsError: attempt to access 0-element Array{Int64,1} at index [1]",
      "",
      " in lar2plasm(::SparseMatrixCSC{Int8,Int64}, ::SparseMatrixCSC{Float64,Int64}) at ./In[32]:27",
      " in visualize_numbers(::Array{AbstractArray{T,2},1}, ::Int64) at ./In[32]:69",
      " in include_string(::String, ::String) at ./loading.jl:441"
     ]
    }
   ],
   "source": [
    "\n",
    "visualize_numbers([vertices, EVlar, FElar], 2)"
   ]
  },
  {
   "cell_type": "markdown",
   "metadata": {},
   "source": [
    "# Debug version of visualize_numbers"
   ]
  },
  {
   "cell_type": "code",
   "execution_count": 55,
   "metadata": {},
   "outputs": [
    {
     "name": "stderr",
     "output_type": "stream",
     "text": [
      "WARNING: Method definition lar2plasm(Any, Any) in module Main at In[54]:2 overwritten at In[55]:2.\n",
      "WARNING: Method definition lar2py(Any, Any) in module Main at In[54]:46 overwritten at In[55]:46.\n",
      "WARNING: Method definition visualize_numbers(Any, Any) in module Main at In[54]:63 overwritten at In[55]:63.\n",
      "WARNING: Method definition visualize_boundary(Any, Any, Any) in module Main at In[54]:83 overwritten at In[55]:83.\n"
     ]
    },
    {
     "data": {
      "text/plain": [
       "visualize_boundary (generic function with 1 method)"
      ]
     },
     "execution_count": 55,
     "metadata": {},
     "output_type": "execute_result"
    }
   ],
   "source": [
    "function lar2plasm(EV, FE)\n",
    "    EV = sparse(EV)\n",
    "    faces = Array{Array{Int64, 1}, 1}()\n",
    "\n",
    "    for f in 1:size(FE, 1)\n",
    "\n",
    "        verts = Array{Int64, 1}()\n",
    "        done = Array{Int64, 1}()\n",
    "        face = FE[f, :]\n",
    "        edges = EV[face.nzind, :]\n",
    "\n",
    "        push!(done, 1)\n",
    "        vs = edges[1, :].nzind\n",
    "        if face.nzval[1] < 0\n",
    "            vs = vs[end:-1:1]\n",
    "        end\n",
    "        startv, nextv = vs\n",
    "\n",
    "        println(\"startv \", startv)\n",
    "        push!(verts, startv)\n",
    "        while nextv != startv\n",
    "            println(\"ve while\", edges[:, nextv].nzind, done, nextv, edges)\n",
    "            ednz = edges[:, nextv].nzind\n",
    "            println(\"wh 1\")\n",
    "            eall = setdiff(ednz, done)\n",
    "            println(\"wh 2\", eall)\n",
    "            e = eall[1]\n",
    "            println(\"wh 3\")\n",
    "            push!(done, e)\n",
    "            vs = edges[e, :].nzind\n",
    "            if face.nzval[e] < 0\n",
    "                vs = vs[end:-1:1]\n",
    "            end\n",
    "            curv, nextv = vs\n",
    "            push!(verts, curv)\n",
    "            println(\"wh 5 \", nextv)\n",
    "        end\n",
    "\n",
    "        push!(faces, verts)\n",
    "    end\n",
    "\n",
    "    \"FV = \" * string(faces)[15:end]\n",
    "end\n",
    "\n",
    "function lar2py(V, EV)\n",
    "    text = \"V = [[0,0]\"\n",
    "    for i in 1:size(V, 1)\n",
    "        text = text * \",\" * string(vec(V[i, :]))\n",
    "    end\n",
    "    text = text * \"]\\n\"\n",
    "    \n",
    "    text = text * \"EV = [\"\n",
    "    for i in 1:size(EV, 1)\n",
    "        if i > 1 text = text * \",\" end\n",
    "        text = text * string(EV[i, :].nzind)\n",
    "    end\n",
    "    text = text * \"]\"\n",
    "    return text\n",
    "end\n",
    "\n",
    "\n",
    "function visualize_numbers(set, font_size)\n",
    "    \"\"\"\n",
    "    seg = [V, EV, FE]\n",
    "    \"\"\"\n",
    "\n",
    "    f = open(\"tmp.py\", \"w\")\n",
    "\n",
    "    file_content = \"from larlib import *\\n\" *\n",
    "        lar2py(set[1], set[2]) * \"\\n\" *\n",
    "        lar2plasm(set[2], set[3]) * \"\\n\" *\n",
    "        \"VV = AA(LIST)(range(len(V)))\\n\" *\n",
    "        \"submodel = STRUCT(MKPOLS((V,EV)))\\n\" *\n",
    "        \"VIEW(larModelNumbering(1,1,1)(V,[VV,EV,FV],submodel,$font_size))\\n\"\n",
    "    print(file_content)\n",
    "    write(f, file_content)\n",
    "\n",
    "    close(f)\n",
    "#     run(`python tmp.py`)\n",
    "end\n",
    "\n",
    "function visualize_boundary(set, boundary, font_size)\n",
    "    f = open(\"tmp.py\", \"w\")\n",
    "    file_content =  \"from larlib import *\\n\" *\n",
    "        lar2py(set[1], set[2]) * \"\\n\" *\n",
    "        lar2plasm(set[2], set[3]) * \"\\n\" *\n",
    "        \"VV = AA(LIST)(range(len(V)))\\n\" *\n",
    "        \"submodel = STRUCT(MKPOLS((V,EV)))\\n\" *\n",
    "        \"model = larModelNumbering(1,1,1)(V,[VV,EV,FV],submodel,$font_size)\\n\" *\n",
    "        lar2py(set[1], set[2][boundary.nzind, :]) * \"\\n\" *\n",
    "        \"overmodel = STRUCT(MKPOLS((V,EV)))\\n\" *\n",
    "        \"VIEW(STRUCT([model, COLOR(RED)(overmodel)]))\"\n",
    "    print(file_content)\n",
    "    write(f, file_content)\n",
    "\n",
    "    close(f)\n",
    "    run(`python tmp.py`)\n",
    "end"
   ]
  },
  {
   "cell_type": "code",
   "execution_count": 56,
   "metadata": {},
   "outputs": [
    {
     "name": "stdout",
     "output_type": "stream",
     "text": [
      "startv 1\n",
      "ve while[1,2][1]2\n",
      "\t[1, 1]  =  1\n",
      "\t[3, 1]  =  -1\n",
      "\t[1, 2]  =  -1\n",
      "\t[2, 2]  =  1\n",
      "\t[2, 3]  =  -1\n",
      "\t[3, 3]  =  1\n",
      "wh 1\n",
      "wh 2[2]\n",
      "wh 3\n",
      "wh 5 3\n",
      "ve while[2,3][1,2]3\n",
      "\t[1, 1]  =  1\n",
      "\t[3, 1]  =  -1\n",
      "\t[1, 2]  =  -1\n",
      "\t[2, 2]  =  1\n",
      "\t[2, 3]  =  -1\n",
      "\t[3, 3]  =  1\n",
      "wh 1\n",
      "wh 2[3]\n",
      "wh 3\n",
      "wh 5 1\n",
      "startv 2\n",
      "ve while[1,3][1]1\n",
      "\t[1, 1]  =  1\n",
      "\t[3, 1]  =  -1\n",
      "\t[1, 2]  =  -1\n",
      "\t[2, 2]  =  1\n",
      "\t[2, 3]  =  -1\n",
      "\t[3, 3]  =  1\n",
      "wh 1\n",
      "wh 2[3]\n",
      "wh 3\n",
      "wh 5 3\n",
      "ve while[2,3][1,3]3\n",
      "\t[1, 1]  =  1\n",
      "\t[3, 1]  =  -1\n",
      "\t[1, 2]  =  -1\n",
      "\t[2, 2]  =  1\n",
      "\t[2, 3]  =  -1\n",
      "\t[3, 3]  =  1\n",
      "wh 1\n",
      "wh 2[2]\n",
      "wh 3\n",
      "wh 5 2\n",
      "from larlib import *\n",
      "V = [[0,0],[1,1],[2,1],[1,2],[2,2]]\n",
      "EV = [[1,2],[2,3],[1,3]]\n",
      "FV = [[1,2,3],[2,1,3]]\n",
      "VV = AA(LIST)(range(len(V)))\n",
      "submodel = STRUCT(MKPOLS((V,EV)))\n",
      "VIEW(larModelNumbering(1,1,1)(V,[VV,EV,FV],submodel,2))\n"
     ]
    }
   ],
   "source": [
    "test_V = [\n",
    "    1 1\n",
    "    2 1\n",
    "    1 2\n",
    "    2 2\n",
    "    ]\n",
    "test_EV = sparse([\n",
    "    1 -1 0 0\n",
    "    0 1 -1 0\n",
    "    -1 0 1 0\n",
    "])\n",
    "test_FE = sparse([\n",
    "        1 1 -1\n",
    "        -1 -1 1\n",
    "])\n",
    "visualize_numbers([test_V, test_EV, test_FE], 2)"
   ]
  },
  {
   "cell_type": "code",
   "execution_count": 33,
   "metadata": {},
   "outputs": [
    {
     "data": {
      "text/plain": [
       "printarr (generic function with 1 method)"
      ]
     },
     "execution_count": 33,
     "metadata": {},
     "output_type": "execute_result"
    }
   ],
   "source": [
    "function printarr(arr)\n",
    "    print(size(arr), typeof(arr), \" sparse: \", issparse(arr),\", min: \",  minimum(arr), \", max: \",  maximum(arr))\n",
    "end"
   ]
  },
  {
   "cell_type": "code",
   "execution_count": 34,
   "metadata": {},
   "outputs": [
    {
     "data": {
      "text/plain": [
       "1192"
      ]
     },
     "execution_count": 34,
     "metadata": {},
     "output_type": "execute_result"
    }
   ],
   "source": [
    "nvertices"
   ]
  },
  {
   "cell_type": "code",
   "execution_count": 35,
   "metadata": {},
   "outputs": [
    {
     "data": {
      "text/plain": [
       "298"
      ]
     },
     "execution_count": 35,
     "metadata": {},
     "output_type": "execute_result"
    }
   ],
   "source": [
    "nfaces"
   ]
  },
  {
   "cell_type": "code",
   "execution_count": 36,
   "metadata": {},
   "outputs": [
    {
     "name": "stdout",
     "output_type": "stream",
     "text": [
      "(1192,3)Array{Float64,2} sparse: false, min: 0.0, max: 6.0"
     ]
    }
   ],
   "source": [
    "printarr(vertices)"
   ]
  },
  {
   "cell_type": "code",
   "execution_count": 45,
   "metadata": {},
   "outputs": [
    {
     "name": "stdout",
     "output_type": "stream",
     "text": [
      "(894,1192)SparseMatrixCSC{Int8,Int64} sparse: true, min: -1, max: 1"
     ]
    }
   ],
   "source": [
    "printarr(EVlar)\n",
    "# EVlar.nzind"
   ]
  },
  {
   "cell_type": "code",
   "execution_count": null,
   "metadata": {
    "collapsed": true
   },
   "outputs": [],
   "source": []
  },
  {
   "cell_type": "code",
   "execution_count": 46,
   "metadata": {},
   "outputs": [
    {
     "name": "stdout",
     "output_type": "stream",
     "text": [
      "(298,894)SparseMatrixCSC{Float64,Int64} sparse: true, min: 0.0, max: 1.0"
     ]
    }
   ],
   "source": [
    "printarr(FElar)"
   ]
  },
  {
   "cell_type": "code",
   "execution_count": 57,
   "metadata": {},
   "outputs": [
    {
     "name": "stdout",
     "output_type": "stream",
     "text": [
      "startv 1\n",
      "ve while[1,2][1]2\n",
      "\t[1   ,    1]  =  1\n",
      "\t[3   ,    1]  =  1\n",
      "\t[1   ,    2]  =  -1\n",
      "\t[2   ,    2]  =  1\n",
      "\t[2   ,    4]  =  -1\n",
      "\t[3   ,    4]  =  -1\n",
      "wh 1\n",
      "wh 2[2]\n",
      "wh 3\n",
      "wh 5 4\n",
      "ve while[2,3][1,2]4\n",
      "\t[1   ,    1]  =  1\n",
      "\t[3   ,    1]  =  1\n",
      "\t[1   ,    2]  =  -1\n",
      "\t[2   ,    2]  =  1\n",
      "\t[2   ,    4]  =  -1\n",
      "\t[3   ,    4]  =  -1\n",
      "wh 1\n",
      "wh 2[3]\n",
      "wh 3\n",
      "wh 5 4\n",
      "ve while[2,3][1,2,3]4\n",
      "\t[1   ,    1]  =  1\n",
      "\t[3   ,    1]  =  1\n",
      "\t[1   ,    2]  =  -1\n",
      "\t[2   ,    2]  =  1\n",
      "\t[2   ,    4]  =  -1\n",
      "\t[3   ,    4]  =  -1\n",
      "wh 1\n",
      "wh 2Int64[]\n"
     ]
    },
    {
     "ename": "LoadError",
     "evalue": "BoundsError: attempt to access 0-element Array{Int64,1} at index [1]",
     "output_type": "error",
     "traceback": [
      "BoundsError: attempt to access 0-element Array{Int64,1} at index [1]",
      "",
      " in lar2plasm(::SparseMatrixCSC{Int8,Int64}, ::SparseMatrixCSC{Float64,Int64}) at ./In[55]:27",
      " in visualize_numbers(::Array{AbstractArray{T,2},1}, ::Int64) at ./In[55]:69",
      " in include_string(::String, ::String) at ./loading.jl:441"
     ]
    }
   ],
   "source": [
    "\n",
    "visualize_numbers([vertices, EVlar, FElar], 2)"
   ]
  },
  {
   "cell_type": "code",
   "execution_count": 40,
   "metadata": {},
   "outputs": [
    {
     "data": {
      "text/plain": [
       "0-element Array{Int64,1}"
      ]
     },
     "execution_count": 40,
     "metadata": {},
     "output_type": "execute_result"
    }
   ],
   "source": [
    "setdiff([2,3],[1,2,3])"
   ]
  },
  {
   "cell_type": "code",
   "execution_count": 41,
   "metadata": {},
   "outputs": [
    {
     "name": "stdout",
     "output_type": "stream",
     "text": [
      "1\n",
      "ve while[1,2][1]2\n",
      "\t[1, 1]  =  1\n",
      "\t[3, 1]  =  -1\n",
      "\t[1, 2]  =  -1\n",
      "\t[2, 2]  =  1\n",
      "\t[2, 3]  =  -1\n",
      "\t[3, 3]  =  1\n",
      "wh 1\n",
      "wh 2[2]\n",
      "wh 3\n",
      "wh 5\n",
      "ve while[2,3][1,2]3\n",
      "\t[1, 1]  =  1\n",
      "\t[3, 1]  =  -1\n",
      "\t[1, 2]  =  -1\n",
      "\t[2, 2]  =  1\n",
      "\t[2, 3]  =  -1\n",
      "\t[3, 3]  =  1\n",
      "wh 1\n",
      "wh 2[3]\n",
      "wh 3\n",
      "wh 5\n",
      "2\n",
      "ve while[1,3][1]1\n",
      "\t[1, 1]  =  1\n",
      "\t[3, 1]  =  -1\n",
      "\t[1, 2]  =  -1\n",
      "\t[2, 2]  =  1\n",
      "\t[2, 3]  =  -1\n",
      "\t[3, 3]  =  1\n",
      "wh 1\n",
      "wh 2[3]\n",
      "wh 3\n",
      "wh 5\n",
      "ve while[2,3][1,3]3\n",
      "\t[1, 1]  =  1\n",
      "\t[3, 1]  =  -1\n",
      "\t[1, 2]  =  -1\n",
      "\t[2, 2]  =  1\n",
      "\t[2, 3]  =  -1\n",
      "\t[3, 3]  =  1\n",
      "wh 1\n",
      "wh 2[2]\n",
      "wh 3\n",
      "wh 5\n",
      "from larlib import *\n",
      "V = [[0,0],[1,1],[2,1],[1,2],[2,2]]\n",
      "EV = [[1,2],[2,3],[1,3]]\n",
      "FV = [[1,2,3],[2,1,3]]\n",
      "VV = AA(LIST)(range(len(V)))\n",
      "submodel = STRUCT(MKPOLS((V,EV)))\n",
      "VIEW(larModelNumbering(1,1,1)(V,[VV,EV,FV],submodel,2))\n"
     ]
    }
   ],
   "source": [
    "V = [\n",
    "    1 1\n",
    "    2 1\n",
    "    1 2\n",
    "    2 2\n",
    "    ]\n",
    "EV = sparse([\n",
    "    1 -1 0 0\n",
    "    0 1 -1 0\n",
    "    -1 0 1 0\n",
    "])\n",
    "FE = sparse([\n",
    "        1 1 -1\n",
    "        -1 -1 1\n",
    "])\n",
    "visualize_numbers([V, EV, FE], 2)"
   ]
  },
  {
   "cell_type": "markdown",
   "metadata": {},
   "source": [
    "# Test visualization using LAR and Plasm"
   ]
  },
  {
   "cell_type": "code",
   "execution_count": 42,
   "metadata": {},
   "outputs": [
    {
     "data": {
      "text/plain": [
       "2×3 sparse matrix with 6 Int64 nonzero entries:\n",
       "\t[1, 1]  =  1\n",
       "\t[2, 1]  =  -1\n",
       "\t[1, 2]  =  1\n",
       "\t[2, 2]  =  -1\n",
       "\t[1, 3]  =  -1\n",
       "\t[2, 3]  =  1"
      ]
     },
     "execution_count": 42,
     "metadata": {},
     "output_type": "execute_result"
    }
   ],
   "source": [
    "V = [\n",
    "    1 1\n",
    "    2 1\n",
    "    1 2\n",
    "    2 2\n",
    "    ]\n",
    "EV = sparse([\n",
    "    1 -1 0 0\n",
    "    0 1 -1 0\n",
    "    -1 0 1 0\n",
    "])\n",
    "FE = sparse([\n",
    "        1 1 -1\n",
    "        -1 -1 1\n",
    "])"
   ]
  },
  {
   "cell_type": "code",
   "execution_count": null,
   "metadata": {
    "collapsed": true
   },
   "outputs": [],
   "source": []
  },
  {
   "cell_type": "code",
   "execution_count": 43,
   "metadata": {
    "collapsed": true
   },
   "outputs": [],
   "source": [
    "#visualize_numbers([V, EV, FE], 2)"
   ]
  },
  {
   "cell_type": "code",
   "execution_count": 167,
   "metadata": {},
   "outputs": [
    {
     "name": "stderr",
     "output_type": "stream",
     "text": [
      "WARNING: Method definition reindexVertexesInFaces(Any, Any) in module Main at In[165]:4 overwritten at In[167]:4.\n",
      "WARNING: Method definition reindexVertexesInFaces(Any, Any, Any) in module Main at In[165]:4 overwritten at In[167]:4.\n",
      "WARNING: Method definition removeDoubleFacesByDictAlgoritm(Any) in module Main at In[165]:36 overwritten at In[167]:36.\n",
      "WARNING: Method definition removeDoubleFacesByDictAlgoritm(Any, Any) in module Main at In[165]:36 overwritten at In[167]:36.\n",
      "WARNING: Method definition removeDoubleVertexesAndFaces(Any, Any) in module Main at In[165]:61 overwritten at In[167]:61.\n",
      "WARNING: Method definition removeDoubleVertexesAndFaces(Any, Any, Any) in module Main at In[165]:61 overwritten at In[167]:61.\n"
     ]
    },
    {
     "data": {
      "text/plain": [
       "removeDoubleVertexesAndFaces (generic function with 3 methods)"
      ]
     },
     "execution_count": 167,
     "metadata": {},
     "output_type": "execute_result"
    }
   ],
   "source": [
    "function reindexVertexesInFaces(faces, new_indexes,\n",
    "                                       index_base=0)\n",
    "#     println(faces)\n",
    "    for i in 1:size(faces, 1)\n",
    "        for j in 1:size(faces, 2)\n",
    "            faces[i, j] = new_indexes[faces[i, j] - index_base] + index_base\n",
    "        end\n",
    "    end\n",
    "#     try\n",
    "#     catch\n",
    "#         println(\"reindexVertexInFaces exception\")\n",
    "#         println(\"fc \", face, \" i \", i , \" len \", size(new_indexes))\n",
    "        \n",
    "#     end\n",
    "    return faces\n",
    "    \n",
    "end\n",
    "    \n",
    "        \n",
    "#     for face in faces:\n",
    "#         try:\n",
    "#             for i in range(0, len(face)):\n",
    "#                 face[i] = new_indexes[face[i] - index_base] + index_base\n",
    "#             # face[0] = new_indexes[face[0]-1] + 1\n",
    "#             # face[1] = new_indexes[face[1]-1] + 1\n",
    "#             # face[2] = new_indexes[face[2]-1] + 1\n",
    "#         except:\n",
    "#             import traceback\n",
    "#             traceback.print_exc()\n",
    "#             print 'fc ', face, ' i ', i\n",
    "#             print len(new_indexes)\n",
    "\n",
    "#     return faces \n",
    "function removeDoubleFacesByDictAlgoritm(FW, sort_faces=true)\n",
    "#     FWdict = Dict()\n",
    "    set = Set()\n",
    "    for k in 1:size(FW, 1)\n",
    "        println(k)\n",
    "        if sort_faces\n",
    "            face = tuple(sort(FW[k, :])...)\n",
    "        else\n",
    "            face = tuple(FW[k, :]...)\n",
    "        end\n",
    "            \n",
    "        push!(set, face)\n",
    "    end\n",
    "    return set\n",
    "end\n",
    "    \n",
    "\n",
    "# def removeDoubleFacesByAlberto(FW):\n",
    "#     from collections import defaultdict\n",
    "#     # use of Albertos algorithm\n",
    "\n",
    "#     cellDict = defaultdict(list)\n",
    "#     for k, cell in enumerate(FW):\n",
    "#         cellDict[tuple(cell)] += [k]\n",
    "#     FW = [list(key) for key in cellDict.keys() if len(cellDict[key]) == 1]\n",
    "#     return FW\n",
    "function removeDoubleVertexesAndFaces(vertexes, faces, index_base=0)\n",
    "    println(\"step1\")\n",
    "    new_vertexes, inv_vertexes = remove_double_vertexes_alternative(vertexes)# , index_base=index_base)\n",
    "    println(\"step2\")\n",
    "    new_faces = reindexVertexesInFaces(faces, inv_vertexes)\n",
    "    println(\"step3\")\n",
    "    new_faces = removeDoubleFacesByDictAlgoritm(faces)\n",
    "    return new_vertexes, new_faces\n",
    "end"
   ]
  },
  {
   "cell_type": "code",
   "execution_count": 132,
   "metadata": {},
   "outputs": [
    {
     "data": {
      "text/plain": [
       "Dict{Any,Int64} with 2 entries:\n",
       "  \"B\"   => 2\n",
       "  (1,2) => 1"
      ]
     },
     "execution_count": 132,
     "metadata": {},
     "output_type": "execute_result"
    }
   ],
   "source": [
    "Dict(tuple(1,2) => 1, \"B\" => 2)"
   ]
  },
  {
   "cell_type": "markdown",
   "metadata": {},
   "source": [
    "# Unittest"
   ]
  },
  {
   "cell_type": "code",
   "execution_count": 146,
   "metadata": {},
   "outputs": [
    {
     "name": "stdout",
     "output_type": "stream",
     "text": [
      "[1,2]nothingBool[false,false]\n",
      "[2,3][1,2]Bool[false,false]\n",
      "[2,3][2,3]Bool[true,true]\n",
      "[3,3][2,3]Bool[false,true]\n",
      "[4,1][3,3]Bool[false,false]\n",
      "Any[[1,2],[2,3],[3,3],[4,1]]"
     ]
    }
   ],
   "source": [
    "# test\n",
    "test_vertex = [ 1 2; 2 3; 4 1; 2 3; 3 3]\n",
    "test_faces = [\n",
    "    1 3 4;\n",
    "    4 5 1;\n",
    "    1 5 4\n",
    "]\n",
    "# test_EV = sparse([\n",
    "#     1 -1 0 0\n",
    "#     0 1 -1 0\n",
    "#     -1 0 1 0\n",
    "# ])\n",
    "# test_FE = sparse([\n",
    "#         1 1 -1\n",
    "#         -1 -1 1\n",
    "# ])\n",
    "# test_faces = sparse([ 1 2; 2 3; 4 1; 2 3])\n",
    "\n",
    "Vs, Is = remove_double_vertexes_alternative(test_vertex)\n",
    "\n",
    "for i in 1:size(test_vertex, 1)\n",
    "    v1 = Vs[Is[i]] \n",
    "    v2 = test_vertex[i,:]\n",
    "    assert(v1 == v2)\n",
    "end\n",
    "\n",
    "print(Vs)"
   ]
  },
  {
   "cell_type": "code",
   "execution_count": 122,
   "metadata": {},
   "outputs": [
    {
     "name": "stdout",
     "output_type": "stream",
     "text": [
      "Any[[1,2],[2,3],[3,3],[4,1]]\n",
      "[1 4 2; 2 3 1]\n"
     ]
    },
    {
     "data": {
      "text/plain": [
       "true"
      ]
     },
     "execution_count": 122,
     "metadata": {},
     "output_type": "execute_result"
    }
   ],
   "source": [
    "\n",
    "reindexed_faces = reindexVertexesInFaces(copy(test_faces), Is)\n",
    "println(Vs)\n",
    "println(reindexed_faces)\n",
    "reindexed_faces == [1 4 2; 2 3 1]\n"
   ]
  },
  {
   "cell_type": "code",
   "execution_count": 153,
   "metadata": {},
   "outputs": [
    {
     "name": "stdout",
     "output_type": "stream",
     "text": [
      "1\n",
      "2\n",
      "3\n"
     ]
    },
    {
     "data": {
      "text/plain": [
       "2-element Array{Any,1}:\n",
       " (1,4,5)\n",
       " (1,3,4)"
      ]
     },
     "execution_count": 153,
     "metadata": {},
     "output_type": "execute_result"
    }
   ],
   "source": [
    "fcs = removeDoubleFacesByDictAlgoritm(test_faces)\n",
    "\n",
    "collect(fcs)"
   ]
  },
  {
   "cell_type": "code",
   "execution_count": 169,
   "metadata": {},
   "outputs": [
    {
     "name": "stdout",
     "output_type": "stream",
     "text": [
      "step1\n",
      "[1,2]nothingBool[false,false]\n",
      "[2,3][1,2]Bool[false,false]\n",
      "[2,3][2,3]Bool[true,true]\n",
      "[3,3][2,3]Bool[false,true]\n",
      "[4,1][3,3]Bool[false,false]\n",
      "step2\n",
      "step3\n",
      "1\n",
      "2\n",
      "3\n"
     ]
    },
    {
     "data": {
      "text/plain": [
       "(Any[[1,2],[2,3],[3,3],[4,1]],Set(Any[(1,2,2),(1,2,4)]))"
      ]
     },
     "execution_count": 169,
     "metadata": {},
     "output_type": "execute_result"
    }
   ],
   "source": [
    "\n",
    "new_vertexes, new_faces = removeDoubleVertexesAndFaces(test_vertex, test_faces)"
   ]
  }
 ],
 "metadata": {
  "kernelspec": {
   "display_name": "Julia 0.5.2",
   "language": "julia",
   "name": "julia-0.5"
  },
  "language_info": {
   "file_extension": ".jl",
   "mimetype": "application/julia",
   "name": "julia",
   "version": "0.5.2"
  }
 },
 "nbformat": 4,
 "nbformat_minor": 2
}
