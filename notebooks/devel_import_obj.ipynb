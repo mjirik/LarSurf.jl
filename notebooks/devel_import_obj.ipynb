{
 "cells": [
  {
   "cell_type": "markdown",
   "metadata": {},
   "source": [
    "Goal of this script is to obtain \n",
    "vertex, edge, face \n",
    "\n",
    "\n",
    "V, EV"
   ]
  },
  {
   "cell_type": "code",
   "execution_count": 2,
   "metadata": {},
   "outputs": [
    {
     "data": {
      "text/plain": [
       "\"/home/mjirik/projects/lario3d.jl/notebooks\""
      ]
     },
     "execution_count": 2,
     "metadata": {},
     "output_type": "execute_result"
    }
   ],
   "source": [
    "pwd()\n"
   ]
  },
  {
   "cell_type": "markdown",
   "metadata": {},
   "source": [
    "# Read obj file"
   ]
  },
  {
   "cell_type": "code",
   "execution_count": 3,
   "metadata": {
    "collapsed": true
   },
   "outputs": [],
   "source": [
    "\n",
    "f = open(\"../test/smallbb2.obj\");\n",
    "lines = readlines(f)\n",
    "\n",
    "nvertices = 0\n",
    "nfaces = 0\n",
    "for line in lines\n",
    "    if line[1] == 'v'\n",
    "        nvertices = nvertices + 1\n",
    "    elseif line[1] == 'f'\n",
    "        nfaces = nfaces + 1\n",
    "    end\n",
    "end\n",
    "    \n"
   ]
  },
  {
   "cell_type": "code",
   "execution_count": 4,
   "metadata": {},
   "outputs": [
    {
     "name": "stdout",
     "output_type": "stream",
     "text": [
      "i = CartesianIndex{2}((1,1))\n",
      "i = CartesianIndex{2}((2,1))\n",
      "i = CartesianIndex{2}((3,1))\n",
      "i = CartesianIndex{2}((1,2))\n",
      "i = CartesianIndex{2}((2,2))\n",
      "i = CartesianIndex{2}((3,2))\n"
     ]
    }
   ],
   "source": [
    "A = rand(4,3);\n",
    "\n",
    "B = view(A, 1:3, 1:2);\n",
    "\n",
    "for i in eachindex(B)\n",
    "   @show i\n",
    "end\n"
   ]
  },
  {
   "cell_type": "code",
   "execution_count": 5,
   "metadata": {},
   "outputs": [
    {
     "data": {
      "text/plain": [
       "0.48162123680398006"
      ]
     },
     "execution_count": 5,
     "metadata": {},
     "output_type": "execute_result"
    }
   ],
   "source": [
    "B[1,2]"
   ]
  },
  {
   "cell_type": "code",
   "execution_count": 6,
   "metadata": {},
   "outputs": [
    {
     "name": "stdout",
     "output_type": "stream",
     "text": [
      "(1193,3)"
     ]
    }
   ],
   "source": [
    "\n",
    "vertices = Array(Float64, nvertices + 1, 3)\n",
    "faces = Array(Int64, nfaces + 1 , 3)\n",
    "print(size(vertices))\n",
    "ivertices = 1\n",
    "ifaces = 1\n",
    "\n",
    "for line in lines\n",
    "    lsplit = split(line)\n",
    "    if line[1] == 'v'\n",
    "        for i=2:4\n",
    "            vertices[ivertices, i - 1] = parse(Float64, lsplit[i])\n",
    "        end\n",
    "        ivertices = nvertices + 1\n",
    "    elseif line[1] == 'f'\n",
    "        for i=2:4\n",
    "            faces[ifaces, i - 1] = parse(Int64, lsplit[i])\n",
    "        end\n",
    "        ifaces = ifaces + 1\n",
    "    end\n",
    "end\n"
   ]
  },
  {
   "cell_type": "markdown",
   "metadata": {},
   "source": [
    "# Check Julia"
   ]
  },
  {
   "cell_type": "code",
   "execution_count": 7,
   "metadata": {},
   "outputs": [
    {
     "data": {
      "text/plain": [
       "Dict{String,Int64} with 4 entries:\n",
       "  \"f\" => 13\n",
       "  \"c\" => 3\n",
       "  \"b\" => 2\n",
       "  \"a\" => 1"
      ]
     },
     "execution_count": 7,
     "metadata": {},
     "output_type": "execute_result"
    }
   ],
   "source": [
    "dcta = Dict(\"a\" => 1, \"b\" => 2, \"c\" => 3)\n",
    "dcta[\"f\"] = 13\n",
    "dcta"
   ]
  },
  {
   "cell_type": "code",
   "execution_count": 8,
   "metadata": {},
   "outputs": [
    {
     "data": {
      "text/plain": [
       "4-element Array{Tuple{Int64,Int64,Vararg{Any,N}},1}:\n",
       " (1,5)        \n",
       " (15,18)      \n",
       " (17,16,\"asd\")\n",
       " (18,1,1)     "
      ]
     },
     "execution_count": 8,
     "metadata": {},
     "output_type": "execute_result"
    }
   ],
   "source": [
    "(1 , 5)\n",
    "\n",
    "\n",
    "A = [(1,5), (15,18), (17,16,\"asd\"), (18,1,1)]"
   ]
  },
  {
   "cell_type": "code",
   "execution_count": 9,
   "metadata": {},
   "outputs": [
    {
     "data": {
      "text/plain": [
       "2-element Array{Int64,1}:\n",
       "  9\n",
       " 10"
      ]
     },
     "execution_count": 9,
     "metadata": {},
     "output_type": "execute_result"
    }
   ],
   "source": [
    "i = 3\n",
    "sort([faces[i, 1],  faces[i, 2]])"
   ]
  },
  {
   "cell_type": "markdown",
   "metadata": {},
   "source": [
    "## Vertices"
   ]
  },
  {
   "cell_type": "code",
   "execution_count": 49,
   "metadata": {},
   "outputs": [
    {
     "data": {
      "text/plain": [
       "1193×3 Array{Float64,2}:\n",
       " 1.0           2.0           1.0         \n",
       " 3.47378e-316  1.31916e-321  0.0         \n",
       " 2.122e-314    3.46485e-316  2.17292e-311\n",
       " 3.47378e-316  6.95251e-310  6.36599e-314\n",
       " 2.122e-314    1.28457e-321  1.061e-313  \n",
       " 2.27616e-320  1.33892e-321  1.4854e-313 \n",
       " 7.42699e-313  3.37857e-316  3.45846e-323\n",
       " 0.0           6.95251e-310  2.122e-314  \n",
       " 0.0           4.69362e-322  4.94066e-324\n",
       " 3.47377e-316  1.35868e-321  0.0         \n",
       " 3.47377e-316  3.46922e-316  2.17292e-311\n",
       " 3.47378e-316  6.95251e-310  6.93956e-310\n",
       " 0.0           8.06315e-321  8.48798e-314\n",
       " ⋮                                       \n",
       " 3.98711e-321  2.122e-314    3.37857e-316\n",
       " 1.2401e-321   3.47471e-316  6.95251e-310\n",
       " 2.11874e-316  3.47472e-316  1.45255e-321\n",
       " 6.95251e-310  4.94066e-324  7.1936e-321 \n",
       " 0.0           3.47503e-316  3.37857e-316\n",
       " 1.26975e-321  2.122e-314    6.95251e-310\n",
       " 3.37857e-316  3.47507e-316  1.36856e-321\n",
       " 6.95251e-310  3.47471e-316  7.12937e-321\n",
       " 0.0           3.47471e-316  3.46922e-316\n",
       " 1.29939e-321  3.47472e-316  6.95251e-310\n",
       " 3.37857e-316  3.47472e-316  2.74305e-320\n",
       " 5.0           6.0           6.0         "
      ]
     },
     "execution_count": 49,
     "metadata": {},
     "output_type": "execute_result"
    }
   ],
   "source": [
    "V = vertices"
   ]
  },
  {
   "cell_type": "markdown",
   "metadata": {},
   "source": [
    "## Edges"
   ]
  },
  {
   "cell_type": "code",
   "execution_count": 37,
   "metadata": {},
   "outputs": [
    {
     "data": {
      "text/plain": [
       "894-element Array{Any,1}:\n",
       " [1,2]      \n",
       " [2,4]      \n",
       " [1,4]      \n",
       " [5,6]      \n",
       " [6,8]      \n",
       " [5,8]      \n",
       " [9,10]     \n",
       " [10,12]    \n",
       " [9,12]     \n",
       " [13,14]    \n",
       " [14,16]    \n",
       " [13,16]    \n",
       " [17,18]    \n",
       " ⋮          \n",
       " [1177,1178]\n",
       " [1178,1180]\n",
       " [1177,1180]\n",
       " [1181,1182]\n",
       " [1182,1184]\n",
       " [1181,1184]\n",
       " [1185,1186]\n",
       " [1186,1188]\n",
       " [1185,1188]\n",
       " [1189,1190]\n",
       " [1190,1192]\n",
       " [1189,1192]"
      ]
     },
     "execution_count": 37,
     "metadata": {},
     "output_type": "execute_result"
    }
   ],
   "source": [
    "# Eset = Set()\n",
    "Epl = []\n",
    "EVpl = []\n",
    "FEpl = Array(Int64, nfaces + 1 , 3)\n",
    "\n",
    "for i = 1:nfaces\n",
    "    \n",
    "    push!(EVpl, sort([faces[i, 1], faces[i, 2]]))\n",
    "    push!(EVpl, sort([faces[i, 2], faces[i, 3]]))\n",
    "    push!(EVpl, sort([faces[i, 3], faces[i, 1]]))\n",
    "    \n",
    "    FEpl[i, :] = [(i-1)*3 + 1, (i-1)*3 + 2,(i-1)*3 + 3]\n",
    "    \n",
    "end\n",
    "\n",
    "EVpl\n",
    "# Epl = EVpl\n"
   ]
  },
  {
   "cell_type": "markdown",
   "metadata": {},
   "source": [
    "## FElar"
   ]
  },
  {
   "cell_type": "code",
   "execution_count": 47,
   "metadata": {},
   "outputs": [],
   "source": [
    "# nzind2sparse(nzind)\n",
    "\n",
    "FElar = spzeros(nfaces, (3*(nfaces)))\n",
    "for i = 1:nfaces\n",
    "    FElar[i, (i-1)*3 + 1] = 1\n",
    "    FElar[i, (i-1)*3 + 2] = 1\n",
    "    FElar[i, (i-1)*3 + 3] = 1\n",
    "end\n"
   ]
  },
  {
   "cell_type": "code",
   "execution_count": 38,
   "metadata": {},
   "outputs": [
    {
     "data": {
      "text/plain": [
       "299×3 Array{Int64,2}:\n",
       "        1         2         3\n",
       "        4         5         6\n",
       "        7         8         9\n",
       "       10        11        12\n",
       "       13        14        15\n",
       "       16        17        18\n",
       "       19        20        21\n",
       "       22        23        24\n",
       "       25        26        27\n",
       "       28        29        30\n",
       "       31        32        33\n",
       "       34        35        36\n",
       "       37        38        39\n",
       "        ⋮                    \n",
       "      862       863       864\n",
       "      865       866       867\n",
       "      868       869       870\n",
       "      871       872       873\n",
       "      874       875       876\n",
       "      877       878       879\n",
       "      880       881       882\n",
       "      883       884       885\n",
       "      886       887       888\n",
       "      889       890       891\n",
       "      892       893       894\n",
       " 74448900  77554720  77556720"
      ]
     },
     "execution_count": 38,
     "metadata": {},
     "output_type": "execute_result"
    }
   ],
   "source": [
    "FEpl"
   ]
  },
  {
   "cell_type": "code",
   "execution_count": 11,
   "metadata": {},
   "outputs": [
    {
     "data": {
      "text/plain": [
       "894-element Array{Any,1}:\n",
       " [1,2]      \n",
       " [2,4]      \n",
       " [1,4]      \n",
       " [5,6]      \n",
       " [6,8]      \n",
       " [5,8]      \n",
       " [9,10]     \n",
       " [10,12]    \n",
       " [9,12]     \n",
       " [13,14]    \n",
       " [14,16]    \n",
       " [13,16]    \n",
       " [17,18]    \n",
       " ⋮          \n",
       " [1177,1178]\n",
       " [1178,1180]\n",
       " [1177,1180]\n",
       " [1181,1182]\n",
       " [1182,1184]\n",
       " [1181,1184]\n",
       " [1185,1186]\n",
       " [1186,1188]\n",
       " [1185,1188]\n",
       " [1189,1190]\n",
       " [1190,1192]\n",
       " [1189,1192]"
      ]
     },
     "execution_count": 11,
     "metadata": {},
     "output_type": "execute_result"
    }
   ],
   "source": [
    "# EVpl = collect(Eset)"
   ]
  },
  {
   "cell_type": "code",
   "execution_count": 12,
   "metadata": {},
   "outputs": [
    {
     "data": {
      "text/plain": [
       "arrayofarray2arrayd2d (generic function with 1 method)"
      ]
     },
     "execution_count": 12,
     "metadata": {},
     "output_type": "execute_result"
    }
   ],
   "source": [
    "function arrayofarray2arrayd2d(d)\n",
    "    data = Array(Float64,length(d),length(d[1]))\n",
    "    for i in 1:length(d)\n",
    "        for j in 1:length(d[1])\n",
    "            data[i,j] = d[i][j]\n",
    "        end\n",
    "    end\n",
    "    return data\n",
    "end"
   ]
  },
  {
   "cell_type": "markdown",
   "metadata": {},
   "source": [
    "## Clean vertexes"
   ]
  },
  {
   "cell_type": "code",
   "execution_count": 14,
   "metadata": {},
   "outputs": [
    {
     "data": {
      "text/plain": [
       "3-element Array{Tuple{Int64,Int64},1}:\n",
       " (1,4)\n",
       " (2,5)\n",
       " (3,6)"
      ]
     },
     "execution_count": 14,
     "metadata": {},
     "output_type": "execute_result"
    }
   ],
   "source": [
    "oo = collect(zip([1,2,3],[4,5,6]))"
   ]
  },
  {
   "cell_type": "code",
   "execution_count": 16,
   "metadata": {},
   "outputs": [
    {
     "data": {
      "text/plain": [
       "3-element Array{Tuple{Int64,Int64},1}:\n",
       " (10,1)\n",
       " (2,2) \n",
       " (3,3) "
      ]
     },
     "execution_count": 16,
     "metadata": {},
     "output_type": "execute_result"
    }
   ],
   "source": [
    "collect(zip([10,2,3], range(1,3)))"
   ]
  },
  {
   "cell_type": "code",
   "execution_count": 17,
   "metadata": {},
   "outputs": [
    {
     "data": {
      "text/plain": [
       "3-element Array{Tuple{Int64,Int64},1}:\n",
       " (2,2) \n",
       " (3,3) \n",
       " (10,1)"
      ]
     },
     "execution_count": 17,
     "metadata": {},
     "output_type": "execute_result"
    }
   ],
   "source": [
    "sort(collect(zip([10,2,3], range(1,3))))"
   ]
  },
  {
   "cell_type": "code",
   "execution_count": 19,
   "metadata": {},
   "outputs": [
    {
     "data": {
      "text/plain": [
       "conv2array_of_float_arrays (generic function with 1 method)"
      ]
     },
     "execution_count": 19,
     "metadata": {},
     "output_type": "execute_result"
    }
   ],
   "source": [
    "\n",
    "function conv2array_of_float_arrays(array2d)\n",
    "\n",
    "    test_vertex_float = float(array2d)\n",
    "\n",
    "    list_of_vertexes = Array[]\n",
    "    for i in 1:size(test_vertex_float, 1)\n",
    "        push!(list_of_vertexes, test_vertex_float[i,:])\n",
    "    end\n",
    "    return list_of_vertexes\n",
    "end\n",
    "    "
   ]
  },
  {
   "cell_type": "code",
   "execution_count": 20,
   "metadata": {},
   "outputs": [
    {
     "data": {
      "text/plain": [
       "remove_double_vertexes_alternative (generic function with 1 method)"
      ]
     },
     "execution_count": 20,
     "metadata": {},
     "output_type": "execute_result"
    }
   ],
   "source": [
    "function remove_double_vertexes_alternative(V)\n",
    "    \"\"\" Return reduced vertex list wiht search table.\n",
    "    \n",
    "    Alternativte removing of doublefaces. Hopefully more memory efficient\n",
    "    \"\"\"\n",
    "    X = range(1, size(V,1))\n",
    "    # Vs = [v for (v, x) in VIsorted]\n",
    "    # Is = [x for (v, x) in VIsorted]\n",
    "    Vs = []\n",
    "#     Is = [0]*size(V, 1)\n",
    "#     Is = zeros( Int64, size(test_vertex, 1))\n",
    "    \n",
    "    Is = Dict()\n",
    "\n",
    "    prevv = nothing\n",
    "    i = 1\n",
    "    sorted_vertex_id_x = sortperm(collect(zip(test_vertex[:,1], test_vertex[:,2])))\n",
    "               sortperm(collect(zip(test_vertex[:,1], test_vertex[:,2])))\n",
    "#     for couple in sort(collect(zip(X, conv2array_of_float_arrays(V))))\n",
    "    for x in sorted_vertex_id_x\n",
    "        v = V[x,:]\n",
    "#         x = \n",
    "#         x, v = couple\n",
    "        println(v, prevv, v.==prevv)\n",
    "        if v == prevv\n",
    "            # prev index was increased\n",
    "            Is[x] = i - 1\n",
    "        else\n",
    "            push!(Vs, v)\n",
    "            Is[x] = i\n",
    "            i = i + 1\n",
    "            prevv = v\n",
    "        end\n",
    "    end\n",
    "    \n",
    "    vertex_reduced_list = Vs\n",
    "    vertex_search_table = Is\n",
    "    return vertex_reduced_list, vertex_search_table\n",
    "end"
   ]
  },
  {
   "cell_type": "code",
   "execution_count": 21,
   "metadata": {},
   "outputs": [
    {
     "ename": "LoadError",
     "evalue": "UndefVarError: test_vertex not defined",
     "output_type": "error",
     "traceback": [
      "UndefVarError: test_vertex not defined",
      "",
      " in include_string(::String, ::String) at ./loading.jl:441"
     ]
    }
   ],
   "source": [
    "\n",
    "sortperm(collect(zip(test_vertex[:,1], test_vertex[:,2])))"
   ]
  },
  {
   "cell_type": "code",
   "execution_count": null,
   "metadata": {
    "collapsed": true
   },
   "outputs": [],
   "source": []
  },
  {
   "cell_type": "code",
   "execution_count": 22,
   "metadata": {},
   "outputs": [
    {
     "ename": "LoadError",
     "evalue": "UndefVarError: test_vertex not defined",
     "output_type": "error",
     "traceback": [
      "UndefVarError: test_vertex not defined",
      "",
      " in include_string(::String, ::String) at ./loading.jl:441"
     ]
    }
   ],
   "source": [
    "vtfl = conv2array_of_float_arrays(test_vertex)\n",
    "vtfl"
   ]
  },
  {
   "cell_type": "code",
   "execution_count": 23,
   "metadata": {},
   "outputs": [
    {
     "data": {
      "text/plain": [
       "true"
      ]
     },
     "execution_count": 23,
     "metadata": {},
     "output_type": "execute_result"
    }
   ],
   "source": [
    "[1 2 3 4] == [1 2 3 4]"
   ]
  },
  {
   "cell_type": "code",
   "execution_count": 24,
   "metadata": {},
   "outputs": [
    {
     "name": "stdout",
     "output_type": "stream",
     "text": [
      "Dict{Any,Any}(Pair{Any,Any}(\"aho\",5),Pair{Any,Any}(\"ahoi\",7))"
     ]
    }
   ],
   "source": [
    "dctd = Dict()\n",
    "dctd[\"aho\"] = 5\n",
    "dctd[\"ahoi\"] = 7\n",
    "\n",
    "print(dctd)\n"
   ]
  },
  {
   "cell_type": "code",
   "execution_count": 25,
   "metadata": {},
   "outputs": [
    {
     "data": {
      "text/plain": [
       "3-element Array{Int64,1}:\n",
       " 3\n",
       " 2\n",
       " 1"
      ]
     },
     "execution_count": 25,
     "metadata": {},
     "output_type": "execute_result"
    }
   ],
   "source": [
    "sortperm([(6, 2), (2, 6), (1, 3)])"
   ]
  },
  {
   "cell_type": "code",
   "execution_count": 26,
   "metadata": {},
   "outputs": [
    {
     "ename": "LoadError",
     "evalue": "UndefVarError: sortrowsperm not defined",
     "output_type": "error",
     "traceback": [
      "UndefVarError: sortrowsperm not defined",
      "",
      " in include_string(::String, ::String) at ./loading.jl:441"
     ]
    }
   ],
   "source": [
    "a = sortrowsperm([ 1 2; 3 4; 1 1 ])\n"
   ]
  },
  {
   "cell_type": "markdown",
   "metadata": {},
   "source": [
    "## Construct EVlar\n"
   ]
  },
  {
   "cell_type": "code",
   "execution_count": 54,
   "metadata": {},
   "outputs": [
    {
     "data": {
      "text/plain": [
       "894"
      ]
     },
     "execution_count": 54,
     "metadata": {},
     "output_type": "execute_result"
    }
   ],
   "source": [
    "nedges = size(EVpl, 1)"
   ]
  },
  {
   "cell_type": "code",
   "execution_count": 56,
   "metadata": {},
   "outputs": [
    {
     "data": {
      "text/plain": [
       "895×1193 sparse matrix with 1788 Int8 nonzero entries:\n",
       "\t[1   ,    1]  =  1\n",
       "\t[3   ,    1]  =  1\n",
       "\t[1   ,    2]  =  -1\n",
       "\t[2   ,    2]  =  1\n",
       "\t[2   ,    4]  =  -1\n",
       "\t[3   ,    4]  =  -1\n",
       "\t[4   ,    5]  =  1\n",
       "\t[6   ,    5]  =  1\n",
       "\t[4   ,    6]  =  -1\n",
       "\t[5   ,    6]  =  1\n",
       "\t⋮\n",
       "\t[891 , 1185]  =  1\n",
       "\t[889 , 1186]  =  -1\n",
       "\t[890 , 1186]  =  1\n",
       "\t[890 , 1188]  =  -1\n",
       "\t[891 , 1188]  =  -1\n",
       "\t[892 , 1189]  =  1\n",
       "\t[894 , 1189]  =  1\n",
       "\t[892 , 1190]  =  -1\n",
       "\t[893 , 1190]  =  1\n",
       "\t[893 , 1192]  =  -1\n",
       "\t[894 , 1192]  =  -1"
      ]
     },
     "execution_count": 56,
     "metadata": {},
     "output_type": "execute_result"
    }
   ],
   "source": [
    "\n",
    "EVlar = spzeros(Int8, nedges + 1 , nvertices + 1)\n",
    "\n",
    "for i = 1:nedges\n",
    "    EVlar[i, EVpl[i][1]] = 1\n",
    "    EVlar[i, EVpl[i][2]] = -1\n",
    "end\n",
    "\n",
    "EVlar\n"
   ]
  },
  {
   "cell_type": "code",
   "execution_count": 29,
   "metadata": {},
   "outputs": [
    {
     "data": {
      "text/plain": [
       "2×2 Array{Int64,2}:\n",
       " 1  1\n",
       " 2  2"
      ]
     },
     "execution_count": 29,
     "metadata": {},
     "output_type": "execute_result"
    }
   ],
   "source": [
    "u = [1 1; 2 2]"
   ]
  },
  {
   "cell_type": "markdown",
   "metadata": {},
   "source": [
    "# FE"
   ]
  },
  {
   "cell_type": "code",
   "execution_count": 30,
   "metadata": {},
   "outputs": [
    {
     "ename": "LoadError",
     "evalue": "BoundsError",
     "output_type": "error",
     "traceback": [
      "BoundsError",
      "",
      " in getindex(::Int64, ::Int64) at ./number.jl:21",
      " in include_string(::String, ::String) at ./loading.jl:441"
     ]
    }
   ],
   "source": [
    "faces[1][2]"
   ]
  },
  {
   "cell_type": "code",
   "execution_count": 31,
   "metadata": {},
   "outputs": [
    {
     "ename": "LoadError",
     "evalue": "BoundsError",
     "output_type": "error",
     "traceback": [
      "BoundsError",
      "",
      " in getindex(::Int64, ::Int64) at ./number.jl:21",
      " in macro expansion; at ./In[31]:5 [inlined]",
      " in anonymous at ./<missing>:?",
      " in include_string(::String, ::String) at ./loading.jl:441"
     ]
    }
   ],
   "source": [
    "\n",
    "FE = spzeros(Int8, nfaces + 1 , nvertices +1 )\n",
    "for i = 1:nfaces\n",
    "    FE[i, faces[i][1]] = 1\n",
    "    FE[i, faces[i][2]] = 1\n",
    "    FE[i, faces[i][3]] = 1\n",
    "end"
   ]
  },
  {
   "cell_type": "code",
   "execution_count": null,
   "metadata": {
    "collapsed": true
   },
   "outputs": [],
   "source": []
  },
  {
   "cell_type": "code",
   "execution_count": 32,
   "metadata": {},
   "outputs": [
    {
     "data": {
      "text/plain": [
       "visualize_boundary (generic function with 1 method)"
      ]
     },
     "execution_count": 32,
     "metadata": {},
     "output_type": "execute_result"
    }
   ],
   "source": [
    "\n",
    "include(\"../src/plasm.jl\")"
   ]
  },
  {
   "cell_type": "code",
   "execution_count": 57,
   "metadata": {},
   "outputs": [
    {
     "name": "stdout",
     "output_type": "stream",
     "text": [
      "1\n"
     ]
    },
    {
     "ename": "LoadError",
     "evalue": "BoundsError: attempt to access 0-element Array{Int64,1} at index [1]",
     "output_type": "error",
     "traceback": [
      "BoundsError: attempt to access 0-element Array{Int64,1} at index [1]",
      "",
      " in lar2plasm(::SparseMatrixCSC{Int8,Int64}, ::SparseMatrixCSC{Float64,Int64}) at /home/mjirik/projects/lario3d.jl/src/plasm.jl:22",
      " in visualize_numbers(::Array{AbstractArray{T,2},1}, ::Int64) at /home/mjirik/projects/lario3d.jl/src/plasm.jl:59",
      " in include_string(::String, ::String) at ./loading.jl:441"
     ]
    }
   ],
   "source": [
    "\n",
    "visualize_numbers([V, EVlar, FElar], 2)"
   ]
  },
  {
   "cell_type": "markdown",
   "metadata": {},
   "source": [
    "# Test visualization using LAR and Plasm"
   ]
  },
  {
   "cell_type": "code",
   "execution_count": 34,
   "metadata": {},
   "outputs": [
    {
     "data": {
      "text/plain": [
       "2×3 sparse matrix with 6 Int64 nonzero entries:\n",
       "\t[1, 1]  =  1\n",
       "\t[2, 1]  =  -1\n",
       "\t[1, 2]  =  1\n",
       "\t[2, 2]  =  -1\n",
       "\t[1, 3]  =  -1\n",
       "\t[2, 3]  =  1"
      ]
     },
     "execution_count": 34,
     "metadata": {},
     "output_type": "execute_result"
    }
   ],
   "source": [
    "V = [\n",
    "    1 1\n",
    "    2 1\n",
    "    1 2\n",
    "    2 2\n",
    "    ]\n",
    "EV = sparse([\n",
    "    1 -1 0 0\n",
    "    0 1 -1 0\n",
    "    -1 0 1 0\n",
    "])\n",
    "FE = sparse([\n",
    "        1 1 -1\n",
    "        -1 -1 1\n",
    "])"
   ]
  },
  {
   "cell_type": "code",
   "execution_count": null,
   "metadata": {
    "collapsed": true
   },
   "outputs": [],
   "source": []
  },
  {
   "cell_type": "code",
   "execution_count": 35,
   "metadata": {
    "collapsed": true
   },
   "outputs": [],
   "source": [
    "#visualize_numbers([V, EV, FE], 2)"
   ]
  },
  {
   "cell_type": "markdown",
   "metadata": {},
   "source": [
    "# Unittest"
   ]
  },
  {
   "cell_type": "code",
   "execution_count": 36,
   "metadata": {},
   "outputs": [
    {
     "name": "stdout",
     "output_type": "stream",
     "text": [
      "[1,2]nothingBool[false,false]\n",
      "[2,3][1,2]Bool[false,false]\n",
      "[2,3][2,3]Bool[true,true]\n",
      "[4,1][2,3]Bool[false,false]\n"
     ]
    }
   ],
   "source": [
    "# test\n",
    "test_vertex = [ 1 2; 2 3; 4 1; 2 3]\n",
    "Vs, Is = remove_double_vertexes_alternative(test_vertex)\n",
    "\n",
    "for i in 1:size(test_vertex, 1)\n",
    "    v1 = Vs[Is[i]] \n",
    "    v2 = test_vertex[i,:]\n",
    "    assert(v1 == v2)\n",
    "end"
   ]
  }
 ],
 "metadata": {
  "kernelspec": {
   "display_name": "Julia 0.5.2",
   "language": "julia",
   "name": "julia-0.5"
  },
  "language_info": {
   "file_extension": ".jl",
   "mimetype": "application/julia",
   "name": "julia",
   "version": "0.5.2"
  }
 },
 "nbformat": 4,
 "nbformat_minor": 2
}
