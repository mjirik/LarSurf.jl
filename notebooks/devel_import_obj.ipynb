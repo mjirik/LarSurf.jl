{
 "cells": [
  {
   "cell_type": "markdown",
   "metadata": {},
   "source": [
    "Goal of this script is to obtain \n",
    "vertex, edge, face \n",
    "\n",
    "\n",
    "V, EV"
   ]
  },
  {
   "cell_type": "code",
   "execution_count": 108,
   "metadata": {},
   "outputs": [
    {
     "data": {
      "text/plain": [
       "\"/home/mjirik/projects/lario3d.jl/notebooks\""
      ]
     },
     "execution_count": 108,
     "metadata": {},
     "output_type": "execute_result"
    }
   ],
   "source": [
    "pwd()\n"
   ]
  },
  {
   "cell_type": "code",
   "execution_count": 109,
   "metadata": {},
   "outputs": [
    {
     "data": {
      "text/plain": [
       "6×3 Array{Int64,2}:\n",
       " 1  2  3\n",
       " 2  4  3\n",
       " 4  2  5\n",
       " 5  2  6\n",
       " 2  7  6\n",
       " 2  1  7"
      ]
     },
     "execution_count": 109,
     "metadata": {},
     "output_type": "execute_result"
    }
   ],
   "source": [
    "# hexaogon\n",
    "#    3 -- 4\n",
    "#  /  \\ /  \\\n",
    "# 1 -- 2 -- 5\n",
    "#  \\  / \\  /\n",
    "#   7 -- 8\n",
    "hexagon_vertices = [0. 0.; 2. 0.; 1. 2.; 3. 2; 4. 0.; 3. -2.; 1. -2]\n",
    "hexagon_faces = [ 1 2 3; 2 4 3; 4 2 5; 5 2 6; 2 7 6; 2 1 7]\n",
    "# maximum(test_faces0)\n",
    "\n"
   ]
  },
  {
   "cell_type": "markdown",
   "metadata": {},
   "source": [
    "# Read obj file"
   ]
  },
  {
   "cell_type": "code",
   "execution_count": 208,
   "metadata": {},
   "outputs": [
    {
     "name": "stderr",
     "output_type": "stream",
     "text": [
      "WARNING: Method definition lar2plasm(Any, Any) in module Main at /home/mjirik/projects/lario3d.jl/src/plasm.jl:2 overwritten at /home/mjirik/projects/lario3d.jl/src/plasm.jl:2.\n",
      "WARNING: Method definition lar2py(Any, Any) in module Main at /home/mjirik/projects/lario3d.jl/src/plasm.jl:39 overwritten at /home/mjirik/projects/lario3d.jl/src/plasm.jl:39.\n",
      "WARNING: Method definition visualize_numbers(Any, Any) in module Main at /home/mjirik/projects/lario3d.jl/src/plasm.jl:57 overwritten at /home/mjirik/projects/lario3d.jl/src/plasm.jl:57.\n",
      "WARNING: Method definition visualize_boundary(Any, Any, Any) in module Main at /home/mjirik/projects/lario3d.jl/src/plasm.jl:71 overwritten at /home/mjirik/projects/lario3d.jl/src/plasm.jl:71.\n",
      "WARNING: Method definition get_obj_metainfo(Any) in module Main at /home/mjirik/projects/lario3d.jl/src/read.jl:4 overwritten at /home/mjirik/projects/lario3d.jl/src/read.jl:4.\n",
      "WARNING: Method definition get_obj_vertices_and_faces(Any, Any, Any) in module Main at /home/mjirik/projects/lario3d.jl/src/read.jl:24 overwritten at /home/mjirik/projects/lario3d.jl/src/read.jl:24.\n",
      "WARNING: Method definition read_obj(Any) in module Main at /home/mjirik/projects/lario3d.jl/src/read.jl:57 overwritten at /home/mjirik/projects/lario3d.jl/src/read.jl:57.\n",
      "WARNING: Method definition iter_edge(Any, Any, Any) in module Main at /home/mjirik/projects/lario3d.jl/src/read.jl:75 overwritten at /home/mjirik/projects/lario3d.jl/src/read.jl:75.\n",
      "WARNING: Method definition EVinv_to_EVinds(Any, Any) in module Main at /home/mjirik/projects/lario3d.jl/src/read.jl:93 overwritten at /home/mjirik/projects/lario3d.jl/src/read.jl:93.\n",
      "WARNING: Method definition get_FEinds_and_EVinv(Any, Any) in module Main at /home/mjirik/projects/lario3d.jl/src/read.jl:106 overwritten at /home/mjirik/projects/lario3d.jl/src/read.jl:106.\n",
      "WARNING: Method definition convert_to_FElar(Any, Any, Any, Any) in module Main at /home/mjirik/projects/lario3d.jl/src/read.jl:140 overwritten at /home/mjirik/projects/lario3d.jl/src/read.jl:140.\n",
      "WARNING: Method definition get_FEinds_and_EVinds(Any) in module Main at /home/mjirik/projects/lario3d.jl/src/read.jl:160 overwritten at /home/mjirik/projects/lario3d.jl/src/read.jl:160.\n",
      "WARNING: Method definition get_FEinds_and_EVinds(Any, Any) in module Main at /home/mjirik/projects/lario3d.jl/src/read.jl:160 overwritten at /home/mjirik/projects/lario3d.jl/src/read.jl:160.\n",
      "WARNING: Method definition convert_to_EVlar(Any, Any, Any) in module Main at /home/mjirik/projects/lario3d.jl/src/read.jl:169 overwritten at /home/mjirik/projects/lario3d.jl/src/read.jl:169.\n",
      "WARNING: Method definition get_EVlar_FElar(Any, Any) in module Main at /home/mjirik/projects/lario3d.jl/src/read.jl:181 overwritten at /home/mjirik/projects/lario3d.jl/src/read.jl:181.\n",
      "WARNING: Method definition to_lar(Any, Any) in module Main at In[117]:115 overwritten at /home/mjirik/projects/lario3d.jl/src/read.jl:193.\n"
     ]
    },
    {
     "data": {
      "text/plain": [
       "to_lar (generic function with 1 method)"
      ]
     },
     "execution_count": 208,
     "metadata": {},
     "output_type": "execute_result"
    }
   ],
   "source": [
    "\n",
    "include(\"../src/plasm.jl\")\n",
    "include(\"../src/read.jl\")"
   ]
  },
  {
   "cell_type": "code",
   "execution_count": 110,
   "metadata": {},
   "outputs": [
    {
     "name": "stderr",
     "output_type": "stream",
     "text": [
      "WARNING: Method definition get_obj_metainfo(Any) in module Main at In[93]:3 overwritten at In[110]:3.\n",
      "WARNING: Method definition get_obj_vertices_and_faces(Any, Any, Any) in module Main at In[93]:23 overwritten at In[110]:23.\n",
      "WARNING: Method definition read_obj(Any) in module Main at In[93]:56 overwritten at In[110]:56.\n"
     ]
    },
    {
     "data": {
      "text/plain": [
       "read_obj (generic function with 1 method)"
      ]
     },
     "execution_count": 110,
     "metadata": {},
     "output_type": "execute_result"
    }
   ],
   "source": [
    "\n",
    "function get_obj_metainfo(lines)\n",
    "    \"\"\"\n",
    "    lines = readlines(open(filename))\n",
    "    \"\"\"\n",
    "    \n",
    "    nvertices = 0\n",
    "    nfaces = 0\n",
    "    for line in lines\n",
    "        if line[1] == 'v'\n",
    "            nvertices = nvertices + 1\n",
    "#             print(\"v \", nvertices)\n",
    "        elseif line[1] == 'f'\n",
    "            nfaces = nfaces + 1\n",
    "#             print(\"f \", nfaces, \" \")\n",
    "        end\n",
    "#         print(line)\n",
    "    end\n",
    "    return nvertices, nfaces\n",
    "end\n",
    "\n",
    "function get_obj_vertices_and_faces(lines, nvertices, nfaces)\n",
    "    vertices = Array(Float64, nvertices , 3)\n",
    "    faces = Array(Int64, nfaces, 3)\n",
    "#     println(\"vertices \", size(vertices))\n",
    "#     println(\"faces \", size(vertices))\n",
    "    ivertices = 1\n",
    "    ifaces = 1\n",
    "\n",
    "    for line in lines\n",
    "#         println(\"ivertices and ifaces \", ivertices, \" \",ifaces)\n",
    "        lsplit = split(line)\n",
    "        if line[1] == 'v'\n",
    "            for i=2:4\n",
    "                vertices[ivertices, i - 1] = parse(Float64, lsplit[i])\n",
    "            end\n",
    "    #         print(vertices[ivertices,:])\n",
    "    #         println(line)\n",
    "    #         println(vertices[1:10,:])\n",
    "\n",
    "            ivertices = ivertices + 1\n",
    "        elseif line[1] == 'f'\n",
    "            for i=2:4\n",
    "                faces[ifaces, i - 1] = parse(Int64, lsplit[i])\n",
    "            end\n",
    "            ifaces = ifaces + 1\n",
    "        else\n",
    "            println(\"Cannot parse: \", line)\n",
    "        end\n",
    "    end\n",
    "    return vertices, faces\n",
    "end\n",
    "\n",
    "function read_obj(filename)\n",
    "    \n",
    "    f = open(filename);\n",
    "    lines = readlines(f)\n",
    "    nvertices, nfaces = get_obj_metainfo(lines)\n",
    "#     println(nvertices, \" \", nfaces)\n",
    "    vertices, faces = get_obj_vertices_and_faces(lines, nvertices, nfaces)\n",
    "#     println(nvertices, \" \", nfaces)\n",
    "    return vertices, faces\n",
    "end\n",
    "\n",
    "# TODO delete\n",
    "# filename = \"../test/smallbb2.obj\"\n",
    "# vertices, faces = read_obj(filename)\n"
   ]
  },
  {
   "cell_type": "code",
   "execution_count": 197,
   "metadata": {},
   "outputs": [
    {
     "data": {
      "text/plain": [
       "check_vf (generic function with 2 methods)"
      ]
     },
     "execution_count": 197,
     "metadata": {},
     "output_type": "execute_result"
    }
   ],
   "source": [
    "function check_vf(vertices, faces, display=false)\n",
    "    \"\"\"\n",
    "    Analyse limits of vertexes and faces\n",
    "    \"\"\"\n",
    "\n",
    "    mn = minimum(faces)\n",
    "    mx = maximum(faces)\n",
    "    vn = size(vertices, 1)\n",
    "    if mn < 1\n",
    "        println(\"vertex index lower than 1\")\n",
    "        println(\"faces min $(mn), faces max $(mx), vertex number $(vn)\")\n",
    "    end\n",
    "    if mx < vn\n",
    "        println(\"vertex index index higher than voxel number\")\n",
    "        println(\"faces min $(mn), faces max $(mx), vertex number $(vn)\")\n",
    "    end\n",
    "    if display\n",
    "        println(\"faces min $(mn), faces max $(mx), vertex number $(vn)\")\n",
    "    end\n",
    "end\n",
    "\n",
    "    "
   ]
  },
  {
   "cell_type": "markdown",
   "metadata": {},
   "source": [
    "# Check Julia"
   ]
  },
  {
   "cell_type": "markdown",
   "metadata": {},
   "source": [
    "## Vertices"
   ]
  },
  {
   "cell_type": "code",
   "execution_count": 112,
   "metadata": {},
   "outputs": [
    {
     "data": {
      "text/plain": [
       "1192×3 Array{Float64,2}:\n",
       " 1.0  2.0  1.0\n",
       " 2.0  2.0  1.0\n",
       " 1.0  3.0  1.0\n",
       " 2.0  3.0  1.0\n",
       " 1.0  2.0  1.0\n",
       " 2.0  2.0  1.0\n",
       " 1.0  2.0  2.0\n",
       " 2.0  2.0  2.0\n",
       " 1.0  2.0  1.0\n",
       " 1.0  3.0  1.0\n",
       " 1.0  2.0  2.0\n",
       " 1.0  3.0  2.0\n",
       " 2.0  2.0  1.0\n",
       " ⋮            \n",
       " 4.0  6.0  5.0\n",
       " 5.0  6.0  5.0\n",
       " 4.0  6.0  6.0\n",
       " 5.0  6.0  6.0\n",
       " 4.0  4.0  6.0\n",
       " 5.0  4.0  6.0\n",
       " 4.0  5.0  6.0\n",
       " 5.0  5.0  6.0\n",
       " 4.0  5.0  6.0\n",
       " 5.0  5.0  6.0\n",
       " 4.0  6.0  6.0\n",
       " 5.0  6.0  6.0"
      ]
     },
     "execution_count": 112,
     "metadata": {},
     "output_type": "execute_result"
    }
   ],
   "source": [
    "V = vertices"
   ]
  },
  {
   "cell_type": "markdown",
   "metadata": {},
   "source": [
    "## EV naive"
   ]
  },
  {
   "cell_type": "code",
   "execution_count": 113,
   "metadata": {},
   "outputs": [
    {
     "name": "stderr",
     "output_type": "stream",
     "text": [
      "WARNING: Method definition get_EVinds_naive(Any) in module Main at In[5]:2 overwritten at In[113]:2.\n",
      "WARNING: Method definition get_EVinds_naive(Any, Any) in module Main at In[5]:2 overwritten at In[113]:2.\n"
     ]
    },
    {
     "data": {
      "text/plain": [
       "get_EVinds_naive (generic function with 2 methods)"
      ]
     },
     "execution_count": 113,
     "metadata": {},
     "output_type": "execute_result"
    }
   ],
   "source": [
    "function get_EVinds_naive(faces, nfaces=nothing)\n",
    "    if nfaces == nothing\n",
    "        nfaces = size(faces,1)\n",
    "    end\n",
    "    # Eset = Set()\n",
    "    Einds = []\n",
    "    EVinds = []\n",
    "    FEinds = Array(Int64, nfaces, 3)\n",
    "\n",
    "    for i = 1:nfaces\n",
    "\n",
    "        push!(EVinds, sort([faces[i, 1], faces[i, 2]]))\n",
    "        push!(EVinds, sort([faces[i, 2], faces[i, 3]]))\n",
    "        push!(EVinds, sort([faces[i, 3], faces[i, 1]]))\n",
    "\n",
    "        FEinds[i, :] = [(i-1)*3 + 1, (i-1)*3 + 2,(i-1)*3 + 3]\n",
    "\n",
    "    end\n",
    "\n",
    "    return EVinds\n",
    "end\n",
    "# Epl = EVpl\n"
   ]
  },
  {
   "cell_type": "code",
   "execution_count": 114,
   "metadata": {},
   "outputs": [
    {
     "name": "stderr",
     "output_type": "stream",
     "text": [
      "WARNING: Method definition get_FElar_naive(Any) in module Main at In[40]:2 overwritten at In[114]:5.\n"
     ]
    },
    {
     "data": {
      "text/plain": [
       "get_FElar_naive (generic function with 3 methods)"
      ]
     },
     "execution_count": 114,
     "metadata": {},
     "output_type": "execute_result"
    }
   ],
   "source": [
    "# tohle bude patrně blbost\n",
    "# nzind2sparse(nzind)\n",
    "function get_FElar_naive(nfaces)\n",
    "\n",
    "    FElar = spzeros(Int8, nfaces, (3*(nfaces)))\n",
    "    for i = 1:nfaces\n",
    "        FElar[i, (i-1)*3 + 1] = 1\n",
    "        FElar[i, (i-1)*3 + 2] = 1\n",
    "        FElar[i, (i-1)*3 + 3] = 1\n",
    "    end\n",
    "    return FElar\n",
    "end\n"
   ]
  },
  {
   "cell_type": "markdown",
   "metadata": {},
   "source": [
    "# EV no double edges"
   ]
  },
  {
   "cell_type": "code",
   "execution_count": 115,
   "metadata": {},
   "outputs": [
    {
     "data": {
      "text/plain": [
       "6"
      ]
     },
     "execution_count": 115,
     "metadata": {},
     "output_type": "execute_result"
    }
   ],
   "source": [
    "faces = hexagon_faces\n",
    "nfaces = size(hexagon_faces, 1)"
   ]
  },
  {
   "cell_type": "code",
   "execution_count": 116,
   "metadata": {},
   "outputs": [
    {
     "name": "stderr",
     "output_type": "stream",
     "text": [
      "WARNING: Method definition bool2sgn(Any) in module Main at In[8]:2 overwritten at In[116]:2.\n",
      "WARNING: Method definition face_orientation(Any) in module Main at In[8]:12 overwritten at In[116]:12.\n"
     ]
    }
   ],
   "source": [
    "function bool2sgn(bl)\n",
    "    if (bl) \n",
    "        a1 = 1\n",
    "    else\n",
    "        a1 = -1\n",
    "    end\n",
    "    \n",
    "    return a1\n",
    "end\n",
    "\n",
    "function face_orientation(face)\n",
    "    a1 = face[1] > face[2] \n",
    "    a2 = face[2] > face[3] \n",
    "    a3 = face[3] > face[1]\n",
    "    signum = bool2sgn(a1) * bool2sgn(a2) * bool2sgn(a3)\n",
    "    return signum\n",
    "end\n",
    "    \n",
    "#test\n",
    "assert(1 == face_orientation([1 2 3]))\n",
    "assert(-1 == face_orientation([1 3 2]))"
   ]
  },
  {
   "cell_type": "code",
   "execution_count": 117,
   "metadata": {},
   "outputs": [
    {
     "name": "stderr",
     "output_type": "stream",
     "text": [
      "WARNING: Method definition iter_edge(Any, Any, Any) in module Main at In[9]:9 overwritten at In[117]:9.\n",
      "WARNING: Method definition EVinv_to_EVinds(Any, Any) in module Main at In[9]:27 overwritten at In[117]:27.\n",
      "WARNING: Method definition get_FEinds_and_EVinv(Any, Any) in module Main at In[9]:40 overwritten at In[117]:40.\n",
      "WARNING: Method definition convert_to_FElar(Any, Any, Any, Any) in module Main at In[9]:74 overwritten at In[117]:74.\n",
      "WARNING: Method definition get_FEinds_and_EVinds(Any) in module Main at In[9]:94 overwritten at In[117]:94.\n",
      "WARNING: Method definition get_FEinds_and_EVinds(Any, Any) in module Main at In[9]:94 overwritten at In[117]:94.\n",
      "WARNING: Method definition convert_to_EVlar(Any, Any, Any) in module Main at In[9]:103 overwritten at In[117]:103.\n",
      "WARNING: Method definition to_lar(Any, Any) in module Main at In[9]:115 overwritten at In[117]:115.\n"
     ]
    },
    {
     "data": {
      "text/plain": [
       "to_lar (generic function with 1 method)"
      ]
     },
     "execution_count": 117,
     "metadata": {},
     "output_type": "execute_result"
    }
   ],
   "source": [
    "\n",
    "# function get_EVinds(faces, nfaces=nothing)\n",
    "#     if nfaces == nothing\n",
    "#         nfaces = size(faces,1)\n",
    "#     end\n",
    "    # Eset = Set()\n",
    "\n",
    "function iter_edge(edge, EVinv, iedges)\n",
    "    \"\"\"\n",
    "    Add edge to EVinds_dict if it is not there end return edge_id.\n",
    "    \"\"\"\n",
    "    # edge1\n",
    "    edge_tuple = tuple(edge[:]...)\n",
    "    if haskey(EVinv, edge_tuple)\n",
    "        edge_id = EVinv[edge_tuple]\n",
    "    else\n",
    "        iedges = iedges + 1\n",
    "        EVinv[edge_tuple] = iedges\n",
    "        edge_id = iedges\n",
    "    end\n",
    "    edge1id = edge_id\n",
    "    \n",
    "    return edge_id, edge_tuple, iedges\n",
    "end\n",
    "\n",
    "function EVinv_to_EVinds(EVinv, nedges)\n",
    "    \"\"\"\n",
    "    EVinv: inverse edge to vertes. Dictionary where key is tuple with vertex index and value is edge id.\n",
    "    \"\"\"\n",
    "    EVinds = Array(Int64, nedges, 2)\n",
    "    for pair in EVinv\n",
    "        edge, edgeid = pair\n",
    "        EVinds[edgeid, 1] = edge[1]\n",
    "        EVinds[edgeid, 2] = edge[2]\n",
    "    end\n",
    "    return EVinds\n",
    "end\n",
    "\n",
    "function get_FEinds_and_EVinv(faces, nfaces)\n",
    "    \"\"\"\n",
    "    :faces: Array nfaces x 3\n",
    "    \n",
    "    Return\n",
    "    FEinds: face to edge array. Contain indexes of edges\n",
    "    EVinv: inverse edge to vertes. Dictionary where key is tuple with vertex index and value is edge id.\n",
    "    \"\"\"\n",
    "# Create list of unique edges and create FEinds\n",
    "# Keep order of vertex in faces. It is important for face orientation.\n",
    "    Einds = []\n",
    "    EVinv = Dict()\n",
    "    FEinds = Array(Int64, nfaces, 3)\n",
    "    iedges = 0\n",
    "    for i = 1:nfaces\n",
    "        face = sort(faces[i,:])\n",
    "\n",
    "        # edge1\n",
    "        edge = [face[1], face[2]]\n",
    "        edge1_id, edge_tuple, iedges = iter_edge(edge, EVinv, iedges)\n",
    "\n",
    "        edge = [face[2], face[3]]\n",
    "        edge2_id, edge_tuple, iedges = iter_edge(edge, EVinv, iedges)\n",
    "\n",
    "        edge = [face[1], face[3]]\n",
    "        edge3_id, edge_tuple, iedges = iter_edge(edge, EVinv, iedges)\n",
    "\n",
    "        FEinds[i, :] = [edge1_id, edge2_id, edge3_id]\n",
    "\n",
    "    end\n",
    "    nedges = iedges\n",
    "    return FEinds, EVinv, nedges\n",
    "end\n",
    "\n",
    "function convert_to_FElar(faces, FEinds, nfaces, nedges)\n",
    "    FElar = spzeros(Int8, nfaces, nedges)\n",
    "    for i = 1:nfaces\n",
    "        face_orient = face_orientation(faces[i,:])\n",
    "#         println(face_orient)\n",
    "        edges_inds = FEinds[i,:]\n",
    "        FElar[i, edges_inds[1]] = face_orient * 1\n",
    "        FElar[i, edges_inds[2]] = face_orient * 1\n",
    "        FElar[i, edges_inds[3]] = face_orient * -1\n",
    "\n",
    "        #     face_orient = face_orientation(faces[i,:])\n",
    "        #     face = sort(faces[i,:])\n",
    "        #     edge = [face[1], face[2]]\n",
    "        #     edge_tuple = tuple(edge[:]...)  \n",
    "    end\n",
    "    return FElar\n",
    "\n",
    "end\n",
    "\n",
    "\n",
    "function get_FEinds_and_EVinds(faces, nfaces=nothing)\n",
    "    if nfaces == nothing\n",
    "        nfaces = size(faces,1)\n",
    "    end\n",
    "    FEinds, EVinv, nedges = get_FEinds_and_EVinv(faces, nfaces)\n",
    "    EVinds = EVinv_to_EVinds(EVinv, nedges)\n",
    "    return FEinds, EVinds\n",
    "end\n",
    "\n",
    "function convert_to_EVlar(EVinds, nedges, nvertices)\n",
    "    EVlar = spzeros(Int8, nedges, nvertices)\n",
    "    for i in 1:size(EVlar, 1)\n",
    "        EVlar[i, EVinds[i, 1]] = -1\n",
    "        EVlar[i, EVinds[i, 2]] = 1\n",
    "    end\n",
    "    return EVlar\n",
    "end\n",
    "#     FElar = get_FElar(faces, FEinds, nfaces, nedges)\n",
    "#     return EVinds\n",
    "# end\n",
    "\n",
    "function get_EVlar_FElar(vertices, faces)\n",
    "    FEinds, EVinds = get_FEinds_and_EVinds(faces)\n",
    "    nedges = size(EVinds, 1)\n",
    "    nfaces = size(faces, 1)\n",
    "    nvertices = size(vertices, 1)\n",
    "    FElar = convert_to_FElar(faces, FEinds, nfaces, nedges)\n",
    "#     FElar = convert_to_FElar(faces, FEinds, nfaces, nedges)\n",
    "    EVlar = convert_to_EVlar(EVinds, nedges, nvertices)\n",
    "    \n",
    "    return EVlar, FElar\n",
    "end\n",
    "\n",
    "function to_lar(vertices, faces)\n",
    "    EVlar, FElar = get_EVlar_FElar(vertices, faces)\n",
    "return vertices, EVlar, FElar\n",
    "    "
   ]
  },
  {
   "cell_type": "code",
   "execution_count": 118,
   "metadata": {
    "collapsed": true
   },
   "outputs": [],
   "source": [
    "# get_FEinds_and_EVinv(hexagon_faces, size(hexagon_faces, 1))"
   ]
  },
  {
   "cell_type": "code",
   "execution_count": 119,
   "metadata": {
    "collapsed": true
   },
   "outputs": [],
   "source": [
    "\n",
    "# test\n",
    "FEinds, EVinds = get_FEinds_and_EVinds(hexagon_faces)\n",
    "assert(size(FEinds,1) == 6)\n",
    "assert(size(FEinds,2) == 3)\n",
    "assert(size(EVinds,1) == 12)\n",
    "assert(size(EVinds,2) == 2)\n",
    "# full(EVinds)\n"
   ]
  },
  {
   "cell_type": "markdown",
   "metadata": {},
   "source": [
    "# TODO FElar EVlar"
   ]
  },
  {
   "cell_type": "code",
   "execution_count": 120,
   "metadata": {},
   "outputs": [
    {
     "data": {
      "text/plain": [
       "7"
      ]
     },
     "execution_count": 120,
     "metadata": {},
     "output_type": "execute_result"
    }
   ],
   "source": [
    "nedges = size(EVinds, 1)\n",
    "nfaces = size(hexagon_faces, 1)\n",
    "nvertices = size(hexagon_vertices, 1)"
   ]
  },
  {
   "cell_type": "code",
   "execution_count": 121,
   "metadata": {},
   "outputs": [
    {
     "data": {
      "text/plain": [
       "6×12 Array{Int8,2}:\n",
       "  1   1  -1   0   0   0   0   0   0   0   0  0\n",
       "  0  -1   0  -1   1   0   0   0   0   0   0  0\n",
       "  0   0   0   0  -1  -1   1   0   0   0   0  0\n",
       "  0   0   0   0   0   0  -1  -1   1   0   0  0\n",
       "  0   0   0   0   0   0   0   0  -1  -1   1  0\n",
       " -1   0   0   0   0   0   0   0   0   0  -1  1"
      ]
     },
     "execution_count": 121,
     "metadata": {},
     "output_type": "execute_result"
    }
   ],
   "source": [
    "FElar = convert_to_FElar(hexagon_faces, FEinds, nfaces, nedges)\n",
    "full(FElar)"
   ]
  },
  {
   "cell_type": "code",
   "execution_count": 122,
   "metadata": {},
   "outputs": [
    {
     "data": {
      "text/plain": [
       "12×7 sparse matrix with 24 Int8 nonzero entries:\n",
       "\t[1 ,  1]  =  -1\n",
       "\t[3 ,  1]  =  -1\n",
       "\t[12,  1]  =  -1\n",
       "\t[1 ,  2]  =  1\n",
       "\t[2 ,  2]  =  -1\n",
       "\t[5 ,  2]  =  -1\n",
       "\t[7 ,  2]  =  -1\n",
       "\t[9 ,  2]  =  -1\n",
       "\t[11,  2]  =  -1\n",
       "\t[2 ,  3]  =  1\n",
       "\t⋮\n",
       "\t[5 ,  4]  =  1\n",
       "\t[6 ,  4]  =  -1\n",
       "\t[6 ,  5]  =  1\n",
       "\t[7 ,  5]  =  1\n",
       "\t[8 ,  5]  =  -1\n",
       "\t[8 ,  6]  =  1\n",
       "\t[9 ,  6]  =  1\n",
       "\t[10,  6]  =  -1\n",
       "\t[10,  7]  =  1\n",
       "\t[11,  7]  =  1\n",
       "\t[12,  7]  =  1"
      ]
     },
     "execution_count": 122,
     "metadata": {},
     "output_type": "execute_result"
    }
   ],
   "source": [
    "\n",
    "EVlar = convert_to_EVlar(EVinds, nedges, nvertices)"
   ]
  },
  {
   "cell_type": "code",
   "execution_count": 123,
   "metadata": {
    "collapsed": true
   },
   "outputs": [],
   "source": [
    "# Visualization "
   ]
  },
  {
   "cell_type": "code",
   "execution_count": 183,
   "metadata": {},
   "outputs": [
    {
     "name": "stderr",
     "output_type": "stream",
     "text": [
      "WARNING: Method definition lar2plasm(Any, Any) in module Main at In[154]:2 overwritten at /home/mjirik/projects/lario3d.jl/src/plasm.jl:2.\n",
      "WARNING: Method definition lar2py(Any, Any) in module Main at In[154]:46 overwritten at /home/mjirik/projects/lario3d.jl/src/plasm.jl:39.\n",
      "WARNING: Method definition visualize_numbers(Any, Any) in module Main at In[154]:63 overwritten at /home/mjirik/projects/lario3d.jl/src/plasm.jl:57.\n",
      "WARNING: Method definition visualize_boundary(Any, Any, Any) in module Main at In[154]:83 overwritten at /home/mjirik/projects/lario3d.jl/src/plasm.jl:71.\n"
     ]
    },
    {
     "data": {
      "text/plain": [
       "visualize_boundary (generic function with 1 method)"
      ]
     },
     "execution_count": 183,
     "metadata": {},
     "output_type": "execute_result"
    }
   ],
   "source": [
    "\n",
    "include(\"../src/plasm.jl\")"
   ]
  },
  {
   "cell_type": "code",
   "execution_count": 125,
   "metadata": {},
   "outputs": [
    {
     "name": "stdout",
     "output_type": "stream",
     "text": [
      "faces min 1, faces max 7, vertex number 7\n"
     ]
    }
   ],
   "source": [
    "vf_limits(hexagon_vertices, hexagon_faces, true)"
   ]
  },
  {
   "cell_type": "code",
   "execution_count": 126,
   "metadata": {},
   "outputs": [
    {
     "name": "stdout",
     "output_type": "stream",
     "text": [
      "1\n",
      "3\n",
      "4\n",
      "5\n",
      "6\n",
      "2\n",
      "XgeModule::init_started\n",
      "Creating shared GLCanvas...\n",
      "shared GLCanvas created\n",
      "XgeModule::init_finished\n",
      "Evaluating fenvs.py..\n",
      "('...fenvs.py imported in', 0.007852000000000081, 'seconds')\n",
      "centre\n",
      "centre\n",
      "centre\n",
      "Building batches from Hpc....\n",
      "...done in 2 msec\n",
      "Optimizing the octree....\n",
      "   Number of input batches 235\n",
      "   total number vertices    130\n",
      "   Number of output batches 65\n",
      "   Batch vertex media       2\n",
      "...done in 0 msec\n",
      "Building octree from 65 batches....\n",
      "Scene number of nodes of the octree 130\n",
      "Scene max depth                     4\n",
      "Scene number of batches             65\n",
      "...done in 0 msec\n"
     ]
    }
   ],
   "source": [
    "\n",
    "visualize_numbers([hexagon_vertices, EVlar, FElar], 2)"
   ]
  },
  {
   "cell_type": "markdown",
   "metadata": {},
   "source": [
    "![hexagon](https://raw.githubusercontent.com/mjirik/lario3d.jl/master/graphics/hexagon_lario3djl.png)"
   ]
  },
  {
   "cell_type": "code",
   "execution_count": 184,
   "metadata": {},
   "outputs": [
    {
     "name": "stdout",
     "output_type": "stream",
     "text": [
      "1\n",
      "3\n",
      "4\n",
      "5\n",
      "6\n",
      "2\n",
      "XgeModule::init_started\n",
      "Creating shared GLCanvas...\n",
      "shared GLCanvas created\n",
      "XgeModule::init_finished\n",
      "Evaluating fenvs.py..\n",
      "('...fenvs.py imported in', 0.00825599999999993, 'seconds')\n",
      "centre\n",
      "centre\n",
      "centre\n",
      "Building batches from Hpc....\n",
      "...done in 2 msec\n",
      "Optimizing the octree....\n",
      "   Number of input batches 235\n",
      "   total number vertices    130\n",
      "   Number of output batches 65\n",
      "   Batch vertex media       2\n",
      "...done in 0 msec\n",
      "Building octree from 65 batches....\n",
      "Scene number of nodes of the octree 130\n",
      "Scene max depth                     4\n",
      "Scene number of batches             65\n",
      "...done in 0 msec\n"
     ]
    }
   ],
   "source": [
    "ev, fe = to_lar(hexagon_vertices, hexagon_faces)\n",
    "\n",
    "visualize_numbers([hexagon_vertices, ev, fe], 2)"
   ]
  },
  {
   "cell_type": "code",
   "execution_count": 200,
   "metadata": {},
   "outputs": [
    {
     "name": "stderr",
     "output_type": "stream",
     "text": [
      "WARNING: Method definition check_vevfe(Any, Any, Any) in module Main at In[195]:3 overwritten at In[200]:3.\n"
     ]
    },
    {
     "data": {
      "text/plain": [
       "check_vevfe (generic function with 1 method)"
      ]
     },
     "execution_count": 200,
     "metadata": {},
     "output_type": "execute_result"
    }
   ],
   "source": [
    "function check_vevfe(vertices, ev, fe)\n",
    "\n",
    "    vnv = size(vertices, 1)\n",
    "    fnfe = size(fe, 1)\n",
    "    enfe = size(fe, 2)\n",
    "    enev = size(ev, 1)\n",
    "    vnev = size(ev, 2)\n",
    "    \n",
    "\n",
    "    if enfe != enev\n",
    "        println(\"Different number of edges in EV and FE\")\n",
    "    end\n",
    "    if vnv != vnev\n",
    "        println(\"Different number of vertices in EV and V\")\n",
    "    end\n",
    "\n",
    "    if -1 != minimum(fe)\n",
    "        println(\"Minimum value of FE should be -1 and it is $(minimum(fe))\")\n",
    "    end\n",
    "    if 1 != maximum(fe)\n",
    "        println(\"Maximum value of FE should be 1 and it is $(maximum(fe))\")\n",
    "    end\n",
    "    if -1 != minimum(ev)\n",
    "        println(\"Minimum value of EV should be -1 and it is $(minimum(fe))\")\n",
    "    end\n",
    "    if 1 != maximum(ev)\n",
    "        println(\"Maximum value of EV should be 1 and it is $(maximum(fe))\")\n",
    "    end\n",
    "\n",
    "\n",
    "    if eltype(fe) != Int8\n",
    "        println(\"Element type of FE should be Int8 and it is $(eltype(fe))\")\n",
    "    end\n",
    "\n",
    "    if eltype(ev) != Int8\n",
    "        println(\"Element type of EV should be Int8 and it is $(eltype(ev))\")\n",
    "    end\n",
    "    \n",
    "end\n",
    "\n",
    "\n",
    "# vn = size(vertices, 1)\n",
    "# if mn < 1\n",
    "#     println(\"vertex index lower than 1\")\n",
    "#     println(\"faces min $(mn), faces max $(mx), vertex number $(vn)\")\n",
    "# end"
   ]
  },
  {
   "cell_type": "code",
   "execution_count": 201,
   "metadata": {},
   "outputs": [
    {
     "data": {
      "text/plain": [
       "6×12 Array{Int8,2}:\n",
       "  1   1  -1   0   0   0   0   0   0   0   0  0\n",
       "  0  -1   0  -1   1   0   0   0   0   0   0  0\n",
       "  0   0   0   0  -1  -1   1   0   0   0   0  0\n",
       "  0   0   0   0   0   0  -1  -1   1   0   0  0\n",
       "  0   0   0   0   0   0   0   0  -1  -1   1  0\n",
       " -1   0   0   0   0   0   0   0   0   0  -1  1"
      ]
     },
     "execution_count": 201,
     "metadata": {},
     "output_type": "execute_result"
    }
   ],
   "source": [
    "full(fe)"
   ]
  },
  {
   "cell_type": "code",
   "execution_count": 202,
   "metadata": {},
   "outputs": [
    {
     "data": {
      "text/plain": [
       "298"
      ]
     },
     "execution_count": 202,
     "metadata": {},
     "output_type": "execute_result"
    }
   ],
   "source": [
    "\n",
    "filename = \"../test/smallbb2.obj\"\n",
    "vertices, faces = read_obj(filename)\n",
    "nvertices = size(vertices,1)\n",
    "nfaces = size(faces,1)\n",
    "\n",
    "# assert(nvertices == 1192)\n",
    "# assert(nfaces == 298)\n",
    "# println(nfaces , \" \" , nvertices)"
   ]
  },
  {
   "cell_type": "code",
   "execution_count": 205,
   "metadata": {},
   "outputs": [
    {
     "name": "stdout",
     "output_type": "stream",
     "text": [
      "faces min 1, faces max 1192, vertex number 1192\n",
      "1\n",
      "5\n",
      "9\n",
      "13\n",
      "17\n",
      "21\n",
      "25\n",
      "29\n",
      "33\n",
      "37\n",
      "41\n",
      "45\n",
      "49\n",
      "53\n",
      "57\n",
      "61\n",
      "65\n",
      "69\n",
      "73\n",
      "77\n",
      "81\n",
      "85\n",
      "89\n",
      "93\n",
      "97\n",
      "101\n",
      "105\n",
      "109\n",
      "113\n",
      "117\n",
      "121\n",
      "125\n",
      "129\n",
      "133\n",
      "137\n",
      "141\n",
      "145\n",
      "149\n",
      "153\n",
      "157\n",
      "161\n",
      "165\n",
      "169\n",
      "173\n",
      "177\n",
      "181\n",
      "185\n",
      "189\n",
      "193\n",
      "197\n",
      "201\n",
      "205\n",
      "209\n",
      "213\n",
      "217\n",
      "221\n",
      "225\n",
      "229\n",
      "233\n",
      "237\n",
      "241\n",
      "245\n",
      "249\n",
      "253\n",
      "257\n",
      "261\n",
      "265\n",
      "269\n",
      "273\n",
      "277\n",
      "281\n",
      "285\n",
      "289\n",
      "293\n",
      "297\n",
      "301\n",
      "305\n",
      "309\n",
      "313\n",
      "317\n",
      "321\n",
      "325\n",
      "329\n",
      "333\n",
      "337\n",
      "341\n",
      "345\n",
      "349\n",
      "353\n",
      "357\n",
      "361\n",
      "365\n",
      "369\n",
      "373\n",
      "377\n",
      "381\n",
      "385\n",
      "389\n",
      "393\n",
      "397\n",
      "401\n",
      "405\n",
      "409\n",
      "413\n",
      "417\n",
      "421\n",
      "425\n",
      "429\n",
      "433\n",
      "437\n",
      "441\n",
      "445\n",
      "449\n",
      "453\n",
      "457\n",
      "461\n",
      "465\n",
      "469\n",
      "473\n",
      "477\n",
      "481\n",
      "485\n",
      "489\n",
      "493\n",
      "497\n",
      "501\n",
      "505\n",
      "509\n",
      "513\n",
      "517\n",
      "521\n",
      "525\n",
      "529\n",
      "533\n",
      "537\n",
      "541\n",
      "545\n",
      "549\n",
      "553\n",
      "557\n",
      "561\n",
      "565\n",
      "569\n",
      "573\n",
      "577\n",
      "581\n",
      "585\n",
      "589\n",
      "593\n",
      "597\n",
      "601\n",
      "605\n",
      "609\n",
      "613\n",
      "617\n",
      "621\n",
      "625\n",
      "629\n",
      "633\n",
      "637\n",
      "641\n",
      "645\n",
      "649\n",
      "653\n",
      "657\n",
      "661\n",
      "665\n",
      "669\n",
      "673\n",
      "677\n",
      "681\n",
      "685\n",
      "689\n",
      "693\n",
      "697\n",
      "701\n",
      "705\n",
      "709\n",
      "713\n",
      "717\n",
      "721\n",
      "725\n",
      "729\n",
      "733\n",
      "737\n",
      "741\n",
      "745\n",
      "749\n",
      "753\n",
      "757\n",
      "761\n",
      "765\n",
      "769\n",
      "773\n",
      "777\n",
      "781\n",
      "785\n",
      "789\n",
      "793\n",
      "797\n",
      "801\n",
      "805\n",
      "809\n",
      "813\n",
      "817\n",
      "821\n",
      "825\n",
      "829\n",
      "833\n",
      "837\n",
      "841\n",
      "845\n",
      "849\n",
      "853\n",
      "857\n",
      "861\n",
      "865\n",
      "869\n",
      "873\n",
      "877\n",
      "881\n",
      "885\n",
      "889\n",
      "893\n",
      "897\n",
      "901\n",
      "905\n",
      "909\n",
      "913\n",
      "917\n",
      "921\n",
      "925\n",
      "929\n",
      "933\n",
      "937\n",
      "941\n",
      "945\n",
      "949\n",
      "953\n",
      "957\n",
      "961\n",
      "965\n",
      "969\n",
      "973\n",
      "977\n",
      "981\n",
      "985\n",
      "989\n",
      "993\n",
      "997\n",
      "1001\n",
      "1005\n",
      "1009\n",
      "1013\n",
      "1017\n",
      "1021\n",
      "1025\n",
      "1029\n",
      "1033\n",
      "1037\n",
      "1041\n",
      "1045\n",
      "1049\n",
      "1053\n",
      "1057\n",
      "1061\n",
      "1065\n",
      "1069\n",
      "1073\n",
      "1077\n",
      "1081\n",
      "1085\n",
      "1089\n",
      "1093\n",
      "1097\n",
      "1101\n",
      "1105\n",
      "1109\n",
      "1113\n",
      "1117\n",
      "1121\n",
      "1125\n",
      "1129\n",
      "1133\n",
      "1137\n",
      "1141\n",
      "1145\n",
      "1149\n",
      "1153\n",
      "1157\n",
      "1161\n",
      "1165\n",
      "1169\n",
      "1173\n",
      "1177\n",
      "1181\n",
      "1185\n",
      "1189\n",
      "XgeModule::init_started\n",
      "Creating shared GLCanvas...\n",
      "shared GLCanvas created\n",
      "XgeModule::init_finished\n",
      "Evaluating fenvs.py..\n",
      "('...fenvs.py imported in', 0.007543999999999995, 'seconds')\n",
      "centre\n",
      "centre\n",
      "centre\n",
      "Building batches from Hpc....\n",
      "...done in 373 msec\n",
      "Optimizing the octree....\n",
      "   Number of input batches 55908\n",
      "   total number vertices    4536\n",
      "   Number of output batches 2268\n",
      "   Batch vertex media       2\n",
      "...done in 142 msec\n",
      "Building octree from 2268 batches....\n",
      "Scene number of nodes of the octree 1701\n",
      "Scene max depth                     4\n",
      "Scene number of batches             2268\n",
      "...done in 5 msec\n"
     ]
    }
   ],
   "source": [
    "EVlar, FElar = to_lar(vertices, faces)\n",
    "\n",
    "check_vf(vertices, faces, true)\n",
    "check_vevfe(vertices, EVlar, FElar)\n",
    "visualize_numbers([vertices, EVlar, FElar], 2)"
   ]
  },
  {
   "cell_type": "code",
   "execution_count": 130,
   "metadata": {},
   "outputs": [
    {
     "ename": "LoadError",
     "evalue": "UndefVarError: dict not defined",
     "output_type": "error",
     "traceback": [
      "UndefVarError: dict not defined",
      "",
      " in include_string(::String, ::String) at ./loading.jl:441"
     ]
    }
   ],
   "source": [
    "full(x)"
   ]
  },
  {
   "cell_type": "code",
   "execution_count": 131,
   "metadata": {},
   "outputs": [
    {
     "name": "stdout",
     "output_type": "stream",
     "text": [
      "Dict{Any,Any}(Pair{Any,Any}(\"aho\",[5,7]),Pair{Any,Any}((11,15),5),Pair{Any,Any}((12,17),\"yop\"),Pair{Any,Any}(\"ahoi\",[3,12]))\n",
      "true\n"
     ]
    },
    {
     "data": {
      "text/plain": [
       "\"yop\""
      ]
     },
     "execution_count": 131,
     "metadata": {},
     "output_type": "execute_result"
    }
   ],
   "source": [
    "dctd = Dict()\n",
    "dctd[\"aho\"] = [5, 7]\n",
    "dctd[\"ahoi\"] = [3, 12]\n",
    "\n",
    "dctd[tuple(11, 15)] = 5\n",
    "dctd[tuple([12, 17]...)] = \"yop\"\n",
    "\n",
    "println(dctd)\n",
    "haskey(dctd, \"aho\")\n",
    "println(haskey(dctd, (11, 15)))\n",
    "\n",
    "\n",
    "\n",
    "dctd[(12,17)]\n"
   ]
  },
  {
   "cell_type": "code",
   "execution_count": 132,
   "metadata": {},
   "outputs": [
    {
     "data": {
      "text/plain": [
       "6×18 sparse matrix with 18 Int8 nonzero entries:\n",
       "\t[1 ,  1]  =  1\n",
       "\t[1 ,  2]  =  1\n",
       "\t[1 ,  3]  =  1\n",
       "\t[2 ,  4]  =  1\n",
       "\t[2 ,  5]  =  1\n",
       "\t[2 ,  6]  =  1\n",
       "\t[3 ,  7]  =  1\n",
       "\t[3 ,  8]  =  1\n",
       "\t[3 ,  9]  =  1\n",
       "\t[4 , 10]  =  1\n",
       "\t[4 , 11]  =  1\n",
       "\t[4 , 12]  =  1\n",
       "\t[5 , 13]  =  1\n",
       "\t[5 , 14]  =  1\n",
       "\t[5 , 15]  =  1\n",
       "\t[6 , 16]  =  1\n",
       "\t[6 , 17]  =  1\n",
       "\t[6 , 18]  =  1"
      ]
     },
     "execution_count": 132,
     "metadata": {},
     "output_type": "execute_result"
    }
   ],
   "source": [
    "#blbost\n",
    "EVinds = get_EVinds_naive(hexagon_faces)\n",
    "FElar = get_FElar_naive(size(hexagon_faces, 1))"
   ]
  },
  {
   "cell_type": "markdown",
   "metadata": {},
   "source": [
    "## FElar"
   ]
  },
  {
   "cell_type": "code",
   "execution_count": 133,
   "metadata": {},
   "outputs": [
    {
     "data": {
      "text/plain": [
       "3-element Array{Int64,1}:\n",
       " 3\n",
       " 5\n",
       " 1"
      ]
     },
     "execution_count": 133,
     "metadata": {},
     "output_type": "execute_result"
    }
   ],
   "source": [
    "# face orientation\n",
    "test_face1 = [1, 3, 5]\n",
    "test_face2 = [3, 5, 1]\n",
    "\n"
   ]
  },
  {
   "cell_type": "code",
   "execution_count": 134,
   "metadata": {},
   "outputs": [
    {
     "ename": "LoadError",
     "evalue": "UndefVarError: FEpl not defined",
     "output_type": "error",
     "traceback": [
      "UndefVarError: FEpl not defined",
      "",
      " in include_string(::String, ::String) at ./loading.jl:441"
     ]
    }
   ],
   "source": [
    "# FE = get_FElar_naive(nfaces)\n",
    "FEpl"
   ]
  },
  {
   "cell_type": "code",
   "execution_count": 135,
   "metadata": {
    "collapsed": true
   },
   "outputs": [],
   "source": [
    "# EVpl = collect(Eset)"
   ]
  },
  {
   "cell_type": "code",
   "execution_count": 136,
   "metadata": {},
   "outputs": [
    {
     "name": "stderr",
     "output_type": "stream",
     "text": [
      "WARNING: Method definition arrayofarray2arrayd2d(Any) in module Main at In[27]:2 overwritten at In[136]:2.\n"
     ]
    },
    {
     "data": {
      "text/plain": [
       "arrayofarray2arrayd2d (generic function with 1 method)"
      ]
     },
     "execution_count": 136,
     "metadata": {},
     "output_type": "execute_result"
    }
   ],
   "source": [
    "function arrayofarray2arrayd2d(d)\n",
    "    data = Array(Float64,length(d),length(d[1]))\n",
    "    for i in 1:length(d)\n",
    "        for j in 1:length(d[1])\n",
    "            data[i,j] = d[i][j]\n",
    "        end\n",
    "    end\n",
    "    return data\n",
    "end"
   ]
  },
  {
   "cell_type": "markdown",
   "metadata": {},
   "source": [
    "## Clean vertexes"
   ]
  },
  {
   "cell_type": "code",
   "execution_count": 137,
   "metadata": {},
   "outputs": [
    {
     "data": {
      "text/plain": [
       "3-element Array{Tuple{Int64,Int64},1}:\n",
       " (1,4)\n",
       " (2,5)\n",
       " (3,6)"
      ]
     },
     "execution_count": 137,
     "metadata": {},
     "output_type": "execute_result"
    }
   ],
   "source": [
    "oo = collect(zip([1,2,3],[4,5,6]))"
   ]
  },
  {
   "cell_type": "code",
   "execution_count": 138,
   "metadata": {},
   "outputs": [
    {
     "data": {
      "text/plain": [
       "3-element Array{Tuple{Int64,Int64},1}:\n",
       " (10,1)\n",
       " (2,2) \n",
       " (3,3) "
      ]
     },
     "execution_count": 138,
     "metadata": {},
     "output_type": "execute_result"
    }
   ],
   "source": [
    "collect(zip([10,2,3], range(1,3)))"
   ]
  },
  {
   "cell_type": "code",
   "execution_count": 139,
   "metadata": {},
   "outputs": [
    {
     "data": {
      "text/plain": [
       "3-element Array{Tuple{Int64,Int64},1}:\n",
       " (2,2) \n",
       " (3,3) \n",
       " (10,1)"
      ]
     },
     "execution_count": 139,
     "metadata": {},
     "output_type": "execute_result"
    }
   ],
   "source": [
    "sort(collect(zip([10,2,3], range(1,3))))"
   ]
  },
  {
   "cell_type": "code",
   "execution_count": 140,
   "metadata": {},
   "outputs": [
    {
     "name": "stderr",
     "output_type": "stream",
     "text": [
      "WARNING: Method definition conv2array_of_float_arrays(Any) in module Main at In[31]:4 overwritten at In[140]:4.\n"
     ]
    },
    {
     "data": {
      "text/plain": [
       "conv2array_of_float_arrays (generic function with 1 method)"
      ]
     },
     "execution_count": 140,
     "metadata": {},
     "output_type": "execute_result"
    }
   ],
   "source": [
    "\n",
    "function conv2array_of_float_arrays(array2d)\n",
    "\n",
    "    test_vertex_float = float(array2d)\n",
    "\n",
    "    list_of_vertexes = Array[]\n",
    "    for i in 1:size(test_vertex_float, 1)\n",
    "        push!(list_of_vertexes, test_vertex_float[i,:])\n",
    "    end\n",
    "    return list_of_vertexes\n",
    "end\n",
    "    "
   ]
  },
  {
   "cell_type": "code",
   "execution_count": 141,
   "metadata": {},
   "outputs": [
    {
     "name": "stderr",
     "output_type": "stream",
     "text": [
      "WARNING: Method definition remove_double_vertexes_alternative(Any) in module Main at In[32]:2 overwritten at In[141]:2.\n"
     ]
    },
    {
     "data": {
      "text/plain": [
       "remove_double_vertexes_alternative (generic function with 1 method)"
      ]
     },
     "execution_count": 141,
     "metadata": {},
     "output_type": "execute_result"
    }
   ],
   "source": [
    "function remove_double_vertexes_alternative(V)\n",
    "    \"\"\" Return reduced vertex list wiht search table.\n",
    "    \n",
    "    Alternativte removing of doublefaces. Hopefully more memory efficient\n",
    "    \"\"\"\n",
    "    X = range(1, size(V,1))\n",
    "    # Vs = [v for (v, x) in VIsorted]\n",
    "    # Is = [x for (v, x) in VIsorted]\n",
    "    Vs = []\n",
    "#     Is = [0]*size(V, 1)\n",
    "#     Is = zeros( Int64, size(test_vertex, 1))\n",
    "    \n",
    "    Is = Dict()\n",
    "\n",
    "    prevv = nothing\n",
    "    i = 1\n",
    "    sorted_vertex_id_x = sortperm(collect(zip(test_vertex[:,1], test_vertex[:,2])))\n",
    "               sortperm(collect(zip(test_vertex[:,1], test_vertex[:,2])))\n",
    "#     for couple in sort(collect(zip(X, conv2array_of_float_arrays(V))))\n",
    "    for x in sorted_vertex_id_x\n",
    "        v = V[x,:]\n",
    "#         x = \n",
    "#         x, v = couple\n",
    "        println(v, prevv, v.==prevv)\n",
    "        if v == prevv\n",
    "            # prev index was increased\n",
    "            Is[x] = i - 1\n",
    "        else\n",
    "            push!(Vs, v)\n",
    "            Is[x] = i\n",
    "            i = i + 1\n",
    "            prevv = v\n",
    "        end\n",
    "    end\n",
    "    \n",
    "    vertex_reduced_list = Vs\n",
    "    vertex_search_table = Is\n",
    "    return vertex_reduced_list, vertex_search_table\n",
    "end"
   ]
  },
  {
   "cell_type": "code",
   "execution_count": 142,
   "metadata": {
    "collapsed": true
   },
   "outputs": [],
   "source": [
    "\n",
    "# sortperm(collect(zip(test_vertex[:,1], test_vertex[:,2])))"
   ]
  },
  {
   "cell_type": "code",
   "execution_count": null,
   "metadata": {
    "collapsed": true
   },
   "outputs": [],
   "source": []
  },
  {
   "cell_type": "code",
   "execution_count": 143,
   "metadata": {},
   "outputs": [
    {
     "data": {
      "text/plain": [
       "5-element Array{Array,1}:\n",
       " [1.0,2.0]\n",
       " [2.0,3.0]\n",
       " [4.0,1.0]\n",
       " [2.0,3.0]\n",
       " [3.0,3.0]"
      ]
     },
     "execution_count": 143,
     "metadata": {},
     "output_type": "execute_result"
    }
   ],
   "source": [
    "vtfl = conv2array_of_float_arrays(test_vertex)\n",
    "vtfl"
   ]
  },
  {
   "cell_type": "code",
   "execution_count": 144,
   "metadata": {},
   "outputs": [
    {
     "data": {
      "text/plain": [
       "true"
      ]
     },
     "execution_count": 144,
     "metadata": {},
     "output_type": "execute_result"
    }
   ],
   "source": [
    "[1 2 3 4] == [1 2 3 4]"
   ]
  },
  {
   "cell_type": "code",
   "execution_count": 145,
   "metadata": {},
   "outputs": [
    {
     "data": {
      "text/plain": [
       "3-element Array{Int64,1}:\n",
       " 3\n",
       " 2\n",
       " 1"
      ]
     },
     "execution_count": 145,
     "metadata": {},
     "output_type": "execute_result"
    }
   ],
   "source": [
    "sortperm([(6, 2), (2, 6), (1, 3)])"
   ]
  },
  {
   "cell_type": "markdown",
   "metadata": {},
   "source": [
    "## Construct EVlar\n"
   ]
  },
  {
   "cell_type": "code",
   "execution_count": 146,
   "metadata": {},
   "outputs": [
    {
     "ename": "LoadError",
     "evalue": "UndefVarError: EVpl not defined",
     "output_type": "error",
     "traceback": [
      "UndefVarError: EVpl not defined",
      "",
      " in include_string(::String, ::String) at ./loading.jl:441"
     ]
    }
   ],
   "source": [
    "nedges = size(EVpl, 1)"
   ]
  },
  {
   "cell_type": "code",
   "execution_count": 147,
   "metadata": {},
   "outputs": [
    {
     "ename": "LoadError",
     "evalue": "UndefVarError: EVpl not defined",
     "output_type": "error",
     "traceback": [
      "UndefVarError: EVpl not defined",
      "",
      " in macro expansion; at ./In[147]:5 [inlined]",
      " in anonymous at ./<missing>:?",
      " in include_string(::String, ::String) at ./loading.jl:441"
     ]
    }
   ],
   "source": [
    "\n",
    "EVlar = spzeros(Int8, nedges , nvertices )\n",
    "\n",
    "for i = 1:nedges\n",
    "    EVlar[i, EVpl[i][1]] = -1\n",
    "    EVlar[i, EVpl[i][2]] = 1\n",
    "end\n",
    "\n",
    "EVlar\n"
   ]
  },
  {
   "cell_type": "markdown",
   "metadata": {},
   "source": [
    "# FE"
   ]
  },
  {
   "cell_type": "code",
   "execution_count": 148,
   "metadata": {},
   "outputs": [
    {
     "data": {
      "text/plain": [
       "2"
      ]
     },
     "execution_count": 148,
     "metadata": {},
     "output_type": "execute_result"
    }
   ],
   "source": [
    "faces[1,2]"
   ]
  },
  {
   "cell_type": "code",
   "execution_count": 149,
   "metadata": {},
   "outputs": [
    {
     "name": "stderr",
     "output_type": "stream",
     "text": [
      "WARNING: Method definition get_FElar_naive(Any) in module Main at In[114]:5 overwritten at In[149]:2.\n",
      "WARNING: Method definition get_FElar_naive(Any, Any) in module Main at In[40]:2 overwritten at In[149]:2.\n",
      "WARNING: Method definition get_FElar_naive(Any, Any, Any) in module Main at In[40]:2 overwritten at In[149]:2.\n"
     ]
    },
    {
     "data": {
      "text/plain": [
       "get_FElar_naive (generic function with 3 methods)"
      ]
     },
     "execution_count": 149,
     "metadata": {},
     "output_type": "execute_result"
    }
   ],
   "source": [
    "function get_FElar_naive(faces, nvertices=nothing, nfaces=nothing)\n",
    "    if nfaces == nothing\n",
    "        nfaces = size(faces,1)\n",
    "    end\n",
    "    if nvertices == nothing\n",
    "        nvertices = maximum(faces)\n",
    "    end\n",
    "    # not oriented verison of faces\n",
    "    FE = spzeros(Int8, nfaces, nvertices)\n",
    "    for i = 1:nfaces\n",
    "        FE[i, faces[i, 1]] = 1\n",
    "        FE[i, faces[i, 2]] = 1\n",
    "        FE[i, faces[i, 3]] = -1\n",
    "    end\n",
    "    \n",
    "    return FE\n",
    "end"
   ]
  },
  {
   "cell_type": "code",
   "execution_count": 150,
   "metadata": {},
   "outputs": [
    {
     "name": "stderr",
     "output_type": "stream",
     "text": [
      "WARNING: Method definition get_FElar(Any) in module Main at In[41]:3 overwritten at In[150]:3.\n",
      "WARNING: Method definition get_FElar(Any, Any) in module Main at In[41]:3 overwritten at In[150]:3.\n",
      "WARNING: Method definition get_FElar(Any, Any, Any) in module Main at In[41]:3 overwritten at In[150]:3.\n"
     ]
    },
    {
     "data": {
      "text/plain": [
       "get_FElar (generic function with 3 methods)"
      ]
     },
     "execution_count": 150,
     "metadata": {},
     "output_type": "execute_result"
    }
   ],
   "source": [
    "\n",
    "function get_FElar(faces, nvertices=nothing, nfaces=nothing)\n",
    "    if nfaces == nothing\n",
    "        nfaces = size(faces,1)\n",
    "    end\n",
    "    if nvertices == nothing\n",
    "        nvertices = maximum(faces)\n",
    "    end\n",
    "    FE = spzeros(Int8, nfaces, nvertices)\n",
    "    for i = 1:nfaces\n",
    "        sgn = face_orientation(faces[i, :])\n",
    "        ordered_face = sort(faces[i, :])\n",
    "        FE[i, ordered_face[1]] = sgn * 1\n",
    "        FE[i, ordered_face[2]] = sgn * 1\n",
    "        FE[i, ordered_face[3]] = sgn * -1\n",
    "    end\n",
    "    return FE\n",
    "end\n",
    "\n",
    "\n",
    "#test"
   ]
  },
  {
   "cell_type": "code",
   "execution_count": 151,
   "metadata": {},
   "outputs": [
    {
     "data": {
      "text/plain": [
       "6×7 Array{Int8,2}:\n",
       "  1   1  -1   0   0   0  0\n",
       "  0  -1  -1   1   0   0  0\n",
       "  0  -1   0  -1   1   0  0\n",
       "  0  -1   0   0  -1   1  0\n",
       "  0  -1   0   0   0  -1  1\n",
       " -1  -1   0   0   0   0  1"
      ]
     },
     "execution_count": 151,
     "metadata": {},
     "output_type": "execute_result"
    }
   ],
   "source": [
    "\n",
    "test_FElar = get_FElar(hexagon_faces)\n",
    "# test_FElar[2 , 4]\n",
    "full(test_FElar)\n",
    "# test_FElar.nzval"
   ]
  },
  {
   "cell_type": "code",
   "execution_count": 152,
   "metadata": {},
   "outputs": [
    {
     "data": {
      "text/plain": [
       "0.0"
      ]
     },
     "execution_count": 152,
     "metadata": {},
     "output_type": "execute_result"
    }
   ],
   "source": [
    "vertices[7,:]\n",
    "minimum(vertices)"
   ]
  },
  {
   "cell_type": "code",
   "execution_count": 153,
   "metadata": {},
   "outputs": [
    {
     "ename": "LoadError",
     "evalue": "BoundsError: attempt to access 0-element Array{Int64,1} at index [1]",
     "output_type": "error",
     "traceback": [
      "BoundsError: attempt to access 0-element Array{Int64,1} at index [1]",
      "",
      " in lar2plasm(::SparseMatrixCSC{Int8,Int64}, ::SparseMatrixCSC{Int8,Int64}) at /home/mjirik/projects/lario3d.jl/src/plasm.jl:17",
      " in visualize_numbers(::Array{AbstractArray{T,2},1}, ::Int64) at /home/mjirik/projects/lario3d.jl/src/plasm.jl:59",
      " in include_string(::String, ::String) at ./loading.jl:441"
     ]
    }
   ],
   "source": [
    "\n",
    "visualize_numbers([vertices, EVlar, FElar], 2)"
   ]
  },
  {
   "cell_type": "markdown",
   "metadata": {},
   "source": [
    "# Debug version of visualize_numbers"
   ]
  },
  {
   "cell_type": "code",
   "execution_count": 154,
   "metadata": {},
   "outputs": [
    {
     "name": "stderr",
     "output_type": "stream",
     "text": [
      "WARNING: Method definition lar2plasm(Any, Any) in module Main at /home/mjirik/projects/lario3d.jl/src/plasm.jl:2 overwritten at In[154]:2.\n",
      "WARNING: Method definition lar2py(Any, Any) in module Main at /home/mjirik/projects/lario3d.jl/src/plasm.jl:39 overwritten at In[154]:46.\n",
      "WARNING: Method definition visualize_numbers(Any, Any) in module Main at /home/mjirik/projects/lario3d.jl/src/plasm.jl:57 overwritten at In[154]:63.\n",
      "WARNING: Method definition visualize_boundary(Any, Any, Any) in module Main at /home/mjirik/projects/lario3d.jl/src/plasm.jl:71 overwritten at In[154]:83.\n"
     ]
    },
    {
     "data": {
      "text/plain": [
       "visualize_boundary (generic function with 1 method)"
      ]
     },
     "execution_count": 154,
     "metadata": {},
     "output_type": "execute_result"
    }
   ],
   "source": [
    "function lar2plasm(EV, FE)\n",
    "    EV = sparse(EV)\n",
    "    faces = Array{Array{Int64, 1}, 1}()\n",
    "\n",
    "    for f in 1:size(FE, 1)\n",
    "\n",
    "        verts = Array{Int64, 1}()\n",
    "        done = Array{Int64, 1}()\n",
    "        face = FE[f, :]\n",
    "        edges = EV[face.nzind, :]\n",
    "\n",
    "        push!(done, 1)\n",
    "        vs = edges[1, :].nzind\n",
    "        if face.nzval[1] < 0\n",
    "            vs = vs[end:-1:1]\n",
    "        end\n",
    "        startv, nextv = vs\n",
    "\n",
    "        println(\"startv \", startv)\n",
    "        push!(verts, startv)\n",
    "        while nextv != startv\n",
    "            println(\"ve while\", edges[:, nextv].nzind, done, nextv, edges)\n",
    "            ednz = edges[:, nextv].nzind\n",
    "            println(\"wh 1\")\n",
    "            eall = setdiff(ednz, done)\n",
    "            println(\"wh 2\", eall)\n",
    "            e = eall[1]\n",
    "            println(\"wh 3\")\n",
    "            push!(done, e)\n",
    "            vs = edges[e, :].nzind\n",
    "            if face.nzval[e] < 0\n",
    "                vs = vs[end:-1:1]\n",
    "            end\n",
    "            curv, nextv = vs\n",
    "            push!(verts, curv)\n",
    "            println(\"wh 5 \", nextv)\n",
    "        end\n",
    "\n",
    "        push!(faces, verts)\n",
    "    end\n",
    "\n",
    "    \"FV = \" * string(faces)[15:end]\n",
    "end\n",
    "\n",
    "function lar2py(V, EV)\n",
    "    text = \"V = [[0,0]\"\n",
    "    for i in 1:size(V, 1)\n",
    "        text = text * \",\" * string(vec(V[i, :]))\n",
    "    end\n",
    "    text = text * \"]\\n\"\n",
    "    \n",
    "    text = text * \"EV = [\"\n",
    "    for i in 1:size(EV, 1)\n",
    "        if i > 1 text = text * \",\" end\n",
    "        text = text * string(EV[i, :].nzind)\n",
    "    end\n",
    "    text = text * \"]\"\n",
    "    return text\n",
    "end\n",
    "\n",
    "\n",
    "function visualize_numbers(set, font_size)\n",
    "    \"\"\"\n",
    "    seg = [V, EV, FE]\n",
    "    \"\"\"\n",
    "\n",
    "    f = open(\"tmp.py\", \"w\")\n",
    "\n",
    "    file_content = \"from larlib import *\\n\" *\n",
    "        lar2py(set[1], set[2]) * \"\\n\" *\n",
    "        lar2plasm(set[2], set[3]) * \"\\n\" *\n",
    "        \"VV = AA(LIST)(range(len(V)))\\n\" *\n",
    "        \"submodel = STRUCT(MKPOLS((V,EV)))\\n\" *\n",
    "        \"VIEW(larModelNumbering(1,1,1)(V,[VV,EV,FV],submodel,$font_size))\\n\"\n",
    "    print(file_content)\n",
    "    write(f, file_content)\n",
    "\n",
    "    close(f)\n",
    "#     run(`python tmp.py`)\n",
    "end\n",
    "\n",
    "function visualize_boundary(set, boundary, font_size)\n",
    "    f = open(\"tmp.py\", \"w\")\n",
    "    file_content =  \"from larlib import *\\n\" *\n",
    "        lar2py(set[1], set[2]) * \"\\n\" *\n",
    "        lar2plasm(set[2], set[3]) * \"\\n\" *\n",
    "        \"VV = AA(LIST)(range(len(V)))\\n\" *\n",
    "        \"submodel = STRUCT(MKPOLS((V,EV)))\\n\" *\n",
    "        \"model = larModelNumbering(1,1,1)(V,[VV,EV,FV],submodel,$font_size)\\n\" *\n",
    "        lar2py(set[1], set[2][boundary.nzind, :]) * \"\\n\" *\n",
    "        \"overmodel = STRUCT(MKPOLS((V,EV)))\\n\" *\n",
    "        \"VIEW(STRUCT([model, COLOR(RED)(overmodel)]))\"\n",
    "    print(file_content)\n",
    "    write(f, file_content)\n",
    "\n",
    "    close(f)\n",
    "    run(`python tmp.py`)\n",
    "end"
   ]
  },
  {
   "cell_type": "code",
   "execution_count": 155,
   "metadata": {},
   "outputs": [
    {
     "name": "stdout",
     "output_type": "stream",
     "text": [
      "startv 1\n",
      "ve while[1,2][1]2\n",
      "\t[1, 1]  =  -1\n",
      "\t[3, 1]  =  -1\n",
      "\t[1, 2]  =  1\n",
      "\t[2, 2]  =  -1\n",
      "\t[2, 3]  =  1\n",
      "\t[3, 3]  =  1\n",
      "wh 1\n",
      "wh 2[2]\n",
      "wh 3\n",
      "wh 5 3\n",
      "ve while[2,3][1,2]3\n",
      "\t[1, 1]  =  -1\n",
      "\t[3, 1]  =  -1\n",
      "\t[1, 2]  =  1\n",
      "\t[2, 2]  =  -1\n",
      "\t[2, 3]  =  1\n",
      "\t[3, 3]  =  1\n",
      "wh 1\n",
      "wh 2[3]\n",
      "wh 3\n",
      "wh 5 1\n",
      "startv 2\n",
      "ve while[1,3][1]1\n",
      "\t[1, 1]  =  -1\n",
      "\t[3, 1]  =  -1\n",
      "\t[1, 2]  =  1\n",
      "\t[2, 2]  =  -1\n",
      "\t[2, 3]  =  1\n",
      "\t[3, 3]  =  1\n",
      "wh 1\n",
      "wh 2[3]\n",
      "wh 3\n",
      "wh 5 3\n",
      "ve while[2,3][1,3]3\n",
      "\t[1, 1]  =  -1\n",
      "\t[3, 1]  =  -1\n",
      "\t[1, 2]  =  1\n",
      "\t[2, 2]  =  -1\n",
      "\t[2, 3]  =  1\n",
      "\t[3, 3]  =  1\n",
      "wh 1\n",
      "wh 2[2]\n",
      "wh 3\n",
      "wh 5 2\n",
      "from larlib import *\n",
      "V = [[0,0],[1,1],[2,1],[1,2],[2,2]]\n",
      "EV = [[1,2],[2,3],[1,3]]\n",
      "FV = [[1,2,3],[2,1,3]]\n",
      "VV = AA(LIST)(range(len(V)))\n",
      "submodel = STRUCT(MKPOLS((V,EV)))\n",
      "VIEW(larModelNumbering(1,1,1)(V,[VV,EV,FV],submodel,2))\n"
     ]
    }
   ],
   "source": [
    "test_V = [\n",
    "    1 1\n",
    "    2 1\n",
    "    1 2\n",
    "    2 2\n",
    "    ]\n",
    "test_EV = sparse([\n",
    "    -1 1 0 0\n",
    "    0 -1 1 0\n",
    "    -1 0 1 0\n",
    "])\n",
    "test_FE = sparse([\n",
    "        1 1 -1\n",
    "        -1 -1 1\n",
    "])\n",
    "visualize_numbers([test_V, test_EV, test_FE], 2)"
   ]
  },
  {
   "cell_type": "code",
   "execution_count": 156,
   "metadata": {},
   "outputs": [
    {
     "name": "stderr",
     "output_type": "stream",
     "text": [
      "WARNING: Method definition printarr(Any) in module Main at In[47]:2 overwritten at In[156]:2.\n"
     ]
    },
    {
     "data": {
      "text/plain": [
       "printarr (generic function with 1 method)"
      ]
     },
     "execution_count": 156,
     "metadata": {},
     "output_type": "execute_result"
    }
   ],
   "source": [
    "function printarr(arr)\n",
    "    print(size(arr), typeof(arr), \" sparse: \", issparse(arr),\", min: \",  minimum(arr), \", max: \",  maximum(arr))\n",
    "end"
   ]
  },
  {
   "cell_type": "code",
   "execution_count": 157,
   "metadata": {},
   "outputs": [
    {
     "data": {
      "text/plain": [
       "1192"
      ]
     },
     "execution_count": 157,
     "metadata": {},
     "output_type": "execute_result"
    }
   ],
   "source": [
    "nvertices"
   ]
  },
  {
   "cell_type": "code",
   "execution_count": 158,
   "metadata": {},
   "outputs": [
    {
     "data": {
      "text/plain": [
       "298"
      ]
     },
     "execution_count": 158,
     "metadata": {},
     "output_type": "execute_result"
    }
   ],
   "source": [
    "nfaces"
   ]
  },
  {
   "cell_type": "code",
   "execution_count": 159,
   "metadata": {},
   "outputs": [
    {
     "name": "stdout",
     "output_type": "stream",
     "text": [
      "(1192,3)Array{Float64,2} sparse: false, min: 0.0, max: 6.0"
     ]
    }
   ],
   "source": [
    "printarr(vertices)"
   ]
  },
  {
   "cell_type": "code",
   "execution_count": 160,
   "metadata": {},
   "outputs": [
    {
     "name": "stdout",
     "output_type": "stream",
     "text": [
      "(12,1192)SparseMatrixCSC{Int8,Int64} sparse: true, min: 0, max: 0"
     ]
    }
   ],
   "source": [
    "printarr(EVlar)\n",
    "# EVlar.nzind"
   ]
  },
  {
   "cell_type": "code",
   "execution_count": null,
   "metadata": {
    "collapsed": true
   },
   "outputs": [],
   "source": []
  },
  {
   "cell_type": "code",
   "execution_count": 161,
   "metadata": {},
   "outputs": [
    {
     "name": "stdout",
     "output_type": "stream",
     "text": [
      "(6,18)SparseMatrixCSC{Int8,Int64} sparse: true, min: 0, max: 1"
     ]
    }
   ],
   "source": [
    "printarr(FElar)"
   ]
  },
  {
   "cell_type": "code",
   "execution_count": 162,
   "metadata": {},
   "outputs": [
    {
     "data": {
      "text/plain": [
       "1192×3 Array{Float64,2}:\n",
       " 1.0  2.0  1.0\n",
       " 2.0  2.0  1.0\n",
       " 1.0  3.0  1.0\n",
       " 2.0  3.0  1.0\n",
       " 1.0  2.0  1.0\n",
       " 2.0  2.0  1.0\n",
       " 1.0  2.0  2.0\n",
       " 2.0  2.0  2.0\n",
       " 1.0  2.0  1.0\n",
       " 1.0  3.0  1.0\n",
       " 1.0  2.0  2.0\n",
       " 1.0  3.0  2.0\n",
       " 2.0  2.0  1.0\n",
       " ⋮            \n",
       " 4.0  6.0  5.0\n",
       " 5.0  6.0  5.0\n",
       " 4.0  6.0  6.0\n",
       " 5.0  6.0  6.0\n",
       " 4.0  4.0  6.0\n",
       " 5.0  4.0  6.0\n",
       " 4.0  5.0  6.0\n",
       " 5.0  5.0  6.0\n",
       " 4.0  5.0  6.0\n",
       " 5.0  5.0  6.0\n",
       " 4.0  6.0  6.0\n",
       " 5.0  6.0  6.0"
      ]
     },
     "execution_count": 162,
     "metadata": {},
     "output_type": "execute_result"
    }
   ],
   "source": [
    "vertices"
   ]
  },
  {
   "cell_type": "code",
   "execution_count": 163,
   "metadata": {},
   "outputs": [
    {
     "data": {
      "text/plain": [
       "12×1192 Array{Int8,2}:\n",
       " 0  0  0  0  0  0  0  0  0  0  0  0  0  …  0  0  0  0  0  0  0  0  0  0  0  0\n",
       " 0  0  0  0  0  0  0  0  0  0  0  0  0     0  0  0  0  0  0  0  0  0  0  0  0\n",
       " 0  0  0  0  0  0  0  0  0  0  0  0  0     0  0  0  0  0  0  0  0  0  0  0  0\n",
       " 0  0  0  0  0  0  0  0  0  0  0  0  0     0  0  0  0  0  0  0  0  0  0  0  0\n",
       " 0  0  0  0  0  0  0  0  0  0  0  0  0     0  0  0  0  0  0  0  0  0  0  0  0\n",
       " 0  0  0  0  0  0  0  0  0  0  0  0  0  …  0  0  0  0  0  0  0  0  0  0  0  0\n",
       " 0  0  0  0  0  0  0  0  0  0  0  0  0     0  0  0  0  0  0  0  0  0  0  0  0\n",
       " 0  0  0  0  0  0  0  0  0  0  0  0  0     0  0  0  0  0  0  0  0  0  0  0  0\n",
       " 0  0  0  0  0  0  0  0  0  0  0  0  0     0  0  0  0  0  0  0  0  0  0  0  0\n",
       " 0  0  0  0  0  0  0  0  0  0  0  0  0     0  0  0  0  0  0  0  0  0  0  0  0\n",
       " 0  0  0  0  0  0  0  0  0  0  0  0  0  …  0  0  0  0  0  0  0  0  0  0  0  0\n",
       " 0  0  0  0  0  0  0  0  0  0  0  0  0     0  0  0  0  0  0  0  0  0  0  0  0"
      ]
     },
     "execution_count": 163,
     "metadata": {},
     "output_type": "execute_result"
    }
   ],
   "source": [
    "full(EVlar)"
   ]
  },
  {
   "cell_type": "code",
   "execution_count": 164,
   "metadata": {},
   "outputs": [
    {
     "ename": "LoadError",
     "evalue": "MethodError: no method matching sparse(::Type{Int8}, ::SparseMatrixCSC{Int8,Int64})\u001b[0m\nClosest candidates are:\n  sparse(::Any, ::Any, \u001b[1m\u001b[31m::Number\u001b[0m) at sparse/sparsematrix.jl:587\n  sparse(::Any, ::Any, \u001b[1m\u001b[31m::AbstractArray{Bool,1}\u001b[0m, \u001b[1m\u001b[31m::Any\u001b[0m, \u001b[1m\u001b[31m::Any\u001b[0m) at sparse/sparsematrix.jl:595\n  sparse(::Any, ::Any, \u001b[1m\u001b[31m::AbstractArray{T,1}\u001b[0m) at sparse/sparsematrix.jl:589\n  ...\u001b[0m",
     "output_type": "error",
     "traceback": [
      "MethodError: no method matching sparse(::Type{Int8}, ::SparseMatrixCSC{Int8,Int64})\u001b[0m\nClosest candidates are:\n  sparse(::Any, ::Any, \u001b[1m\u001b[31m::Number\u001b[0m) at sparse/sparsematrix.jl:587\n  sparse(::Any, ::Any, \u001b[1m\u001b[31m::AbstractArray{Bool,1}\u001b[0m, \u001b[1m\u001b[31m::Any\u001b[0m, \u001b[1m\u001b[31m::Any\u001b[0m) at sparse/sparsematrix.jl:595\n  sparse(::Any, ::Any, \u001b[1m\u001b[31m::AbstractArray{T,1}\u001b[0m) at sparse/sparsematrix.jl:589\n  ...\u001b[0m",
      "",
      " in include_string(::String, ::String) at ./loading.jl:441"
     ]
    }
   ],
   "source": [
    "FElarint = sparse(Int8, FElar)\n",
    "# full(FElarint)"
   ]
  },
  {
   "cell_type": "code",
   "execution_count": 165,
   "metadata": {},
   "outputs": [
    {
     "ename": "LoadError",
     "evalue": "BoundsError: attempt to access 0-element Array{Int64,1} at index [1]",
     "output_type": "error",
     "traceback": [
      "BoundsError: attempt to access 0-element Array{Int64,1} at index [1]",
      "",
      " in lar2plasm(::SparseMatrixCSC{Int8,Int64}, ::SparseMatrixCSC{Int8,Int64}) at ./In[154]:17",
      " in visualize_numbers(::Array{AbstractArray{T,2},1}, ::Int64) at ./In[154]:69",
      " in include_string(::String, ::String) at ./loading.jl:441"
     ]
    }
   ],
   "source": [
    "\n",
    "visualize_numbers([vertices, EVlar, FElar], 2)"
   ]
  },
  {
   "cell_type": "code",
   "execution_count": 166,
   "metadata": {},
   "outputs": [
    {
     "data": {
      "text/plain": [
       "0-element Array{Int64,1}"
      ]
     },
     "execution_count": 166,
     "metadata": {},
     "output_type": "execute_result"
    }
   ],
   "source": [
    "setdiff([2,3],[1,2,3])"
   ]
  },
  {
   "cell_type": "code",
   "execution_count": 167,
   "metadata": {},
   "outputs": [
    {
     "name": "stdout",
     "output_type": "stream",
     "text": [
      "startv 1\n",
      "ve while[1,2][1]2\n",
      "\t[1, 1]  =  1\n",
      "\t[3, 1]  =  -1\n",
      "\t[1, 2]  =  -1\n",
      "\t[2, 2]  =  1\n",
      "\t[2, 3]  =  -1\n",
      "\t[3, 3]  =  1\n",
      "wh 1\n",
      "wh 2[2]\n",
      "wh 3\n",
      "wh 5 3\n",
      "ve while[2,3][1,2]3\n",
      "\t[1, 1]  =  1\n",
      "\t[3, 1]  =  -1\n",
      "\t[1, 2]  =  -1\n",
      "\t[2, 2]  =  1\n",
      "\t[2, 3]  =  -1\n",
      "\t[3, 3]  =  1\n",
      "wh 1\n",
      "wh 2[3]\n",
      "wh 3\n",
      "wh 5 1\n",
      "startv 2\n",
      "ve while[1,3][1]1\n",
      "\t[1, 1]  =  1\n",
      "\t[3, 1]  =  -1\n",
      "\t[1, 2]  =  -1\n",
      "\t[2, 2]  =  1\n",
      "\t[2, 3]  =  -1\n",
      "\t[3, 3]  =  1\n",
      "wh 1\n",
      "wh 2[3]\n",
      "wh 3\n",
      "wh 5 3\n",
      "ve while[2,3][1,3]3\n",
      "\t[1, 1]  =  1\n",
      "\t[3, 1]  =  -1\n",
      "\t[1, 2]  =  -1\n",
      "\t[2, 2]  =  1\n",
      "\t[2, 3]  =  -1\n",
      "\t[3, 3]  =  1\n",
      "wh 1\n",
      "wh 2[2]\n",
      "wh 3\n",
      "wh 5 2\n",
      "from larlib import *\n",
      "V = [[0,0],[1,1],[2,1],[1,2],[2,2]]\n",
      "EV = [[1,2],[2,3],[1,3]]\n",
      "FV = [[1,2,3],[2,1,3]]\n",
      "VV = AA(LIST)(range(len(V)))\n",
      "submodel = STRUCT(MKPOLS((V,EV)))\n",
      "VIEW(larModelNumbering(1,1,1)(V,[VV,EV,FV],submodel,2))\n"
     ]
    }
   ],
   "source": [
    "V = [\n",
    "    1 1\n",
    "    2 1\n",
    "    1 2\n",
    "    2 2\n",
    "    ]\n",
    "EV = sparse([\n",
    "    1 -1 0 0\n",
    "    0 1 -1 0\n",
    "    -1 0 1 0\n",
    "])\n",
    "FE = sparse([\n",
    "        1 1 -1\n",
    "        -1 -1 1\n",
    "])\n",
    "visualize_numbers([V, EV, FE], 2)"
   ]
  },
  {
   "cell_type": "markdown",
   "metadata": {},
   "source": [
    "# Test visualization using LAR and Plasm"
   ]
  },
  {
   "cell_type": "code",
   "execution_count": 168,
   "metadata": {},
   "outputs": [
    {
     "data": {
      "text/plain": [
       "2×3 sparse matrix with 6 Int64 nonzero entries:\n",
       "\t[1, 1]  =  1\n",
       "\t[2, 1]  =  -1\n",
       "\t[1, 2]  =  1\n",
       "\t[2, 2]  =  -1\n",
       "\t[1, 3]  =  -1\n",
       "\t[2, 3]  =  1"
      ]
     },
     "execution_count": 168,
     "metadata": {},
     "output_type": "execute_result"
    }
   ],
   "source": [
    "V = [\n",
    "    1 1\n",
    "    2 1\n",
    "    1 2\n",
    "    2 2\n",
    "    ]\n",
    "EV = sparse([\n",
    "    1 -1 0 0\n",
    "    0 1 -1 0\n",
    "    -1 0 1 0\n",
    "])\n",
    "FE = sparse([\n",
    "        1 1 -1\n",
    "        -1 -1 1\n",
    "])"
   ]
  },
  {
   "cell_type": "code",
   "execution_count": null,
   "metadata": {
    "collapsed": true
   },
   "outputs": [],
   "source": []
  },
  {
   "cell_type": "code",
   "execution_count": 169,
   "metadata": {
    "collapsed": true
   },
   "outputs": [],
   "source": [
    "#visualize_numbers([V, EV, FE], 2)"
   ]
  },
  {
   "cell_type": "code",
   "execution_count": 170,
   "metadata": {},
   "outputs": [
    {
     "name": "stderr",
     "output_type": "stream",
     "text": [
      "WARNING: Method definition reindexVertexesInFaces(Any, Any) in module Main at In[61]:4 overwritten at In[170]:4.\n",
      "WARNING: Method definition reindexVertexesInFaces(Any, Any, Any) in module Main at In[61]:4 overwritten at In[170]:4.\n",
      "WARNING: Method definition removeDoubleFacesByDictAlgoritm(Any) in module Main at In[61]:36 overwritten at In[170]:36.\n",
      "WARNING: Method definition removeDoubleFacesByDictAlgoritm(Any, Any) in module Main at In[61]:36 overwritten at In[170]:36.\n",
      "WARNING: Method definition removeDoubleVertexesAndFaces(Any, Any) in module Main at In[61]:61 overwritten at In[170]:61.\n",
      "WARNING: Method definition removeDoubleVertexesAndFaces(Any, Any, Any) in module Main at In[61]:61 overwritten at In[170]:61.\n"
     ]
    },
    {
     "data": {
      "text/plain": [
       "removeDoubleVertexesAndFaces (generic function with 2 methods)"
      ]
     },
     "execution_count": 170,
     "metadata": {},
     "output_type": "execute_result"
    }
   ],
   "source": [
    "function reindexVertexesInFaces(faces, new_indexes,\n",
    "                                       index_base=0)\n",
    "#     println(faces)\n",
    "    for i in 1:size(faces, 1)\n",
    "        for j in 1:size(faces, 2)\n",
    "            faces[i, j] = new_indexes[faces[i, j] - index_base] + index_base\n",
    "        end\n",
    "    end\n",
    "#     try\n",
    "#     catch\n",
    "#         println(\"reindexVertexInFaces exception\")\n",
    "#         println(\"fc \", face, \" i \", i , \" len \", size(new_indexes))\n",
    "        \n",
    "#     end\n",
    "    return faces\n",
    "    \n",
    "end\n",
    "    \n",
    "        \n",
    "#     for face in faces:\n",
    "#         try:\n",
    "#             for i in range(0, len(face)):\n",
    "#                 face[i] = new_indexes[face[i] - index_base] + index_base\n",
    "#             # face[0] = new_indexes[face[0]-1] + 1\n",
    "#             # face[1] = new_indexes[face[1]-1] + 1\n",
    "#             # face[2] = new_indexes[face[2]-1] + 1\n",
    "#         except:\n",
    "#             import traceback\n",
    "#             traceback.print_exc()\n",
    "#             print 'fc ', face, ' i ', i\n",
    "#             print len(new_indexes)\n",
    "\n",
    "#     return faces \n",
    "function removeDoubleFacesByDictAlgoritm(FW, sort_faces=true)\n",
    "#     FWdict = Dict()\n",
    "    set = Set()\n",
    "    for k in 1:size(FW, 1)\n",
    "        println(k)\n",
    "        if sort_faces\n",
    "            face = tuple(sort(FW[k, :])...)\n",
    "        else\n",
    "            face = tuple(FW[k, :]...)\n",
    "        end\n",
    "            \n",
    "        push!(set, face)\n",
    "    end\n",
    "    return set\n",
    "end\n",
    "    \n",
    "\n",
    "# def removeDoubleFacesByAlberto(FW):\n",
    "#     from collections import defaultdict\n",
    "#     # use of Albertos algorithm\n",
    "\n",
    "#     cellDict = defaultdict(list)\n",
    "#     for k, cell in enumerate(FW):\n",
    "#         cellDict[tuple(cell)] += [k]\n",
    "#     FW = [list(key) for key in cellDict.keys() if len(cellDict[key]) == 1]\n",
    "#     return FW\n",
    "function removeDoubleVertexesAndFaces(vertexes, faces, index_base=0)\n",
    "    println(\"step1\")\n",
    "    new_vertexes, inv_vertexes = remove_double_vertexes_alternative(vertexes)# , index_base=index_base)\n",
    "    println(\"step2\")\n",
    "    new_faces = reindexVertexesInFaces(faces, inv_vertexes)\n",
    "    println(\"step3\")\n",
    "    new_faces = removeDoubleFacesByDictAlgoritm(faces)\n",
    "    return new_vertexes, new_faces\n",
    "end"
   ]
  },
  {
   "cell_type": "code",
   "execution_count": 171,
   "metadata": {},
   "outputs": [
    {
     "data": {
      "text/plain": [
       "Dict{Any,Int64} with 2 entries:\n",
       "  \"B\"   => 2\n",
       "  (1,2) => 1"
      ]
     },
     "execution_count": 171,
     "metadata": {},
     "output_type": "execute_result"
    }
   ],
   "source": [
    "Dict(tuple(1,2) => 1, \"B\" => 2)"
   ]
  },
  {
   "cell_type": "code",
   "execution_count": 172,
   "metadata": {},
   "outputs": [
    {
     "ename": "LoadError",
     "evalue": "MethodError: no method matching removeDoubleVertexesAndFaces()\u001b[0m\nClosest candidates are:\n  removeDoubleVertexesAndFaces(\u001b[1m\u001b[31m::Any\u001b[0m, \u001b[1m\u001b[31m::Any\u001b[0m) at In[170]:61\n  removeDoubleVertexesAndFaces(\u001b[1m\u001b[31m::Any\u001b[0m, \u001b[1m\u001b[31m::Any\u001b[0m, \u001b[1m\u001b[31m::Any\u001b[0m) at In[170]:61\u001b[0m",
     "output_type": "error",
     "traceback": [
      "MethodError: no method matching removeDoubleVertexesAndFaces()\u001b[0m\nClosest candidates are:\n  removeDoubleVertexesAndFaces(\u001b[1m\u001b[31m::Any\u001b[0m, \u001b[1m\u001b[31m::Any\u001b[0m) at In[170]:61\n  removeDoubleVertexesAndFaces(\u001b[1m\u001b[31m::Any\u001b[0m, \u001b[1m\u001b[31m::Any\u001b[0m, \u001b[1m\u001b[31m::Any\u001b[0m) at In[170]:61\u001b[0m",
      "",
      " in include_string(::String, ::String) at ./loading.jl:441"
     ]
    }
   ],
   "source": [
    "removeDoubleVertexesAndFaces()"
   ]
  },
  {
   "cell_type": "markdown",
   "metadata": {},
   "source": [
    "# Unittest"
   ]
  },
  {
   "cell_type": "code",
   "execution_count": 173,
   "metadata": {},
   "outputs": [
    {
     "name": "stdout",
     "output_type": "stream",
     "text": [
      "[1,2]nothingBool[false,false]\n",
      "[2,3][1,2]Bool[false,false]\n",
      "[2,3][2,3]Bool[true,true]\n",
      "[3,3][2,3]Bool[false,true]\n",
      "[4,1][3,3]Bool[false,false]\n",
      "Any[[1,2],[2,3],[3,3],[4,1]]"
     ]
    }
   ],
   "source": [
    "# test\n",
    "test_vertex = [ 1 2; 2 3; 4 1; 2 3; 3 3]\n",
    "test_faces = [\n",
    "    1 3 4;\n",
    "    4 5 1;\n",
    "    1 5 4\n",
    "]\n",
    "# test_EV = sparse([\n",
    "#     1 -1 0 0\n",
    "#     0 1 -1 0\n",
    "#     -1 0 1 0\n",
    "# ])\n",
    "# test_FE = sparse([\n",
    "#         1 1 -1\n",
    "#         -1 -1 1\n",
    "# ])\n",
    "# test_faces = sparse([ 1 2; 2 3; 4 1; 2 3])\n",
    "\n",
    "Vs, Is = remove_double_vertexes_alternative(test_vertex)\n",
    "\n",
    "for i in 1:size(test_vertex, 1)\n",
    "    v1 = Vs[Is[i]] \n",
    "    v2 = test_vertex[i,:]\n",
    "    assert(v1 == v2)\n",
    "end\n",
    "\n",
    "print(Vs)"
   ]
  },
  {
   "cell_type": "code",
   "execution_count": 174,
   "metadata": {},
   "outputs": [
    {
     "name": "stdout",
     "output_type": "stream",
     "text": [
      "Any[[1,2],[2,3],[3,3],[4,1]]\n",
      "[1 4 2; 2 3 1; 1 3 2]\n"
     ]
    },
    {
     "data": {
      "text/plain": [
       "false"
      ]
     },
     "execution_count": 174,
     "metadata": {},
     "output_type": "execute_result"
    }
   ],
   "source": [
    "\n",
    "reindexed_faces = reindexVertexesInFaces(copy(test_faces), Is)\n",
    "println(Vs)\n",
    "println(reindexed_faces)\n",
    "reindexed_faces == [1 4 2; 2 3 1]\n"
   ]
  },
  {
   "cell_type": "code",
   "execution_count": 175,
   "metadata": {},
   "outputs": [
    {
     "name": "stdout",
     "output_type": "stream",
     "text": [
      "1\n",
      "2\n",
      "3\n"
     ]
    },
    {
     "data": {
      "text/plain": [
       "2-element Array{Any,1}:\n",
       " (1,4,5)\n",
       " (1,3,4)"
      ]
     },
     "execution_count": 175,
     "metadata": {},
     "output_type": "execute_result"
    }
   ],
   "source": [
    "fcs = removeDoubleFacesByDictAlgoritm(test_faces)\n",
    "\n",
    "collect(fcs)"
   ]
  },
  {
   "cell_type": "code",
   "execution_count": 176,
   "metadata": {},
   "outputs": [
    {
     "name": "stdout",
     "output_type": "stream",
     "text": [
      "step1\n",
      "[1,2]nothingBool[false,false]\n",
      "[2,3][1,2]Bool[false,false]\n",
      "[2,3][2,3]Bool[true,true]\n",
      "[3,3][2,3]Bool[false,true]\n",
      "[4,1][3,3]Bool[false,false]\n",
      "step2\n",
      "step3\n",
      "1\n",
      "2\n",
      "3\n"
     ]
    },
    {
     "data": {
      "text/plain": [
       "(Any[[1,2],[2,3],[3,3],[4,1]],Set(Any[(1,2,3),(1,2,4)]))"
      ]
     },
     "execution_count": 176,
     "metadata": {},
     "output_type": "execute_result"
    }
   ],
   "source": [
    "\n",
    "new_vertexes, new_faces = removeDoubleVertexesAndFaces(test_vertex, test_faces)"
   ]
  }
 ],
 "metadata": {
  "kernelspec": {
   "display_name": "Julia 0.5.2",
   "language": "julia",
   "name": "julia-0.5"
  },
  "language_info": {
   "file_extension": ".jl",
   "mimetype": "application/julia",
   "name": "julia",
   "version": "0.5.2"
  }
 },
 "nbformat": 4,
 "nbformat_minor": 2
}
