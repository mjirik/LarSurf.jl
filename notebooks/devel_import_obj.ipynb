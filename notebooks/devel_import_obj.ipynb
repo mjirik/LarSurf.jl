{
 "cells": [
  {
   "cell_type": "markdown",
   "metadata": {},
   "source": [
    "Goal of this script is to obtain \n",
    "vertex, edge, face \n",
    "\n",
    "\n",
    "V, EV"
   ]
  },
  {
   "cell_type": "code",
   "execution_count": 1,
   "metadata": {},
   "outputs": [
    {
     "data": {
      "text/plain": [
       "tetrahedron (generic function with 1 method)"
      ]
     },
     "execution_count": 1,
     "metadata": {},
     "output_type": "execute_result"
    }
   ],
   "source": [
    "# pwd()\n",
    "\n",
    "include(\"../src/plasm.jl\")\n",
    "include(\"../src/read.jl\")\n",
    "include(\"../src/representation.jl\")\n",
    "include(\"../src/sampledata.jl\")"
   ]
  },
  {
   "cell_type": "code",
   "execution_count": 73,
   "metadata": {},
   "outputs": [
    {
     "data": {
      "text/plain": [
       "6×3 Array{Int64,2}:\n",
       " 1  2  3\n",
       " 2  4  3\n",
       " 4  2  5\n",
       " 5  2  6\n",
       " 2  7  6\n",
       " 2  1  7"
      ]
     },
     "execution_count": 73,
     "metadata": {},
     "output_type": "execute_result"
    }
   ],
   "source": [
    "# hexaogon\n",
    "# \n",
    "#    3 -- 4\n",
    "#  /  \\ /  \\\n",
    "# 1 -- 2 -- 5\n",
    "#  \\  / \\  /\n",
    "#   7 -- 8\n",
    "hexagon_vertices, hexagon_faces = hexagon()\n",
    "hexagon_vertices = [0. 0.; 2. 0.; 1. 2.; 3. 2; 4. 0.; 3. -2.; 1. -2]\n",
    "hexagon_faces = [ 1 2 3; 2 4 3; 4 2 5; 5 2 6; 2 7 6; 2 1 7]\n",
    "# maximum(test_faces0)\n",
    "\n"
   ]
  },
  {
   "cell_type": "markdown",
   "metadata": {},
   "source": [
    "# Read obj file"
   ]
  },
  {
   "cell_type": "code",
   "execution_count": null,
   "metadata": {},
   "outputs": [],
   "source": [
    "\n"
   ]
  },
  {
   "cell_type": "markdown",
   "metadata": {},
   "source": [
    "# Check Julia"
   ]
  },
  {
   "cell_type": "markdown",
   "metadata": {},
   "source": [
    "## Vertices"
   ]
  },
  {
   "cell_type": "code",
   "execution_count": 3,
   "metadata": {},
   "outputs": [
    {
     "ename": "LoadError",
     "evalue": "UndefVarError: vertices not defined",
     "output_type": "error",
     "traceback": [
      "UndefVarError: vertices not defined",
      "",
      " in include_string(::String, ::String) at ./loading.jl:441"
     ]
    },
    {
     "name": "stderr",
     "output_type": "stream",
     "text": [
      "warning: parsing line table prologue at 0x0000e1c8 should have ended at 0x0000e52f but it ended at 0x0000e284\n",
      "warning: parsing line table prologue at 0x00003c27 should have ended at 0x00003ffc but it ended at 0x00003ce3\n",
      "warning: parsing line table prologue at 0x000086e2 should have ended at 0x00008ae4 but it ended at 0x000087ef\n",
      "warning: parsing line table prologue at 0x0001357a should have ended at 0x0001390c but it ended at 0x00013636\n",
      "warning: parsing line table prologue at 0x0000a9c0 should have ended at 0x0000ace8 but it ended at 0x0000aa7c\n",
      "warning: parsing line table prologue at 0x0001cd5c should have ended at 0x0001d0f0 but it ended at 0x0001ce25\n",
      "warning: parsing line table prologue at 0x00007565 should have ended at 0x00007914 but it ended at 0x00007621\n"
     ]
    }
   ],
   "source": [
    "V = vertices"
   ]
  },
  {
   "cell_type": "markdown",
   "metadata": {},
   "source": [
    "## EV naive"
   ]
  },
  {
   "cell_type": "code",
   "execution_count": 4,
   "metadata": {},
   "outputs": [
    {
     "data": {
      "text/plain": [
       "get_EVinds_naive (generic function with 2 methods)"
      ]
     },
     "execution_count": 4,
     "metadata": {},
     "output_type": "execute_result"
    }
   ],
   "source": [
    "function get_EVinds_naive(faces, nfaces=nothing)\n",
    "    if nfaces == nothing\n",
    "        nfaces = size(faces,1)\n",
    "    end\n",
    "    # Eset = Set()\n",
    "    Einds = []\n",
    "    EVinds = []\n",
    "    FEinds = Array(Int64, nfaces, 3)\n",
    "\n",
    "    for i = 1:nfaces\n",
    "\n",
    "        push!(EVinds, sort([faces[i, 1], faces[i, 2]]))\n",
    "        push!(EVinds, sort([faces[i, 2], faces[i, 3]]))\n",
    "        push!(EVinds, sort([faces[i, 3], faces[i, 1]]))\n",
    "\n",
    "        FEinds[i, :] = [(i-1)*3 + 1, (i-1)*3 + 2,(i-1)*3 + 3]\n",
    "\n",
    "    end\n",
    "\n",
    "    return EVinds\n",
    "end\n",
    "# Epl = EVpl\n"
   ]
  },
  {
   "cell_type": "code",
   "execution_count": 5,
   "metadata": {},
   "outputs": [
    {
     "data": {
      "text/plain": [
       "get_FElar_naive (generic function with 1 method)"
      ]
     },
     "execution_count": 5,
     "metadata": {},
     "output_type": "execute_result"
    }
   ],
   "source": [
    "# tohle bude patrně blbost\n",
    "# nzind2sparse(nzind)\n",
    "function get_FElar_naive(nfaces)\n",
    "\n",
    "    FElar = spzeros(Int8, nfaces, (3*(nfaces)))\n",
    "    for i = 1:nfaces\n",
    "        FElar[i, (i-1)*3 + 1] = 1\n",
    "        FElar[i, (i-1)*3 + 2] = 1\n",
    "        FElar[i, (i-1)*3 + 3] = 1\n",
    "    end\n",
    "    return FElar\n",
    "end\n"
   ]
  },
  {
   "cell_type": "markdown",
   "metadata": {},
   "source": [
    "# EV no double edges"
   ]
  },
  {
   "cell_type": "code",
   "execution_count": 74,
   "metadata": {},
   "outputs": [
    {
     "data": {
      "text/plain": [
       "6"
      ]
     },
     "execution_count": 74,
     "metadata": {},
     "output_type": "execute_result"
    }
   ],
   "source": [
    "faces = hexagon_faces\n",
    "nfaces = size(hexagon_faces, 1)"
   ]
  },
  {
   "cell_type": "code",
   "execution_count": 75,
   "metadata": {},
   "outputs": [],
   "source": [
    "\n",
    "    \n",
    "#test\n",
    "assert(1 == face_orientation([1 2 3]))\n",
    "assert(-1 == face_orientation([1 3 2]))"
   ]
  },
  {
   "cell_type": "code",
   "execution_count": 8,
   "metadata": {
    "collapsed": true
   },
   "outputs": [],
   "source": [
    "# get_FEinds_and_EVinv(hexagon_faces, size(hexagon_faces, 1))"
   ]
  },
  {
   "cell_type": "code",
   "execution_count": 76,
   "metadata": {
    "collapsed": true
   },
   "outputs": [],
   "source": [
    "\n",
    "# test\n",
    "FEinds, EVinds = get_FEinds_and_EVinds(hexagon_faces)\n",
    "assert(size(FEinds,1) == 6)\n",
    "assert(size(FEinds,2) == 3)\n",
    "assert(size(EVinds,1) == 12)\n",
    "assert(size(EVinds,2) == 2)\n",
    "# full(EVinds)\n"
   ]
  },
  {
   "cell_type": "markdown",
   "metadata": {},
   "source": [
    "# TODO FElar EVlar"
   ]
  },
  {
   "cell_type": "code",
   "execution_count": 77,
   "metadata": {},
   "outputs": [
    {
     "data": {
      "text/plain": [
       "7"
      ]
     },
     "execution_count": 77,
     "metadata": {},
     "output_type": "execute_result"
    }
   ],
   "source": [
    "nedges = size(EVinds, 1)\n",
    "nfaces = size(hexagon_faces, 1)\n",
    "nvertices = size(hexagon_vertices, 1)"
   ]
  },
  {
   "cell_type": "code",
   "execution_count": 78,
   "metadata": {},
   "outputs": [
    {
     "data": {
      "text/plain": [
       "6×12 Array{Int8,2}:\n",
       "  1   1  -1   0   0   0   0   0   0   0   0  0\n",
       "  0  -1   0  -1   1   0   0   0   0   0   0  0\n",
       "  0   0   0   0  -1  -1   1   0   0   0   0  0\n",
       "  0   0   0   0   0   0  -1  -1   1   0   0  0\n",
       "  0   0   0   0   0   0   0   0  -1  -1   1  0\n",
       " -1   0   0   0   0   0   0   0   0   0  -1  1"
      ]
     },
     "execution_count": 78,
     "metadata": {},
     "output_type": "execute_result"
    }
   ],
   "source": [
    "FElar = convert_to_FElar(hexagon_faces, FEinds, nfaces, nedges)\n",
    "full(FElar)"
   ]
  },
  {
   "cell_type": "code",
   "execution_count": 79,
   "metadata": {},
   "outputs": [
    {
     "data": {
      "text/plain": [
       "12×7 Array{Int8,2}:\n",
       " -1   1   0   0   0   0  0\n",
       "  0  -1   1   0   0   0  0\n",
       " -1   0   1   0   0   0  0\n",
       "  0   0  -1   1   0   0  0\n",
       "  0  -1   0   1   0   0  0\n",
       "  0   0   0  -1   1   0  0\n",
       "  0  -1   0   0   1   0  0\n",
       "  0   0   0   0  -1   1  0\n",
       "  0  -1   0   0   0   1  0\n",
       "  0   0   0   0   0  -1  1\n",
       "  0  -1   0   0   0   0  1\n",
       " -1   0   0   0   0   0  1"
      ]
     },
     "execution_count": 79,
     "metadata": {},
     "output_type": "execute_result"
    }
   ],
   "source": [
    "\n",
    "EVlar = convert_to_EVlar(EVinds, nedges, nvertices)\n",
    "full(EVlar)"
   ]
  },
  {
   "cell_type": "code",
   "execution_count": 13,
   "metadata": {
    "collapsed": true
   },
   "outputs": [],
   "source": [
    "# Visualization "
   ]
  },
  {
   "cell_type": "code",
   "execution_count": null,
   "metadata": {},
   "outputs": [],
   "source": []
  },
  {
   "cell_type": "code",
   "execution_count": 68,
   "metadata": {},
   "outputs": [
    {
     "name": "stdout",
     "output_type": "stream",
     "text": [
      "faces min 1, faces max 7, vertex number 7\n"
     ]
    }
   ],
   "source": [
    "check_vf(hexagon_vertices, hexagon_faces, true)"
   ]
  },
  {
   "cell_type": "code",
   "execution_count": 15,
   "metadata": {},
   "outputs": [
    {
     "name": "stdout",
     "output_type": "stream",
     "text": [
      "XgeModule::init_started\n",
      "Creating shared GLCanvas...\n",
      "shared GLCanvas created\n",
      "XgeModule::init_finished\n",
      "Evaluating fenvs.py..\n",
      "('...fenvs.py imported in', 0.007283999999999957, 'seconds')\n",
      "centre\n",
      "centre\n",
      "centre\n",
      "Building batches from Hpc....\n",
      "...done in 1 msec\n",
      "Optimizing the octree....\n",
      "   Number of input batches 235\n",
      "   total number vertices    130\n",
      "   Number of output batches 65\n",
      "   Batch vertex media       2\n",
      "...done in 0 msec\n",
      "Building octree from 65 batches....\n",
      "Scene number of nodes of the octree 130\n",
      "Scene max depth                     4\n",
      "Scene number of batches             65\n",
      "...done in 0 msec\n"
     ]
    }
   ],
   "source": [
    "\n",
    "visualize_numbers([hexagon_vertices, EVlar, FElar], 2)"
   ]
  },
  {
   "cell_type": "markdown",
   "metadata": {},
   "source": [
    "![hexagon](https://raw.githubusercontent.com/mjirik/LarSurf.jl/master/graphics/hexagon_LarSurfjl.png)"
   ]
  },
  {
   "cell_type": "code",
   "execution_count": 16,
   "metadata": {},
   "outputs": [
    {
     "name": "stdout",
     "output_type": "stream",
     "text": [
      "XgeModule::init_started\n",
      "Creating shared GLCanvas...\n",
      "shared GLCanvas created\n",
      "XgeModule::init_finished\n",
      "Evaluating fenvs.py..\n",
      "('...fenvs.py imported in', 0.0049919999999999964, 'seconds')\n",
      "centre\n",
      "centre\n",
      "centre\n",
      "Building batches from Hpc....\n",
      "...done in 2 msec\n",
      "Optimizing the octree....\n",
      "   Number of input batches 235\n",
      "   total number vertices    130\n",
      "   Number of output batches 65\n",
      "   Batch vertex media       2\n",
      "...done in 0 msec\n",
      "Building octree from 65 batches....\n",
      "Scene number of nodes of the octree 130\n",
      "Scene max depth                     4\n",
      "Scene number of batches             65\n",
      "...done in 0 msec\n"
     ]
    }
   ],
   "source": [
    "e, ev, fe = to_lar(hexagon_vertices, hexagon_faces)\n",
    "\n",
    "visualize_numbers([e, ev, fe], 2)"
   ]
  },
  {
   "cell_type": "code",
   "execution_count": 17,
   "metadata": {},
   "outputs": [
    {
     "data": {
      "text/plain": [
       "- (generic function with 190 methods)"
      ]
     },
     "execution_count": 17,
     "metadata": {},
     "output_type": "execute_result"
    }
   ],
   "source": [
    "-\n",
    "\n",
    "\n",
    "# vn = size(vertices, 1)\n",
    "# if mn < 1\n",
    "#     println(\"vertex index lower than 1\")\n",
    "#     println(\"faces min $(mn), faces max $(mx), vertex number $(vn)\")\n",
    "# end"
   ]
  },
  {
   "cell_type": "code",
   "execution_count": 18,
   "metadata": {},
   "outputs": [
    {
     "data": {
      "text/plain": [
       "6×12 Array{Int8,2}:\n",
       "  1   1  -1   0   0   0   0   0   0   0   0  0\n",
       "  0  -1   0  -1   1   0   0   0   0   0   0  0\n",
       "  0   0   0   0  -1  -1   1   0   0   0   0  0\n",
       "  0   0   0   0   0   0  -1  -1   1   0   0  0\n",
       "  0   0   0   0   0   0   0   0  -1  -1   1  0\n",
       " -1   0   0   0   0   0   0   0   0   0  -1  1"
      ]
     },
     "execution_count": 18,
     "metadata": {},
     "output_type": "execute_result"
    }
   ],
   "source": [
    "full(fe)"
   ]
  },
  {
   "cell_type": "code",
   "execution_count": 19,
   "metadata": {},
   "outputs": [
    {
     "data": {
      "text/plain": [
       "298"
      ]
     },
     "execution_count": 19,
     "metadata": {},
     "output_type": "execute_result"
    }
   ],
   "source": [
    "\n",
    "filename = \"../test/smallbb2.obj\"\n",
    "vertices, faces = read_obj(filename)\n",
    "nvertices = size(vertices,1)\n",
    "nfaces = size(faces,1)\n",
    "\n",
    "# assert(nvertices == 1192)\n",
    "# assert(nfaces == 298)\n",
    "# println(nfaces , \" \" , nvertices)"
   ]
  },
  {
   "cell_type": "code",
   "execution_count": 20,
   "metadata": {},
   "outputs": [
    {
     "name": "stdout",
     "output_type": "stream",
     "text": [
      "faces min 1, faces max 1192, vertex number 1192\n",
      "Different number of vertices in EV and V\n",
      "Minimum value of EV should be -1 and it is -1\n",
      "Maximum value of EV should be 1 and it is 1\n",
      "Element type of EV should be Int8 and it is Float64\n"
     ]
    },
    {
     "ename": "LoadError",
     "evalue": "type Array has no field nzind",
     "output_type": "error",
     "traceback": [
      "type Array has no field nzind",
      "",
      " in lar2py(::Array{Float64,2}, ::Array{Float64,2}) at /home/mjirik/projects/LarSurf.jl/src/plasm.jl:48",
      " in visualize_numbers(::Array{AbstractArray{T,2},1}, ::Int64) at /home/mjirik/projects/LarSurf.jl/src/plasm.jl:59",
      " in include_string(::String, ::String) at ./loading.jl:441"
     ]
    },
    {
     "name": "stderr",
     "output_type": "stream",
     "text": [
      "warning: parsing line table prologue at 0x0000b3cc should have ended at 0x0000b734 but it ended at 0x0000b488\n"
     ]
    }
   ],
   "source": [
    "EVlar, FElar = to_lar(vertices, faces)\n",
    "\n",
    "check_vf(vertices, faces, true)\n",
    "check_vevfe(vertices, EVlar, FElar)\n",
    "visualize_numbers([vertices, EVlar, FElar], 2)"
   ]
  },
  {
   "cell_type": "code",
   "execution_count": 21,
   "metadata": {},
   "outputs": [
    {
     "ename": "LoadError",
     "evalue": "UndefVarError: x not defined",
     "output_type": "error",
     "traceback": [
      "UndefVarError: x not defined",
      "",
      " in include_string(::String, ::String) at ./loading.jl:441"
     ]
    }
   ],
   "source": [
    "full(x)"
   ]
  },
  {
   "cell_type": "code",
   "execution_count": 22,
   "metadata": {},
   "outputs": [
    {
     "name": "stdout",
     "output_type": "stream",
     "text": [
      "Dict{Any,Any}(Pair{Any,Any}(\"aho\",[5,7]),Pair{Any,Any}((11,15),5),Pair{Any,Any}((12,17),\"yop\"),Pair{Any,Any}(\"ahoi\",[3,12]))\n",
      "true\n"
     ]
    },
    {
     "data": {
      "text/plain": [
       "\"yop\""
      ]
     },
     "execution_count": 22,
     "metadata": {},
     "output_type": "execute_result"
    }
   ],
   "source": [
    "dctd = Dict()\n",
    "dctd[\"aho\"] = [5, 7]\n",
    "dctd[\"ahoi\"] = [3, 12]\n",
    "\n",
    "dctd[tuple(11, 15)] = 5\n",
    "dctd[tuple([12, 17]...)] = \"yop\"\n",
    "\n",
    "println(dctd)\n",
    "haskey(dctd, \"aho\")\n",
    "println(haskey(dctd, (11, 15)))\n",
    "\n",
    "\n",
    "\n",
    "dctd[(12,17)]\n"
   ]
  },
  {
   "cell_type": "code",
   "execution_count": 23,
   "metadata": {},
   "outputs": [
    {
     "data": {
      "text/plain": [
       "6×18 sparse matrix with 18 Int8 nonzero entries:\n",
       "\t[1 ,  1]  =  1\n",
       "\t[1 ,  2]  =  1\n",
       "\t[1 ,  3]  =  1\n",
       "\t[2 ,  4]  =  1\n",
       "\t[2 ,  5]  =  1\n",
       "\t[2 ,  6]  =  1\n",
       "\t[3 ,  7]  =  1\n",
       "\t[3 ,  8]  =  1\n",
       "\t[3 ,  9]  =  1\n",
       "\t[4 , 10]  =  1\n",
       "\t[4 , 11]  =  1\n",
       "\t[4 , 12]  =  1\n",
       "\t[5 , 13]  =  1\n",
       "\t[5 , 14]  =  1\n",
       "\t[5 , 15]  =  1\n",
       "\t[6 , 16]  =  1\n",
       "\t[6 , 17]  =  1\n",
       "\t[6 , 18]  =  1"
      ]
     },
     "execution_count": 23,
     "metadata": {},
     "output_type": "execute_result"
    }
   ],
   "source": [
    "#blbost\n",
    "EVinds = get_EVinds_naive(hexagon_faces)\n",
    "FElar = get_FElar_naive(size(hexagon_faces, 1))"
   ]
  },
  {
   "cell_type": "markdown",
   "metadata": {},
   "source": [
    "## FElar"
   ]
  },
  {
   "cell_type": "code",
   "execution_count": 24,
   "metadata": {},
   "outputs": [
    {
     "data": {
      "text/plain": [
       "3-element Array{Int64,1}:\n",
       " 3\n",
       " 5\n",
       " 1"
      ]
     },
     "execution_count": 24,
     "metadata": {},
     "output_type": "execute_result"
    }
   ],
   "source": [
    "# face orientation\n",
    "test_face1 = [1, 3, 5]\n",
    "test_face2 = [3, 5, 1]\n",
    "\n"
   ]
  },
  {
   "cell_type": "code",
   "execution_count": 25,
   "metadata": {},
   "outputs": [
    {
     "ename": "LoadError",
     "evalue": "UndefVarError: FEpl not defined",
     "output_type": "error",
     "traceback": [
      "UndefVarError: FEpl not defined",
      "",
      " in include_string(::String, ::String) at ./loading.jl:441"
     ]
    }
   ],
   "source": [
    "# FE = get_FElar_naive(nfaces)\n",
    "FEpl"
   ]
  },
  {
   "cell_type": "code",
   "execution_count": 26,
   "metadata": {
    "collapsed": true
   },
   "outputs": [],
   "source": [
    "# EVpl = collect(Eset)"
   ]
  },
  {
   "cell_type": "code",
   "execution_count": 27,
   "metadata": {},
   "outputs": [
    {
     "data": {
      "text/plain": [
       "arrayofarray2arrayd2d (generic function with 1 method)"
      ]
     },
     "execution_count": 27,
     "metadata": {},
     "output_type": "execute_result"
    }
   ],
   "source": [
    "function arrayofarray2arrayd2d(d)\n",
    "    data = Array(Float64,length(d),length(d[1]))\n",
    "    for i in 1:length(d)\n",
    "        for j in 1:length(d[1])\n",
    "            data[i,j] = d[i][j]\n",
    "        end\n",
    "    end\n",
    "    return data\n",
    "end"
   ]
  },
  {
   "cell_type": "markdown",
   "metadata": {},
   "source": [
    "## Clean vertexes"
   ]
  },
  {
   "cell_type": "code",
   "execution_count": 28,
   "metadata": {},
   "outputs": [
    {
     "data": {
      "text/plain": [
       "3-element Array{Tuple{Int64,Int64},1}:\n",
       " (1,4)\n",
       " (2,5)\n",
       " (3,6)"
      ]
     },
     "execution_count": 28,
     "metadata": {},
     "output_type": "execute_result"
    }
   ],
   "source": [
    "oo = collect(zip([1,2,3],[4,5,6]))"
   ]
  },
  {
   "cell_type": "code",
   "execution_count": 29,
   "metadata": {},
   "outputs": [
    {
     "data": {
      "text/plain": [
       "3-element Array{Tuple{Int64,Int64},1}:\n",
       " (10,1)\n",
       " (2,2) \n",
       " (3,3) "
      ]
     },
     "execution_count": 29,
     "metadata": {},
     "output_type": "execute_result"
    }
   ],
   "source": [
    "collect(zip([10,2,3], range(1,3)))"
   ]
  },
  {
   "cell_type": "code",
   "execution_count": 30,
   "metadata": {},
   "outputs": [
    {
     "data": {
      "text/plain": [
       "3-element Array{Tuple{Int64,Int64},1}:\n",
       " (2,2) \n",
       " (3,3) \n",
       " (10,1)"
      ]
     },
     "execution_count": 30,
     "metadata": {},
     "output_type": "execute_result"
    }
   ],
   "source": [
    "sort(collect(zip([10,2,3], range(1,3))))"
   ]
  },
  {
   "cell_type": "code",
   "execution_count": 31,
   "metadata": {},
   "outputs": [
    {
     "data": {
      "text/plain": [
       "conv2array_of_float_arrays (generic function with 1 method)"
      ]
     },
     "execution_count": 31,
     "metadata": {},
     "output_type": "execute_result"
    }
   ],
   "source": [
    "\n",
    "function conv2array_of_float_arrays(array2d)\n",
    "\n",
    "    test_vertex_float = float(array2d)\n",
    "\n",
    "    list_of_vertexes = Array[]\n",
    "    for i in 1:size(test_vertex_float, 1)\n",
    "        push!(list_of_vertexes, test_vertex_float[i,:])\n",
    "    end\n",
    "    return list_of_vertexes\n",
    "end\n",
    "    "
   ]
  },
  {
   "cell_type": "code",
   "execution_count": 32,
   "metadata": {},
   "outputs": [
    {
     "data": {
      "text/plain": [
       "remove_double_vertexes_alternative (generic function with 1 method)"
      ]
     },
     "execution_count": 32,
     "metadata": {},
     "output_type": "execute_result"
    }
   ],
   "source": [
    "function remove_double_vertexes_alternative(V)\n",
    "    \"\"\" Return reduced vertex list wiht search table.\n",
    "    \n",
    "    Alternativte removing of doublefaces. Hopefully more memory efficient\n",
    "    \"\"\"\n",
    "    X = range(1, size(V,1))\n",
    "    # Vs = [v for (v, x) in VIsorted]\n",
    "    # Is = [x for (v, x) in VIsorted]\n",
    "    Vs = []\n",
    "#     Is = [0]*size(V, 1)\n",
    "#     Is = zeros( Int64, size(test_vertex, 1))\n",
    "    \n",
    "    Is = Dict()\n",
    "\n",
    "    prevv = nothing\n",
    "    i = 1\n",
    "    sorted_vertex_id_x = sortperm(collect(zip(test_vertex[:,1], test_vertex[:,2])))\n",
    "               sortperm(collect(zip(test_vertex[:,1], test_vertex[:,2])))\n",
    "#     for couple in sort(collect(zip(X, conv2array_of_float_arrays(V))))\n",
    "    for x in sorted_vertex_id_x\n",
    "        v = V[x,:]\n",
    "#         x = \n",
    "#         x, v = couple\n",
    "        println(v, prevv, v.==prevv)\n",
    "        if v == prevv\n",
    "            # prev index was increased\n",
    "            Is[x] = i - 1\n",
    "        else\n",
    "            push!(Vs, v)\n",
    "            Is[x] = i\n",
    "            i = i + 1\n",
    "            prevv = v\n",
    "        end\n",
    "    end\n",
    "    \n",
    "    vertex_reduced_list = Vs\n",
    "    vertex_search_table = Is\n",
    "    return vertex_reduced_list, vertex_search_table\n",
    "end"
   ]
  },
  {
   "cell_type": "code",
   "execution_count": 33,
   "metadata": {
    "collapsed": true
   },
   "outputs": [],
   "source": [
    "\n",
    "# sortperm(collect(zip(test_vertex[:,1], test_vertex[:,2])))"
   ]
  },
  {
   "cell_type": "code",
   "execution_count": null,
   "metadata": {
    "collapsed": true
   },
   "outputs": [],
   "source": []
  },
  {
   "cell_type": "code",
   "execution_count": 34,
   "metadata": {},
   "outputs": [
    {
     "ename": "LoadError",
     "evalue": "UndefVarError: test_vertex not defined",
     "output_type": "error",
     "traceback": [
      "UndefVarError: test_vertex not defined",
      "",
      " in include_string(::String, ::String) at ./loading.jl:441"
     ]
    }
   ],
   "source": [
    "vtfl = conv2array_of_float_arrays(test_vertex)\n",
    "vtfl"
   ]
  },
  {
   "cell_type": "code",
   "execution_count": 35,
   "metadata": {},
   "outputs": [
    {
     "data": {
      "text/plain": [
       "true"
      ]
     },
     "execution_count": 35,
     "metadata": {},
     "output_type": "execute_result"
    }
   ],
   "source": [
    "[1 2 3 4] == [1 2 3 4]"
   ]
  },
  {
   "cell_type": "code",
   "execution_count": 36,
   "metadata": {},
   "outputs": [
    {
     "data": {
      "text/plain": [
       "3-element Array{Int64,1}:\n",
       " 3\n",
       " 2\n",
       " 1"
      ]
     },
     "execution_count": 36,
     "metadata": {},
     "output_type": "execute_result"
    }
   ],
   "source": [
    "sortperm([(6, 2), (2, 6), (1, 3)])"
   ]
  },
  {
   "cell_type": "markdown",
   "metadata": {},
   "source": [
    "## Construct EVlar\n"
   ]
  },
  {
   "cell_type": "code",
   "execution_count": 37,
   "metadata": {},
   "outputs": [
    {
     "ename": "LoadError",
     "evalue": "UndefVarError: EVpl not defined",
     "output_type": "error",
     "traceback": [
      "UndefVarError: EVpl not defined",
      "",
      " in include_string(::String, ::String) at ./loading.jl:441"
     ]
    }
   ],
   "source": [
    "nedges = size(EVpl, 1)"
   ]
  },
  {
   "cell_type": "code",
   "execution_count": 38,
   "metadata": {},
   "outputs": [
    {
     "ename": "LoadError",
     "evalue": "UndefVarError: EVpl not defined",
     "output_type": "error",
     "traceback": [
      "UndefVarError: EVpl not defined",
      "",
      " in macro expansion; at ./In[38]:5 [inlined]",
      " in anonymous at ./<missing>:?",
      " in include_string(::String, ::String) at ./loading.jl:441"
     ]
    },
    {
     "name": "stderr",
     "output_type": "stream",
     "text": [
      "warning: parsing line table prologue at 0x0000a126 should have ended at 0x0000a490 but it ended at 0x0000a1e0\n"
     ]
    }
   ],
   "source": [
    "\n",
    "EVlar = spzeros(Int8, nedges , nvertices )\n",
    "\n",
    "for i = 1:nedges\n",
    "    EVlar[i, EVpl[i][1]] = -1\n",
    "    EVlar[i, EVpl[i][2]] = 1\n",
    "end\n",
    "\n",
    "EVlar\n"
   ]
  },
  {
   "cell_type": "markdown",
   "metadata": {},
   "source": [
    "# FE"
   ]
  },
  {
   "cell_type": "code",
   "execution_count": 39,
   "metadata": {},
   "outputs": [
    {
     "data": {
      "text/plain": [
       "2"
      ]
     },
     "execution_count": 39,
     "metadata": {},
     "output_type": "execute_result"
    }
   ],
   "source": [
    "faces[1,2]"
   ]
  },
  {
   "cell_type": "code",
   "execution_count": 40,
   "metadata": {},
   "outputs": [
    {
     "name": "stderr",
     "output_type": "stream",
     "text": [
      "WARNING: Method definition get_FElar_naive(Any) in module Main at In[5]:5 overwritten at In[40]:2.\n"
     ]
    },
    {
     "data": {
      "text/plain": [
       "get_FElar_naive (generic function with 3 methods)"
      ]
     },
     "execution_count": 40,
     "metadata": {},
     "output_type": "execute_result"
    }
   ],
   "source": [
    "function get_FElar_naive(faces, nvertices=nothing, nfaces=nothing)\n",
    "    if nfaces == nothing\n",
    "        nfaces = size(faces,1)\n",
    "    end\n",
    "    if nvertices == nothing\n",
    "        nvertices = maximum(faces)\n",
    "    end\n",
    "    # not oriented verison of faces\n",
    "    FE = spzeros(Int8, nfaces, nvertices)\n",
    "    for i = 1:nfaces\n",
    "        FE[i, faces[i, 1]] = 1\n",
    "        FE[i, faces[i, 2]] = 1\n",
    "        FE[i, faces[i, 3]] = -1\n",
    "    end\n",
    "    \n",
    "    return FE\n",
    "end"
   ]
  },
  {
   "cell_type": "code",
   "execution_count": 41,
   "metadata": {},
   "outputs": [
    {
     "data": {
      "text/plain": [
       "get_FElar (generic function with 3 methods)"
      ]
     },
     "execution_count": 41,
     "metadata": {},
     "output_type": "execute_result"
    }
   ],
   "source": [
    "\n",
    "function get_FElar(faces, nvertices=nothing, nfaces=nothing)\n",
    "    if nfaces == nothing\n",
    "        nfaces = size(faces,1)\n",
    "    end\n",
    "    if nvertices == nothing\n",
    "        nvertices = maximum(faces)\n",
    "    end\n",
    "    FE = spzeros(Int8, nfaces, nvertices)\n",
    "    for i = 1:nfaces\n",
    "        sgn = face_orientation(faces[i, :])\n",
    "        ordered_face = sort(faces[i, :])\n",
    "        FE[i, ordered_face[1]] = sgn * 1\n",
    "        FE[i, ordered_face[2]] = sgn * 1\n",
    "        FE[i, ordered_face[3]] = sgn * -1\n",
    "    end\n",
    "    return FE\n",
    "end\n",
    "\n",
    "\n",
    "#test"
   ]
  },
  {
   "cell_type": "code",
   "execution_count": 42,
   "metadata": {},
   "outputs": [
    {
     "data": {
      "text/plain": [
       "6×7 Array{Int8,2}:\n",
       "  1   1  -1   0   0   0  0\n",
       "  0  -1  -1   1   0   0  0\n",
       "  0  -1   0  -1   1   0  0\n",
       "  0  -1   0   0  -1   1  0\n",
       "  0  -1   0   0   0  -1  1\n",
       " -1  -1   0   0   0   0  1"
      ]
     },
     "execution_count": 42,
     "metadata": {},
     "output_type": "execute_result"
    }
   ],
   "source": [
    "\n",
    "test_FElar = get_FElar(hexagon_faces)\n",
    "# test_FElar[2 , 4]\n",
    "full(test_FElar)\n",
    "# test_FElar.nzval"
   ]
  },
  {
   "cell_type": "code",
   "execution_count": 43,
   "metadata": {},
   "outputs": [
    {
     "data": {
      "text/plain": [
       "0.0"
      ]
     },
     "execution_count": 43,
     "metadata": {},
     "output_type": "execute_result"
    }
   ],
   "source": [
    "vertices[7,:]\n",
    "minimum(vertices)"
   ]
  },
  {
   "cell_type": "code",
   "execution_count": 44,
   "metadata": {},
   "outputs": [
    {
     "ename": "LoadError",
     "evalue": "BoundsError: attempt to access 0-element Array{Int64,1} at index [1]",
     "output_type": "error",
     "traceback": [
      "BoundsError: attempt to access 0-element Array{Int64,1} at index [1]",
      "",
      " in lar2plasm(::SparseMatrixCSC{Int8,Int64}, ::SparseMatrixCSC{Int8,Int64}) at /home/mjirik/projects/LarSurf.jl/src/plasm.jl:17",
      " in visualize_numbers(::Array{AbstractArray{T,2},1}, ::Int64) at /home/mjirik/projects/LarSurf.jl/src/plasm.jl:59",
      " in include_string(::String, ::String) at ./loading.jl:441"
     ]
    }
   ],
   "source": [
    "\n",
    "visualize_numbers([vertices, EVlar, FElar], 2)"
   ]
  },
  {
   "cell_type": "markdown",
   "metadata": {},
   "source": [
    "# Debug version of visualize_numbers"
   ]
  },
  {
   "cell_type": "code",
   "execution_count": 45,
   "metadata": {},
   "outputs": [
    {
     "name": "stderr",
     "output_type": "stream",
     "text": [
      "WARNING: Method definition lar2plasm(Any, Any) in module Main at /home/mjirik/projects/LarSurf.jl/src/plasm.jl:2 overwritten at In[45]:2.\n",
      "WARNING: Method definition lar2py(Any, Any) in module Main at /home/mjirik/projects/LarSurf.jl/src/plasm.jl:39 overwritten at In[45]:46.\n",
      "WARNING: Method definition visualize_numbers(Any, Any) in module Main at /home/mjirik/projects/LarSurf.jl/src/plasm.jl:57 overwritten at In[45]:63.\n",
      "WARNING: Method definition visualize_boundary(Any, Any, Any) in module Main at /home/mjirik/projects/LarSurf.jl/src/plasm.jl:71 overwritten at In[45]:83.\n"
     ]
    },
    {
     "data": {
      "text/plain": [
       "visualize_boundary (generic function with 1 method)"
      ]
     },
     "execution_count": 45,
     "metadata": {},
     "output_type": "execute_result"
    }
   ],
   "source": [
    "function lar2plasm(EV, FE)\n",
    "    EV = sparse(EV)\n",
    "    faces = Array{Array{Int64, 1}, 1}()\n",
    "\n",
    "    for f in 1:size(FE, 1)\n",
    "\n",
    "        verts = Array{Int64, 1}()\n",
    "        done = Array{Int64, 1}()\n",
    "        face = FE[f, :]\n",
    "        edges = EV[face.nzind, :]\n",
    "\n",
    "        push!(done, 1)\n",
    "        vs = edges[1, :].nzind\n",
    "        if face.nzval[1] < 0\n",
    "            vs = vs[end:-1:1]\n",
    "        end\n",
    "        startv, nextv = vs\n",
    "\n",
    "        println(\"startv \", startv)\n",
    "        push!(verts, startv)\n",
    "        while nextv != startv\n",
    "            println(\"ve while\", edges[:, nextv].nzind, done, nextv, edges)\n",
    "            ednz = edges[:, nextv].nzind\n",
    "            println(\"wh 1\")\n",
    "            eall = setdiff(ednz, done)\n",
    "            println(\"wh 2\", eall)\n",
    "            e = eall[1]\n",
    "            println(\"wh 3\")\n",
    "            push!(done, e)\n",
    "            vs = edges[e, :].nzind\n",
    "            if face.nzval[e] < 0\n",
    "                vs = vs[end:-1:1]\n",
    "            end\n",
    "            curv, nextv = vs\n",
    "            push!(verts, curv)\n",
    "            println(\"wh 5 \", nextv)\n",
    "        end\n",
    "\n",
    "        push!(faces, verts)\n",
    "    end\n",
    "\n",
    "    \"FV = \" * string(faces)[15:end]\n",
    "end\n",
    "\n",
    "function lar2py(V, EV)\n",
    "    text = \"V = [[0,0]\"\n",
    "    for i in 1:size(V, 1)\n",
    "        text = text * \",\" * string(vec(V[i, :]))\n",
    "    end\n",
    "    text = text * \"]\\n\"\n",
    "    \n",
    "    text = text * \"EV = [\"\n",
    "    for i in 1:size(EV, 1)\n",
    "        if i > 1 text = text * \",\" end\n",
    "        text = text * string(EV[i, :].nzind)\n",
    "    end\n",
    "    text = text * \"]\"\n",
    "    return text\n",
    "end\n",
    "\n",
    "\n",
    "function visualize_numbers(set, font_size)\n",
    "    \"\"\"\n",
    "    seg = [V, EV, FE]\n",
    "    \"\"\"\n",
    "\n",
    "    f = open(\"tmp.py\", \"w\")\n",
    "\n",
    "    file_content = \"from larlib import *\\n\" *\n",
    "        lar2py(set[1], set[2]) * \"\\n\" *\n",
    "        lar2plasm(set[2], set[3]) * \"\\n\" *\n",
    "        \"VV = AA(LIST)(range(len(V)))\\n\" *\n",
    "        \"submodel = STRUCT(MKPOLS((V,EV)))\\n\" *\n",
    "        \"VIEW(larModelNumbering(1,1,1)(V,[VV,EV,FV],submodel,$font_size))\\n\"\n",
    "    print(file_content)\n",
    "    write(f, file_content)\n",
    "\n",
    "    close(f)\n",
    "#     run(`python tmp.py`)\n",
    "end\n",
    "\n",
    "function visualize_boundary(set, boundary, font_size)\n",
    "    f = open(\"tmp.py\", \"w\")\n",
    "    file_content =  \"from larlib import *\\n\" *\n",
    "        lar2py(set[1], set[2]) * \"\\n\" *\n",
    "        lar2plasm(set[2], set[3]) * \"\\n\" *\n",
    "        \"VV = AA(LIST)(range(len(V)))\\n\" *\n",
    "        \"submodel = STRUCT(MKPOLS((V,EV)))\\n\" *\n",
    "        \"model = larModelNumbering(1,1,1)(V,[VV,EV,FV],submodel,$font_size)\\n\" *\n",
    "        lar2py(set[1], set[2][boundary.nzind, :]) * \"\\n\" *\n",
    "        \"overmodel = STRUCT(MKPOLS((V,EV)))\\n\" *\n",
    "        \"VIEW(STRUCT([model, COLOR(RED)(overmodel)]))\"\n",
    "    print(file_content)\n",
    "    write(f, file_content)\n",
    "\n",
    "    close(f)\n",
    "    run(`python tmp.py`)\n",
    "end"
   ]
  },
  {
   "cell_type": "code",
   "execution_count": 46,
   "metadata": {},
   "outputs": [
    {
     "name": "stdout",
     "output_type": "stream",
     "text": [
      "startv 1\n",
      "ve while[1,2][1]2\n",
      "\t[1, 1]  =  -1\n",
      "\t[3, 1]  =  -1\n",
      "\t[1, 2]  =  1\n",
      "\t[2, 2]  =  -1\n",
      "\t[2, 3]  =  1\n",
      "\t[3, 3]  =  1\n",
      "wh 1\n",
      "wh 2[2]\n",
      "wh 3\n",
      "wh 5 3\n",
      "ve while[2,3][1,2]3\n",
      "\t[1, 1]  =  -1\n",
      "\t[3, 1]  =  -1\n",
      "\t[1, 2]  =  1\n",
      "\t[2, 2]  =  -1\n",
      "\t[2, 3]  =  1\n",
      "\t[3, 3]  =  1\n",
      "wh 1\n",
      "wh 2[3]\n",
      "wh 3\n",
      "wh 5 1\n",
      "startv 2\n",
      "ve while[1,3][1]1\n",
      "\t[1, 1]  =  -1\n",
      "\t[3, 1]  =  -1\n",
      "\t[1, 2]  =  1\n",
      "\t[2, 2]  =  -1\n",
      "\t[2, 3]  =  1\n",
      "\t[3, 3]  =  1\n",
      "wh 1\n",
      "wh 2[3]\n",
      "wh 3\n",
      "wh 5 3\n",
      "ve while[2,3][1,3]3\n",
      "\t[1, 1]  =  -1\n",
      "\t[3, 1]  =  -1\n",
      "\t[1, 2]  =  1\n",
      "\t[2, 2]  =  -1\n",
      "\t[2, 3]  =  1\n",
      "\t[3, 3]  =  1\n",
      "wh 1\n",
      "wh 2[2]\n",
      "wh 3\n",
      "wh 5 2\n",
      "from larlib import *\n",
      "V = [[0,0],[1,1],[2,1],[1,2],[2,2]]\n",
      "EV = [[1,2],[2,3],[1,3]]\n",
      "FV = [[1,2,3],[2,1,3]]\n",
      "VV = AA(LIST)(range(len(V)))\n",
      "submodel = STRUCT(MKPOLS((V,EV)))\n",
      "VIEW(larModelNumbering(1,1,1)(V,[VV,EV,FV],submodel,2))\n"
     ]
    }
   ],
   "source": [
    "test_V = [\n",
    "    1 1\n",
    "    2 1\n",
    "    1 2\n",
    "    2 2\n",
    "    ]\n",
    "test_EV = sparse([\n",
    "    -1 1 0 0\n",
    "    0 -1 1 0\n",
    "    -1 0 1 0\n",
    "])\n",
    "test_FE = sparse([\n",
    "        1 1 -1\n",
    "        -1 -1 1\n",
    "])\n",
    "visualize_numbers([test_V, test_EV, test_FE], 2)"
   ]
  },
  {
   "cell_type": "code",
   "execution_count": 47,
   "metadata": {},
   "outputs": [
    {
     "data": {
      "text/plain": [
       "printarr (generic function with 1 method)"
      ]
     },
     "execution_count": 47,
     "metadata": {},
     "output_type": "execute_result"
    }
   ],
   "source": [
    "function printarr(arr)\n",
    "    print(size(arr), typeof(arr), \" sparse: \", issparse(arr),\", min: \",  minimum(arr), \", max: \",  maximum(arr))\n",
    "end"
   ]
  },
  {
   "cell_type": "code",
   "execution_count": 48,
   "metadata": {},
   "outputs": [
    {
     "data": {
      "text/plain": [
       "1192"
      ]
     },
     "execution_count": 48,
     "metadata": {},
     "output_type": "execute_result"
    }
   ],
   "source": [
    "nvertices"
   ]
  },
  {
   "cell_type": "code",
   "execution_count": 49,
   "metadata": {},
   "outputs": [
    {
     "data": {
      "text/plain": [
       "298"
      ]
     },
     "execution_count": 49,
     "metadata": {},
     "output_type": "execute_result"
    }
   ],
   "source": [
    "nfaces"
   ]
  },
  {
   "cell_type": "code",
   "execution_count": 50,
   "metadata": {},
   "outputs": [
    {
     "name": "stdout",
     "output_type": "stream",
     "text": [
      "(1192,3)Array{Float64,2} sparse: false, min: 0.0, max: 6.0"
     ]
    }
   ],
   "source": [
    "printarr(vertices)"
   ]
  },
  {
   "cell_type": "code",
   "execution_count": 51,
   "metadata": {},
   "outputs": [
    {
     "name": "stdout",
     "output_type": "stream",
     "text": [
      "(12,1192)SparseMatrixCSC{Int8,Int64} sparse: true, min: 0, max: 0"
     ]
    }
   ],
   "source": [
    "printarr(EVlar)\n",
    "# EVlar.nzind"
   ]
  },
  {
   "cell_type": "code",
   "execution_count": null,
   "metadata": {
    "collapsed": true
   },
   "outputs": [],
   "source": []
  },
  {
   "cell_type": "code",
   "execution_count": 52,
   "metadata": {},
   "outputs": [
    {
     "name": "stdout",
     "output_type": "stream",
     "text": [
      "(6,18)SparseMatrixCSC{Int8,Int64} sparse: true, min: 0, max: 1"
     ]
    }
   ],
   "source": [
    "printarr(FElar)"
   ]
  },
  {
   "cell_type": "code",
   "execution_count": 53,
   "metadata": {},
   "outputs": [
    {
     "data": {
      "text/plain": [
       "1192×3 Array{Float64,2}:\n",
       " 1.0  2.0  1.0\n",
       " 2.0  2.0  1.0\n",
       " 1.0  3.0  1.0\n",
       " 2.0  3.0  1.0\n",
       " 1.0  2.0  1.0\n",
       " 2.0  2.0  1.0\n",
       " 1.0  2.0  2.0\n",
       " 2.0  2.0  2.0\n",
       " 1.0  2.0  1.0\n",
       " 1.0  3.0  1.0\n",
       " 1.0  2.0  2.0\n",
       " 1.0  3.0  2.0\n",
       " 2.0  2.0  1.0\n",
       " ⋮            \n",
       " 4.0  6.0  5.0\n",
       " 5.0  6.0  5.0\n",
       " 4.0  6.0  6.0\n",
       " 5.0  6.0  6.0\n",
       " 4.0  4.0  6.0\n",
       " 5.0  4.0  6.0\n",
       " 4.0  5.0  6.0\n",
       " 5.0  5.0  6.0\n",
       " 4.0  5.0  6.0\n",
       " 5.0  5.0  6.0\n",
       " 4.0  6.0  6.0\n",
       " 5.0  6.0  6.0"
      ]
     },
     "execution_count": 53,
     "metadata": {},
     "output_type": "execute_result"
    }
   ],
   "source": [
    "vertices"
   ]
  },
  {
   "cell_type": "code",
   "execution_count": 54,
   "metadata": {},
   "outputs": [
    {
     "data": {
      "text/plain": [
       "12×1192 Array{Int8,2}:\n",
       " 0  0  0  0  0  0  0  0  0  0  0  0  0  …  0  0  0  0  0  0  0  0  0  0  0  0\n",
       " 0  0  0  0  0  0  0  0  0  0  0  0  0     0  0  0  0  0  0  0  0  0  0  0  0\n",
       " 0  0  0  0  0  0  0  0  0  0  0  0  0     0  0  0  0  0  0  0  0  0  0  0  0\n",
       " 0  0  0  0  0  0  0  0  0  0  0  0  0     0  0  0  0  0  0  0  0  0  0  0  0\n",
       " 0  0  0  0  0  0  0  0  0  0  0  0  0     0  0  0  0  0  0  0  0  0  0  0  0\n",
       " 0  0  0  0  0  0  0  0  0  0  0  0  0  …  0  0  0  0  0  0  0  0  0  0  0  0\n",
       " 0  0  0  0  0  0  0  0  0  0  0  0  0     0  0  0  0  0  0  0  0  0  0  0  0\n",
       " 0  0  0  0  0  0  0  0  0  0  0  0  0     0  0  0  0  0  0  0  0  0  0  0  0\n",
       " 0  0  0  0  0  0  0  0  0  0  0  0  0     0  0  0  0  0  0  0  0  0  0  0  0\n",
       " 0  0  0  0  0  0  0  0  0  0  0  0  0     0  0  0  0  0  0  0  0  0  0  0  0\n",
       " 0  0  0  0  0  0  0  0  0  0  0  0  0  …  0  0  0  0  0  0  0  0  0  0  0  0\n",
       " 0  0  0  0  0  0  0  0  0  0  0  0  0     0  0  0  0  0  0  0  0  0  0  0  0"
      ]
     },
     "execution_count": 54,
     "metadata": {},
     "output_type": "execute_result"
    }
   ],
   "source": [
    "full(EVlar)"
   ]
  },
  {
   "cell_type": "code",
   "execution_count": 55,
   "metadata": {},
   "outputs": [
    {
     "ename": "LoadError",
     "evalue": "MethodError: no method matching sparse(::Type{Int8}, ::SparseMatrixCSC{Int8,Int64})\u001b[0m\nClosest candidates are:\n  sparse(::Any, ::Any, \u001b[1m\u001b[31m::Number\u001b[0m) at sparse/sparsematrix.jl:587\n  sparse(::Any, ::Any, \u001b[1m\u001b[31m::AbstractArray{Bool,1}\u001b[0m, \u001b[1m\u001b[31m::Any\u001b[0m, \u001b[1m\u001b[31m::Any\u001b[0m) at sparse/sparsematrix.jl:595\n  sparse(::Any, ::Any, \u001b[1m\u001b[31m::AbstractArray{T,1}\u001b[0m) at sparse/sparsematrix.jl:589\n  ...\u001b[0m",
     "output_type": "error",
     "traceback": [
      "MethodError: no method matching sparse(::Type{Int8}, ::SparseMatrixCSC{Int8,Int64})\u001b[0m\nClosest candidates are:\n  sparse(::Any, ::Any, \u001b[1m\u001b[31m::Number\u001b[0m) at sparse/sparsematrix.jl:587\n  sparse(::Any, ::Any, \u001b[1m\u001b[31m::AbstractArray{Bool,1}\u001b[0m, \u001b[1m\u001b[31m::Any\u001b[0m, \u001b[1m\u001b[31m::Any\u001b[0m) at sparse/sparsematrix.jl:595\n  sparse(::Any, ::Any, \u001b[1m\u001b[31m::AbstractArray{T,1}\u001b[0m) at sparse/sparsematrix.jl:589\n  ...\u001b[0m",
      "",
      " in include_string(::String, ::String) at ./loading.jl:441"
     ]
    }
   ],
   "source": [
    "FElarint = sparse(Int8, FElar)\n",
    "# full(FElarint)"
   ]
  },
  {
   "cell_type": "code",
   "execution_count": 56,
   "metadata": {},
   "outputs": [
    {
     "ename": "LoadError",
     "evalue": "BoundsError: attempt to access 0-element Array{Int64,1} at index [1]",
     "output_type": "error",
     "traceback": [
      "BoundsError: attempt to access 0-element Array{Int64,1} at index [1]",
      "",
      " in lar2plasm(::SparseMatrixCSC{Int8,Int64}, ::SparseMatrixCSC{Int8,Int64}) at ./In[45]:17",
      " in visualize_numbers(::Array{AbstractArray{T,2},1}, ::Int64) at ./In[45]:69",
      " in include_string(::String, ::String) at ./loading.jl:441"
     ]
    }
   ],
   "source": [
    "\n",
    "visualize_numbers([vertices, EVlar, FElar], 2)"
   ]
  },
  {
   "cell_type": "code",
   "execution_count": 57,
   "metadata": {},
   "outputs": [
    {
     "data": {
      "text/plain": [
       "0-element Array{Int64,1}"
      ]
     },
     "execution_count": 57,
     "metadata": {},
     "output_type": "execute_result"
    }
   ],
   "source": [
    "setdiff([2,3],[1,2,3])"
   ]
  },
  {
   "cell_type": "code",
   "execution_count": 58,
   "metadata": {},
   "outputs": [
    {
     "name": "stdout",
     "output_type": "stream",
     "text": [
      "startv 1\n",
      "ve while[1,2][1]2\n",
      "\t[1, 1]  =  1\n",
      "\t[3, 1]  =  -1\n",
      "\t[1, 2]  =  -1\n",
      "\t[2, 2]  =  1\n",
      "\t[2, 3]  =  -1\n",
      "\t[3, 3]  =  1\n",
      "wh 1\n",
      "wh 2[2]\n",
      "wh 3\n",
      "wh 5 3\n",
      "ve while[2,3][1,2]3\n",
      "\t[1, 1]  =  1\n",
      "\t[3, 1]  =  -1\n",
      "\t[1, 2]  =  -1\n",
      "\t[2, 2]  =  1\n",
      "\t[2, 3]  =  -1\n",
      "\t[3, 3]  =  1\n",
      "wh 1\n",
      "wh 2[3]\n",
      "wh 3\n",
      "wh 5 1\n",
      "startv 2\n",
      "ve while[1,3][1]1\n",
      "\t[1, 1]  =  1\n",
      "\t[3, 1]  =  -1\n",
      "\t[1, 2]  =  -1\n",
      "\t[2, 2]  =  1\n",
      "\t[2, 3]  =  -1\n",
      "\t[3, 3]  =  1\n",
      "wh 1\n",
      "wh 2[3]\n",
      "wh 3\n",
      "wh 5 3\n",
      "ve while[2,3][1,3]3\n",
      "\t[1, 1]  =  1\n",
      "\t[3, 1]  =  -1\n",
      "\t[1, 2]  =  -1\n",
      "\t[2, 2]  =  1\n",
      "\t[2, 3]  =  -1\n",
      "\t[3, 3]  =  1\n",
      "wh 1\n",
      "wh 2[2]\n",
      "wh 3\n",
      "wh 5 2\n",
      "from larlib import *\n",
      "V = [[0,0],[1,1],[2,1],[1,2],[2,2]]\n",
      "EV = [[1,2],[2,3],[1,3]]\n",
      "FV = [[1,2,3],[2,1,3]]\n",
      "VV = AA(LIST)(range(len(V)))\n",
      "submodel = STRUCT(MKPOLS((V,EV)))\n",
      "VIEW(larModelNumbering(1,1,1)(V,[VV,EV,FV],submodel,2))\n"
     ]
    }
   ],
   "source": [
    "V = [\n",
    "    1 1\n",
    "    2 1\n",
    "    1 2\n",
    "    2 2\n",
    "    ]\n",
    "EV = sparse([\n",
    "    1 -1 0 0\n",
    "    0 1 -1 0\n",
    "    -1 0 1 0\n",
    "])\n",
    "FE = sparse([\n",
    "        1 1 -1\n",
    "        -1 -1 1\n",
    "])\n",
    "visualize_numbers([V, EV, FE], 2)"
   ]
  },
  {
   "cell_type": "markdown",
   "metadata": {},
   "source": [
    "# Test visualization using LAR and Plasm"
   ]
  },
  {
   "cell_type": "code",
   "execution_count": 59,
   "metadata": {},
   "outputs": [
    {
     "data": {
      "text/plain": [
       "2×3 sparse matrix with 6 Int64 nonzero entries:\n",
       "\t[1, 1]  =  1\n",
       "\t[2, 1]  =  -1\n",
       "\t[1, 2]  =  1\n",
       "\t[2, 2]  =  -1\n",
       "\t[1, 3]  =  -1\n",
       "\t[2, 3]  =  1"
      ]
     },
     "execution_count": 59,
     "metadata": {},
     "output_type": "execute_result"
    }
   ],
   "source": [
    "V = [\n",
    "    1 1\n",
    "    2 1\n",
    "    1 2\n",
    "    2 2\n",
    "    ]\n",
    "EV = sparse([\n",
    "    1 -1 0 0\n",
    "    0 1 -1 0\n",
    "    -1 0 1 0\n",
    "])\n",
    "FE = sparse([\n",
    "        1 1 -1\n",
    "        -1 -1 1\n",
    "])"
   ]
  },
  {
   "cell_type": "code",
   "execution_count": null,
   "metadata": {
    "collapsed": true
   },
   "outputs": [],
   "source": []
  },
  {
   "cell_type": "code",
   "execution_count": 60,
   "metadata": {
    "collapsed": true
   },
   "outputs": [],
   "source": [
    "#visualize_numbers([V, EV, FE], 2)"
   ]
  },
  {
   "cell_type": "code",
   "execution_count": 61,
   "metadata": {},
   "outputs": [
    {
     "data": {
      "text/plain": [
       "- (generic function with 190 methods)"
      ]
     },
     "execution_count": 61,
     "metadata": {},
     "output_type": "execute_result"
    }
   ],
   "source": [
    "function reindexVertexesInFaces(faces, new_indexes,\n",
    "                                       index_base=0)\n",
    "#     println(faces)\n",
    "    for i in 1:size(faces, 1)\n",
    "        for j in 1:size(faces, 2)\n",
    "            faces[i, j] = new_indexes[faces[i, j] - index_base] + index_base\n",
    "        end\n",
    "    end\n",
    "#     try\n",
    "#     catch\n",
    "#         println(\"reindexVertexInFaces exception\")\n",
    "#         println(\"fc \", face, \" i \", i , \" len \", size(new_indexes))\n",
    "        \n",
    "#     end\n",
    "    return faces\n",
    "    \n",
    "end\n",
    "    \n",
    "        \n",
    "#     for face in faces:\n",
    "#         try:\n",
    "#             for i in range(0, len(face)):\n",
    "#                 face[i] = new_indexes[face[i] - index_base] + index_base\n",
    "#             # face[0] = new_indexes[face[0]-1] + 1\n",
    "#             # face[1] = new_indexes[face[1]-1] + 1\n",
    "#             # face[2] = new_indexes[face[2]-1] + 1\n",
    "#         except:\n",
    "#             import traceback\n",
    "#             traceback.print_exc()\n",
    "#             print 'fc ', face, ' i ', i\n",
    "#             print len(new_indexes)\n",
    "\n",
    "#     return faces \n",
    "-"
   ]
  },
  {
   "cell_type": "code",
   "execution_count": 62,
   "metadata": {},
   "outputs": [
    {
     "data": {
      "text/plain": [
       "Dict{Any,Int64} with 2 entries:\n",
       "  \"B\"   => 2\n",
       "  (1,2) => 1"
      ]
     },
     "execution_count": 62,
     "metadata": {},
     "output_type": "execute_result"
    }
   ],
   "source": [
    "Dict(tuple(1,2) => 1, \"B\" => 2)"
   ]
  },
  {
   "cell_type": "code",
   "execution_count": 63,
   "metadata": {},
   "outputs": [
    {
     "ename": "LoadError",
     "evalue": "UndefVarError: removeDoubleVertexesAndFaces not defined",
     "output_type": "error",
     "traceback": [
      "UndefVarError: removeDoubleVertexesAndFaces not defined",
      "",
      " in include_string(::String, ::String) at ./loading.jl:441"
     ]
    }
   ],
   "source": [
    "removeDoubleVertexesAndFaces()"
   ]
  },
  {
   "cell_type": "markdown",
   "metadata": {},
   "source": [
    "# Unittest"
   ]
  },
  {
   "cell_type": "code",
   "execution_count": 64,
   "metadata": {},
   "outputs": [
    {
     "name": "stdout",
     "output_type": "stream",
     "text": [
      "[1,2]nothingBool[false,false]\n",
      "[2,3][1,2]Bool[false,false]\n",
      "[2,3][2,3]Bool[true,true]\n",
      "[3,3][2,3]Bool[false,true]\n",
      "[4,1][3,3]Bool[false,false]\n",
      "Any[[1,2],[2,3],[3,3],[4,1]]"
     ]
    }
   ],
   "source": [
    "# test\n",
    "test_vertex = [ 1 2; 2 3; 4 1; 2 3; 3 3]\n",
    "test_faces = [\n",
    "    1 3 4;\n",
    "    4 5 1;\n",
    "    1 5 4\n",
    "]\n",
    "# test_EV = sparse([\n",
    "#     1 -1 0 0\n",
    "#     0 1 -1 0\n",
    "#     -1 0 1 0\n",
    "# ])\n",
    "# test_FE = sparse([\n",
    "#         1 1 -1\n",
    "#         -1 -1 1\n",
    "# ])\n",
    "# test_faces = sparse([ 1 2; 2 3; 4 1; 2 3])\n",
    "\n",
    "Vs, Is = remove_double_vertexes_alternative(test_vertex)\n",
    "\n",
    "for i in 1:size(test_vertex, 1)\n",
    "    v1 = Vs[Is[i]] \n",
    "    v2 = test_vertex[i,:]\n",
    "    assert(v1 == v2)\n",
    "end\n",
    "\n",
    "print(Vs)"
   ]
  },
  {
   "cell_type": "code",
   "execution_count": 65,
   "metadata": {},
   "outputs": [
    {
     "name": "stdout",
     "output_type": "stream",
     "text": [
      "Any[[1,2],[2,3],[3,3],[4,1]]\n",
      "[1 4 2; 2 3 1; 1 3 2]\n"
     ]
    },
    {
     "data": {
      "text/plain": [
       "false"
      ]
     },
     "execution_count": 65,
     "metadata": {},
     "output_type": "execute_result"
    }
   ],
   "source": [
    "\n",
    "reindexed_faces = reindexVertexesInFaces(copy(test_faces), Is)\n",
    "println(Vs)\n",
    "println(reindexed_faces)\n",
    "reindexed_faces == [1 4 2; 2 3 1]\n"
   ]
  },
  {
   "cell_type": "code",
   "execution_count": 66,
   "metadata": {},
   "outputs": [
    {
     "ename": "LoadError",
     "evalue": "UndefVarError: removeDoubleFacesByDictAlgoritm not defined",
     "output_type": "error",
     "traceback": [
      "UndefVarError: removeDoubleFacesByDictAlgoritm not defined",
      "",
      " in include_string(::String, ::String) at ./loading.jl:441"
     ]
    }
   ],
   "source": [
    "fcs = removeDoubleFacesByDictAlgoritm(test_faces)\n",
    "\n",
    "collect(fcs)"
   ]
  },
  {
   "cell_type": "code",
   "execution_count": 67,
   "metadata": {},
   "outputs": [
    {
     "ename": "LoadError",
     "evalue": "UndefVarError: removeDoubleVertexesAndFaces not defined",
     "output_type": "error",
     "traceback": [
      "UndefVarError: removeDoubleVertexesAndFaces not defined",
      "",
      " in include_string(::String, ::String) at ./loading.jl:441"
     ]
    }
   ],
   "source": [
    "\n",
    "new_vertexes, new_faces = removeDoubleVertexesAndFaces(test_vertex, test_faces)"
   ]
  }
 ],
 "metadata": {
  "kernelspec": {
   "display_name": "Julia 1.1.0",
   "language": "julia",
   "name": "julia-1.1"
  },
  "language_info": {
   "file_extension": ".jl",
   "mimetype": "application/julia",
   "name": "julia",
   "version": "1.1.0"
  },
  "toc": {
   "base_numbering": 1,
   "nav_menu": {},
   "number_sections": true,
   "sideBar": true,
   "skip_h1_title": false,
   "title_cell": "Table of Contents",
   "title_sidebar": "Contents",
   "toc_cell": false,
   "toc_position": {},
   "toc_section_display": true,
   "toc_window_display": true
  }
 },
 "nbformat": 4,
 "nbformat_minor": 2
}
