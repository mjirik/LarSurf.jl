{
 "cells": [
  {
   "cell_type": "markdown",
   "metadata": {},
   "source": [
    "Goal of this script is to obtain \n",
    "vertex, edge, face \n",
    "\n",
    "\n",
    "V, EV"
   ]
  },
  {
   "cell_type": "code",
   "execution_count": 1,
   "metadata": {},
   "outputs": [
    {
     "data": {
      "text/plain": [
       "\"/home/mjirik/projects/lario3d.jl/notebooks\""
      ]
     },
     "execution_count": 1,
     "metadata": {},
     "output_type": "execute_result"
    }
   ],
   "source": [
    "pwd()\n"
   ]
  },
  {
   "cell_type": "markdown",
   "metadata": {},
   "source": [
    "# Test visualization using LAR and Plasm"
   ]
  },
  {
   "cell_type": "code",
   "execution_count": 2,
   "metadata": {},
   "outputs": [
    {
     "data": {
      "text/plain": [
       "2×3 sparse matrix with 6 Int64 nonzero entries:\n",
       "\t[1, 1]  =  1\n",
       "\t[2, 1]  =  -1\n",
       "\t[1, 2]  =  1\n",
       "\t[2, 2]  =  -1\n",
       "\t[1, 3]  =  -1\n",
       "\t[2, 3]  =  1"
      ]
     },
     "execution_count": 2,
     "metadata": {},
     "output_type": "execute_result"
    }
   ],
   "source": [
    "V = [\n",
    "    1 1\n",
    "    2 1\n",
    "    1 2\n",
    "    2 2\n",
    "    ]\n",
    "EV = sparse([\n",
    "    1 -1 0 0\n",
    "    0 1 -1 0\n",
    "    -1 0 1 0\n",
    "])\n",
    "FE = sparse([\n",
    "        1 1 -1\n",
    "        -1 -1 1\n",
    "])"
   ]
  },
  {
   "cell_type": "code",
   "execution_count": 3,
   "metadata": {},
   "outputs": [
    {
     "data": {
      "text/plain": [
       "visualize_boundary (generic function with 1 method)"
      ]
     },
     "execution_count": 3,
     "metadata": {},
     "output_type": "execute_result"
    }
   ],
   "source": [
    "include(\"../src/plasm.jl\")"
   ]
  },
  {
   "cell_type": "code",
   "execution_count": 4,
   "metadata": {},
   "outputs": [
    {
     "name": "stdout",
     "output_type": "stream",
     "text": [
      "1\n",
      "2\n",
      "XgeModule::init_started\n",
      "Creating shared GLCanvas...\n",
      "shared GLCanvas created\n",
      "XgeModule::init_finished\n",
      "Evaluating fenvs.py..\n",
      "('...fenvs.py imported in', 0.006561000000000039, 'seconds')\n",
      "centre\n",
      "centre\n",
      "centre\n",
      "Building batches from Hpc....\n",
      "...done in 0 msec\n",
      "Optimizing the octree....\n",
      "   Number of input batches 73\n",
      "   total number vertices    60\n",
      "   Number of output batches 30\n",
      "   Batch vertex media       2\n",
      "...done in 0 msec\n",
      "Building octree from 30 batches....\n",
      "Scene number of nodes of the octree 58\n",
      "Scene max depth                     4\n",
      "Scene number of batches             30\n",
      "...done in 0 msec\n"
     ]
    }
   ],
   "source": [
    "visualize_numbers([V, EV, FE], 2)"
   ]
  }
 ],
 "metadata": {
  "kernelspec": {
   "display_name": "Julia 0.5.2",
   "language": "julia",
   "name": "julia-0.5"
  },
  "language_info": {
   "file_extension": ".jl",
   "mimetype": "application/julia",
   "name": "julia",
   "version": "0.5.2"
  }
 },
 "nbformat": 4,
 "nbformat_minor": 2
}
