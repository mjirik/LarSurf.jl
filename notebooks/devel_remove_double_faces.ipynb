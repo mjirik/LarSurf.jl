{
 "cells": [
  {
   "cell_type": "code",
   "execution_count": 77,
   "metadata": {},
   "outputs": [
    {
     "name": "stderr",
     "output_type": "stream",
     "text": [
      "WARNING: Method definition lar2plasm(Any, Any) in module Main at /home/mjirik/projects/lario3d.jl/src/plasm.jl:2 overwritten at /home/mjirik/projects/lario3d.jl/src/plasm.jl:2.\n",
      "WARNING: Method definition lar2py(Any, Any) in module Main at /home/mjirik/projects/lario3d.jl/src/plasm.jl:39 overwritten at /home/mjirik/projects/lario3d.jl/src/plasm.jl:39.\n",
      "WARNING: Method definition visualize_numbers(Any, Any) in module Main at /home/mjirik/projects/lario3d.jl/src/plasm.jl:57 overwritten at /home/mjirik/projects/lario3d.jl/src/plasm.jl:57.\n",
      "WARNING: Method definition visualize_boundary(Any, Any, Any) in module Main at /home/mjirik/projects/lario3d.jl/src/plasm.jl:71 overwritten at /home/mjirik/projects/lario3d.jl/src/plasm.jl:71.\n",
      "WARNING: Method definition get_obj_metainfo(Any) in module Main at /home/mjirik/projects/lario3d.jl/src/read.jl:4 overwritten at /home/mjirik/projects/lario3d.jl/src/read.jl:4.\n",
      "WARNING: Method definition get_obj_vertices_and_faces(Any, Any, Any) in module Main at /home/mjirik/projects/lario3d.jl/src/read.jl:24 overwritten at /home/mjirik/projects/lario3d.jl/src/read.jl:24.\n",
      "WARNING: Method definition read_obj(Any) in module Main at /home/mjirik/projects/lario3d.jl/src/read.jl:57 overwritten at /home/mjirik/projects/lario3d.jl/src/read.jl:57.\n",
      "WARNING: Method definition check_vf(Any, Any) in module Main at /home/mjirik/projects/lario3d.jl/src/representation.jl:4 overwritten at /home/mjirik/projects/lario3d.jl/src/representation.jl:4.\n",
      "WARNING: Method definition check_vf(Any, Any, Any) in module Main at /home/mjirik/projects/lario3d.jl/src/representation.jl:4 overwritten at /home/mjirik/projects/lario3d.jl/src/representation.jl:4.\n",
      "WARNING: Method definition check_vevfe(Any, Any, Any) in module Main at /home/mjirik/projects/lario3d.jl/src/representation.jl:25 overwritten at /home/mjirik/projects/lario3d.jl/src/representation.jl:25.\n",
      "WARNING: Method definition iter_edge(Any, Any, Any) in module Main at /home/mjirik/projects/lario3d.jl/src/representation.jl:74 overwritten at /home/mjirik/projects/lario3d.jl/src/representation.jl:74.\n",
      "WARNING: Method definition EVinv_to_EVinds(Any, Any) in module Main at /home/mjirik/projects/lario3d.jl/src/representation.jl:92 overwritten at /home/mjirik/projects/lario3d.jl/src/representation.jl:92.\n",
      "WARNING: Method definition get_FEinds_and_EVinv(Any) in module Main at /home/mjirik/projects/lario3d.jl/src/representation.jl:105 overwritten at /home/mjirik/projects/lario3d.jl/src/representation.jl:105.\n",
      "WARNING: Method definition get_FEinds_and_EVinv(Any, Any) in module Main at /home/mjirik/projects/lario3d.jl/src/representation.jl:105 overwritten at /home/mjirik/projects/lario3d.jl/src/representation.jl:105.\n",
      "WARNING: Method definition convert_to_FElar(Any, Any, Any, Any) in module Main at /home/mjirik/projects/lario3d.jl/src/representation.jl:142 overwritten at /home/mjirik/projects/lario3d.jl/src/representation.jl:142.\n",
      "WARNING: Method definition get_FEinds_and_EVinds(Any) in module Main at /home/mjirik/projects/lario3d.jl/src/representation.jl:162 overwritten at /home/mjirik/projects/lario3d.jl/src/representation.jl:162.\n",
      "WARNING: Method definition get_FEinds_and_EVinds(Any, Any) in module Main at /home/mjirik/projects/lario3d.jl/src/representation.jl:162 overwritten at /home/mjirik/projects/lario3d.jl/src/representation.jl:162.\n",
      "WARNING: Method definition convert_to_EVlar(Any, Any, Any) in module Main at /home/mjirik/projects/lario3d.jl/src/representation.jl:171 overwritten at /home/mjirik/projects/lario3d.jl/src/representation.jl:171.\n",
      "WARNING: Method definition get_EVlar_FElar(Any, Any) in module Main at /home/mjirik/projects/lario3d.jl/src/representation.jl:183 overwritten at /home/mjirik/projects/lario3d.jl/src/representation.jl:183.\n",
      "WARNING: Method definition to_lar(Any, Any) in module Main at /home/mjirik/projects/lario3d.jl/src/representation.jl:195 overwritten at /home/mjirik/projects/lario3d.jl/src/representation.jl:195.\n",
      "WARNING: Method definition bool2sgn(Any) in module Main at /home/mjirik/projects/lario3d.jl/src/representation.jl:200 overwritten at /home/mjirik/projects/lario3d.jl/src/representation.jl:204.\n",
      "WARNING: Method definition face_orientation(Any) in module Main at /home/mjirik/projects/lario3d.jl/src/representation.jl:210 overwritten at /home/mjirik/projects/lario3d.jl/src/representation.jl:214.\n",
      "WARNING: Method definition remove_double_vertexes_alternative(Any) in module Main at /home/mjirik/projects/lario3d.jl/src/surface.jl:2 overwritten at /home/mjirik/projects/lario3d.jl/src/surface.jl:2.\n",
      "WARNING: Method definition removeOneOfDoubleFacesByDictAlgoritm(Any) in module Main at /home/mjirik/projects/lario3d.jl/src/surface.jl:43 overwritten at /home/mjirik/projects/lario3d.jl/src/surface.jl:62.\n",
      "WARNING: Method definition removeOneOfDoubleFacesByDictAlgoritm(Any, Any) in module Main at /home/mjirik/projects/lario3d.jl/src/surface.jl:43 overwritten at /home/mjirik/projects/lario3d.jl/src/surface.jl:62.\n",
      "WARNING: Method definition removeDoubleFacesByAlberto(Any) in module Main at /home/mjirik/projects/lario3d.jl/src/surface.jl:64 overwritten at /home/mjirik/projects/lario3d.jl/src/surface.jl:83.\n",
      "WARNING: Method definition removeDoubleFacesByAlberto(Any, Any) in module Main at /home/mjirik/projects/lario3d.jl/src/surface.jl:64 overwritten at /home/mjirik/projects/lario3d.jl/src/surface.jl:83.\n",
      "WARNING: Method definition hexagon() in module Main at /home/mjirik/projects/lario3d.jl/src/sampledata.jl:8 overwritten at /home/mjirik/projects/lario3d.jl/src/sampledata.jl:8.\n",
      "WARNING: Method definition two_tetrahedrons() in module Main at /home/mjirik/projects/lario3d.jl/src/sampledata.jl:16 overwritten at /home/mjirik/projects/lario3d.jl/src/sampledata.jl:16.\n",
      "WARNING: Method definition tetrahedron() in module Main at /home/mjirik/projects/lario3d.jl/src/sampledata.jl:25 overwritten at /home/mjirik/projects/lario3d.jl/src/sampledata.jl:25.\n"
     ]
    },
    {
     "data": {
      "text/plain": [
       "tetrahedron (generic function with 1 method)"
      ]
     },
     "execution_count": 77,
     "metadata": {},
     "output_type": "execute_result"
    }
   ],
   "source": [
    "include(\"../src/plasm.jl\")\n",
    "include(\"../src/read.jl\")\n",
    "include(\"../src/representation.jl\")\n",
    "include(\"../src/surface.jl\")\n",
    "include(\"../src/sampledata.jl\")"
   ]
  },
  {
   "cell_type": "markdown",
   "metadata": {},
   "source": [
    "### Remove double vertexes"
   ]
  },
  {
   "cell_type": "code",
   "execution_count": null,
   "metadata": {},
   "outputs": [],
   "source": []
  },
  {
   "cell_type": "markdown",
   "metadata": {},
   "source": [
    "\n",
    "#### Test"
   ]
  },
  {
   "cell_type": "code",
   "execution_count": 78,
   "metadata": {},
   "outputs": [
    {
     "name": "stdout",
     "output_type": "stream",
     "text": [
      "1\n",
      "1\n",
      "1\n",
      "2\n",
      "2\n",
      "2\n",
      "2\n",
      "3\n",
      "XgeModule::init_started\n",
      "Creating shared GLCanvas...\n",
      "shared GLCanvas created\n",
      "XgeModule::init_finished\n",
      "Evaluating fenvs.py..\n",
      "('...fenvs.py imported in', 0.008055999999999952, 'seconds')\n",
      "centre\n",
      "centre\n",
      "centre\n",
      "Building batches from Hpc....\n",
      "...done in 1 msec\n",
      "Optimizing the octree....\n",
      "   Number of input batches 195\n",
      "   total number vertices    120\n",
      "   Number of output batches 60\n",
      "   Batch vertex media       2\n",
      "...done in 0 msec\n",
      "Building octree from 60 batches....\n",
      "Scene number of nodes of the octree 99\n",
      "Scene max depth                     4\n",
      "Scene number of batches             60\n",
      "...done in 0 msec\n"
     ]
    }
   ],
   "source": [
    "\n",
    "\n",
    "v, f = two_tetrahedrons()\n",
    "\n",
    "visualize_numbers(to_lar(v, f), 2)"
   ]
  },
  {
   "cell_type": "code",
   "execution_count": null,
   "metadata": {
    "collapsed": true
   },
   "outputs": [],
   "source": []
  },
  {
   "cell_type": "markdown",
   "metadata": {},
   "source": [
    "## Remove inner faces"
   ]
  },
  {
   "cell_type": "code",
   "execution_count": 79,
   "metadata": {},
   "outputs": [
    {
     "data": {
      "text/plain": [
       "6×3 Array{Int64,2}:\n",
       " 2  3  5\n",
       " 1  2  3\n",
       " 2  4  5\n",
       " 1  2  4\n",
       " 1  3  4\n",
       " 3  4  5"
      ]
     },
     "execution_count": 79,
     "metadata": {},
     "output_type": "execute_result"
    }
   ],
   "source": [
    "\n",
    "newf = removeDoubleFacesByAlberto(f)"
   ]
  },
  {
   "cell_type": "code",
   "execution_count": 80,
   "metadata": {},
   "outputs": [
    {
     "data": {
      "text/plain": [
       "8×3 Array{Int64,2}:\n",
       " 1  2  3\n",
       " 1  2  4\n",
       " 1  3  4\n",
       " 2  3  4\n",
       " 2  3  4\n",
       " 2  3  5\n",
       " 2  4  5\n",
       " 3  4  5"
      ]
     },
     "execution_count": 80,
     "metadata": {},
     "output_type": "execute_result"
    }
   ],
   "source": [
    "full(f)"
   ]
  },
  {
   "cell_type": "code",
   "execution_count": 81,
   "metadata": {},
   "outputs": [
    {
     "data": {
      "text/plain": [
       "6×3 Array{Int64,2}:\n",
       " 2  3  5\n",
       " 1  2  3\n",
       " 2  4  5\n",
       " 1  2  4\n",
       " 1  3  4\n",
       " 3  4  5"
      ]
     },
     "execution_count": 81,
     "metadata": {},
     "output_type": "execute_result"
    }
   ],
   "source": [
    "full(newf)"
   ]
  },
  {
   "cell_type": "code",
   "execution_count": 82,
   "metadata": {},
   "outputs": [
    {
     "name": "stdout",
     "output_type": "stream",
     "text": [
      "2\n",
      "2\n",
      "5\n",
      "1\n",
      "1\n",
      "5\n",
      "XgeModule::init_started\n",
      "Creating shared GLCanvas...\n",
      "shared GLCanvas created\n",
      "XgeModule::init_finished\n",
      "Evaluating fenvs.py..\n",
      "('...fenvs.py imported in', 0.004788999999999932, 'seconds')\n",
      "centre\n",
      "centre\n",
      "centre\n",
      "Building batches from Hpc....\n",
      "...done in 1 msec\n",
      "Optimizing the octree....\n",
      "   Number of input batches 182\n",
      "   total number vertices    120\n",
      "   Number of output batches 60\n",
      "   Batch vertex media       2\n",
      "...done in 0 msec\n",
      "Building octree from 60 batches....\n",
      "Scene number of nodes of the octree 96\n",
      "Scene max depth                     4\n",
      "Scene number of batches             60\n",
      "...done in 0 msec\n"
     ]
    }
   ],
   "source": [
    "\n",
    "visualize_numbers(to_lar(v, removeDoubleFacesByAlberto(f)), 2)"
   ]
  },
  {
   "cell_type": "code",
   "execution_count": 76,
   "metadata": {},
   "outputs": [
    {
     "name": "stderr",
     "output_type": "stream",
     "text": [
      "WARNING: Method definition keep_surface_faces(Any, Any) in module Main at In[57]:33 overwritten at In[76]:4.\n",
      "WARNING: Method definition keep_surface_faces(Any, Any, Any) in module Main at In[57]:33 overwritten at In[76]:4.\n"
     ]
    },
    {
     "data": {
      "text/plain": [
       "keep_surface_faces (generic function with 2 methods)"
      ]
     },
     "execution_count": 76,
     "metadata": {},
     "output_type": "execute_result"
    }
   ],
   "source": [
    "\n",
    "function keep_surface_faces(vertexes, faces, index_base=0)\n",
    "#     removeDoubleVertexesAndFaces\n",
    "    println(\"step1\")\n",
    "    new_vertexes, inv_vertexes = remove_double_vertexes_alternative(vertexes)# , index_base=index_base)\n",
    "    println(\"step2\")\n",
    "    new_faces = reindexVertexesInFaces(faces, inv_vertexes)\n",
    "    println(\"step3\")\n",
    "    new_faces = removeDoubleFacesByAlberto(faces)\n",
    "    println(\"step1\")\n",
    "    # todo remove unused vertexes\n",
    "#     new_new_vertexes, new_new_inv_vertexes = remove_double_vertexes_alternative(new_vertexes)# , index_base=index_base)\n",
    "    println(\"step2\")\n",
    "#     new_faces = reindexVertexesInFaces(faces, inv_vertexes)\n",
    "    return new_vertexes, new_faces\n",
    "end"
   ]
  }
 ],
 "metadata": {
  "kernelspec": {
   "display_name": "Julia 0.5.2",
   "language": "julia",
   "name": "julia-0.5"
  },
  "language_info": {
   "file_extension": ".jl",
   "mimetype": "application/julia",
   "name": "julia",
   "version": "0.5.2"
  }
 },
 "nbformat": 4,
 "nbformat_minor": 2
}
