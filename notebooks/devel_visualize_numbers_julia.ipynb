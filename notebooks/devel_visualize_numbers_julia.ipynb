{
 "cells": [
  {
   "cell_type": "code",
   "execution_count": 4,
   "metadata": {
    "collapsed": true
   },
   "outputs": [],
   "source": [
    "#Pkg.add(\"PyCall\")\n",
    "using PyCall"
   ]
  },
  {
   "cell_type": "code",
   "execution_count": 5,
   "metadata": {},
   "outputs": [],
   "source": [
    "\n",
    "@pyimport larlib"
   ]
  },
  {
   "cell_type": "markdown",
   "metadata": {},
   "source": [
    "# Visualization by Giulio"
   ]
  },
  {
   "cell_type": "code",
   "execution_count": 6,
   "metadata": {},
   "outputs": [
    {
     "name": "stderr",
     "output_type": "stream",
     "text": [
      "WARNING: Method definition lar2plasm(Any, Any) in module Main at In[3]:2 overwritten at In[6]:2.\n",
      "WARNING: Method definition lar2py(Any, Any) in module Main at In[3]:39 overwritten at In[6]:39.\n",
      "WARNING: Method definition visualize_numbers(Any, Any) in module Main at In[3]:56 overwritten at In[6]:56.\n",
      "WARNING: Method definition visualize_boundary(Any, Any, Any) in module Main at In[3]:76 overwritten at In[6]:76.\n"
     ]
    },
    {
     "data": {
      "text/plain": [
       "visualize_boundary (generic function with 1 method)"
      ]
     },
     "execution_count": 6,
     "metadata": {},
     "output_type": "execute_result"
    }
   ],
   "source": [
    "function lar2plasm(EV, FE)\n",
    "    EV = sparse(EV)\n",
    "    faces = Array{Array{Int64, 1}, 1}()\n",
    "\n",
    "    for f in 1:size(FE, 1)\n",
    "\n",
    "        verts = Array{Int64, 1}()\n",
    "        done = Array{Int64, 1}()\n",
    "        face = FE[f, :]\n",
    "        edges = EV[face.nzind, :]\n",
    "\n",
    "        push!(done, 1)\n",
    "        vs = edges[1, :].nzind\n",
    "        if face.nzval[1] < 0\n",
    "            vs = vs[end:-1:1]\n",
    "        end\n",
    "        startv, nextv = vs\n",
    "\n",
    "        println(startv)\n",
    "        push!(verts, startv)\n",
    "        while nextv != startv\n",
    "            e = setdiff(edges[:, nextv].nzind, done)[1]\n",
    "            push!(done, e)\n",
    "            vs = edges[e, :].nzind\n",
    "            if face.nzval[e] < 0\n",
    "                vs = vs[end:-1:1]\n",
    "            end\n",
    "            curv, nextv = vs\n",
    "            push!(verts, curv)\n",
    "        end\n",
    "\n",
    "        push!(faces, verts)\n",
    "    end\n",
    "\n",
    "    \"FV = \" * string(faces)[15:end]\n",
    "end\n",
    "\n",
    "function lar2py(V, EV)\n",
    "    text = \"V = [[0,0]\"\n",
    "    for i in 1:size(V, 1)\n",
    "        text = text * \",\" * string(vec(V[i, :]))\n",
    "    end\n",
    "    text = text * \"]\\n\"\n",
    "    \n",
    "    text = text * \"EV = [\"\n",
    "    for i in 1:size(EV, 1)\n",
    "        if i > 1 text = text * \",\" end\n",
    "        text = text * string(EV[i, :].nzind)\n",
    "    end\n",
    "    text = text * \"]\"\n",
    "    return text\n",
    "end\n",
    "\n",
    "\n",
    "function visualize_numbers(set, font_size)\n",
    "    \"\"\"\n",
    "    seg = [V, EV, FE]\n",
    "    \"\"\"\n",
    "\n",
    "    f = open(\"tmp.py\", \"w\")\n",
    "\n",
    "    file_content = \"from larlib import *\\n\" *\n",
    "        lar2py(set[1], set[2]) * \"\\n\" *\n",
    "        lar2plasm(set[2], set[3]) * \"\\n\" *\n",
    "        \"VV = AA(LIST)(range(len(V)))\\n\" *\n",
    "        \"submodel = STRUCT(MKPOLS((V,EV)))\\n\" *\n",
    "        \"VIEW(larModelNumbering(1,1,1)(V,[VV,EV,FV],submodel,$font_size))\\n\"\n",
    "    print(file_content)\n",
    "    write(f, file_content)\n",
    "\n",
    "    close(f)\n",
    "#     run(`python tmp.py`)\n",
    "end\n",
    "\n",
    "function visualize_boundary(set, boundary, font_size)\n",
    "    f = open(\"tmp.py\", \"w\")\n",
    "    file_content =  \"from larlib import *\\n\" *\n",
    "        lar2py(set[1], set[2]) * \"\\n\" *\n",
    "        lar2plasm(set[2], set[3]) * \"\\n\" *\n",
    "        \"VV = AA(LIST)(range(len(V)))\\n\" *\n",
    "        \"submodel = STRUCT(MKPOLS((V,EV)))\\n\" *\n",
    "        \"model = larModelNumbering(1,1,1)(V,[VV,EV,FV],submodel,$font_size)\\n\" *\n",
    "        lar2py(set[1], set[2][boundary.nzind, :]) * \"\\n\" *\n",
    "        \"overmodel = STRUCT(MKPOLS((V,EV)))\\n\" *\n",
    "        \"VIEW(STRUCT([model, COLOR(RED)(overmodel)]))\"\n",
    "    print(file_content)\n",
    "    write(f, file_content)\n",
    "\n",
    "    close(f)\n",
    "    run(`python tmp.py`)\n",
    "end"
   ]
  },
  {
   "cell_type": "markdown",
   "metadata": {},
   "source": [
    "## My test object"
   ]
  },
  {
   "cell_type": "code",
   "execution_count": 7,
   "metadata": {},
   "outputs": [
    {
     "data": {
      "text/plain": [
       "4×2 Array{Int64,2}:\n",
       " 1  1\n",
       " 2  1\n",
       " 1  2\n",
       " 2  2"
      ]
     },
     "execution_count": 7,
     "metadata": {},
     "output_type": "execute_result"
    }
   ],
   "source": [
    "V = [\n",
    "    1 1\n",
    "    2 1\n",
    "    1 2\n",
    "    2 2\n",
    "    ]"
   ]
  },
  {
   "cell_type": "code",
   "execution_count": 8,
   "metadata": {},
   "outputs": [
    {
     "data": {
      "text/plain": [
       "3×4 sparse matrix with 6 Int64 nonzero entries:\n",
       "\t[1, 1]  =  1\n",
       "\t[3, 1]  =  -1\n",
       "\t[1, 2]  =  -1\n",
       "\t[2, 2]  =  1\n",
       "\t[2, 3]  =  -1\n",
       "\t[3, 3]  =  1"
      ]
     },
     "execution_count": 8,
     "metadata": {},
     "output_type": "execute_result"
    }
   ],
   "source": [
    "EV = sparse([\n",
    "    1 -1 0 0\n",
    "    0 1 -1 0\n",
    "    -1 0 1 0\n",
    "])"
   ]
  },
  {
   "cell_type": "code",
   "execution_count": 9,
   "metadata": {},
   "outputs": [
    {
     "data": {
      "text/plain": [
       "2×3 sparse matrix with 6 Int64 nonzero entries:\n",
       "\t[1, 1]  =  1\n",
       "\t[2, 1]  =  -1\n",
       "\t[1, 2]  =  1\n",
       "\t[2, 2]  =  -1\n",
       "\t[1, 3]  =  -1\n",
       "\t[2, 3]  =  1"
      ]
     },
     "execution_count": 9,
     "metadata": {},
     "output_type": "execute_result"
    }
   ],
   "source": [
    "FE = sparse([\n",
    "        1 1 -1\n",
    "        -1 -1 1\n",
    "])"
   ]
  },
  {
   "cell_type": "code",
   "execution_count": 10,
   "metadata": {},
   "outputs": [
    {
     "data": {
      "text/plain": [
       "3-element Array{AbstractArray{Int64,2},1}:\n",
       " [1 1; 2 1; 1 2; 2 2]                                                                   \n",
       " \n",
       "\t[1, 1]  =  1\n",
       "\t[3, 1]  =  -1\n",
       "\t[1, 2]  =  -1\n",
       "\t[2, 2]  =  1\n",
       "\t[2, 3]  =  -1\n",
       "\t[3, 3]  =  1\n",
       " \n",
       "\t[1, 1]  =  1\n",
       "\t[2, 1]  =  -1\n",
       "\t[1, 2]  =  1\n",
       "\t[2, 2]  =  -1\n",
       "\t[1, 3]  =  -1\n",
       "\t[2, 3]  =  1"
      ]
     },
     "execution_count": 10,
     "metadata": {},
     "output_type": "execute_result"
    }
   ],
   "source": [
    "set=[V, EV, FE]"
   ]
  },
  {
   "cell_type": "code",
   "execution_count": null,
   "metadata": {
    "collapsed": true
   },
   "outputs": [],
   "source": []
  },
  {
   "cell_type": "code",
   "execution_count": null,
   "metadata": {
    "collapsed": true
   },
   "outputs": [],
   "source": []
  },
  {
   "cell_type": "markdown",
   "metadata": {},
   "source": [
    "# Rewrite into Julia with PyCall"
   ]
  },
  {
   "cell_type": "code",
   "execution_count": null,
   "metadata": {
    "collapsed": true
   },
   "outputs": [],
   "source": []
  },
  {
   "cell_type": "code",
   "execution_count": 11,
   "metadata": {},
   "outputs": [
    {
     "data": {
      "text/plain": [
       "4×2 Array{Int64,2}:\n",
       " 1  1\n",
       " 2  1\n",
       " 1  2\n",
       " 2  2"
      ]
     },
     "execution_count": 11,
     "metadata": {},
     "output_type": "execute_result"
    }
   ],
   "source": [
    "V"
   ]
  },
  {
   "cell_type": "code",
   "execution_count": 12,
   "metadata": {},
   "outputs": [
    {
     "data": {
      "text/plain": [
       "3×4 sparse matrix with 6 Int64 nonzero entries:\n",
       "\t[1, 1]  =  1\n",
       "\t[3, 1]  =  -1\n",
       "\t[1, 2]  =  -1\n",
       "\t[2, 2]  =  1\n",
       "\t[2, 3]  =  -1\n",
       "\t[3, 3]  =  1"
      ]
     },
     "execution_count": 12,
     "metadata": {},
     "output_type": "execute_result"
    }
   ],
   "source": [
    "EV"
   ]
  },
  {
   "cell_type": "code",
   "execution_count": 13,
   "metadata": {},
   "outputs": [
    {
     "data": {
      "text/plain": [
       "ev2evpl (generic function with 1 method)"
      ]
     },
     "execution_count": 13,
     "metadata": {},
     "output_type": "execute_result"
    }
   ],
   "source": [
    "function ev2evpl(EV)\n",
    "    EVpl = Array{Array{Int64, 1}, 1}()\n",
    "    EV[1,:].nzind\n",
    "    for i in 1:size(EV, 1)\n",
    "        push!(EVpl, EV[i, :].nzind)\n",
    "    end\n",
    "    return  EVpl\n",
    "end"
   ]
  },
  {
   "cell_type": "code",
   "execution_count": 14,
   "metadata": {},
   "outputs": [
    {
     "data": {
      "text/plain": [
       "v2vpl (generic function with 1 method)"
      ]
     },
     "execution_count": 14,
     "metadata": {},
     "output_type": "execute_result"
    }
   ],
   "source": [
    "function v2vpl(V)\n",
    "    Vpl = cat(1, zeros(V[1, :]'), V )\n",
    "    return Vpl\n",
    "end"
   ]
  },
  {
   "cell_type": "code",
   "execution_count": 15,
   "metadata": {},
   "outputs": [
    {
     "data": {
      "text/plain": [
       "lar2plasm_jl (generic function with 1 method)"
      ]
     },
     "execution_count": 15,
     "metadata": {},
     "output_type": "execute_result"
    }
   ],
   "source": [
    "\n",
    "function lar2plasm_jl(EV, FE)\n",
    "    EV = sparse(EV)\n",
    "    faces = Array{Array{Int64, 1}, 1}()\n",
    "\n",
    "    for f in 1:size(FE, 1)\n",
    "\n",
    "        verts = Array{Int64, 1}()\n",
    "        done = Array{Int64, 1}()\n",
    "        face = FE[f, :]\n",
    "        edges = EV[face.nzind, :]\n",
    "\n",
    "        push!(done, 1)\n",
    "        vs = edges[1, :].nzind\n",
    "        if face.nzval[1] < 0\n",
    "            vs = vs[end:-1:1]\n",
    "        end\n",
    "        startv, nextv = vs\n",
    "\n",
    "        println(startv)\n",
    "        push!(verts, startv)\n",
    "        while nextv != startv\n",
    "            e = setdiff(edges[:, nextv].nzind, done)[1]\n",
    "            push!(done, e)\n",
    "            vs = edges[e, :].nzind\n",
    "            if face.nzval[e] < 0\n",
    "                vs = vs[end:-1:1]\n",
    "            end\n",
    "            curv, nextv = vs\n",
    "            push!(verts, curv)\n",
    "        end\n",
    "\n",
    "        push!(faces, verts)\n",
    "    end\n",
    "    return faces\n",
    "end\n"
   ]
  },
  {
   "cell_type": "code",
   "execution_count": 16,
   "metadata": {},
   "outputs": [
    {
     "name": "stdout",
     "output_type": "stream",
     "text": [
      "1\n",
      "2\n",
      "Vpl = [0 0; 1 1; 2 1; 1 2; 2 2]\n",
      "EVpl = Array{Int64,1}[[1,2],[2,3],[1,3]]\n",
      "FVpl = Array{Int64,1}[[1,2,3],[2,1,3]]\n",
      "inlist = [0,1,2,3,4]\n",
      "centre\n",
      "centre\n",
      "centre\n",
      "Building batches from Hpc....\n",
      "...done in 0 msec\n",
      "Optimizing the octree....\n",
      "   Number of input batches 73\n",
      "   total number vertices    46\n",
      "   Number of output batches 23\n",
      "   Batch vertex media       2\n",
      "...done in 0 msec\n",
      "Building octree from 23 batches....\n",
      "Scene number of nodes of the octree 45\n",
      "Scene max depth                     4\n",
      "Scene number of batches             23\n",
      "...done in 0 msec\n",
      "VV = Array{Int64,1}[[0],[1],[2],[3],[4]]\n"
     ]
    }
   ],
   "source": [
    "fontsize = 2\n",
    "Vpl = v2vpl(V)\n",
    "EVpl = ev2evpl(EV)\n",
    "FVpl = lar2plasm_jl(EV, FE)\n",
    "println(\"Vpl = \", Vpl)\n",
    "println(\"EVpl = \", EVpl)\n",
    "println(\"FVpl = \", FVpl)\n",
    "inlist = collect(range(0, size(Vpl,1)))\n",
    "println(\"inlist = \", inlist)\n",
    "VV = larlib.AA(larlib.LIST)(inlist)\n",
    "VV = [[0], [1], [2], [3], [4]]\n",
    "submodel = larlib.STRUCT(larlib.MKPOLS((Vpl, EVpl)))\n",
    "larlib.VIEW(larlib.larModelNumbering(1,1,1)(Vpl, [VV, EVpl, FVpl], submodel, fontsize))\n",
    "println(\"VV = \", VV)\n"
   ]
  },
  {
   "cell_type": "code",
   "execution_count": 68,
   "metadata": {},
   "outputs": [
    {
     "name": "stdout",
     "output_type": "stream",
     "text": [
      "Vpl = [5 5; 1 1; 2 1; 1 2; 1 1]\n",
      "EVpl = [1 2; 2 3; 1 3]\n",
      "FVpl = [1 2 3; 2 1 3]\n",
      "inlist = [0,1,2,3,4]\n",
      "centre\n",
      "centre\n",
      "centre\n",
      "Building batches from Hpc....\n",
      "...done in 1 msec\n",
      "Optimizing the octree....\n",
      "   Number of input batches 73\n",
      "   total number vertices    24\n",
      "   Number of output batches 12\n",
      "   Batch vertex media       2\n",
      "...done in 0 msec\n",
      "Building octree from 12 batches....\n",
      "Scene number of nodes of the octree 25\n",
      "Scene max depth                     4\n",
      "Scene number of batches             12\n",
      "...done in 0 msec\n",
      "VV = Array{Int64,1}[[0],[1],[2],[3],[4]]\n",
      "PyObject <pyplasm.xgepy.Hpc; proxy of <Swig Object of type 'std::shared_ptr< Hpc > *' at 0x7fba142c6870> >\n",
      "submodel = PyObject <pyplasm.xgepy.Hpc; proxy of <Swig Object of type 'std::shared_ptr< Hpc > *' at 0x7fba142c6720> >\n",
      "centre\n",
      "centre\n",
      "centre\n"
     ]
    }
   ],
   "source": [
    "\n",
    "Vpl = [5 5; 1 1; 2 1; 1 2; 2 2]\n",
    "EVpl = [1 2; 2 3; 1 3]\n",
    "FVpl = [1 2 3; 2 1 3]\n",
    "\n",
    "Vpl = [5 5; 1 1; 2 1; 1 2; 1 1]\n",
    "EVpl = [ 1 2; 2 3; 1 3]\n",
    "FVpl = [1 2 3; 2 1 3]\n",
    "println(\"Vpl = \", Vpl)\n",
    "println(\"EVpl = \", EVpl)\n",
    "println(\"FVpl = \", FVpl)\n",
    "inlist = collect(range(0, size(Vpl,1)))\n",
    "println(\"inlist = \", inlist)\n",
    "VV = larlib.AA(larlib.LIST)(inlist)\n",
    "VV = [[0], [1], [2], [3], [4]]\n",
    "submodel = larlib.STRUCT(larlib.MKPOLS((Vpl, EVpl)))\n",
    "larlib.VIEW(larlib.larModelNumbering(1,1,1)(Vpl, [VV, EVpl, FVpl], submodel, fontsize))\n",
    "println(\"VV = \", VV)\n",
    "println(larlib.larModelNumbering(1,1,1)(Vpl, [VV, EVpl, FVpl], submodel, fontsize))\n",
    "println(\"submodel = \", submodel)"
   ]
  },
  {
   "cell_type": "markdown",
   "metadata": {},
   "source": [
    "# Check identity with gulio code "
   ]
  },
  {
   "cell_type": "code",
   "execution_count": 45,
   "metadata": {},
   "outputs": [
    {
     "data": {
      "text/plain": [
       "5×1 Array{Any,2}:\n",
       " 0\n",
       " 1\n",
       " 2\n",
       " 3\n",
       " 4"
      ]
     },
     "execution_count": 45,
     "metadata": {},
     "output_type": "execute_result"
    }
   ],
   "source": [
    "VV"
   ]
  },
  {
   "cell_type": "code",
   "execution_count": 15,
   "metadata": {},
   "outputs": [
    {
     "data": {
      "text/plain": [
       "1×2 Array{Int64,2}:\n",
       " 0  0"
      ]
     },
     "execution_count": 15,
     "metadata": {},
     "output_type": "execute_result"
    }
   ],
   "source": [
    "zeros(V[1,:]')"
   ]
  },
  {
   "cell_type": "code",
   "execution_count": 21,
   "metadata": {},
   "outputs": [
    {
     "name": "stdout",
     "output_type": "stream",
     "text": [
      "1\n",
      "2\n",
      "output\n",
      "FV = [[1,2,3],[2,1,3]]\n"
     ]
    }
   ],
   "source": [
    "\n",
    "uu = lar2plasm(set[2], set[3])\n",
    "println(\"output\")\n",
    "println(uu)"
   ]
  },
  {
   "cell_type": "code",
   "execution_count": null,
   "metadata": {
    "collapsed": true
   },
   "outputs": [],
   "source": []
  },
  {
   "cell_type": "code",
   "execution_count": 22,
   "metadata": {},
   "outputs": [
    {
     "name": "stdout",
     "output_type": "stream",
     "text": [
      "1\n",
      "2\n",
      "output\n",
      "Array{Int64,1}[[1,2,3],[2,1,3]]\n"
     ]
    }
   ],
   "source": [
    "\n",
    "FVpl = lar2plasm_jl(set[2], set[3])\n",
    "println(\"output\")\n",
    "println(FVpl)"
   ]
  },
  {
   "cell_type": "code",
   "execution_count": 25,
   "metadata": {},
   "outputs": [
    {
     "data": {
      "text/plain": [
       "visualize_numbers_jl (generic function with 1 method)"
      ]
     },
     "execution_count": 25,
     "metadata": {},
     "output_type": "execute_result"
    }
   ],
   "source": [
    "function visualize_numbers_jl(set, font_size)\n",
    "    \"\"\"\n",
    "    seg = [V, EV, FE]\n",
    "    \"\"\"\n",
    "    @pyimport larlib\n",
    "    FV\n",
    "\n",
    "\n",
    "    file_content = \"from larlib import *\\n\" *\n",
    "        lar2py(set[1], set[2]) * \"\\n\" *\n",
    "        lar2plasm(set[2], set[3]) * \"\\n\" *\n",
    "        \"VV = AA(LIST)(range(len(V)))\\n\" *\n",
    "        \"submodel = STRUCT(MKPOLS((V,EV)))\\n\" *\n",
    "        \"VIEW(larModelNumbering(1,1,1)(V,[VV,EV,FV],submodel,$font_size))\\n\"\n",
    "    print(file_content)\n",
    "    write(f, file_content)\n",
    "\n",
    "    close(f)\n",
    "#     run(`python tmp.py`)\n",
    "end"
   ]
  },
  {
   "cell_type": "code",
   "execution_count": 19,
   "metadata": {},
   "outputs": [
    {
     "data": {
      "text/plain": [
       "3-element Array{Array{Int64,1},1}:\n",
       " [1,2]\n",
       " [2,3]\n",
       " [1,3]"
      ]
     },
     "execution_count": 19,
     "metadata": {},
     "output_type": "execute_result"
    }
   ],
   "source": [
    "ev2evpl(EV)\n"
   ]
  },
  {
   "cell_type": "code",
   "execution_count": 17,
   "metadata": {},
   "outputs": [
    {
     "data": {
      "text/plain": [
       "\"V = [[0,0],[1,1],[2,1],[1,2],[2,2]]\\nEV = [[1,2],[2,3],[1,3]]\""
      ]
     },
     "execution_count": 17,
     "metadata": {},
     "output_type": "execute_result"
    }
   ],
   "source": [
    "set=[V, EV, FE]\n",
    "lar2py(set[1], set[2]) "
   ]
  },
  {
   "cell_type": "code",
   "execution_count": 18,
   "metadata": {},
   "outputs": [
    {
     "data": {
      "text/plain": [
       "5×2 Array{Int64,2}:\n",
       " 0  0\n",
       " 1  1\n",
       " 2  1\n",
       " 1  2\n",
       " 2  2"
      ]
     },
     "execution_count": 18,
     "metadata": {},
     "output_type": "execute_result"
    }
   ],
   "source": [
    "v2vpl(V)"
   ]
  }
 ],
 "metadata": {
  "kernelspec": {
   "display_name": "Julia 0.5.2",
   "language": "julia",
   "name": "julia-0.5"
  },
  "language_info": {
   "file_extension": ".jl",
   "mimetype": "application/julia",
   "name": "julia",
   "version": "0.5.2"
  }
 },
 "nbformat": 4,
 "nbformat_minor": 2
}
