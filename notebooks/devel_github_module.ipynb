{
 "cells": [
  {
   "cell_type": "code",
   "execution_count": 1,
   "metadata": {},
   "outputs": [
    {
     "name": "stderr",
     "output_type": "stream",
     "text": [
      "\u001b[1m\u001b[34mINFO: Cloning LarSurf from git://github.com/mjirik/LarSurf.jl.git\n",
      "\u001b[0m\u001b[1m\u001b[34mINFO: Computing changes...\n",
      "\u001b[0m"
     ]
    }
   ],
   "source": [
    "# Pkg.install(\"https://github.com/mjirik/LarSurf.jl\")\n",
    "\n",
    "Pkg.clone(\"git://github.com/mjirik/LarSurf.jl.git\")"
   ]
  },
  {
   "cell_type": "code",
   "execution_count": 3,
   "metadata": {},
   "outputs": [
    {
     "name": "stderr",
     "output_type": "stream",
     "text": [
      "\u001b[1m\u001b[34mINFO: Updating METADATA...\n",
      "\u001b[0m\u001b[1m\u001b[34mINFO: Updating cache of MbedTLS...\n",
      "\u001b[0m\u001b[1m\u001b[34mINFO: Updating cache of ZMQ...\n",
      "\u001b[0m\u001b[1m\u001b[34mINFO: Updating cache of IJulia...\n",
      "\u001b[0m\u001b[1m\u001b[34mINFO: Updating cache of Compat...\n",
      "\u001b[0m\u001b[1m\u001b[34mINFO: Updating cache of JSON...\n",
      "\u001b[0m\u001b[1m\u001b[34mINFO: Updating LarSurf master... 8bbf3fd4 → 36de93f6\n",
      "\u001b[0m\u001b[1m\u001b[34mINFO: Computing changes...\n",
      "\u001b[0m\u001b[1m\u001b[34mINFO: Upgrading Compat: v0.31.0 => v0.33.0\n",
      "\u001b[0m\u001b[1m\u001b[34mINFO: Upgrading IJulia: v1.6.0 => v1.6.2\n",
      "\u001b[0m\u001b[1m\u001b[34mINFO: Upgrading PyCall: v1.14.0 => v1.15.0\n",
      "\u001b[0m\u001b[1m\u001b[34mINFO: Upgrading ZMQ: v0.4.3 => v0.5.0\n",
      "\u001b[0m\u001b[1m\u001b[31mWARNING: The following packages have been updated but were already imported:\n",
      "- Compat\n",
      "- IJulia\n",
      "- ZMQ\n",
      "Restart Julia to use the updated versions.\u001b[0m\n",
      "\u001b[1m\u001b[34mINFO: Building Conda\n",
      "\u001b[0m\u001b[1m\u001b[34mINFO: Building MbedTLS\n",
      "\u001b[0m"
     ]
    },
    {
     "name": "stdout",
     "output_type": "stream",
     "text": [
      "Manual build...\n"
     ]
    },
    {
     "name": "stderr",
     "output_type": "stream",
     "text": [
      "\u001b[1m\u001b[34mINFO: Building ZMQ\n",
      "\u001b[0m\u001b[1m\u001b[34mINFO: Building IJulia\n",
      "\u001b[0m\u001b[1m\u001b[34mINFO: Found Jupyter version 4.3.0: jupyter\n",
      "\u001b[0m\u001b[1m\u001b[34mINFO: Installing Julia kernelspec julia-0.5\n",
      "\u001b[0m[InstallKernelSpec] Removing existing kernelspec in /home/mjirik/.local/share/jupyter/kernels/julia-0.5\n",
      "[InstallKernelSpec] Installed kernelspec julia-0.5 in /home/mjirik/.local/share/jupyter/kernels/julia-0.5\n",
      "\u001b[1m\u001b[34mINFO: Building PyCall\n",
      "\u001b[0m\u001b[1m\u001b[34mINFO: PyCall is using /home/mjirik/miniconda2/envs/jl_py27/bin/python (Python 2.7.13) at /home/mjirik/miniconda2/envs/jl_py27/bin/python, libpython = /home/mjirik/miniconda2/envs/jl_py27/lib/libpython2.7\n",
      "\u001b[0m\u001b[1m\u001b[34mINFO: /home/mjirik/miniconda2/envs/jl_py27/share/julia/site/v0.5/PyCall/deps/deps.jl has been updated\n",
      "\u001b[0m\u001b[1m\u001b[34mINFO: /home/mjirik/miniconda2/envs/jl_py27/share/julia/site/v0.5/PyCall/deps/PYTHON has not changed\n",
      "\u001b[0m"
     ]
    }
   ],
   "source": [
    "Pkg.update()"
   ]
  },
  {
   "cell_type": "code",
   "execution_count": 8,
   "metadata": {},
   "outputs": [
    {
     "name": "stderr",
     "output_type": "stream",
     "text": [
      "\u001b[1m\u001b[34mINFO: Updating METADATA...\n",
      "\u001b[0m\u001b[1m\u001b[34mINFO: Updating LarSurf master... 36de93f6 → b5ba0844\n",
      "\u001b[0m\u001b[1m\u001b[34mINFO: Computing changes...\n",
      "\u001b[0m\u001b[1m\u001b[34mINFO: No packages to install, update or remove\n",
      "\u001b[0m"
     ]
    }
   ],
   "source": [
    "Pkg.update(\"LarSurf\")"
   ]
  },
  {
   "cell_type": "code",
   "execution_count": 10,
   "metadata": {},
   "outputs": [
    {
     "data": {
      "text/plain": [
       "read_obj (generic function with 1 method)"
      ]
     },
     "execution_count": 10,
     "metadata": {},
     "output_type": "execute_result"
    }
   ],
   "source": [
    "using LarSurf\n",
    "LarSurf.hello(\"asd\")\n",
    "LarSurf.read_obj\n"
   ]
  }
 ],
 "metadata": {
  "kernelspec": {
   "display_name": "Julia 0.5.2",
   "language": "julia",
   "name": "julia-0.5"
  },
  "language_info": {
   "file_extension": ".jl",
   "mimetype": "application/julia",
   "name": "julia",
   "version": "0.5.2"
  }
 },
 "nbformat": 4,
 "nbformat_minor": 2
}
