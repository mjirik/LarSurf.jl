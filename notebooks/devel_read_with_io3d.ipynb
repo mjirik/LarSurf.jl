{
 "cells": [
  {
   "cell_type": "code",
   "execution_count": 230,
   "metadata": {},
   "outputs": [
    {
     "name": "stderr",
     "output_type": "stream",
     "text": [
      "WARNING: Method definition lar2plasm(Any, Any) in module Main at /home/mjirik/projects/lario3d.jl/src/plasm.jl:2 overwritten at /home/mjirik/projects/lario3d.jl/src/plasm.jl:2.\n",
      "WARNING: Method definition lar2py(Any, Any) in module Main at /home/mjirik/projects/lario3d.jl/src/plasm.jl:39 overwritten at /home/mjirik/projects/lario3d.jl/src/plasm.jl:39.\n",
      "WARNING: Method definition visualize_numbers(Any, Any) in module Main at /home/mjirik/projects/lario3d.jl/src/plasm.jl:57 overwritten at /home/mjirik/projects/lario3d.jl/src/plasm.jl:57.\n",
      "WARNING: Method definition visualize_boundary(Any, Any, Any) in module Main at /home/mjirik/projects/lario3d.jl/src/plasm.jl:71 overwritten at /home/mjirik/projects/lario3d.jl/src/plasm.jl:71.\n",
      "WARNING: Method definition get_obj_metainfo(Any) in module Main at /home/mjirik/projects/lario3d.jl/src/read.jl:4 overwritten at /home/mjirik/projects/lario3d.jl/src/read.jl:4.\n",
      "WARNING: Method definition get_obj_vertices_and_faces(Any, Any, Any) in module Main at /home/mjirik/projects/lario3d.jl/src/read.jl:24 overwritten at /home/mjirik/projects/lario3d.jl/src/read.jl:24.\n",
      "WARNING: Method definition read_obj(Any) in module Main at /home/mjirik/projects/lario3d.jl/src/read.jl:57 overwritten at /home/mjirik/projects/lario3d.jl/src/read.jl:57.\n",
      "WARNING: Method definition remove_double_vertexes_alternative(Any) in module Main at /home/mjirik/projects/lario3d.jl/src/surface.jl:2 overwritten at /home/mjirik/projects/lario3d.jl/src/surface.jl:2.\n",
      "WARNING: Method definition reindexVertexesInFaces(Any, Any) in module Main at /home/mjirik/projects/lario3d.jl/src/surface.jl:46 overwritten at /home/mjirik/projects/lario3d.jl/src/surface.jl:46.\n",
      "WARNING: Method definition reindexVertexesInFaces(Any, Any, Any) in module Main at /home/mjirik/projects/lario3d.jl/src/surface.jl:46 overwritten at /home/mjirik/projects/lario3d.jl/src/surface.jl:46.\n",
      "WARNING: Method definition removeOneOfDoubleFacesByDictAlgoritm(Any) in module Main at /home/mjirik/projects/lario3d.jl/src/surface.jl:62 overwritten at /home/mjirik/projects/lario3d.jl/src/surface.jl:62.\n",
      "WARNING: Method definition removeOneOfDoubleFacesByDictAlgoritm(Any, Any) in module Main at /home/mjirik/projects/lario3d.jl/src/surface.jl:62 overwritten at /home/mjirik/projects/lario3d.jl/src/surface.jl:62.\n",
      "WARNING: Method definition removeDoubleFacesByAlberto(Any) in module Main at /home/mjirik/projects/lario3d.jl/src/surface.jl:83 overwritten at /home/mjirik/projects/lario3d.jl/src/surface.jl:83.\n",
      "WARNING: Method definition removeDoubleFacesByAlberto(Any, Any) in module Main at /home/mjirik/projects/lario3d.jl/src/surface.jl:83 overwritten at /home/mjirik/projects/lario3d.jl/src/surface.jl:83.\n",
      "WARNING: Method definition remove_unused_vertexes(Any, Any) in module Main at /home/mjirik/projects/lario3d.jl/src/surface.jl:134 overwritten at /home/mjirik/projects/lario3d.jl/src/surface.jl:134.\n",
      "WARNING: Method definition check_vf(Any, Any) in module Main at /home/mjirik/projects/lario3d.jl/src/representation.jl:4 overwritten at /home/mjirik/projects/lario3d.jl/src/representation.jl:4.\n",
      "WARNING: Method definition check_vf(Any, Any, Any) in module Main at /home/mjirik/projects/lario3d.jl/src/representation.jl:4 overwritten at /home/mjirik/projects/lario3d.jl/src/representation.jl:4.\n",
      "WARNING: Method definition check_vevfe(Any, Any, Any) in module Main at /home/mjirik/projects/lario3d.jl/src/representation.jl:25 overwritten at /home/mjirik/projects/lario3d.jl/src/representation.jl:25.\n",
      "WARNING: Method definition iter_edge(Any, Any, Any) in module Main at /home/mjirik/projects/lario3d.jl/src/representation.jl:74 overwritten at /home/mjirik/projects/lario3d.jl/src/representation.jl:74.\n",
      "WARNING: Method definition EVinv_to_EVinds(Any, Any) in module Main at /home/mjirik/projects/lario3d.jl/src/representation.jl:92 overwritten at /home/mjirik/projects/lario3d.jl/src/representation.jl:92.\n",
      "WARNING: Method definition get_FEinds_and_EVinv(Any) in module Main at /home/mjirik/projects/lario3d.jl/src/representation.jl:105 overwritten at /home/mjirik/projects/lario3d.jl/src/representation.jl:105.\n",
      "WARNING: Method definition get_FEinds_and_EVinv(Any, Any) in module Main at /home/mjirik/projects/lario3d.jl/src/representation.jl:105 overwritten at /home/mjirik/projects/lario3d.jl/src/representation.jl:105.\n",
      "WARNING: Method definition convert_to_FElar(Any, Any, Any, Any) in module Main at /home/mjirik/projects/lario3d.jl/src/representation.jl:142 overwritten at /home/mjirik/projects/lario3d.jl/src/representation.jl:142.\n",
      "WARNING: Method definition get_FEinds_and_EVinds(Any) in module Main at /home/mjirik/projects/lario3d.jl/src/representation.jl:162 overwritten at /home/mjirik/projects/lario3d.jl/src/representation.jl:162.\n",
      "WARNING: Method definition get_FEinds_and_EVinds(Any, Any) in module Main at /home/mjirik/projects/lario3d.jl/src/representation.jl:162 overwritten at /home/mjirik/projects/lario3d.jl/src/representation.jl:162.\n",
      "WARNING: Method definition convert_to_EVlar(Any, Any, Any) in module Main at /home/mjirik/projects/lario3d.jl/src/representation.jl:171 overwritten at /home/mjirik/projects/lario3d.jl/src/representation.jl:171.\n",
      "WARNING: Method definition get_EVlar_FElar(Any, Any) in module Main at /home/mjirik/projects/lario3d.jl/src/representation.jl:183 overwritten at /home/mjirik/projects/lario3d.jl/src/representation.jl:183.\n",
      "WARNING: Method definition to_lar(Any, Any) in module Main at /home/mjirik/projects/lario3d.jl/src/representation.jl:195 overwritten at /home/mjirik/projects/lario3d.jl/src/representation.jl:195.\n",
      "WARNING: Method definition bool2sgn(Any) in module Main at /home/mjirik/projects/lario3d.jl/src/representation.jl:204 overwritten at /home/mjirik/projects/lario3d.jl/src/representation.jl:204.\n",
      "WARNING: Method definition face_orientation(Any) in module Main at /home/mjirik/projects/lario3d.jl/src/representation.jl:214 overwritten at /home/mjirik/projects/lario3d.jl/src/representation.jl:214.\n",
      "WARNING: Method definition import_data3d(Any, Any) in module Main at /home/mjirik/projects/lario3d.jl/src/import3d.jl:2 overwritten at /home/mjirik/projects/lario3d.jl/src/import3d.jl:2.\n",
      "WARNING: Method definition import_data3d(Any, Any, Any) in module Main at /home/mjirik/projects/lario3d.jl/src/import3d.jl:2 overwritten at /home/mjirik/projects/lario3d.jl/src/import3d.jl:2.\n",
      "WARNING: Method definition get_index(Any, Any, Any, Any) in module Main at /home/mjirik/projects/lario3d.jl/src/import3d.jl:19 overwritten at /home/mjirik/projects/lario3d.jl/src/import3d.jl:19.\n",
      "WARNING: Method definition vertices_and_count_voxels_as_the_square_face_preprocessing(Any, Any) in module Main at /home/mjirik/projects/lario3d.jl/src/import3d.jl:24 overwritten at /home/mjirik/projects/lario3d.jl/src/import3d.jl:24.\n",
      "WARNING: Method definition vertices_and_count_voxels_as_the_square_face_preprocessing(Any, Any, Any) in module Main at /home/mjirik/projects/lario3d.jl/src/import3d.jl:24 overwritten at /home/mjirik/projects/lario3d.jl/src/import3d.jl:24.\n",
      "WARNING: Method definition create_square_faces(Any, Any) in module Main at /home/mjirik/projects/lario3d.jl/src/import3d.jl:70 overwritten at /home/mjirik/projects/lario3d.jl/src/import3d.jl:70.\n",
      "WARNING: Method definition create_square_faces(Any, Any, Any) in module Main at /home/mjirik/projects/lario3d.jl/src/import3d.jl:70 overwritten at /home/mjirik/projects/lario3d.jl/src/import3d.jl:70.\n",
      "WARNING: Method definition arrayofarray2arrayd2d(Any) in module Main at /home/mjirik/projects/lario3d.jl/src/import3d.jl:113 overwritten at /home/mjirik/projects/lario3d.jl/src/import3d.jl:113.\n",
      "WARNING: Method definition keep_surface_faces(Any, Any) in module Main at /home/mjirik/projects/lario3d.jl/src/import3d.jl:125 overwritten at /home/mjirik/projects/lario3d.jl/src/import3d.jl:125.\n",
      "WARNING: Method definition keep_surface_faces(Any, Any, Any) in module Main at /home/mjirik/projects/lario3d.jl/src/import3d.jl:125 overwritten at /home/mjirik/projects/lario3d.jl/src/import3d.jl:125.\n",
      "WARNING: Method definition triangulation(Any) in module Main at /home/mjirik/projects/lario3d.jl/src/import3d.jl:140 overwritten at /home/mjirik/projects/lario3d.jl/src/import3d.jl:140.\n",
      "WARNING: Method definition thresholding(Any, Any) in module Main at /home/mjirik/projects/lario3d.jl/src/import3d.jl:151 overwritten at /home/mjirik/projects/lario3d.jl/src/import3d.jl:151.\n"
     ]
    }
   ],
   "source": [
    "\n",
    "include(\"../src/plasm.jl\")\n",
    "include(\"../src/read.jl\")\n",
    "include(\"../src/surface.jl\")\n",
    "include(\"../src/representation.jl\")\n",
    "include(\"../src/import3d.jl\")\n",
    "\n",
    "using PyCall"
   ]
  },
  {
   "cell_type": "code",
   "execution_count": 231,
   "metadata": {
    "collapsed": true
   },
   "outputs": [],
   "source": [
    "\n",
    "@pyimport io3d"
   ]
  },
  {
   "cell_type": "code",
   "execution_count": 232,
   "metadata": {},
   "outputs": [
    {
     "name": "stdout",
     "output_type": "stream",
     "text": [
      "(7,7,6)294"
     ]
    }
   ],
   "source": [
    "data = io3d.read(\"../test/nrn4.pklz\", dataplus_format=true)\n",
    "data3d  = data[\"data3d\"]\n",
    "voxelsize_mm = data[\"voxelsize_mm\"]\n",
    "threshold = 4800\n",
    "\n",
    "print(size(data3d))\n",
    "print(7*7*6)\n",
    "# data3d "
   ]
  },
  {
   "cell_type": "code",
   "execution_count": 233,
   "metadata": {},
   "outputs": [],
   "source": [
    "# data3d = zeros(Int16, 6, 5, 5)\n",
    "# data3d[2, 3, 2] = 50\n",
    "# data3d[2:4, 3:4, 3] = 50\n",
    "# data3d[3:4, 3, 4] = 50\n",
    "# voxelsize_mm = [1., 1., 1.]\n",
    "# threshold = 5\n",
    "# print(\"min \", minimum(data3d), \" max \", maximum(data3d))"
   ]
  },
  {
   "cell_type": "code",
   "execution_count": 234,
   "metadata": {},
   "outputs": [],
   "source": [
    "# data3d = data3d[10:20, 100:150, 100:140]"
   ]
  },
  {
   "cell_type": "code",
   "execution_count": 235,
   "metadata": {},
   "outputs": [
    {
     "name": "stdout",
     "output_type": "stream",
     "text": [
      "threshold 4800\n"
     ]
    },
    {
     "data": {
      "text/plain": [
       "(\n",
       "[0.014046 0.009364 0.018728; 0.014046 0.004682 0.018728; … ; 0.028092 0.014046 0.02341; 0.009364 0.014046 0.028092],\n",
       "\n",
       "[1 3 4; 1 2 3; … ; 14 34 43; 14 33 34])"
      ]
     },
     "execution_count": 235,
     "metadata": {},
     "output_type": "execute_result"
    }
   ],
   "source": [
    "verts, trifaces = import_data3d(data3d, voxelsize_mm, threshold)"
   ]
  },
  {
   "cell_type": "code",
   "execution_count": 236,
   "metadata": {},
   "outputs": [],
   "source": [
    "# verts, nvoxels = vertices_and_count_voxels_as_the_square_face_preprocessing(data3d, voxelsize_mm, threshold)\n",
    "# nvoxels"
   ]
  },
  {
   "cell_type": "code",
   "execution_count": null,
   "metadata": {
    "collapsed": true
   },
   "outputs": [],
   "source": []
  },
  {
   "cell_type": "code",
   "execution_count": 237,
   "metadata": {},
   "outputs": [],
   "source": [
    "check_vf(verts, trifaces)"
   ]
  },
  {
   "cell_type": "code",
   "execution_count": 240,
   "metadata": {},
   "outputs": [
    {
     "name": "stdout",
     "output_type": "stream",
     "text": [
      "XgeModule::init_started\n",
      "Creating shared GLCanvas...\n",
      "shared GLCanvas created\n",
      "XgeModule::init_finished\n",
      "Evaluating fenvs.py..\n",
      "('...fenvs.py imported in', 0.007815000000000016, 'seconds')\n",
      "centre\n",
      "centre\n",
      "centre\n",
      "Building batches from Hpc....\n",
      "...done in 33 msec\n",
      "Optimizing the octree....\n",
      "   Number of input batches 4091\n",
      "   total number vertices    1140\n",
      "   Number of output batches 570\n",
      "   Batch vertex media       2\n",
      "...done in 8 msec\n",
      "Building octree from 570 batches....\n",
      "Scene number of nodes of the octree 417\n",
      "Scene max depth                     4\n",
      "Scene number of batches             570\n",
      "...done in 0 msec\n"
     ]
    }
   ],
   "source": [
    "visualize_numbers(to_lar(verts, trifaces), .01)"
   ]
  },
  {
   "cell_type": "code",
   "execution_count": null,
   "metadata": {
    "collapsed": true
   },
   "outputs": [],
   "source": []
  }
 ],
 "metadata": {
  "kernelspec": {
   "display_name": "Julia 0.5.2",
   "language": "julia",
   "name": "julia-0.5"
  },
  "language_info": {
   "file_extension": ".jl",
   "mimetype": "application/julia",
   "name": "julia",
   "version": "0.5.2"
  }
 },
 "nbformat": 4,
 "nbformat_minor": 2
}
