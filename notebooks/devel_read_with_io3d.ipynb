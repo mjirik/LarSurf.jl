{
 "cells": [
  {
   "cell_type": "code",
   "execution_count": 1,
   "metadata": {},
   "outputs": [],
   "source": [
    "\n",
    "include(\"../src/plasm.jl\")\n",
    "include(\"../src/read.jl\")\n",
    "include(\"../src/surface.jl\")\n",
    "include(\"../src/representation.jl\")\n",
    "\n",
    "using PyCall"
   ]
  },
  {
   "cell_type": "code",
   "execution_count": 2,
   "metadata": {
    "collapsed": true
   },
   "outputs": [],
   "source": [
    "\n",
    "@pyimport io3d"
   ]
  },
  {
   "cell_type": "code",
   "execution_count": 3,
   "metadata": {},
   "outputs": [
    {
     "data": {
      "text/plain": [
       "3-element Array{Any,1}:\n",
       " 5.0 \n",
       " 0.75\n",
       " 0.75"
      ]
     },
     "execution_count": 3,
     "metadata": {},
     "output_type": "execute_result"
    }
   ],
   "source": [
    "data = io3d.read(\"~/projects/io3d/sample_data/jatra_5mm/\", dataplus_format=true)\n",
    "data3d  = data[\"data3d\"]\n",
    "voxelsize_mm = data[\"voxelsize_mm\"]"
   ]
  },
  {
   "cell_type": "code",
   "execution_count": 4,
   "metadata": {},
   "outputs": [
    {
     "data": {
      "text/plain": [
       "Dict{Any,Any} with 9 entries:\n",
       "  \"voxelsize_mm\"      => Any[5.0,0.75,0.75]\n",
       "  \"data3d\"            => Int16[-1024 -1024 … -1024 -1024; -1024 -1024 … -1024 -…\n",
       "  \"datadir\"           => \"/home/mjirik/projects/io3d/sample_data/jatra_5mm\"\n",
       "  \"Modality\"          => \"CT\"\n",
       "  \"ImageComments\"     => \"\"\n",
       "  \"SeriesNumber\"      => 7\n",
       "  \"series_number\"     => 7\n",
       "  \"dcmfilelist\"       => Any[\"/home/mjirik/projects/io3d/sample_data/jatra_5mm/…\n",
       "  \"SeriesDescription\" => \"DE_Abdom_1F  5.0  B30f M_0.3\""
      ]
     },
     "execution_count": 4,
     "metadata": {},
     "output_type": "execute_result"
    }
   ],
   "source": [
    "data"
   ]
  },
  {
   "cell_type": "code",
   "execution_count": 5,
   "metadata": {},
   "outputs": [
    {
     "data": {
      "text/plain": [
       "93×51×41 Array{Int16,3}:\n",
       "[:, :, 1] =\n",
       "   -70    -18    -37    -71    -82  …    -65    -68    -60    -50    -37\n",
       "   -21    -49    -77    -86    -94        -6    -17    -16    -29    -54\n",
       "   -71    -72    -82    -90    -97        52     52     44     38     53\n",
       "   -81    -77    -74    -78    -83       -38    -46    -43    -27      1\n",
       "   -70    -76    -74    -83    -97        43     70     66     62     69\n",
       "   -93    -87    -96    -88    -90  …     13     11      8     -1    -17\n",
       "  -107   -111   -105    -94    -93        -8    -63   -131   -218   -320\n",
       "   -81   -100   -132    -99    -89      -356   -509   -630   -752   -829\n",
       "   -95    -99    -96   -100   -114      -468   -614   -726   -812   -873\n",
       "   -96   -112   -105    -97    -91      -255   -394   -509   -573   -654\n",
       "  -108   -119   -113   -108   -105  …   -312   -360   -308   -209   -187\n",
       "   -94   -102   -114   -117   -113       -82    -94    -54      3     42\n",
       "  -102   -114   -108    -84    -73        47     38     41     38     57\n",
       "     ⋮                              ⋱                                  ⋮\n",
       "  -996   -996  -1004  -1001   -992      -983   -984  -1003  -1015  -1010\n",
       " -1001  -1001   -998  -1000  -1007      -986   -983   -998   -975   -784\n",
       "  -989   -996   -997  -1008  -1016     -1012  -1012   -908   -566   -186\n",
       "  -988   -989   -986   -993  -1009     -1000   -827   -417    -84    -34\n",
       "  -992   -987   -987   -980   -987  …   -840   -419    -60     -3    -51\n",
       " -1007   -999   -996   -988   -987      -582   -142    -12    -63    -99\n",
       " -1019  -1019  -1008  -1004   -991      -393    -63    -44    -68    -70\n",
       "  -999   -985   -978   -984   -994      -280    -26    -25    -58    -77\n",
       "  -995   -996   -999  -1007  -1000      -135    -12    -64    -88    -77\n",
       "  -989   -988   -985   -986   -989  …    -72    -22    -69    -90    -86\n",
       "  -990   -991   -998  -1005  -1008       -38    -21    -74   -100    -97\n",
       " -1009  -1014  -1009  -1002  -1005       -18    -26    -72    -82    -96\n",
       "\n",
       "[:, :, 2] =\n",
       "   -22    -36    -70    -92    -94  …    -26   -34    -36    -28    -23\n",
       "   -66    -74    -82   -102   -118       -53   -56    -56    -66    -81\n",
       "   -75    -75    -83    -84   -105        74    65     68     76    102\n",
       "   -89    -92    -90    -83    -90       -10    18     52    102    165\n",
       "   -88    -89    -86    -94   -103        74    96    100     99     96\n",
       "   -98    -89   -103   -103   -110  …      4    -9    -22    -37    -71\n",
       "  -101    -94    -96    -90    -73      -163  -289   -406   -503   -599\n",
       "   -66    -89   -119   -105    -83      -717  -818   -859   -891   -912\n",
       "   -91   -103   -108   -105   -102      -787  -864   -909   -926   -939\n",
       "  -112   -120   -101    -98    -94      -579  -722   -783   -770   -770\n",
       "  -102   -107    -97   -103   -113  …   -583  -560   -414   -250   -187\n",
       "   -95    -86    -85    -96   -120       -68   -26     22     42     50\n",
       "   -96    -97    -87    -69    -71        50    63     72     67     73\n",
       "     ⋮                              ⋱                                 ⋮\n",
       " -1003  -1003  -1009  -1016  -1009      -980  -990  -1001  -1012  -1005\n",
       " -1003  -1001   -994   -992  -1002      -993  -996   -997   -928   -679\n",
       "  -993   -986   -988   -993  -1005     -1013  -994   -847   -476   -129\n",
       "  -988   -986   -974   -968   -984      -976  -756   -332    -59    -37\n",
       "  -994   -987   -987   -984   -973  …   -788  -334    -57    -52    -94\n",
       "  -990   -990   -998   -997   -992      -467   -80    -17    -72   -107\n",
       " -1010  -1015  -1017  -1013  -1009      -270   -31    -49    -76    -91\n",
       " -1009  -1008  -1003  -1000   -987      -164    -7    -51    -88   -106\n",
       "  -994   -991   -990  -1000  -1000       -59     6    -45    -69    -69\n",
       "  -984   -982   -981   -978   -986  …    -20   -19    -63    -79    -90\n",
       "  -994   -992   -989   -992  -1001       -34   -42    -72    -84   -103\n",
       " -1013  -1007  -1004  -1000  -1004        26    -2    -57    -83    -99\n",
       "\n",
       "[:, :, 3] =\n",
       "   -25    -53    -80    -90   -102  …      2     -6    -17    -13     -7\n",
       "   -89    -87    -70    -90   -116       -66    -69    -67    -69    -78\n",
       "   -75    -86    -93    -90   -108        83     85    120    146    158\n",
       "  -100   -105   -101    -92   -101       146    228    292    343    368\n",
       "  -121   -108    -95    -89    -93       121    119     97     54      1\n",
       "  -110   -102   -107    -99    -92  …    -36    -88   -118   -154   -232\n",
       "   -90    -75    -79    -82    -60      -418   -589   -700   -741   -776\n",
       "   -57    -69    -73    -96    -87      -907   -927   -913   -901   -923\n",
       "   -91    -97   -105   -106    -99      -933   -932   -932   -922   -920\n",
       "  -125   -124    -90    -89    -91      -837   -863   -842   -793   -751\n",
       "   -97    -91    -76    -91   -123  …   -635   -513   -333   -209   -158\n",
       "  -105    -94    -76    -63    -83       -21     29     51     53     61\n",
       "   -97    -91    -63    -45    -50        63     80     82     85     90\n",
       "     ⋮                              ⋱                                  ⋮\n",
       "  -993   -992   -994  -1007  -1014      -987   -995   -997  -1010  -1002\n",
       "  -996  -1002  -1011  -1006  -1005     -1009  -1023  -1018   -909   -611\n",
       " -1004   -988   -984   -984   -987     -1014   -982   -791   -384    -89\n",
       "  -985   -988   -984   -983   -998      -939   -649   -249    -57    -37\n",
       "  -984   -980   -980   -992   -994  …   -704   -250    -53    -69    -99\n",
       " -1002   -998   -999  -1008  -1011      -360    -59    -41    -70    -88\n",
       "  -990   -988   -988   -994  -1005      -177    -22    -58    -79    -96\n",
       " -1000  -1002   -999  -1000   -997       -94    -19    -67    -84    -91\n",
       "  -991   -988   -982   -992  -1001       -22      0    -48    -65    -68\n",
       "  -996   -997  -1000  -1001   -994  …     12    -12    -42    -59    -79\n",
       " -1007  -1011  -1010  -1003   -999       -12    -51    -85    -93    -86\n",
       "  -995   -995   -997  -1005  -1003        13    -24    -70   -102   -108\n",
       "\n",
       "...\n",
       "\n",
       "[:, :, 39] =\n",
       "  -159   -327   -530   -694   -818  …  -875  -898  -910  -865  -832  -873\n",
       "  -795   -884   -928   -966   -974     -881  -863  -859  -871  -872  -887\n",
       "  -963   -938   -940   -946   -940     -852  -858  -881  -899  -899  -896\n",
       "  -866   -931   -950   -951   -941     -892  -880  -891  -903  -904  -896\n",
       "  -712   -886   -943   -949   -950     -876  -849  -833  -840  -861  -872\n",
       "  -273   -446   -672   -849   -929  …  -883  -881  -874  -884  -850  -743\n",
       "  -105   -107   -150   -227   -354     -729  -639  -499  -363  -263  -220\n",
       "   -91    -92    -92    -86    -61      -42    23    49    13    -9    19\n",
       "  -118   -103   -116   -125   -120       50    79    86    60    40    49\n",
       "  -102   -103   -114    -96    -82       78    65    91   119    88    81\n",
       "   -64    -75    -97   -114   -102  …    80    82   106   109   104   112\n",
       "   -71    -94   -118   -121    -94      132    95    99   122   114   100\n",
       "   -63    -71    -79    -80    -39      106   101   117   120   111    96\n",
       "     ⋮                              ⋱     ⋮                             ⋮\n",
       "  -993  -1002  -1008  -1012  -1006     -110   -91   -97   -90   -76   -81\n",
       "  -995  -1000   -993   -991   -999      -78   -90   -83   -77   -70   -67\n",
       "  -989   -996  -1001  -1008  -1006       24   -33   -69   -77   -82   -84\n",
       " -1010  -1010  -1001  -1001  -1014      -20   -66   -68   -66   -86  -101\n",
       " -1015  -1014  -1007  -1002  -1001  …  -105  -103   -85   -75   -84   -92\n",
       "  -998   -997   -997   -996  -1007     -102  -106   -94   -95  -105  -101\n",
       " -1003   -987   -983   -988   -989     -107  -105  -102   -92   -81   -86\n",
       "  -994   -990   -989   -994  -1005     -114  -109  -102  -109   -96   -95\n",
       "  -989   -990   -986   -984   -991      -94   -95  -111  -113  -102  -108\n",
       "  -996   -999   -997   -984   -985  …  -105  -108  -118  -129  -115  -114\n",
       "  -982   -983   -986   -991   -996     -107  -118  -109  -105  -109  -107\n",
       "  -991   -999   -998   -989   -989     -120  -104  -103  -103  -115  -123\n",
       "\n",
       "[:, :, 40] =\n",
       "  -386   -591   -740   -838   -908  …  -895  -898  -902  -873  -855  -873\n",
       "  -921   -941   -939   -950   -968     -855  -841  -850  -885  -899  -899\n",
       "  -959   -946   -934   -931   -928     -828  -832  -863  -895  -896  -889\n",
       "  -928   -939   -932   -928   -919     -898  -884  -882  -881  -891  -888\n",
       "  -851   -923   -936   -935   -939     -801  -778  -758  -747  -769  -779\n",
       "  -328   -533   -767   -908   -953  …  -851  -854  -857  -868  -859  -786\n",
       "  -113   -135   -188   -287   -442     -786  -757  -682  -581  -471  -369\n",
       "   -85   -105   -100    -79    -58      -47    -3     5    -1    -1    37\n",
       "  -112   -108   -125   -134   -114       61    94   111    93    52    48\n",
       "  -100   -109   -132   -108   -105       68    70   101   135    90    71\n",
       "   -77    -72    -89    -96    -97  …    66    74    98   117   115   101\n",
       "   -83    -73   -100   -121   -104      137   111   111   117   116   100\n",
       "   -75    -83    -97   -102    -73      164   150   134   121   122   103\n",
       "     ⋮                              ⋱     ⋮                             ⋮\n",
       "  -994   -996  -1013  -1017  -1013     -110  -106  -109  -105   -87   -75\n",
       "  -993  -1001  -1007  -1005  -1001      -83  -104  -100   -94   -88   -79\n",
       "  -991  -1000  -1013  -1014  -1008       20   -40   -79   -89   -88   -91\n",
       "  -986   -995  -1004  -1000  -1010      -12   -63   -78   -75   -92  -107\n",
       " -1016  -1014  -1000   -992  -1000  …   -84   -84   -74   -64   -74   -94\n",
       "  -987   -989   -990   -983   -994     -109   -95   -83   -93   -91   -85\n",
       "  -995   -991   -989  -1001  -1005     -112  -105   -95   -86   -78   -87\n",
       "  -979   -975   -987   -997  -1000     -107  -101   -97  -103  -100   -99\n",
       "  -998  -1002  -1002   -997   -989      -85   -99  -111  -116  -114  -120\n",
       "  -999   -990   -995   -994   -992  …   -90  -105  -104   -98  -100  -105\n",
       "  -989   -983   -976   -974   -990      -93  -109  -117  -109  -104  -111\n",
       "  -992  -1000  -1008  -1005   -990     -121  -115  -114  -118  -125  -127\n",
       "\n",
       "[:, :, 41] =\n",
       "  -627   -806   -871   -897   -934  …  -904  -902  -898  -892  -888  -881\n",
       "  -971   -963   -934   -924   -954     -830  -816  -837  -879  -907  -909\n",
       "  -962   -968   -935   -915   -923     -795  -817  -851  -883  -878  -866\n",
       "  -957   -949   -924   -912   -903     -899  -893  -874  -854  -864  -870\n",
       "  -902   -949   -941   -922   -927     -799  -760  -741  -729  -737  -745\n",
       "  -399   -623   -825   -927   -943  …  -855  -844  -856  -863  -858  -832\n",
       "  -109   -159   -225   -359   -556     -837  -818  -792  -732  -633  -514\n",
       "   -95   -112   -107    -78    -99     -130   -72   -40   -13     7    42\n",
       "   -97    -97   -117   -131   -118       54    75   101   115    74    59\n",
       "   -84   -106   -121   -106   -111       84    90    90   107    77    54\n",
       "   -94    -68    -59    -66    -88  …    77    59    61    88    91    78\n",
       "  -100    -82    -94   -109   -118      115   117   118   118   109    79\n",
       "   -83   -109   -124   -104   -112      176   154   110    83    91    96\n",
       "     ⋮                              ⋱     ⋮                             ⋮\n",
       " -1003   -995   -993  -1000  -1000     -109  -109  -112  -111   -96   -85\n",
       " -1000   -996  -1000  -1002   -991      -72   -96  -107  -105   -92   -81\n",
       "  -999  -1000  -1004  -1003   -997       -6   -65   -91   -85   -77   -89\n",
       "  -982  -1001  -1009   -997   -982      -22   -81   -85   -64   -74   -87\n",
       " -1001  -1004  -1002  -1001   -997  …   -68   -82   -75   -64   -76  -101\n",
       "  -986   -980   -987   -988   -985     -100   -99   -87   -92  -105  -103\n",
       "  -989   -998   -997  -1004   -998     -104  -106   -91   -93   -88   -81\n",
       " -1000   -987   -985   -995   -997      -93   -93   -98  -110  -111  -104\n",
       " -1001  -1000  -1000  -1002   -998     -102  -109  -106  -110  -107  -105\n",
       " -1004   -999   -998  -1000   -993  …  -112  -116  -109  -103  -115  -116\n",
       "  -992   -988   -986   -987   -993      -88  -105  -123  -132  -122  -104\n",
       "  -990   -989   -995  -1004  -1002     -113  -111  -109  -111  -113  -111"
      ]
     },
     "execution_count": 5,
     "metadata": {},
     "output_type": "execute_result"
    }
   ],
   "source": [
    "data3d = data3d[:, 100:150, 100:140]"
   ]
  },
  {
   "cell_type": "code",
   "execution_count": 6,
   "metadata": {},
   "outputs": [
    {
     "data": {
      "text/plain": [
       "3×3×3 Array{Int16,3}:\n",
       "[:, :, 1] =\n",
       " 0  0  0\n",
       " 0  0  0\n",
       " 0  0  0\n",
       "\n",
       "[:, :, 2] =\n",
       " 0   0  0\n",
       " 0  10  0\n",
       " 0  10  0\n",
       "\n",
       "[:, :, 3] =\n",
       " 0  0  0\n",
       " 0  0  0\n",
       " 0  0  0"
      ]
     },
     "execution_count": 6,
     "metadata": {},
     "output_type": "execute_result"
    }
   ],
   "source": [
    "## Artifical data\n",
    "data3d = zeros(Int16,3,3,3)\n",
    "data3d[2:3,2,2] = 10\n",
    "data3d"
   ]
  },
  {
   "cell_type": "code",
   "execution_count": 7,
   "metadata": {},
   "outputs": [
    {
     "data": {
      "text/plain": [
       "thresholding (generic function with 1 method)"
      ]
     },
     "execution_count": 7,
     "metadata": {},
     "output_type": "execute_result"
    }
   ],
   "source": [
    "# useless\n",
    "\n",
    "function thresholding(data3d, threshold)\n",
    "    sz = size(data3d)\n",
    "    segmentation = Array(Int8, size(data3d, 1), size(data3d, 2), size(data3d, 3))\n",
    "    # produce vertexes\n",
    "    for k in 1:sz[3]\n",
    "        for j in 1:sz[2]\n",
    "            for i in 1:sz[1]\n",
    "                if data3d[i, j, k] > 0\n",
    "\n",
    "                    segmentation[i, j, k] = data3d[i, j, k] > threshold\n",
    "    #             if i == 0\n",
    "    #             index = 1 + i + sz[1] * j + sz[1] * sz[2] * k\n",
    "                end\n",
    "\n",
    "            end\n",
    "        end\n",
    "    end\n",
    "    return segmentation\n",
    "end"
   ]
  },
  {
   "cell_type": "code",
   "execution_count": 8,
   "metadata": {},
   "outputs": [
    {
     "data": {
      "text/plain": [
       "true"
      ]
     },
     "execution_count": 8,
     "metadata": {},
     "output_type": "execute_result"
    }
   ],
   "source": [
    "# segmentation\n",
    "i = 1\n",
    "j = 1\n",
    "(i > 0) & (j > 0)"
   ]
  },
  {
   "cell_type": "markdown",
   "metadata": {},
   "source": [
    "## Get vertices and count the voxels (* 4 = face number)"
   ]
  },
  {
   "cell_type": "code",
   "execution_count": 36,
   "metadata": {},
   "outputs": [
    {
     "name": "stderr",
     "output_type": "stream",
     "text": [
      "WARNING: Method definition get_index(Any, Any, Any, Any) in module Main at In[34]:3 overwritten at In[36]:3.\n"
     ]
    },
    {
     "data": {
      "text/plain": [
       "vertices_and_count_voxels_as_the_square_face_preprocessing (generic function with 2 methods)"
      ]
     },
     "execution_count": 36,
     "metadata": {},
     "output_type": "execute_result"
    }
   ],
   "source": [
    "# Get all vertices and count the voxels\n",
    "function get_index(sz, i, j, k) \n",
    "    index = 1 + i + (1 + sz[1]) * j + (sz[1] + 1) * (sz[2] + 1) * k \n",
    "    return index\n",
    "end\n",
    "\n",
    "function vertices_and_count_voxels_as_the_square_face_preprocessing(data3d, voxelsize_mm, threshold)\n",
    "    \"\"\"\n",
    "    \n",
    "    Fill the area with all possible vertices. Most of them will be removed in future.\n",
    "    \"\"\"\n",
    "    threshold = 0\n",
    "    ivertex = 0\n",
    "    ifaces = 0\n",
    "    sz = size(data3d)\n",
    "    verts = Array(Float64, (sz[1]+1) * (sz[2]+1) * (sz[3]+1), 3)\n",
    "    # produce vertexes\n",
    "    nvoxels = 0\n",
    "    for k in 0:sz[3]\n",
    "        for j in 0:sz[2]\n",
    "            for i in 0:sz[1]\n",
    "                if (i > 0) & (j > 0) & (k > 0)\n",
    "                    if data3d[i,j,k] > threshold\n",
    "                        nvoxels += 1\n",
    "                    end\n",
    "                end\n",
    "                pt = get_index(sz, i - 0, j -0, k -0)\n",
    "    #             println(pt)\n",
    "                verts[pt, 1] = i * voxelsize_mm[1]\n",
    "                verts[pt, 2] = j * voxelsize_mm[2]\n",
    "                verts[pt, 3] = k * voxelsize_mm[3]\n",
    "            end\n",
    "        end\n",
    "    end\n",
    "    return verts, nvoxels\n",
    "end\n",
    "\n",
    "\n",
    "#             if segmentation[i,j,k]"
   ]
  },
  {
   "cell_type": "code",
   "execution_count": 37,
   "metadata": {},
   "outputs": [
    {
     "data": {
      "text/plain": [
       "17"
      ]
     },
     "execution_count": 37,
     "metadata": {},
     "output_type": "execute_result"
    }
   ],
   "source": [
    "verts, nvoxels = vertices_and_count_voxels_as_the_square_face_preprocessing(data3d, voxelsize_mm, threshold)\n",
    "get_index(sz, 0, 0, 1)"
   ]
  },
  {
   "cell_type": "code",
   "execution_count": 11,
   "metadata": {},
   "outputs": [
    {
     "data": {
      "text/plain": [
       "64×3 Array{Float64,2}:\n",
       "  0.0  0.0   0.0 \n",
       "  5.0  0.0   0.0 \n",
       " 10.0  0.0   0.0 \n",
       " 15.0  0.0   0.0 \n",
       "  0.0  0.75  0.0 \n",
       "  5.0  0.75  0.0 \n",
       " 10.0  0.75  0.0 \n",
       " 15.0  0.75  0.0 \n",
       "  0.0  1.5   0.0 \n",
       "  5.0  1.5   0.0 \n",
       " 10.0  1.5   0.0 \n",
       " 15.0  1.5   0.0 \n",
       "  0.0  2.25  0.0 \n",
       "  ⋮              \n",
       "  0.0  0.75  2.25\n",
       "  5.0  0.75  2.25\n",
       " 10.0  0.75  2.25\n",
       " 15.0  0.75  2.25\n",
       "  0.0  1.5   2.25\n",
       "  5.0  1.5   2.25\n",
       " 10.0  1.5   2.25\n",
       " 15.0  1.5   2.25\n",
       "  0.0  2.25  2.25\n",
       "  5.0  2.25  2.25\n",
       " 10.0  2.25  2.25\n",
       " 15.0  2.25  2.25"
      ]
     },
     "execution_count": 11,
     "metadata": {},
     "output_type": "execute_result"
    }
   ],
   "source": [
    "verts"
   ]
  },
  {
   "cell_type": "markdown",
   "metadata": {},
   "source": [
    "## Create face"
   ]
  },
  {
   "cell_type": "code",
   "execution_count": 40,
   "metadata": {},
   "outputs": [
    {
     "name": "stderr",
     "output_type": "stream",
     "text": [
      "WARNING: Method definition create_square_faces(Any, Any, Any) in module Main at In[38]:18 overwritten at In[40]:18.\n"
     ]
    },
    {
     "data": {
      "text/plain": [
       "create_square_faces (generic function with 1 method)"
      ]
     },
     "execution_count": 40,
     "metadata": {},
     "output_type": "execute_result"
    }
   ],
   "source": [
    "#\n",
    "#      \n",
    "#       14 -------- 13\n",
    "#     / |          / |\n",
    "#   /   |        /   |          \n",
    "# 11 --------- 12    |\n",
    "# |     |       |    |        i \n",
    "# |     |       |    |               \n",
    "# |     24 -----|-- 23        |     \n",
    "# |   /         |   /         |   /\n",
    "# | /           | /           | /\n",
    "# 21 --------- 22             * ------ \n",
    "#\n",
    "#\n",
    "\n",
    "\n",
    "function create_square_faces(data3d, nvoxels, threshold)\n",
    "    \"\"\"\n",
    "    create square faces based on vertices from vertices_and_count_voxels_as_...\n",
    "    :nvoxels: number of voxels higher than the threslold.\n",
    "    \"\"\"\n",
    "    nfaces = nvoxels * 6\n",
    "    faces = Array(Int64, nfaces, 4)\n",
    "    ifaces = 0\n",
    "#     println(sz)\n",
    "    # produce faces\n",
    "    for k in 1:sz[3]\n",
    "        for j in 1:sz[2]\n",
    "            for i in 1:sz[1]\n",
    "    #             println(i,\",\",j,\",\",k)\n",
    "                if data3d[i,j,k] > threshold\n",
    "    #                 println(\"jsme uvnitr\")\n",
    "                    pt11 = get_index(sz, i -0, j -0, k -0)\n",
    "    #                 println(\"jsme uvnitr\", pt11)\n",
    "                    pt12 = get_index(sz, i -0, j -0, k -1)\n",
    "                    pt13 = get_index(sz, i -0, j -1, k -1)\n",
    "                    pt14 = get_index(sz, i -0, j -1, k -0)\n",
    "                    pt21 = get_index(sz, i -1, j -0, k -0)\n",
    "                    pt22 = get_index(sz, i -1, j -0, k -1)\n",
    "                    pt23 = get_index(sz, i -1, j -1, k -1)\n",
    "                    pt24 = get_index(sz, i -1, j -1, k -0)\n",
    "\n",
    "                    faces[ifaces + 1, :] = [pt11, pt12, pt13, pt14]'\n",
    "                    faces[ifaces + 2, :] = [pt22, pt23, pt13, pt12]\n",
    "                    faces[ifaces + 3, :] = [pt21, pt22, pt12, pt11]\n",
    "                    faces[ifaces + 4, :] = [pt14, pt13, pt23, pt24]\n",
    "                    faces[ifaces + 5, :] = [pt11, pt14, pt24, pt21]\n",
    "                    faces[ifaces + 6, :] = [pt21, pt24, pt23, pt22]\n",
    "                    ifaces += 6\n",
    "\n",
    "                end\n",
    "            end\n",
    "        end\n",
    "    end\n",
    "    return faces\n",
    "end"
   ]
  },
  {
   "cell_type": "code",
   "execution_count": 43,
   "metadata": {},
   "outputs": [
    {
     "data": {
      "text/plain": [
       "12×4 Array{Int64,2}:\n",
       " 43  27  23  39\n",
       " 26  22  23  27\n",
       " 42  26  27  43\n",
       " 39  23  22  38\n",
       " 43  39  38  42\n",
       " 42  38  22  26\n",
       " 44  28  24  40\n",
       " 27  23  24  28\n",
       " 43  27  28  44\n",
       " 40  24  23  39\n",
       " 44  40  39  43\n",
       " 43  39  23  27"
      ]
     },
     "execution_count": 43,
     "metadata": {},
     "output_type": "execute_result"
    }
   ],
   "source": [
    "faces = create_square_faces(data3d, nvoxels, threshold)\n",
    "# get_index(sz, 0,0,0)\n",
    "faces"
   ]
  },
  {
   "cell_type": "markdown",
   "metadata": {},
   "source": [
    "## Double face removal\n",
    "\n",
    "TODO"
   ]
  },
  {
   "cell_type": "code",
   "execution_count": 14,
   "metadata": {},
   "outputs": [
    {
     "name": "stdout",
     "output_type": "stream",
     "text": [
      "step1\n",
      "step2\n",
      "step3\n",
      "Removed face [1,12][43 42 38 39; 26 22 38 42; 27 26 42 43; 39 38 22 23; 43 39 23 27; 27 23 22 26; 59 58 54 55; 42 38 54 58; 43 42 58 59; 55 54 38 39; 59 55 39 43; 43 39 38 42]1\n",
      "step1\n",
      "step2\n"
     ]
    },
    {
     "data": {
      "text/plain": [
       "(\n",
       "[0.0 0.0 0.0; 0.0 0.0 0.75; … ; 15.0 2.25 1.5; 15.0 2.25 2.25],\n",
       "\n",
       "[43 42 58 59; 42 38 54 58; … ; 59 55 39 43; 43 39 23 27])"
      ]
     },
     "execution_count": 14,
     "metadata": {},
     "output_type": "execute_result"
    }
   ],
   "source": [
    "function arrayofarray2arrayd2d(d)\n",
    "    data = Array(Float64,length(d),length(d[1]))\n",
    "    for i in 1:length(d)\n",
    "        for j in 1:length(d[1])\n",
    "            data[i,j] = d[i][j]\n",
    "        end\n",
    "    end\n",
    "    return data\n",
    "end\n",
    "function keep_surface_faces(vertexes, faces, index_base=0)\n",
    "#     removeDoubleVertexesAndFaces\n",
    "    println(\"step1\")\n",
    "    new_vertexes, inv_vertexes = remove_double_vertexes_alternative(vertexes)# , index_base=index_base)\n",
    "    println(\"step2\")\n",
    "    new_faces = reindexVertexesInFaces(faces, inv_vertexes)\n",
    "    println(\"step3\")\n",
    "    new_faces = removeDoubleFacesByAlberto(faces)\n",
    "    println(\"step1\")\n",
    "    # todo remove unused vertexes\n",
    "#     new_new_vertexes, new_new_inv_vertexes = remove_double_vertexes_alternative(new_vertexes)# , index_base=index_base)\n",
    "    println(\"step2\")\n",
    "#     new_faces = reindexVertexesInFaces(faces, inv_vertexes)\n",
    "    new_vertexes = arrayofarray2arrayd2d(new_vertexes)\n",
    "    return new_vertexes, new_faces\n",
    "end\n",
    "new_verts, new_faces = keep_surface_faces(verts, faces)"
   ]
  },
  {
   "cell_type": "code",
   "execution_count": 15,
   "metadata": {},
   "outputs": [
    {
     "data": {
      "text/plain": [
       "64×3 Array{Float64,2}:\n",
       "  0.0  0.0   0.0 \n",
       "  0.0  0.0   0.75\n",
       "  0.0  0.0   1.5 \n",
       "  0.0  0.0   2.25\n",
       "  0.0  0.75  0.0 \n",
       "  0.0  0.75  0.75\n",
       "  0.0  0.75  1.5 \n",
       "  0.0  0.75  2.25\n",
       "  0.0  1.5   0.0 \n",
       "  0.0  1.5   0.75\n",
       "  0.0  1.5   1.5 \n",
       "  0.0  1.5   2.25\n",
       "  0.0  2.25  0.0 \n",
       "  ⋮              \n",
       " 15.0  0.75  0.0 \n",
       " 15.0  0.75  0.75\n",
       " 15.0  0.75  1.5 \n",
       " 15.0  0.75  2.25\n",
       " 15.0  1.5   0.0 \n",
       " 15.0  1.5   0.75\n",
       " 15.0  1.5   1.5 \n",
       " 15.0  1.5   2.25\n",
       " 15.0  2.25  0.0 \n",
       " 15.0  2.25  0.75\n",
       " 15.0  2.25  1.5 \n",
       " 15.0  2.25  2.25"
      ]
     },
     "execution_count": 15,
     "metadata": {},
     "output_type": "execute_result"
    }
   ],
   "source": [
    "new_verts"
   ]
  },
  {
   "cell_type": "code",
   "execution_count": 20,
   "metadata": {},
   "outputs": [
    {
     "data": {
      "text/plain": [
       "10×4 Array{Int64,2}:\n",
       " 43  42  58  59\n",
       " 42  38  54  58\n",
       " 39  38  22  23\n",
       " 26  22  38  42\n",
       " 27  26  42  43\n",
       " 59  58  54  55\n",
       " 27  23  22  26\n",
       " 55  54  38  39\n",
       " 59  55  39  43\n",
       " 43  39  23  27"
      ]
     },
     "execution_count": 20,
     "metadata": {},
     "output_type": "execute_result"
    }
   ],
   "source": [
    "verts = new_verts\n",
    "faces = new_faces"
   ]
  },
  {
   "cell_type": "markdown",
   "metadata": {},
   "source": [
    "## Triangulation"
   ]
  },
  {
   "cell_type": "code",
   "execution_count": 25,
   "metadata": {},
   "outputs": [
    {
     "data": {
      "text/plain": [
       "triangulation (generic function with 1 method)"
      ]
     },
     "execution_count": 25,
     "metadata": {},
     "output_type": "execute_result"
    }
   ],
   "source": [
    "function triangulation(faces)\n",
    "    trifaces = Array(Int64, size(faces, 1) * 2, 3)\n",
    "    for i in 1:size(faces,1)\n",
    "        face = faces[i,:]\n",
    "        trifaces[(i * 2) - 0, :] = [face[1], face[2], face[3]]\n",
    "        trifaces[(i * 2) - 1, :] = [face[1], face[3], face[4]]\n",
    "    end\n",
    "    return trifaces\n",
    "end"
   ]
  },
  {
   "cell_type": "code",
   "execution_count": 26,
   "metadata": {},
   "outputs": [
    {
     "data": {
      "text/plain": [
       "20×3 Array{Int64,2}:\n",
       " 43  58  59\n",
       " 43  42  58\n",
       " 42  54  58\n",
       " 42  38  54\n",
       " 39  22  23\n",
       " 39  38  22\n",
       " 26  38  42\n",
       " 26  22  38\n",
       " 27  42  43\n",
       " 27  26  42\n",
       " 59  54  55\n",
       " 59  58  54\n",
       " 27  22  26\n",
       " 27  23  22\n",
       " 55  38  39\n",
       " 55  54  38\n",
       " 59  39  43\n",
       " 59  55  39\n",
       " 43  23  27\n",
       " 43  39  23"
      ]
     },
     "execution_count": 26,
     "metadata": {},
     "output_type": "execute_result"
    }
   ],
   "source": [
    "trifaces = triangulation(faces)"
   ]
  },
  {
   "cell_type": "markdown",
   "metadata": {},
   "source": [
    "## Visualization"
   ]
  },
  {
   "cell_type": "code",
   "execution_count": null,
   "metadata": {},
   "outputs": [],
   "source": []
  },
  {
   "cell_type": "code",
   "execution_count": 24,
   "metadata": {},
   "outputs": [
    {
     "name": "stdout",
     "output_type": "stream",
     "text": [
      "vertex index index higher than voxel number\n",
      "faces min 22, faces max 59, vertex number 64\n",
      "43\n",
      "58\n",
      "58\n",
      "54\n",
      "22\n",
      "22\n",
      "38\n",
      "22\n",
      "42\n",
      "26\n",
      "54\n",
      "59\n",
      "22\n",
      "23\n",
      "38\n",
      "54\n",
      "43\n",
      "59\n",
      "27\n",
      "39\n",
      "XgeModule::init_started\n",
      "Creating shared GLCanvas...\n",
      "shared GLCanvas created\n",
      "XgeModule::init_finished\n",
      "Evaluating fenvs.py..\n",
      "('...fenvs.py imported in', 0.007949999999999902, 'seconds')\n",
      "centre\n",
      "centre\n",
      "centre\n",
      "Building batches from Hpc....\n",
      "...done in 13 msec\n",
      "Optimizing the octree....\n",
      "   Number of input batches 1488\n",
      "   total number vertices    262\n",
      "   Number of output batches 131\n",
      "   Batch vertex media       2\n",
      "...done in 1 msec\n",
      "Building octree from 131 batches....\n",
      "Scene number of nodes of the octree 139\n",
      "Scene max depth                     4\n",
      "Scene number of batches             131\n",
      "...done in 0 msec\n"
     ]
    }
   ],
   "source": [
    "check_vf(verts, trifaces)\n",
    "visualize_numbers(to_lar(verts, trifaces), 2)"
   ]
  },
  {
   "cell_type": "code",
   "execution_count": 19,
   "metadata": {},
   "outputs": [
    {
     "data": {
      "text/plain": [
       "2"
      ]
     },
     "execution_count": 19,
     "metadata": {},
     "output_type": "execute_result"
    }
   ],
   "source": [
    "uuu = [1,2]\n",
    "size(uuu,1)"
   ]
  }
 ],
 "metadata": {
  "kernelspec": {
   "display_name": "Julia 0.5.2",
   "language": "julia",
   "name": "julia-0.5"
  },
  "language_info": {
   "file_extension": ".jl",
   "mimetype": "application/julia",
   "name": "julia",
   "version": "0.5.2"
  }
 },
 "nbformat": 4,
 "nbformat_minor": 2
}
