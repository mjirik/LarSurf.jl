{
 "cells": [
  {
   "cell_type": "code",
   "execution_count": 50,
   "metadata": {},
   "outputs": [
    {
     "name": "stderr",
     "output_type": "stream",
     "text": [
      "WARNING: Method definition lar2plasm(Any, Any) in module Main at /home/mjirik/projects/lario3d.jl/src/plasm.jl:2 overwritten at /home/mjirik/projects/lario3d.jl/src/plasm.jl:2.\n",
      "WARNING: Method definition lar2py(Any, Any) in module Main at /home/mjirik/projects/lario3d.jl/src/plasm.jl:39 overwritten at /home/mjirik/projects/lario3d.jl/src/plasm.jl:39.\n",
      "WARNING: Method definition visualize_numbers(Any, Any) in module Main at /home/mjirik/projects/lario3d.jl/src/plasm.jl:57 overwritten at /home/mjirik/projects/lario3d.jl/src/plasm.jl:57.\n",
      "WARNING: Method definition visualize_boundary(Any, Any, Any) in module Main at /home/mjirik/projects/lario3d.jl/src/plasm.jl:71 overwritten at /home/mjirik/projects/lario3d.jl/src/plasm.jl:71.\n",
      "WARNING: Method definition get_obj_metainfo(Any) in module Main at /home/mjirik/projects/lario3d.jl/src/read.jl:4 overwritten at /home/mjirik/projects/lario3d.jl/src/read.jl:4.\n",
      "WARNING: Method definition get_obj_vertices_and_faces(Any, Any, Any) in module Main at /home/mjirik/projects/lario3d.jl/src/read.jl:24 overwritten at /home/mjirik/projects/lario3d.jl/src/read.jl:24.\n",
      "WARNING: Method definition read_obj(Any) in module Main at /home/mjirik/projects/lario3d.jl/src/read.jl:57 overwritten at /home/mjirik/projects/lario3d.jl/src/read.jl:57.\n",
      "WARNING: Method definition remove_double_vertexes_alternative(Any) in module Main at /home/mjirik/projects/lario3d.jl/src/surface.jl:2 overwritten at /home/mjirik/projects/lario3d.jl/src/surface.jl:2.\n",
      "WARNING: Method definition reindexVertexesInFaces(Any, Any) in module Main at /home/mjirik/projects/lario3d.jl/src/surface.jl:46 overwritten at /home/mjirik/projects/lario3d.jl/src/surface.jl:46.\n",
      "WARNING: Method definition reindexVertexesInFaces(Any, Any, Any) in module Main at /home/mjirik/projects/lario3d.jl/src/surface.jl:46 overwritten at /home/mjirik/projects/lario3d.jl/src/surface.jl:46.\n",
      "WARNING: Method definition removeOneOfDoubleFacesByDictAlgoritm(Any) in module Main at /home/mjirik/projects/lario3d.jl/src/surface.jl:62 overwritten at /home/mjirik/projects/lario3d.jl/src/surface.jl:62.\n",
      "WARNING: Method definition removeOneOfDoubleFacesByDictAlgoritm(Any, Any) in module Main at /home/mjirik/projects/lario3d.jl/src/surface.jl:62 overwritten at /home/mjirik/projects/lario3d.jl/src/surface.jl:62.\n",
      "WARNING: Method definition removeDoubleFacesByAlberto(Any) in module Main at /home/mjirik/projects/lario3d.jl/src/surface.jl:83 overwritten at /home/mjirik/projects/lario3d.jl/src/surface.jl:83.\n",
      "WARNING: Method definition removeDoubleFacesByAlberto(Any, Any) in module Main at /home/mjirik/projects/lario3d.jl/src/surface.jl:83 overwritten at /home/mjirik/projects/lario3d.jl/src/surface.jl:83.\n",
      "WARNING: Method definition check_vf(Any, Any) in module Main at /home/mjirik/projects/lario3d.jl/src/representation.jl:4 overwritten at /home/mjirik/projects/lario3d.jl/src/representation.jl:4.\n",
      "WARNING: Method definition check_vf(Any, Any, Any) in module Main at /home/mjirik/projects/lario3d.jl/src/representation.jl:4 overwritten at /home/mjirik/projects/lario3d.jl/src/representation.jl:4.\n",
      "WARNING: Method definition check_vevfe(Any, Any, Any) in module Main at /home/mjirik/projects/lario3d.jl/src/representation.jl:25 overwritten at /home/mjirik/projects/lario3d.jl/src/representation.jl:25.\n",
      "WARNING: Method definition iter_edge(Any, Any, Any) in module Main at /home/mjirik/projects/lario3d.jl/src/representation.jl:74 overwritten at /home/mjirik/projects/lario3d.jl/src/representation.jl:74.\n",
      "WARNING: Method definition EVinv_to_EVinds(Any, Any) in module Main at /home/mjirik/projects/lario3d.jl/src/representation.jl:92 overwritten at /home/mjirik/projects/lario3d.jl/src/representation.jl:92.\n",
      "WARNING: Method definition get_FEinds_and_EVinv(Any) in module Main at /home/mjirik/projects/lario3d.jl/src/representation.jl:105 overwritten at /home/mjirik/projects/lario3d.jl/src/representation.jl:105.\n",
      "WARNING: Method definition get_FEinds_and_EVinv(Any, Any) in module Main at /home/mjirik/projects/lario3d.jl/src/representation.jl:105 overwritten at /home/mjirik/projects/lario3d.jl/src/representation.jl:105.\n",
      "WARNING: Method definition convert_to_FElar(Any, Any, Any, Any) in module Main at /home/mjirik/projects/lario3d.jl/src/representation.jl:142 overwritten at /home/mjirik/projects/lario3d.jl/src/representation.jl:142.\n",
      "WARNING: Method definition get_FEinds_and_EVinds(Any) in module Main at /home/mjirik/projects/lario3d.jl/src/representation.jl:162 overwritten at /home/mjirik/projects/lario3d.jl/src/representation.jl:162.\n",
      "WARNING: Method definition get_FEinds_and_EVinds(Any, Any) in module Main at /home/mjirik/projects/lario3d.jl/src/representation.jl:162 overwritten at /home/mjirik/projects/lario3d.jl/src/representation.jl:162.\n",
      "WARNING: Method definition convert_to_EVlar(Any, Any, Any) in module Main at /home/mjirik/projects/lario3d.jl/src/representation.jl:171 overwritten at /home/mjirik/projects/lario3d.jl/src/representation.jl:171.\n",
      "WARNING: Method definition get_EVlar_FElar(Any, Any) in module Main at /home/mjirik/projects/lario3d.jl/src/representation.jl:183 overwritten at /home/mjirik/projects/lario3d.jl/src/representation.jl:183.\n",
      "WARNING: Method definition to_lar(Any, Any) in module Main at /home/mjirik/projects/lario3d.jl/src/representation.jl:195 overwritten at /home/mjirik/projects/lario3d.jl/src/representation.jl:195.\n",
      "WARNING: Method definition bool2sgn(Any) in module Main at /home/mjirik/projects/lario3d.jl/src/representation.jl:204 overwritten at /home/mjirik/projects/lario3d.jl/src/representation.jl:204.\n",
      "WARNING: Method definition face_orientation(Any) in module Main at /home/mjirik/projects/lario3d.jl/src/representation.jl:214 overwritten at /home/mjirik/projects/lario3d.jl/src/representation.jl:214.\n",
      "WARNING: Method definition import_data3d(Any, Any) in module Main at /home/mjirik/projects/lario3d.jl/src/import3d.jl:2 overwritten at /home/mjirik/projects/lario3d.jl/src/import3d.jl:2.\n",
      "WARNING: Method definition import_data3d(Any, Any, Any) in module Main at /home/mjirik/projects/lario3d.jl/src/import3d.jl:2 overwritten at /home/mjirik/projects/lario3d.jl/src/import3d.jl:2.\n",
      "WARNING: Method definition get_index(Any, Any, Any, Any) in module Main at /home/mjirik/projects/lario3d.jl/src/import3d.jl:15 overwritten at /home/mjirik/projects/lario3d.jl/src/import3d.jl:15.\n",
      "WARNING: Method definition vertices_and_count_voxels_as_the_square_face_preprocessing(Any, Any) in module Main at /home/mjirik/projects/lario3d.jl/src/import3d.jl:20 overwritten at /home/mjirik/projects/lario3d.jl/src/import3d.jl:20.\n",
      "WARNING: Method definition vertices_and_count_voxels_as_the_square_face_preprocessing(Any, Any, Any) in module Main at /home/mjirik/projects/lario3d.jl/src/import3d.jl:20 overwritten at /home/mjirik/projects/lario3d.jl/src/import3d.jl:20.\n",
      "WARNING: Method definition create_square_faces(Any, Any) in module Main at /home/mjirik/projects/lario3d.jl/src/import3d.jl:66 overwritten at /home/mjirik/projects/lario3d.jl/src/import3d.jl:66.\n",
      "WARNING: Method definition create_square_faces(Any, Any, Any) in module Main at /home/mjirik/projects/lario3d.jl/src/import3d.jl:66 overwritten at /home/mjirik/projects/lario3d.jl/src/import3d.jl:66.\n",
      "WARNING: Method definition arrayofarray2arrayd2d(Any) in module Main at /home/mjirik/projects/lario3d.jl/src/import3d.jl:108 overwritten at /home/mjirik/projects/lario3d.jl/src/import3d.jl:108.\n",
      "WARNING: Method definition keep_surface_faces(Any, Any) in module Main at /home/mjirik/projects/lario3d.jl/src/import3d.jl:120 overwritten at /home/mjirik/projects/lario3d.jl/src/import3d.jl:120.\n",
      "WARNING: Method definition keep_surface_faces(Any, Any, Any) in module Main at /home/mjirik/projects/lario3d.jl/src/import3d.jl:120 overwritten at /home/mjirik/projects/lario3d.jl/src/import3d.jl:120.\n",
      "WARNING: Method definition triangulation(Any) in module Main at /home/mjirik/projects/lario3d.jl/src/import3d.jl:135 overwritten at /home/mjirik/projects/lario3d.jl/src/import3d.jl:135.\n",
      "WARNING: Method definition thresholding(Any, Any) in module Main at /home/mjirik/projects/lario3d.jl/src/import3d.jl:146 overwritten at /home/mjirik/projects/lario3d.jl/src/import3d.jl:146.\n"
     ]
    }
   ],
   "source": [
    "\n",
    "include(\"../src/plasm.jl\")\n",
    "include(\"../src/read.jl\")\n",
    "include(\"../src/surface.jl\")\n",
    "include(\"../src/representation.jl\")\n",
    "include(\"../src/import3d.jl\")\n",
    "\n",
    "using PyCall"
   ]
  },
  {
   "cell_type": "code",
   "execution_count": 51,
   "metadata": {
    "collapsed": true
   },
   "outputs": [],
   "source": [
    "\n",
    "@pyimport io3d"
   ]
  },
  {
   "cell_type": "code",
   "execution_count": 46,
   "metadata": {},
   "outputs": [
    {
     "data": {
      "text/plain": [
       "3-element Array{Float64,1}:\n",
       " 0.004682\n",
       " 0.004682\n",
       " 0.004682"
      ]
     },
     "execution_count": 46,
     "metadata": {},
     "output_type": "execute_result"
    }
   ],
   "source": [
    "data = io3d.read(\"../test/nrn4.pklz\", dataplus_format=true)\n",
    "data3d  = data[\"data3d\"]\n",
    "voxelsize_mm = data[\"voxelsize_mm\"]"
   ]
  },
  {
   "cell_type": "code",
   "execution_count": 22,
   "metadata": {},
   "outputs": [
    {
     "data": {
      "text/plain": [
       "Dict{Any,Any} with 9 entries:\n",
       "  \"voxelsize_mm\"      => Any[5.0,0.75,0.75]\n",
       "  \"data3d\"            => Int16[-1024 -1024 … -1024 -1024; -1024 -1024 … -1024 -…\n",
       "  \"datadir\"           => \"/home/mjirik/projects/io3d/sample_data/jatra_5mm\"\n",
       "  \"Modality\"          => \"CT\"\n",
       "  \"ImageComments\"     => \"\"\n",
       "  \"SeriesNumber\"      => 7\n",
       "  \"series_number\"     => 7\n",
       "  \"dcmfilelist\"       => Any[\"/home/mjirik/projects/io3d/sample_data/jatra_5mm/…\n",
       "  \"SeriesDescription\" => \"DE_Abdom_1F  5.0  B30f M_0.3\""
      ]
     },
     "execution_count": 22,
     "metadata": {},
     "output_type": "execute_result"
    }
   ],
   "source": [
    "# data"
   ]
  },
  {
   "cell_type": "code",
   "execution_count": 47,
   "metadata": {},
   "outputs": [],
   "source": [
    "# data3d = data3d[:, 100:150, 100:140]"
   ]
  },
  {
   "cell_type": "code",
   "execution_count": 57,
   "metadata": {},
   "outputs": [
    {
     "data": {
      "text/plain": [
       "(\n",
       "[0.0 0.0 0.0; 0.004682 0.0 0.0; … ; 0.028092 0.032774 0.028092; 0.032774 0.032774 0.028092],\n",
       "\n",
       "[65 57 58; 65 64 57; … ; 392 384 391; 392 385 384])"
      ]
     },
     "execution_count": 57,
     "metadata": {},
     "output_type": "execute_result"
    }
   ],
   "source": [
    "threshold = 200\n",
    "verts, trifaces = import_data3d(data3d, voxelsize_mm, threshold)"
   ]
  },
  {
   "cell_type": "code",
   "execution_count": null,
   "metadata": {},
   "outputs": [
    {
     "name": "stdout",
     "output_type": "stream",
     "text": [
      "XgeModule::init_started\n",
      "Creating shared GLCanvas...\n",
      "shared GLCanvas created\n",
      "XgeModule::init_finished\n",
      "Evaluating fenvs.py..\n",
      "('...fenvs.py imported in', 0.007537000000000016, 'seconds')\n",
      "centre\n",
      "centre\n",
      "centre\n",
      "Building batches from Hpc....\n",
      "...done in 1046 msec\n",
      "Optimizing the octree....\n",
      "   Number of input batches 183138\n",
      "   total number vertices    1274\n",
      "   Number of output batches 637\n",
      "   Batch vertex media       2\n",
      "...done in 1614 msec\n",
      "Building octree from 637 batches....\n",
      "Scene number of nodes of the octree 279\n",
      "Scene max depth                     4\n",
      "Scene number of batches             637\n",
      "...done in 7 msec\n"
     ]
    }
   ],
   "source": [
    "check_vf(verts, trifaces)\n",
    "visualize_numbers(to_lar(verts, trifaces), 2)"
   ]
  },
  {
   "cell_type": "code",
   "execution_count": 36,
   "metadata": {},
   "outputs": [
    {
     "data": {
      "text/plain": [
       "2"
      ]
     },
     "execution_count": 36,
     "metadata": {},
     "output_type": "execute_result"
    }
   ],
   "source": [
    "uuu = [1,2]\n",
    "size(uuu,1)"
   ]
  }
 ],
 "metadata": {
  "kernelspec": {
   "display_name": "Julia 0.5.2",
   "language": "julia",
   "name": "julia-0.5"
  },
  "language_info": {
   "file_extension": ".jl",
   "mimetype": "application/julia",
   "name": "julia",
   "version": "0.5.2"
  }
 },
 "nbformat": 4,
 "nbformat_minor": 2
}
