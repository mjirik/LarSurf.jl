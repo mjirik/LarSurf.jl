{
 "cells": [
  {
   "cell_type": "code",
   "execution_count": 31,
   "metadata": {},
   "outputs": [
    {
     "name": "stderr",
     "output_type": "stream",
     "text": [
      "\u001b[1m\u001b[34mINFO: Nothing to be done\n",
      "\u001b[0m\u001b[1m\u001b[34mINFO: METADATA is out-of-date — you may not have the latest version of PyCall\n",
      "\u001b[0m\u001b[1m\u001b[34mINFO: Use `Pkg.update()` to get the latest versions of your packages\n",
      "\u001b[0m"
     ]
    }
   ],
   "source": [
    "Pkg.add(\"PyCall\")"
   ]
  },
  {
   "cell_type": "code",
   "execution_count": 32,
   "metadata": {},
   "outputs": [],
   "source": [
    "\n",
    "@pyimport larlib"
   ]
  },
  {
   "cell_type": "markdown",
   "metadata": {},
   "source": [
    "# Visualization by Giulio"
   ]
  },
  {
   "cell_type": "code",
   "execution_count": 33,
   "metadata": {},
   "outputs": [
    {
     "name": "stderr",
     "output_type": "stream",
     "text": [
      "WARNING: Method definition lar2plasm(Any, Any) in module Main at In[16]:2 overwritten at In[33]:2.\n",
      "WARNING: Method definition lar2py(Any, Any) in module Main at In[16]:39 overwritten at In[33]:39.\n",
      "WARNING: Method definition visualize_numbers(Any, Any) in module Main at In[16]:57 overwritten at In[33]:57.\n",
      "WARNING: Method definition visualize_boundary(Any, Any, Any) in module Main at In[16]:73 overwritten at In[33]:73.\n"
     ]
    },
    {
     "data": {
      "text/plain": [
       "visualize_boundary (generic function with 1 method)"
      ]
     },
     "execution_count": 33,
     "metadata": {},
     "output_type": "execute_result"
    }
   ],
   "source": [
    "function lar2plasm(EV, FE)\n",
    "    EV = sparse(EV)\n",
    "    faces = Array{Array{Int64, 1}, 1}()\n",
    "\n",
    "    for f in 1:size(FE, 1)\n",
    "\n",
    "        verts = Array{Int64, 1}()\n",
    "        done = Array{Int64, 1}()\n",
    "        face = FE[f, :]\n",
    "        edges = EV[face.nzind, :]\n",
    "\n",
    "        push!(done, 1)\n",
    "        vs = edges[1, :].nzind\n",
    "        if face.nzval[1] < 0\n",
    "            vs = vs[end:-1:1]\n",
    "        end\n",
    "        startv, nextv = vs\n",
    "\n",
    "        println(startv)\n",
    "        push!(verts, startv)\n",
    "        while nextv != startv\n",
    "            e = setdiff(edges[:, nextv].nzind, done)[1]\n",
    "            push!(done, e)\n",
    "            vs = edges[e, :].nzind\n",
    "            if face.nzval[e] < 0\n",
    "                vs = vs[end:-1:1]\n",
    "            end\n",
    "            curv, nextv = vs\n",
    "            push!(verts, curv)\n",
    "        end\n",
    "\n",
    "        push!(faces, verts)\n",
    "    end\n",
    "\n",
    "    \"FV = \" * string(faces)[15:end]\n",
    "end\n",
    "\n",
    "function lar2py(V, EV)\n",
    "    text = \"V = [[0,0]\"\n",
    "    for i in 1:size(V, 1)\n",
    "        text = text * \",\" * string(vec(V[i, :]))\n",
    "    end\n",
    "    text = text * \"]\\n\"\n",
    "    \n",
    "    text = text * \"EV = [\"\n",
    "    for i in 1:size(EV, 1)\n",
    "        if i > 1 text = text * \",\" end\n",
    "        text = text * string(EV[i, :].nzind)\n",
    "    end\n",
    "    text = text * \"]\"\n",
    "    return text\n",
    "end\n",
    "\n",
    "\n",
    "function visualize_numbers(set, font_size)\n",
    "\n",
    "    f = open(\"tmp.py\", \"w\")\n",
    "\n",
    "    file_content = \"from larlib import *\\n\" *\n",
    "        lar2py(set[1], set[2]) * \"\\n\" *\n",
    "        lar2plasm(set[2], set[3]) * \"\\n\" *\n",
    "        \"VV = AA(LIST)(range(len(V)))\\n\" *\n",
    "        \"submodel = STRUCT(MKPOLS((V,EV)))\\n\" *\n",
    "        \"VIEW(larModelNumbering(1,1,1)(V,[VV,EV,FV],submodel,$font_size))\\n\"\n",
    "    print(file_content)\n",
    "    write(f, file_content)\n",
    "\n",
    "    close(f)\n",
    "#     run(`python tmp.py`)\n",
    "end\n",
    "\n",
    "function visualize_boundary(set, boundary, font_size)\n",
    "    f = open(\"tmp.py\", \"w\")\n",
    "    file_content =  \"from larlib import *\\n\" *\n",
    "        lar2py(set[1], set[2]) * \"\\n\" *\n",
    "        lar2plasm(set[2], set[3]) * \"\\n\" *\n",
    "        \"VV = AA(LIST)(range(len(V)))\\n\" *\n",
    "        \"submodel = STRUCT(MKPOLS((V,EV)))\\n\" *\n",
    "        \"model = larModelNumbering(1,1,1)(V,[VV,EV,FV],submodel,$font_size)\\n\" *\n",
    "        lar2py(set[1], set[2][boundary.nzind, :]) * \"\\n\" *\n",
    "        \"overmodel = STRUCT(MKPOLS((V,EV)))\\n\" *\n",
    "        \"VIEW(STRUCT([model, COLOR(RED)(overmodel)]))\"\n",
    "    print(file_content)\n",
    "    write(f, file_content)\n",
    "\n",
    "    close(f)\n",
    "    run(`python tmp.py`)\n",
    "end"
   ]
  },
  {
   "cell_type": "markdown",
   "metadata": {},
   "source": [
    "## My test object"
   ]
  },
  {
   "cell_type": "code",
   "execution_count": 34,
   "metadata": {},
   "outputs": [
    {
     "data": {
      "text/plain": [
       "4×2 Array{Int64,2}:\n",
       " 1  1\n",
       " 2  1\n",
       " 1  2\n",
       " 2  2"
      ]
     },
     "execution_count": 34,
     "metadata": {},
     "output_type": "execute_result"
    }
   ],
   "source": [
    "test_V = [\n",
    "    1 1\n",
    "    2 1\n",
    "    1 2\n",
    "    2 2\n",
    "    ]\n",
    "test_EV = sparse([\n",
    "    1 -1 0 0\n",
    "    0 1 -1 0\n",
    "    -1 0 1 0\n",
    "])\n",
    "test_FE = sparse([\n",
    "        1 1 -1\n",
    "        -1 -1 1\n",
    "])"
   ]
  },
  {
   "cell_type": "code",
   "execution_count": null,
   "metadata": {},
   "outputs": [],
   "source": []
  },
  {
   "cell_type": "code",
   "execution_count": null,
   "metadata": {},
   "outputs": [],
   "source": []
  },
  {
   "cell_type": "code",
   "execution_count": 37,
   "metadata": {},
   "outputs": [],
   "source": [
    "# set=[test_V, test_EV, test_FE]"
   ]
  },
  {
   "cell_type": "markdown",
   "metadata": {},
   "source": [
    "## lar2py()"
   ]
  },
  {
   "cell_type": "code",
   "execution_count": 38,
   "metadata": {},
   "outputs": [],
   "source": [
    "# lar2py(set[1], set[2]) "
   ]
  },
  {
   "cell_type": "markdown",
   "metadata": {},
   "source": [
    "## lar2plasm()"
   ]
  },
  {
   "cell_type": "code",
   "execution_count": null,
   "metadata": {
    "collapsed": true
   },
   "outputs": [],
   "source": []
  },
  {
   "cell_type": "code",
   "execution_count": 39,
   "metadata": {},
   "outputs": [],
   "source": [
    "# lar2plasm(set[2], set[3])"
   ]
  },
  {
   "cell_type": "code",
   "execution_count": 40,
   "metadata": {},
   "outputs": [
    {
     "name": "stdout",
     "output_type": "stream",
     "text": [
      "1\n",
      "2\n",
      "from larlib import *\n",
      "V = [[0,0],[1,1],[2,1],[1,2],[2,2]]\n",
      "EV = [[1,2],[2,3],[1,3]]\n",
      "FV = [[1,2,3],[2,1,3]]\n",
      "VV = AA(LIST)(range(len(V)))\n",
      "submodel = STRUCT(MKPOLS((V,EV)))\n",
      "VIEW(larModelNumbering(1,1,1)(V,[VV,EV,FV],submodel,3))\n"
     ]
    }
   ],
   "source": [
    "visualize_numbers([test_V, test_EV, test_FE],3)"
   ]
  },
  {
   "cell_type": "markdown",
   "metadata": {},
   "source": [
    "## Run python"
   ]
  },
  {
   "cell_type": "code",
   "execution_count": 41,
   "metadata": {},
   "outputs": [
    {
     "name": "stdout",
     "output_type": "stream",
     "text": [
      "/home/mjirik/projects/lario3d.jl/notebooks\n"
     ]
    },
    {
     "data": {
      "text/plain": [
       "PyObject ['', '', '', '/home/mjirik/.local/lib/python2.7/site-packages/mahotas-1.4.1-py2.7-linux-x86_64.egg', '/home/mjirik/miniconda2/envs/jl_py27/lib/python27.zip', '/home/mjirik/miniconda2/envs/jl_py27/lib/python2.7', '/home/mjirik/miniconda2/envs/jl_py27/lib/python2.7/plat-linux2', '/home/mjirik/miniconda2/envs/jl_py27/lib/python2.7/lib-tk', '/home/mjirik/miniconda2/envs/jl_py27/lib/python2.7/lib-old', '/home/mjirik/miniconda2/envs/jl_py27/lib/python2.7/lib-dynload', '/home/mjirik/.local/lib/python2.7/site-packages', '/home/mjirik/miniconda2/envs/jl_py27/lib/python2.7/site-packages', '/home/mjirik/miniconda2/envs/jl_py27/lib/python2.7/site-packages/poly2tri-0.3.3+dcpatch-py2.7-linux-x86_64.egg', '/home/mjirik/miniconda2/envs/jl_py27/lib/python2.7/site-packages/larlib-0.3.2-py2.7.egg']"
      ]
     },
     "execution_count": 41,
     "metadata": {},
     "output_type": "execute_result"
    }
   ],
   "source": [
    "println(pwd())\n",
    "unshift!(PyVector(pyimport(\"sys\")[\"path\"]), \"\")"
   ]
  },
  {
   "cell_type": "code",
   "execution_count": 42,
   "metadata": {},
   "outputs": [],
   "source": [
    "using PyCall\n",
    "@pyimport tmp"
   ]
  },
  {
   "cell_type": "code",
   "execution_count": null,
   "metadata": {
    "collapsed": true
   },
   "outputs": [],
   "source": []
  }
 ],
 "metadata": {
  "kernelspec": {
   "display_name": "Julia 0.5.2",
   "language": "julia",
   "name": "julia-0.5"
  },
  "language_info": {
   "file_extension": ".jl",
   "mimetype": "application/julia",
   "name": "julia",
   "version": "0.5.2"
  }
 },
 "nbformat": 4,
 "nbformat_minor": 2
}
