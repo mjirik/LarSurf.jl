{
 "cells": [
  {
   "cell_type": "markdown",
   "metadata": {},
   "source": [
    "# Triangle rendering by pyplasm"
   ]
  },
  {
   "cell_type": "markdown",
   "metadata": {},
   "source": [
    "## Unexpected result using pyplasm by julia call\n",
    "\n",
    "I am expecting to see rendered triangle using fallowing code. Saddly there are just three lines from [0, 0]"
   ]
  },
  {
   "cell_type": "code",
   "execution_count": 25,
   "metadata": {
    "collapsed": true
   },
   "outputs": [],
   "source": [
    "#Pkg.add(\"PyCall\")\n",
    "using PyCall\n",
    "@pyimport larlib"
   ]
  },
  {
   "cell_type": "code",
   "execution_count": 35,
   "metadata": {},
   "outputs": [
    {
     "name": "stdout",
     "output_type": "stream",
     "text": [
      "centre\n",
      "centre\n",
      "centre\n",
      "Building batches from Hpc....\n",
      "...done in 0 msec\n",
      "Optimizing the octree....\n",
      "   Number of input batches 73\n",
      "   total number vertices    46\n",
      "   Number of output batches 23\n",
      "   Batch vertex media       2\n",
      "...done in 0 msec\n",
      "Building octree from 23 batches....\n",
      "Scene number of nodes of the octree 45\n",
      "Scene max depth                     4\n",
      "Scene number of batches             23\n",
      "...done in 0 msec\n",
      "VV = Any[0; 1; 2; 3; 4]\n",
      "inlist = [0,1,2,3,4]\n"
     ]
    }
   ],
   "source": [
    "fontsize = 2\n",
    "Vpl = [0 0; 1 1; 2 1; 1 2; 2 2]\n",
    "EVpl = [1 2; 2 3; 1 3]\n",
    "FVpl = [1 2 3; 2 1 3]\n",
    "\n",
    "inlist = collect(range(0, size(Vpl,1)))\n",
    "VV = larlib.AA(larlib.LIST)(inlist)\n",
    "# VV = [[0], [1], [2], [3], [4]]\n",
    "submodel = larlib.STRUCT(larlib.MKPOLS((Vpl, EVpl)))\n",
    "larlib.VIEW(larlib.larModelNumbering(1,1,1)(Vpl, [VV, EVpl, FVpl], submodel, fontsize))\n",
    "println(\"VV = \", VV)\n",
    "println(\"inlist = \", inlist)"
   ]
  },
  {
   "cell_type": "markdown",
   "metadata": {},
   "source": [
    "![pyplasm triangle julia](../graphics/pyplasm_triangle_julia.png)"
   ]
  },
  {
   "cell_type": "markdown",
   "metadata": {},
   "source": [
    "## Expected result rendered by python script"
   ]
  },
  {
   "cell_type": "markdown",
   "metadata": {},
   "source": [
    "### Content of python script file `pyplasm_show_triangle.py`"
   ]
  },
  {
   "cell_type": "code",
   "execution_count": 20,
   "metadata": {},
   "outputs": [
    {
     "name": "stderr",
     "output_type": "stream",
     "text": [
      "WARNING: Method definition @bash_str(ANY<:Any) in module Main at In[18]:1 overwritten at In[20]:1.\n"
     ]
    },
    {
     "name": "stdout",
     "output_type": "stream",
     "text": [
      "from larlib import *\n",
      "V = [[0,0],[1,1],[2,1],[1,2],[2,2]]\n",
      "EV = [[1,2],[2,3],[1,3]]\n",
      "FV = [[1,2,3],[2,1,3]]\n",
      "inlist = range(len(V))\n",
      "VV = AA(LIST)(inlist)\n",
      "submodel = STRUCT(MKPOLS((V,EV)))\n",
      "VIEW(larModelNumbering(1,1,1)(V,[VV,EV,FV],submodel,2))\n",
      "print(\"VV = \", VV)\n",
      "print(\"inlist = \", inlist)\n"
     ]
    }
   ],
   "source": [
    "macro bash_str(s) open(`bash`,\"w\",STDOUT) do io; print(io, s); end; end\n",
    "bash\"\"\"\n",
    "cat pyplasm_show_triangle.py\n",
    "\"\"\""
   ]
  },
  {
   "cell_type": "markdown",
   "metadata": {},
   "source": [
    "### Script runtime output"
   ]
  },
  {
   "cell_type": "code",
   "execution_count": 19,
   "metadata": {},
   "outputs": [
    {
     "name": "stdout",
     "output_type": "stream",
     "text": [
      "XgeModule::init_started\n",
      "Creating shared GLCanvas...\n",
      "shared GLCanvas created\n",
      "XgeModule::init_finished\n",
      "Evaluating fenvs.py..\n",
      "('...fenvs.py imported in', 0.0048199999999999354, 'seconds')\n",
      "centre\n",
      "centre\n",
      "centre\n",
      "Building batches from Hpc....\n",
      "...done in 0 msec\n",
      "Optimizing the octree....\n",
      "   Number of input batches 73\n",
      "   total number vertices    60\n",
      "   Number of output batches 30\n",
      "   Batch vertex media       2\n",
      "...done in 0 msec\n",
      "Building octree from 30 batches....\n",
      "Scene number of nodes of the octree 58\n",
      "Scene max depth                     4\n",
      "Scene number of batches             30\n",
      "...done in 0 msec\n",
      "('VV = ', [[0], [1], [2], [3], [4]])\n",
      "('inlist = ', [0, 1, 2, 3, 4])\n"
     ]
    }
   ],
   "source": [
    "bash\"\"\"\n",
    "python pyplasm_show_triangle.py\n",
    "\"\"\""
   ]
  },
  {
   "cell_type": "markdown",
   "metadata": {},
   "source": [
    "![pyplasm triangle python](../graphics/pyplasm_triangle_python.png)"
   ]
  }
 ],
 "metadata": {
  "kernelspec": {
   "display_name": "Julia 0.5.2",
   "language": "julia",
   "name": "julia-0.5"
  },
  "language_info": {
   "file_extension": ".jl",
   "mimetype": "application/julia",
   "name": "julia",
   "version": "0.5.2"
  }
 },
 "nbformat": 4,
 "nbformat_minor": 2
}
